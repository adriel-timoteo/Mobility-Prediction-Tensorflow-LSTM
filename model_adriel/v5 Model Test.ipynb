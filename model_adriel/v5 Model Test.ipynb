{
 "cells": [
  {
   "cell_type": "markdown",
   "metadata": {},
   "source": [
    "<h2>MODEL TESTING</h2>\n",
    "\n",
    "Script ini digunakan hanya untuk mengetes model-model yang telah dibuat. Tahapan dari mengetes suatu model adalah:\n",
    "1. Load model yang telah ada. (Saat ini, model yang diloat adalah model v1 yang sudah saya buat).\n",
    "2. Load x_test dan y_test, untuk menjadi data yang dapat dimasukkan ke model untuk melihat performa model. Bagian ini tidak perlu diubah jika model yang diload berubah.\n",
    "3. Jalankan block terakhir. Num dapat diubah-ubah untuk melihat trajectory yang berbeda-beda"
   ]
  },
  {
   "cell_type": "code",
   "execution_count": 1,
   "metadata": {},
   "outputs": [],
   "source": [
    "import tensorflow as tf\n",
    "import plotly.express as px\n",
    "import plotly.graph_objects as go\n",
    "import numpy as np\n",
    "import keras"
   ]
  },
  {
   "cell_type": "code",
   "execution_count": 2,
   "metadata": {},
   "outputs": [],
   "source": [
    "## Define custom metric(s)\n",
    "@keras.saving.register_keras_serializable(package=\"custom_metrics\", name=\"avg_m_diff\")\n",
    "def avg_m_diff(y_true, y_pred):\n",
    "    # Ensure the input tensors have the correct shape\n",
    "    assert y_true.shape == y_pred.shape\n",
    "    assert y_true.shape[2] == 2\n",
    "    \n",
    "    def haversine_distance(lat1, lon1, lat2, lon2):\n",
    "        # Radius of the Earth in meters\n",
    "        R = 6371000.0\n",
    "        \n",
    "        # Convert latitude and longitude from degrees to radians\n",
    "        lat1 = lat1 * (tf.constant(3.141592653589793) / 180.0)\n",
    "        lon1 = lon1 * (tf.constant(3.141592653589793) / 180.0)\n",
    "        lat2 = lat2 * (tf.constant(3.141592653589793) / 180.0)\n",
    "        lon2 = lon2 * (tf.constant(3.141592653589793) / 180.0)\n",
    "        \n",
    "        # Compute differences\n",
    "        dlat = lat2 - lat1\n",
    "        dlon = lon2 - lon1\n",
    "        \n",
    "        # Haversine formula\n",
    "        a = tf.math.sin(dlat / 2)**2 + tf.math.cos(lat1) * tf.math.cos(lat2) * tf.math.sin(dlon / 2)**2\n",
    "        c = 2 * tf.math.atan2(tf.math.sqrt(a), tf.math.sqrt(1 - a))\n",
    "        \n",
    "        # Distance in meters\n",
    "        distance = R * c\n",
    "        \n",
    "        return distance\n",
    "    \n",
    "    # Reshape the tensors to 2D arrays for easier manipulation\n",
    "    y_true_flat = tf.reshape(y_true, [-1, 2])\n",
    "    y_pred_flat = tf.reshape(y_pred, [-1, 2])\n",
    "    \n",
    "    # Split the coordinates into separate tensors\n",
    "    lat_true, lon_true = tf.split(y_true_flat, num_or_size_splits=2, axis=1)\n",
    "    lat_pred, lon_pred = tf.split(y_pred_flat, num_or_size_splits=2, axis=1)\n",
    "    \n",
    "    # Calculate the distance for each pair of points\n",
    "    distances = haversine_distance(lat_true, lon_true, lat_pred, lon_pred)\n",
    "    \n",
    "    # Calculate the average distance\n",
    "    average_distance = tf.reduce_mean(distances)\n",
    "    \n",
    "    return average_distance"
   ]
  },
  {
   "cell_type": "code",
   "execution_count": 10,
   "metadata": {},
   "outputs": [
    {
     "data": {
      "text/html": [
       "<pre style=\"white-space:pre;overflow-x:auto;line-height:normal;font-family:Menlo,'DejaVu Sans Mono',consolas,'Courier New',monospace\"><span style=\"font-weight: bold\">Model: \"sequential\"</span>\n",
       "</pre>\n"
      ],
      "text/plain": [
       "\u001b[1mModel: \"sequential\"\u001b[0m\n"
      ]
     },
     "metadata": {},
     "output_type": "display_data"
    },
    {
     "data": {
      "text/html": [
       "<pre style=\"white-space:pre;overflow-x:auto;line-height:normal;font-family:Menlo,'DejaVu Sans Mono',consolas,'Courier New',monospace\">┏━━━━━━━━━━━━━━━━━━━━━━━━━━━━━━━━━┳━━━━━━━━━━━━━━━━━━━━━━━━┳━━━━━━━━━━━━━━━┓\n",
       "┃<span style=\"font-weight: bold\"> Layer (type)                    </span>┃<span style=\"font-weight: bold\"> Output Shape           </span>┃<span style=\"font-weight: bold\">       Param # </span>┃\n",
       "┡━━━━━━━━━━━━━━━━━━━━━━━━━━━━━━━━━╇━━━━━━━━━━━━━━━━━━━━━━━━╇━━━━━━━━━━━━━━━┩\n",
       "│ normalization (<span style=\"color: #0087ff; text-decoration-color: #0087ff\">Normalization</span>)   │ (<span style=\"color: #00d7ff; text-decoration-color: #00d7ff\">None</span>, <span style=\"color: #00af00; text-decoration-color: #00af00\">60</span>, <span style=\"color: #00af00; text-decoration-color: #00af00\">2</span>)          │             <span style=\"color: #00af00; text-decoration-color: #00af00\">5</span> │\n",
       "├─────────────────────────────────┼────────────────────────┼───────────────┤\n",
       "│ lstm (<span style=\"color: #0087ff; text-decoration-color: #0087ff\">LSTM</span>)                     │ (<span style=\"color: #00d7ff; text-decoration-color: #00d7ff\">None</span>, <span style=\"color: #00af00; text-decoration-color: #00af00\">16</span>)             │         <span style=\"color: #00af00; text-decoration-color: #00af00\">1,216</span> │\n",
       "├─────────────────────────────────┼────────────────────────┼───────────────┤\n",
       "│ dense (<span style=\"color: #0087ff; text-decoration-color: #0087ff\">Dense</span>)                   │ (<span style=\"color: #00d7ff; text-decoration-color: #00d7ff\">None</span>, <span style=\"color: #00af00; text-decoration-color: #00af00\">20</span>)             │           <span style=\"color: #00af00; text-decoration-color: #00af00\">340</span> │\n",
       "├─────────────────────────────────┼────────────────────────┼───────────────┤\n",
       "│ reshape (<span style=\"color: #0087ff; text-decoration-color: #0087ff\">Reshape</span>)               │ (<span style=\"color: #00d7ff; text-decoration-color: #00d7ff\">None</span>, <span style=\"color: #00af00; text-decoration-color: #00af00\">10</span>, <span style=\"color: #00af00; text-decoration-color: #00af00\">2</span>)          │             <span style=\"color: #00af00; text-decoration-color: #00af00\">0</span> │\n",
       "├─────────────────────────────────┼────────────────────────┼───────────────┤\n",
       "│ normalization_1 (<span style=\"color: #0087ff; text-decoration-color: #0087ff\">Normalization</span>) │ (<span style=\"color: #00d7ff; text-decoration-color: #00d7ff\">None</span>, <span style=\"color: #00af00; text-decoration-color: #00af00\">10</span>, <span style=\"color: #00af00; text-decoration-color: #00af00\">2</span>)          │             <span style=\"color: #00af00; text-decoration-color: #00af00\">5</span> │\n",
       "└─────────────────────────────────┴────────────────────────┴───────────────┘\n",
       "</pre>\n"
      ],
      "text/plain": [
       "┏━━━━━━━━━━━━━━━━━━━━━━━━━━━━━━━━━┳━━━━━━━━━━━━━━━━━━━━━━━━┳━━━━━━━━━━━━━━━┓\n",
       "┃\u001b[1m \u001b[0m\u001b[1mLayer (type)                   \u001b[0m\u001b[1m \u001b[0m┃\u001b[1m \u001b[0m\u001b[1mOutput Shape          \u001b[0m\u001b[1m \u001b[0m┃\u001b[1m \u001b[0m\u001b[1m      Param #\u001b[0m\u001b[1m \u001b[0m┃\n",
       "┡━━━━━━━━━━━━━━━━━━━━━━━━━━━━━━━━━╇━━━━━━━━━━━━━━━━━━━━━━━━╇━━━━━━━━━━━━━━━┩\n",
       "│ normalization (\u001b[38;5;33mNormalization\u001b[0m)   │ (\u001b[38;5;45mNone\u001b[0m, \u001b[38;5;34m60\u001b[0m, \u001b[38;5;34m2\u001b[0m)          │             \u001b[38;5;34m5\u001b[0m │\n",
       "├─────────────────────────────────┼────────────────────────┼───────────────┤\n",
       "│ lstm (\u001b[38;5;33mLSTM\u001b[0m)                     │ (\u001b[38;5;45mNone\u001b[0m, \u001b[38;5;34m16\u001b[0m)             │         \u001b[38;5;34m1,216\u001b[0m │\n",
       "├─────────────────────────────────┼────────────────────────┼───────────────┤\n",
       "│ dense (\u001b[38;5;33mDense\u001b[0m)                   │ (\u001b[38;5;45mNone\u001b[0m, \u001b[38;5;34m20\u001b[0m)             │           \u001b[38;5;34m340\u001b[0m │\n",
       "├─────────────────────────────────┼────────────────────────┼───────────────┤\n",
       "│ reshape (\u001b[38;5;33mReshape\u001b[0m)               │ (\u001b[38;5;45mNone\u001b[0m, \u001b[38;5;34m10\u001b[0m, \u001b[38;5;34m2\u001b[0m)          │             \u001b[38;5;34m0\u001b[0m │\n",
       "├─────────────────────────────────┼────────────────────────┼───────────────┤\n",
       "│ normalization_1 (\u001b[38;5;33mNormalization\u001b[0m) │ (\u001b[38;5;45mNone\u001b[0m, \u001b[38;5;34m10\u001b[0m, \u001b[38;5;34m2\u001b[0m)          │             \u001b[38;5;34m5\u001b[0m │\n",
       "└─────────────────────────────────┴────────────────────────┴───────────────┘\n"
      ]
     },
     "metadata": {},
     "output_type": "display_data"
    },
    {
     "data": {
      "text/html": [
       "<pre style=\"white-space:pre;overflow-x:auto;line-height:normal;font-family:Menlo,'DejaVu Sans Mono',consolas,'Courier New',monospace\"><span style=\"font-weight: bold\"> Total params: </span><span style=\"color: #00af00; text-decoration-color: #00af00\">4,680</span> (18.29 KB)\n",
       "</pre>\n"
      ],
      "text/plain": [
       "\u001b[1m Total params: \u001b[0m\u001b[38;5;34m4,680\u001b[0m (18.29 KB)\n"
      ]
     },
     "metadata": {},
     "output_type": "display_data"
    },
    {
     "data": {
      "text/html": [
       "<pre style=\"white-space:pre;overflow-x:auto;line-height:normal;font-family:Menlo,'DejaVu Sans Mono',consolas,'Courier New',monospace\"><span style=\"font-weight: bold\"> Trainable params: </span><span style=\"color: #00af00; text-decoration-color: #00af00\">1,556</span> (6.08 KB)\n",
       "</pre>\n"
      ],
      "text/plain": [
       "\u001b[1m Trainable params: \u001b[0m\u001b[38;5;34m1,556\u001b[0m (6.08 KB)\n"
      ]
     },
     "metadata": {},
     "output_type": "display_data"
    },
    {
     "data": {
      "text/html": [
       "<pre style=\"white-space:pre;overflow-x:auto;line-height:normal;font-family:Menlo,'DejaVu Sans Mono',consolas,'Courier New',monospace\"><span style=\"font-weight: bold\"> Non-trainable params: </span><span style=\"color: #00af00; text-decoration-color: #00af00\">10</span> (48.00 B)\n",
       "</pre>\n"
      ],
      "text/plain": [
       "\u001b[1m Non-trainable params: \u001b[0m\u001b[38;5;34m10\u001b[0m (48.00 B)\n"
      ]
     },
     "metadata": {},
     "output_type": "display_data"
    },
    {
     "data": {
      "text/html": [
       "<pre style=\"white-space:pre;overflow-x:auto;line-height:normal;font-family:Menlo,'DejaVu Sans Mono',consolas,'Courier New',monospace\"><span style=\"font-weight: bold\"> Optimizer params: </span><span style=\"color: #00af00; text-decoration-color: #00af00\">3,114</span> (12.17 KB)\n",
       "</pre>\n"
      ],
      "text/plain": [
       "\u001b[1m Optimizer params: \u001b[0m\u001b[38;5;34m3,114\u001b[0m (12.17 KB)\n"
      ]
     },
     "metadata": {},
     "output_type": "display_data"
    }
   ],
   "source": [
    "## Load the model\n",
    "model_16 = tf.keras.models.load_model('model_16_lr001.keras')\n",
    "model_32 = tf.keras.models.load_model('model_32_lr001.keras')\n",
    "model_64 = tf.keras.models.load_model('model_64_lr001.keras')\n",
    "model_128 = tf.keras.models.load_model('model_128_lr001.keras')\n",
    "model_32_32 = tf.keras.models.load_model('model_32_32_lr001.keras')\n",
    "model_64_64 = tf.keras.models.load_model('model_64_64_lr001.keras')\n",
    "model_16_v2 = tf.keras.models.load_model('model_16_lr001_v2.keras')\n",
    "\n",
    "models = [model_16, model_32, model_64, model_128, model_32_32, model_64_64, model_16_v2]\n",
    "model_names = [\"model_16\", \"model_32\", \"model_64\", \"model_128\", \"model_32_32\", \"model_64_64\", \"model_16_v2\"]\n",
    "model_colors = [\"pink\", \"blue\", \"green\", \"yellow\", \"cyan\", \"purple\", \"orange\"]\n",
    "\n",
    "# Show the model architecture\n",
    "model_16.summary()"
   ]
  },
  {
   "cell_type": "code",
   "execution_count": 11,
   "metadata": {},
   "outputs": [],
   "source": [
    "## Load numpy test data\n",
    "x_test = np.load('x_test.npy')\n",
    "y_test = np.load('y_test.npy')"
   ]
  },
  {
   "cell_type": "code",
   "execution_count": 16,
   "metadata": {},
   "outputs": [
    {
     "name": "stdout",
     "output_type": "stream",
     "text": [
      "\u001b[1m1/1\u001b[0m \u001b[32m━━━━━━━━━━━━━━━━━━━━\u001b[0m\u001b[37m\u001b[0m \u001b[1m0s\u001b[0m 51ms/step\n",
      "\u001b[1m1/1\u001b[0m \u001b[32m━━━━━━━━━━━━━━━━━━━━\u001b[0m\u001b[37m\u001b[0m \u001b[1m0s\u001b[0m 42ms/step\n",
      "\u001b[1m1/1\u001b[0m \u001b[32m━━━━━━━━━━━━━━━━━━━━\u001b[0m\u001b[37m\u001b[0m \u001b[1m0s\u001b[0m 32ms/step\n",
      "\u001b[1m1/1\u001b[0m \u001b[32m━━━━━━━━━━━━━━━━━━━━\u001b[0m\u001b[37m\u001b[0m \u001b[1m0s\u001b[0m 30ms/step\n",
      "\u001b[1m1/1\u001b[0m \u001b[32m━━━━━━━━━━━━━━━━━━━━\u001b[0m\u001b[37m\u001b[0m \u001b[1m0s\u001b[0m 26ms/step\n",
      "\u001b[1m1/1\u001b[0m \u001b[32m━━━━━━━━━━━━━━━━━━━━\u001b[0m\u001b[37m\u001b[0m \u001b[1m0s\u001b[0m 32ms/step\n",
      "\u001b[1m1/1\u001b[0m \u001b[32m━━━━━━━━━━━━━━━━━━━━\u001b[0m\u001b[37m\u001b[0m \u001b[1m0s\u001b[0m 26ms/step\n",
      "True lat:\n",
      "[-6.1288533, -6.1290133, -6.1291667, -6.1293133, -6.1294717, -6.1296283, -6.12979, -6.1299333, -6.1300817, -6.1302283]\n"
     ]
    },
    {
     "data": {
      "application/vnd.plotly.v1+json": {
       "config": {
        "plotlyServerURL": "https://plot.ly"
       },
       "data": [
        {
         "lat": [
          -6.1195333,
          -6.1195548,
          -6.1195954,
          -6.1196933,
          -6.1197717,
          -6.119955,
          -6.1200567,
          -6.1201817,
          -6.1202967,
          -6.120425,
          -6.120545,
          -6.120675,
          -6.120805,
          -6.12094,
          -6.1210717,
          -6.121205,
          -6.1213467,
          -6.1216267,
          -6.1217517,
          -6.121905,
          -6.1220533,
          -6.1222067,
          -6.1223533,
          -6.122505,
          -6.1226567,
          -6.12281,
          -6.1229667,
          -6.123135,
          -6.1234817,
          -6.12364,
          -6.1237983,
          -6.1239717,
          -6.1241333,
          -6.124305,
          -6.12447,
          -6.1246267,
          -6.124775,
          -6.125095,
          -6.125255,
          -6.1254167,
          -6.125575,
          -6.1257367,
          -6.1259,
          -6.1260633,
          -6.1262317,
          -6.1264017,
          -6.1265783,
          -6.1267517,
          -6.1269317,
          -6.12711,
          -6.1272883,
          -6.1274567,
          -6.12762,
          -6.12778,
          -6.127935,
          -6.1280867,
          -6.1282383,
          -6.1284,
          -6.1285517,
          -6.1287017
         ],
         "lon": [
          106.8933818,
          106.8933854,
          106.8934014,
          106.8934333,
          106.893435,
          106.89344,
          106.8934417,
          106.8934483,
          106.8934417,
          106.8934367,
          106.8934417,
          106.8934483,
          106.89345,
          106.8934533,
          106.8934583,
          106.8934667,
          106.8934733,
          106.8934833,
          106.8935033,
          106.893495,
          106.8934983,
          106.8935,
          106.89351,
          106.89352,
          106.8935283,
          106.893535,
          106.8935433,
          106.8935617,
          106.893565,
          106.8935717,
          106.89358,
          106.8935867,
          106.8935983,
          106.8936017,
          106.8936067,
          106.8936183,
          106.8936333,
          106.8936417,
          106.8936483,
          106.8936567,
          106.8936667,
          106.89368,
          106.8936933,
          106.8937083,
          106.89372,
          106.8937317,
          106.8937417,
          106.8937567,
          106.8937683,
          106.8937833,
          106.8937967,
          106.8938083,
          106.89382,
          106.89383,
          106.8938383,
          106.8938483,
          106.8938567,
          106.8938717,
          106.893885,
          106.8938917
         ],
         "marker": {
          "size": 10
         },
         "mode": "markers+lines",
         "name": "trip",
         "type": "scattermapbox"
        },
        {
         "lat": [
          -6.128827095031738,
          -6.128993511199951,
          -6.129090785980225,
          -6.129251956939697,
          -6.129429817199707,
          -6.1295623779296875,
          -6.129669666290283,
          -6.129854202270508,
          -6.129990100860596,
          -6.130112648010254
         ],
         "lon": [
          106.89385986328125,
          106.89385223388672,
          106.89385986328125,
          106.89385986328125,
          106.89383697509766,
          106.8938217163086,
          106.89383697509766,
          106.89378356933594,
          106.8937759399414,
          106.89378356933594
         ],
         "marker": {
          "color": "pink",
          "size": 10
         },
         "mode": "markers+lines",
         "name": "pred_coords_model_16",
         "type": "scattermapbox"
        },
        {
         "lat": [
          -6.128946304321289,
          -6.129004955291748,
          -6.129095077514648,
          -6.129164695739746,
          -6.129180431365967,
          -6.129329204559326,
          -6.129504203796387,
          -6.129580020904541,
          -6.129668235778809,
          -6.129815101623535
         ],
         "lon": [
          106.89383697509766,
          106.89383697509766,
          106.89385223388672,
          106.89381408691406,
          106.89390563964844,
          106.89390563964844,
          106.89390563964844,
          106.89395904541016,
          106.8939208984375,
          106.8938980102539
         ],
         "marker": {
          "color": "blue",
          "size": 10
         },
         "mode": "markers+lines",
         "name": "pred_coords_model_32",
         "type": "scattermapbox"
        },
        {
         "lat": [
          -6.128840923309326,
          -6.128933906555176,
          -6.129055500030518,
          -6.129154205322266,
          -6.129258632659912,
          -6.129329204559326,
          -6.129438877105713,
          -6.129539489746094,
          -6.129629611968994,
          -6.1297173500061035
         ],
         "lon": [
          106.89385986328125,
          106.89385986328125,
          106.89385986328125,
          106.89386749267578,
          106.89386749267578,
          106.89393615722656,
          106.89390563964844,
          106.89391326904297,
          106.89391326904297,
          106.89398193359375
         ],
         "marker": {
          "color": "green",
          "size": 10
         },
         "mode": "markers+lines",
         "name": "pred_coords_model_64",
         "type": "scattermapbox"
        },
        {
         "lat": [
          -6.128835678100586,
          -6.128968238830566,
          -6.129150867462158,
          -6.129329681396484,
          -6.129436016082764,
          -6.1295952796936035,
          -6.129764080047607,
          -6.129909992218018,
          -6.130023956298828,
          -6.130218029022217
         ],
         "lon": [
          106.89391326904297,
          106.89390563964844,
          106.89395141601562,
          106.89395141601562,
          106.89398193359375,
          106.89398956298828,
          106.89405822753906,
          106.8940200805664,
          106.89405822753906,
          106.89401245117188
         ],
         "marker": {
          "color": "yellow",
          "size": 10
         },
         "mode": "markers+lines",
         "name": "pred_coords_model_128",
         "type": "scattermapbox"
        },
        {
         "lat": [
          -6.1289544105529785,
          -6.129192352294922,
          -6.129319190979004,
          -6.129456520080566,
          -6.129617214202881,
          -6.129771709442139,
          -6.129996299743652,
          -6.130148887634277,
          -6.130302906036377,
          -6.13054084777832
         ],
         "lon": [
          106.89401245117188,
          106.89407348632812,
          106.89407348632812,
          106.89414978027344,
          106.8941421508789,
          106.89420318603516,
          106.89430236816406,
          106.8943099975586,
          106.89437103271484,
          106.8943862915039
         ],
         "marker": {
          "color": "cyan",
          "size": 10
         },
         "mode": "markers+lines",
         "name": "pred_coords_model_32_32",
         "type": "scattermapbox"
        },
        {
         "lat": [
          -6.128848075866699,
          -6.128988742828369,
          -6.1291022300720215,
          -6.1292405128479,
          -6.129383563995361,
          -6.129472732543945,
          -6.129611492156982,
          -6.129781723022461,
          -6.129904270172119,
          -6.130026340484619
         ],
         "lon": [
          106.89381408691406,
          106.89380645751953,
          106.89383697509766,
          106.89385986328125,
          106.89387512207031,
          106.89385223388672,
          106.8938980102539,
          106.89390563964844,
          106.8939437866211,
          106.89391326904297
         ],
         "marker": {
          "color": "purple",
          "size": 10
         },
         "mode": "markers+lines",
         "name": "pred_coords_model_64_64",
         "type": "scattermapbox"
        },
        {
         "lat": [
          -6.1288862228393555,
          -6.129025936126709,
          -6.129199504852295,
          -6.129342555999756,
          -6.129480361938477,
          -6.129614353179932,
          -6.129758358001709,
          -6.129889488220215,
          -6.130014896392822,
          -6.130141258239746
         ],
         "lon": [
          106.89385986328125,
          106.89391326904297,
          106.89392852783203,
          106.8939437866211,
          106.89396667480469,
          106.89398956298828,
          106.89401245117188,
          106.89403533935547,
          106.89405822753906,
          106.89407348632812
         ],
         "marker": {
          "color": "orange",
          "size": 10
         },
         "mode": "markers+lines",
         "name": "pred_coords_model_16_v2",
         "type": "scattermapbox"
        },
        {
         "lat": [
          -6.1288533,
          -6.1290133,
          -6.1291667,
          -6.1293133,
          -6.1294717,
          -6.1296283,
          -6.12979,
          -6.1299333,
          -6.1300817,
          -6.1302283
         ],
         "lon": [
          106.8939033,
          106.8939167,
          106.8939283,
          106.89394,
          106.8939483,
          106.893955,
          106.8939733,
          106.89397,
          106.89398,
          106.893985
         ],
         "marker": {
          "color": "red",
          "size": 10
         },
         "mode": "markers",
         "name": "True Point",
         "type": "scattermapbox"
        }
       ],
       "layout": {
        "mapbox": {
         "center": {
          "lat": -6.2,
          "lon": 106.816
         },
         "style": "open-street-map",
         "zoom": 10
        },
        "margin": {
         "b": 0,
         "l": 0,
         "r": 0,
         "t": 0
        },
        "template": {
         "data": {
          "bar": [
           {
            "error_x": {
             "color": "#2a3f5f"
            },
            "error_y": {
             "color": "#2a3f5f"
            },
            "marker": {
             "line": {
              "color": "#E5ECF6",
              "width": 0.5
             },
             "pattern": {
              "fillmode": "overlay",
              "size": 10,
              "solidity": 0.2
             }
            },
            "type": "bar"
           }
          ],
          "barpolar": [
           {
            "marker": {
             "line": {
              "color": "#E5ECF6",
              "width": 0.5
             },
             "pattern": {
              "fillmode": "overlay",
              "size": 10,
              "solidity": 0.2
             }
            },
            "type": "barpolar"
           }
          ],
          "carpet": [
           {
            "aaxis": {
             "endlinecolor": "#2a3f5f",
             "gridcolor": "white",
             "linecolor": "white",
             "minorgridcolor": "white",
             "startlinecolor": "#2a3f5f"
            },
            "baxis": {
             "endlinecolor": "#2a3f5f",
             "gridcolor": "white",
             "linecolor": "white",
             "minorgridcolor": "white",
             "startlinecolor": "#2a3f5f"
            },
            "type": "carpet"
           }
          ],
          "choropleth": [
           {
            "colorbar": {
             "outlinewidth": 0,
             "ticks": ""
            },
            "type": "choropleth"
           }
          ],
          "contour": [
           {
            "colorbar": {
             "outlinewidth": 0,
             "ticks": ""
            },
            "colorscale": [
             [
              0,
              "#0d0887"
             ],
             [
              0.1111111111111111,
              "#46039f"
             ],
             [
              0.2222222222222222,
              "#7201a8"
             ],
             [
              0.3333333333333333,
              "#9c179e"
             ],
             [
              0.4444444444444444,
              "#bd3786"
             ],
             [
              0.5555555555555556,
              "#d8576b"
             ],
             [
              0.6666666666666666,
              "#ed7953"
             ],
             [
              0.7777777777777778,
              "#fb9f3a"
             ],
             [
              0.8888888888888888,
              "#fdca26"
             ],
             [
              1,
              "#f0f921"
             ]
            ],
            "type": "contour"
           }
          ],
          "contourcarpet": [
           {
            "colorbar": {
             "outlinewidth": 0,
             "ticks": ""
            },
            "type": "contourcarpet"
           }
          ],
          "heatmap": [
           {
            "colorbar": {
             "outlinewidth": 0,
             "ticks": ""
            },
            "colorscale": [
             [
              0,
              "#0d0887"
             ],
             [
              0.1111111111111111,
              "#46039f"
             ],
             [
              0.2222222222222222,
              "#7201a8"
             ],
             [
              0.3333333333333333,
              "#9c179e"
             ],
             [
              0.4444444444444444,
              "#bd3786"
             ],
             [
              0.5555555555555556,
              "#d8576b"
             ],
             [
              0.6666666666666666,
              "#ed7953"
             ],
             [
              0.7777777777777778,
              "#fb9f3a"
             ],
             [
              0.8888888888888888,
              "#fdca26"
             ],
             [
              1,
              "#f0f921"
             ]
            ],
            "type": "heatmap"
           }
          ],
          "heatmapgl": [
           {
            "colorbar": {
             "outlinewidth": 0,
             "ticks": ""
            },
            "colorscale": [
             [
              0,
              "#0d0887"
             ],
             [
              0.1111111111111111,
              "#46039f"
             ],
             [
              0.2222222222222222,
              "#7201a8"
             ],
             [
              0.3333333333333333,
              "#9c179e"
             ],
             [
              0.4444444444444444,
              "#bd3786"
             ],
             [
              0.5555555555555556,
              "#d8576b"
             ],
             [
              0.6666666666666666,
              "#ed7953"
             ],
             [
              0.7777777777777778,
              "#fb9f3a"
             ],
             [
              0.8888888888888888,
              "#fdca26"
             ],
             [
              1,
              "#f0f921"
             ]
            ],
            "type": "heatmapgl"
           }
          ],
          "histogram": [
           {
            "marker": {
             "pattern": {
              "fillmode": "overlay",
              "size": 10,
              "solidity": 0.2
             }
            },
            "type": "histogram"
           }
          ],
          "histogram2d": [
           {
            "colorbar": {
             "outlinewidth": 0,
             "ticks": ""
            },
            "colorscale": [
             [
              0,
              "#0d0887"
             ],
             [
              0.1111111111111111,
              "#46039f"
             ],
             [
              0.2222222222222222,
              "#7201a8"
             ],
             [
              0.3333333333333333,
              "#9c179e"
             ],
             [
              0.4444444444444444,
              "#bd3786"
             ],
             [
              0.5555555555555556,
              "#d8576b"
             ],
             [
              0.6666666666666666,
              "#ed7953"
             ],
             [
              0.7777777777777778,
              "#fb9f3a"
             ],
             [
              0.8888888888888888,
              "#fdca26"
             ],
             [
              1,
              "#f0f921"
             ]
            ],
            "type": "histogram2d"
           }
          ],
          "histogram2dcontour": [
           {
            "colorbar": {
             "outlinewidth": 0,
             "ticks": ""
            },
            "colorscale": [
             [
              0,
              "#0d0887"
             ],
             [
              0.1111111111111111,
              "#46039f"
             ],
             [
              0.2222222222222222,
              "#7201a8"
             ],
             [
              0.3333333333333333,
              "#9c179e"
             ],
             [
              0.4444444444444444,
              "#bd3786"
             ],
             [
              0.5555555555555556,
              "#d8576b"
             ],
             [
              0.6666666666666666,
              "#ed7953"
             ],
             [
              0.7777777777777778,
              "#fb9f3a"
             ],
             [
              0.8888888888888888,
              "#fdca26"
             ],
             [
              1,
              "#f0f921"
             ]
            ],
            "type": "histogram2dcontour"
           }
          ],
          "mesh3d": [
           {
            "colorbar": {
             "outlinewidth": 0,
             "ticks": ""
            },
            "type": "mesh3d"
           }
          ],
          "parcoords": [
           {
            "line": {
             "colorbar": {
              "outlinewidth": 0,
              "ticks": ""
             }
            },
            "type": "parcoords"
           }
          ],
          "pie": [
           {
            "automargin": true,
            "type": "pie"
           }
          ],
          "scatter": [
           {
            "fillpattern": {
             "fillmode": "overlay",
             "size": 10,
             "solidity": 0.2
            },
            "type": "scatter"
           }
          ],
          "scatter3d": [
           {
            "line": {
             "colorbar": {
              "outlinewidth": 0,
              "ticks": ""
             }
            },
            "marker": {
             "colorbar": {
              "outlinewidth": 0,
              "ticks": ""
             }
            },
            "type": "scatter3d"
           }
          ],
          "scattercarpet": [
           {
            "marker": {
             "colorbar": {
              "outlinewidth": 0,
              "ticks": ""
             }
            },
            "type": "scattercarpet"
           }
          ],
          "scattergeo": [
           {
            "marker": {
             "colorbar": {
              "outlinewidth": 0,
              "ticks": ""
             }
            },
            "type": "scattergeo"
           }
          ],
          "scattergl": [
           {
            "marker": {
             "colorbar": {
              "outlinewidth": 0,
              "ticks": ""
             }
            },
            "type": "scattergl"
           }
          ],
          "scattermapbox": [
           {
            "marker": {
             "colorbar": {
              "outlinewidth": 0,
              "ticks": ""
             }
            },
            "type": "scattermapbox"
           }
          ],
          "scatterpolar": [
           {
            "marker": {
             "colorbar": {
              "outlinewidth": 0,
              "ticks": ""
             }
            },
            "type": "scatterpolar"
           }
          ],
          "scatterpolargl": [
           {
            "marker": {
             "colorbar": {
              "outlinewidth": 0,
              "ticks": ""
             }
            },
            "type": "scatterpolargl"
           }
          ],
          "scatterternary": [
           {
            "marker": {
             "colorbar": {
              "outlinewidth": 0,
              "ticks": ""
             }
            },
            "type": "scatterternary"
           }
          ],
          "surface": [
           {
            "colorbar": {
             "outlinewidth": 0,
             "ticks": ""
            },
            "colorscale": [
             [
              0,
              "#0d0887"
             ],
             [
              0.1111111111111111,
              "#46039f"
             ],
             [
              0.2222222222222222,
              "#7201a8"
             ],
             [
              0.3333333333333333,
              "#9c179e"
             ],
             [
              0.4444444444444444,
              "#bd3786"
             ],
             [
              0.5555555555555556,
              "#d8576b"
             ],
             [
              0.6666666666666666,
              "#ed7953"
             ],
             [
              0.7777777777777778,
              "#fb9f3a"
             ],
             [
              0.8888888888888888,
              "#fdca26"
             ],
             [
              1,
              "#f0f921"
             ]
            ],
            "type": "surface"
           }
          ],
          "table": [
           {
            "cells": {
             "fill": {
              "color": "#EBF0F8"
             },
             "line": {
              "color": "white"
             }
            },
            "header": {
             "fill": {
              "color": "#C8D4E3"
             },
             "line": {
              "color": "white"
             }
            },
            "type": "table"
           }
          ]
         },
         "layout": {
          "annotationdefaults": {
           "arrowcolor": "#2a3f5f",
           "arrowhead": 0,
           "arrowwidth": 1
          },
          "autotypenumbers": "strict",
          "coloraxis": {
           "colorbar": {
            "outlinewidth": 0,
            "ticks": ""
           }
          },
          "colorscale": {
           "diverging": [
            [
             0,
             "#8e0152"
            ],
            [
             0.1,
             "#c51b7d"
            ],
            [
             0.2,
             "#de77ae"
            ],
            [
             0.3,
             "#f1b6da"
            ],
            [
             0.4,
             "#fde0ef"
            ],
            [
             0.5,
             "#f7f7f7"
            ],
            [
             0.6,
             "#e6f5d0"
            ],
            [
             0.7,
             "#b8e186"
            ],
            [
             0.8,
             "#7fbc41"
            ],
            [
             0.9,
             "#4d9221"
            ],
            [
             1,
             "#276419"
            ]
           ],
           "sequential": [
            [
             0,
             "#0d0887"
            ],
            [
             0.1111111111111111,
             "#46039f"
            ],
            [
             0.2222222222222222,
             "#7201a8"
            ],
            [
             0.3333333333333333,
             "#9c179e"
            ],
            [
             0.4444444444444444,
             "#bd3786"
            ],
            [
             0.5555555555555556,
             "#d8576b"
            ],
            [
             0.6666666666666666,
             "#ed7953"
            ],
            [
             0.7777777777777778,
             "#fb9f3a"
            ],
            [
             0.8888888888888888,
             "#fdca26"
            ],
            [
             1,
             "#f0f921"
            ]
           ],
           "sequentialminus": [
            [
             0,
             "#0d0887"
            ],
            [
             0.1111111111111111,
             "#46039f"
            ],
            [
             0.2222222222222222,
             "#7201a8"
            ],
            [
             0.3333333333333333,
             "#9c179e"
            ],
            [
             0.4444444444444444,
             "#bd3786"
            ],
            [
             0.5555555555555556,
             "#d8576b"
            ],
            [
             0.6666666666666666,
             "#ed7953"
            ],
            [
             0.7777777777777778,
             "#fb9f3a"
            ],
            [
             0.8888888888888888,
             "#fdca26"
            ],
            [
             1,
             "#f0f921"
            ]
           ]
          },
          "colorway": [
           "#636efa",
           "#EF553B",
           "#00cc96",
           "#ab63fa",
           "#FFA15A",
           "#19d3f3",
           "#FF6692",
           "#B6E880",
           "#FF97FF",
           "#FECB52"
          ],
          "font": {
           "color": "#2a3f5f"
          },
          "geo": {
           "bgcolor": "white",
           "lakecolor": "white",
           "landcolor": "#E5ECF6",
           "showlakes": true,
           "showland": true,
           "subunitcolor": "white"
          },
          "hoverlabel": {
           "align": "left"
          },
          "hovermode": "closest",
          "mapbox": {
           "style": "light"
          },
          "paper_bgcolor": "white",
          "plot_bgcolor": "#E5ECF6",
          "polar": {
           "angularaxis": {
            "gridcolor": "white",
            "linecolor": "white",
            "ticks": ""
           },
           "bgcolor": "#E5ECF6",
           "radialaxis": {
            "gridcolor": "white",
            "linecolor": "white",
            "ticks": ""
           }
          },
          "scene": {
           "xaxis": {
            "backgroundcolor": "#E5ECF6",
            "gridcolor": "white",
            "gridwidth": 2,
            "linecolor": "white",
            "showbackground": true,
            "ticks": "",
            "zerolinecolor": "white"
           },
           "yaxis": {
            "backgroundcolor": "#E5ECF6",
            "gridcolor": "white",
            "gridwidth": 2,
            "linecolor": "white",
            "showbackground": true,
            "ticks": "",
            "zerolinecolor": "white"
           },
           "zaxis": {
            "backgroundcolor": "#E5ECF6",
            "gridcolor": "white",
            "gridwidth": 2,
            "linecolor": "white",
            "showbackground": true,
            "ticks": "",
            "zerolinecolor": "white"
           }
          },
          "shapedefaults": {
           "line": {
            "color": "#2a3f5f"
           }
          },
          "ternary": {
           "aaxis": {
            "gridcolor": "white",
            "linecolor": "white",
            "ticks": ""
           },
           "baxis": {
            "gridcolor": "white",
            "linecolor": "white",
            "ticks": ""
           },
           "bgcolor": "#E5ECF6",
           "caxis": {
            "gridcolor": "white",
            "linecolor": "white",
            "ticks": ""
           }
          },
          "title": {
           "x": 0.05
          },
          "xaxis": {
           "automargin": true,
           "gridcolor": "white",
           "linecolor": "white",
           "ticks": "",
           "title": {
            "standoff": 15
           },
           "zerolinecolor": "white",
           "zerolinewidth": 2
          },
          "yaxis": {
           "automargin": true,
           "gridcolor": "white",
           "linecolor": "white",
           "ticks": "",
           "title": {
            "standoff": 15
           },
           "zerolinecolor": "white",
           "zerolinewidth": 2
          }
         }
        }
       }
      }
     },
     "metadata": {},
     "output_type": "display_data"
    }
   ],
   "source": [
    "## ONE STEP PREDICTION\n",
    "# Num dapat diubah-ubah untuk melihat trajectory yang berbeda-beda\n",
    "num = 273\n",
    "\n",
    "# Predict the next coords of entry \"num\" using the model\n",
    "num_of_timesteps = len(x_test[0])\n",
    "\n",
    "pred_coords = {}\n",
    "x = 0\n",
    "for i in models:\n",
    "  pred_coords[\"pred_coords_{0}\".format(model_names[x])] = i.predict(x_test[num].reshape(1, num_of_timesteps, 2))\n",
    "  x += 1\n",
    "\n",
    "true_coords = y_test[num]\n",
    "\n",
    "fig = go.Figure()\n",
    "\n",
    "## Map display of True Point vs Predicted Point\n",
    "# Get route coordinates\n",
    "past_lat = []\n",
    "past_lon = []\n",
    "\n",
    "for point in x_test[num]:\n",
    "  past_lat.append(point[0])\n",
    "  past_lon.append(point[1])\n",
    "\n",
    "fig.add_trace(go.Scattermapbox(\n",
    "  mode=\"markers+lines\",\n",
    "  lat=past_lat,\n",
    "  lon=past_lon,\n",
    "  name=\"trip\",\n",
    "  marker={'size': 10}))\n",
    "\n",
    "\n",
    "# Get prediction coordinates\n",
    "x = 0\n",
    "for i in pred_coords:\n",
    "  pred_lat = []\n",
    "  pred_lon = []\n",
    "\n",
    "  for step in pred_coords[i]:\n",
    "    for point in step:\n",
    "      pred_lat.append(point[0])\n",
    "      pred_lon.append(point[1])\n",
    "\n",
    "  fig.add_trace(go.Scattermapbox(\n",
    "    mode=\"markers+lines\",\n",
    "    lat=pred_lat,\n",
    "    lon=pred_lon,\n",
    "    name=i,\n",
    "    marker={'size': 10, 'color': model_colors[x]}))\n",
    "  x += 1\n",
    "\n",
    "\n",
    "# Get true coordinates from y\n",
    "true_lat = []\n",
    "true_lon = []\n",
    "\n",
    "for point in true_coords:\n",
    "  true_lat.append(point[0])\n",
    "  true_lon.append(point[1])\n",
    "\n",
    "print(\"True lat:\")\n",
    "print(true_lat)\n",
    "fig.add_trace(go.Scattermapbox(\n",
    "  mode=\"markers\",\n",
    "  lat=true_lat,\n",
    "  lon=true_lon,\n",
    "  name=\"True Point\",\n",
    "  marker={'size': 10, 'color': 'red'}))\n",
    "\n",
    "\n",
    "fig.update_layout(mapbox_style=\"open-street-map\",)\n",
    "fig.update_layout(\n",
    "  margin={\"r\":0,\"t\":0,\"l\":0,\"b\":0},\n",
    "  mapbox=dict(\n",
    "    zoom=10,\n",
    "    center=go.layout.mapbox.Center(\n",
    "            lat=-6.2,\n",
    "            lon=106.816\n",
    "        ),\n",
    "  ))\n",
    "fig.show()"
   ]
  }
 ],
 "metadata": {
  "kernelspec": {
   "display_name": "Python 3",
   "language": "python",
   "name": "python3"
  },
  "language_info": {
   "codemirror_mode": {
    "name": "ipython",
    "version": 3
   },
   "file_extension": ".py",
   "mimetype": "text/x-python",
   "name": "python",
   "nbconvert_exporter": "python",
   "pygments_lexer": "ipython3",
   "version": "3.9.13"
  }
 },
 "nbformat": 4,
 "nbformat_minor": 2
}
