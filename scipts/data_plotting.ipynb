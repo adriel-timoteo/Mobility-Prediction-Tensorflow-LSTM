{
 "cells": [
  {
   "cell_type": "code",
   "execution_count": 1,
   "metadata": {},
   "outputs": [],
   "source": [
    "import plotly.express as px\n",
    "import pandas as pd\n",
    "from pathlib import Path"
   ]
  },
  {
   "cell_type": "code",
   "execution_count": 2,
   "metadata": {},
   "outputs": [
    {
     "name": "stdout",
     "output_type": "stream",
     "text": [
      "Adding file: ..\\GrabPosisi\\part-00000-8bbff892-97d2-4011-9961-703e38972569.c000.snappy.parquet\n",
      "Adding file: ..\\GrabPosisi\\part-00001-8bbff892-97d2-4011-9961-703e38972569.c000.snappy.parquet\n",
      "Adding file: ..\\GrabPosisi\\part-00002-8bbff892-97d2-4011-9961-703e38972569.c000.snappy.parquet\n",
      "Adding file: ..\\GrabPosisi\\part-00003-8bbff892-97d2-4011-9961-703e38972569.c000.snappy.parquet\n",
      "Adding file: ..\\GrabPosisi\\part-00004-8bbff892-97d2-4011-9961-703e38972569.c000.snappy.parquet\n",
      "Adding file: ..\\GrabPosisi\\part-00005-8bbff892-97d2-4011-9961-703e38972569.c000.snappy.parquet\n",
      "Adding file: ..\\GrabPosisi\\part-00006-8bbff892-97d2-4011-9961-703e38972569.c000.snappy.parquet\n",
      "Adding file: ..\\GrabPosisi\\part-00007-8bbff892-97d2-4011-9961-703e38972569.c000.snappy.parquet\n",
      "Adding file: ..\\GrabPosisi\\part-00008-8bbff892-97d2-4011-9961-703e38972569.c000.snappy.parquet\n",
      "Adding file: ..\\GrabPosisi\\part-00009-8bbff892-97d2-4011-9961-703e38972569.c000.snappy.parquet\n"
     ]
    }
   ],
   "source": [
    "data_dir = Path('../GrabPosisi')\n",
    "full_df = pd.DataFrame()\n",
    "\n",
    "for parquet_file in data_dir.glob(\"*.parquet\"):\n",
    "    print(f\"Adding file: {parquet_file}\")\n",
    "    full_df = pd.concat([full_df, pd.read_parquet(parquet_file)], ignore_index=True)"
   ]
  },
  {
   "cell_type": "code",
   "execution_count": null,
   "metadata": {},
   "outputs": [],
   "source": [
    "full_df = pd.concat([full_df, pd.read_parquet(\"city=Jakarta\\part-00000-8bbff892-97d2-4011-9961-703e38972569.c000.snappy.parquet\")], ignore_index=True)"
   ]
  },
  {
   "cell_type": "code",
   "execution_count": 3,
   "metadata": {},
   "outputs": [
    {
     "name": "stdout",
     "output_type": "stream",
     "text": [
      "         trj_id driving_mode   osname  pingtimestamp    rawlat      rawlng  \\\n",
      "35166096  46892   motorcycle  android     1555801201 -6.371612  107.007593   \n",
      "54914947  45418   motorcycle  android     1555801201 -6.227309  106.935828   \n",
      "52456490  18287   motorcycle  android     1555801201 -6.307938  106.875333   \n",
      "3665851    9604   motorcycle  android     1555801201 -6.257487  106.704246   \n",
      "7056449   19070   motorcycle  android     1555801201 -6.195801  106.744168   \n",
      "...         ...          ...      ...            ...       ...         ...   \n",
      "28814581  54405   motorcycle  android     1555844399 -6.147425  106.836495   \n",
      "3022565   39675   motorcycle  android     1555844399 -6.227282  106.981132   \n",
      "33163775  45535   motorcycle  android     1555844399 -6.426005  107.036801   \n",
      "41502798   8177   motorcycle  android     1555844399 -6.154364  106.728102   \n",
      "55076243  42603   motorcycle  android     1555844399 -6.124152  106.745292   \n",
      "\n",
      "              speed  bearing  accuracy  \n",
      "35166096  13.460000       42     4.551  \n",
      "54914947   9.700000      263     4.288  \n",
      "52456490  13.243803      252     3.900  \n",
      "3665851    3.290000      100     3.880  \n",
      "7056449   12.940000      175     9.102  \n",
      "...             ...      ...       ...  \n",
      "28814581   7.694583      306     3.900  \n",
      "3022565    5.474071      309     3.900  \n",
      "33163775   4.690267      320     3.900  \n",
      "41502798   2.550000      290     3.885  \n",
      "55076243   6.750067      108     3.900  \n",
      "\n",
      "[4362523 rows x 9 columns]\n"
     ]
    }
   ],
   "source": [
    "sampled_df = full_df[(full_df['pingtimestamp'] > 1555801200) & (full_df['pingtimestamp'] < 1555844400)]\n",
    "\n",
    "sampled_df = sampled_df.sort_values(by='pingtimestamp')\n",
    "\n",
    "print(sampled_df)"
   ]
  },
  {
   "cell_type": "code",
   "execution_count": 5,
   "metadata": {},
   "outputs": [
    {
     "ename": "KeyboardInterrupt",
     "evalue": "",
     "output_type": "error",
     "traceback": [
      "\u001b[1;31m---------------------------------------------------------------------------\u001b[0m",
      "\u001b[1;31mKeyboardInterrupt\u001b[0m                         Traceback (most recent call last)",
      "Cell \u001b[1;32mIn[5], line 2\u001b[0m\n\u001b[0;32m      1\u001b[0m color_scale \u001b[38;5;241m=\u001b[39m [(\u001b[38;5;241m0\u001b[39m, \u001b[38;5;124m'\u001b[39m\u001b[38;5;124mgreen\u001b[39m\u001b[38;5;124m'\u001b[39m), (\u001b[38;5;241m1\u001b[39m,\u001b[38;5;124m'\u001b[39m\u001b[38;5;124mred\u001b[39m\u001b[38;5;124m'\u001b[39m)]\n\u001b[1;32m----> 2\u001b[0m fig \u001b[38;5;241m=\u001b[39m \u001b[43mpx\u001b[49m\u001b[38;5;241;43m.\u001b[39;49m\u001b[43mscatter_mapbox\u001b[49m\u001b[43m(\u001b[49m\u001b[43msampled_df\u001b[49m\u001b[43m,\u001b[49m\u001b[43m \u001b[49m\n\u001b[0;32m      3\u001b[0m \u001b[43m                        \u001b[49m\u001b[43mlat\u001b[49m\u001b[38;5;241;43m=\u001b[39;49m\u001b[38;5;124;43m\"\u001b[39;49m\u001b[38;5;124;43mrawlat\u001b[39;49m\u001b[38;5;124;43m\"\u001b[39;49m\u001b[43m,\u001b[49m\u001b[43m \u001b[49m\n\u001b[0;32m      4\u001b[0m \u001b[43m                        \u001b[49m\u001b[43mlon\u001b[49m\u001b[38;5;241;43m=\u001b[39;49m\u001b[38;5;124;43m\"\u001b[39;49m\u001b[38;5;124;43mrawlng\u001b[39;49m\u001b[38;5;124;43m\"\u001b[39;49m\u001b[43m,\u001b[49m\n\u001b[0;32m      5\u001b[0m \u001b[43m                        \u001b[49m\u001b[43mcolor\u001b[49m\u001b[38;5;241;43m=\u001b[39;49m\u001b[38;5;124;43m\"\u001b[39;49m\u001b[38;5;124;43mtrj_id\u001b[39;49m\u001b[38;5;124;43m\"\u001b[39;49m\u001b[43m,\u001b[49m\n\u001b[0;32m      6\u001b[0m \u001b[43m                        \u001b[49m\u001b[43mzoom\u001b[49m\u001b[38;5;241;43m=\u001b[39;49m\u001b[38;5;241;43m8\u001b[39;49m\u001b[43m,\u001b[49m\u001b[43m \u001b[49m\n\u001b[0;32m      7\u001b[0m \u001b[43m                        \u001b[49m\u001b[43mheight\u001b[49m\u001b[38;5;241;43m=\u001b[39;49m\u001b[38;5;241;43m800\u001b[39;49m\u001b[43m,\u001b[49m\n\u001b[0;32m      8\u001b[0m \u001b[43m                        \u001b[49m\u001b[43manimation_frame\u001b[49m\u001b[38;5;241;43m=\u001b[39;49m\u001b[38;5;124;43m\"\u001b[39;49m\u001b[38;5;124;43mpingtimestamp\u001b[39;49m\u001b[38;5;124;43m\"\u001b[39;49m\u001b[43m)\u001b[49m\n\u001b[0;32m     10\u001b[0m fig\u001b[38;5;241m.\u001b[39mupdate_layout(mapbox_style\u001b[38;5;241m=\u001b[39m\u001b[38;5;124m\"\u001b[39m\u001b[38;5;124mopen-street-map\u001b[39m\u001b[38;5;124m\"\u001b[39m)\n\u001b[0;32m     11\u001b[0m fig\u001b[38;5;241m.\u001b[39mupdate_layout(margin\u001b[38;5;241m=\u001b[39m{\u001b[38;5;124m\"\u001b[39m\u001b[38;5;124mr\u001b[39m\u001b[38;5;124m\"\u001b[39m:\u001b[38;5;241m0\u001b[39m,\u001b[38;5;124m\"\u001b[39m\u001b[38;5;124mt\u001b[39m\u001b[38;5;124m\"\u001b[39m:\u001b[38;5;241m0\u001b[39m,\u001b[38;5;124m\"\u001b[39m\u001b[38;5;124ml\u001b[39m\u001b[38;5;124m\"\u001b[39m:\u001b[38;5;241m0\u001b[39m,\u001b[38;5;124m\"\u001b[39m\u001b[38;5;124mb\u001b[39m\u001b[38;5;124m\"\u001b[39m:\u001b[38;5;241m0\u001b[39m})\n",
      "File \u001b[1;32mc:\\Users\\adrie\\AppData\\Local\\Programs\\Python\\Python39\\lib\\site-packages\\plotly\\express\\_chart_types.py:1247\u001b[0m, in \u001b[0;36mscatter_mapbox\u001b[1;34m(data_frame, lat, lon, color, text, hover_name, hover_data, custom_data, size, animation_frame, animation_group, category_orders, labels, color_discrete_sequence, color_discrete_map, color_continuous_scale, range_color, color_continuous_midpoint, opacity, size_max, zoom, center, mapbox_style, title, template, width, height)\u001b[0m\n\u001b[0;32m   1214\u001b[0m \u001b[38;5;28;01mdef\u001b[39;00m \u001b[38;5;21mscatter_mapbox\u001b[39m(\n\u001b[0;32m   1215\u001b[0m     data_frame\u001b[38;5;241m=\u001b[39m\u001b[38;5;28;01mNone\u001b[39;00m,\n\u001b[0;32m   1216\u001b[0m     lat\u001b[38;5;241m=\u001b[39m\u001b[38;5;28;01mNone\u001b[39;00m,\n\u001b[1;32m   (...)\u001b[0m\n\u001b[0;32m   1241\u001b[0m     height\u001b[38;5;241m=\u001b[39m\u001b[38;5;28;01mNone\u001b[39;00m,\n\u001b[0;32m   1242\u001b[0m ) \u001b[38;5;241m-\u001b[39m\u001b[38;5;241m>\u001b[39m go\u001b[38;5;241m.\u001b[39mFigure:\n\u001b[0;32m   1243\u001b[0m \u001b[38;5;250m    \u001b[39m\u001b[38;5;124;03m\"\"\"\u001b[39;00m\n\u001b[0;32m   1244\u001b[0m \u001b[38;5;124;03m    In a Mapbox scatter plot, each row of `data_frame` is represented by a\u001b[39;00m\n\u001b[0;32m   1245\u001b[0m \u001b[38;5;124;03m    symbol mark on a Mapbox map.\u001b[39;00m\n\u001b[0;32m   1246\u001b[0m \u001b[38;5;124;03m    \"\"\"\u001b[39;00m\n\u001b[1;32m-> 1247\u001b[0m     \u001b[38;5;28;01mreturn\u001b[39;00m \u001b[43mmake_figure\u001b[49m\u001b[43m(\u001b[49m\u001b[43margs\u001b[49m\u001b[38;5;241;43m=\u001b[39;49m\u001b[38;5;28;43mlocals\u001b[39;49m\u001b[43m(\u001b[49m\u001b[43m)\u001b[49m\u001b[43m,\u001b[49m\u001b[43m \u001b[49m\u001b[43mconstructor\u001b[49m\u001b[38;5;241;43m=\u001b[39;49m\u001b[43mgo\u001b[49m\u001b[38;5;241;43m.\u001b[39;49m\u001b[43mScattermapbox\u001b[49m\u001b[43m)\u001b[49m\n",
      "File \u001b[1;32mc:\\Users\\adrie\\AppData\\Local\\Programs\\Python\\Python39\\lib\\site-packages\\plotly\\express\\_core.py:2103\u001b[0m, in \u001b[0;36mmake_figure\u001b[1;34m(args, constructor, trace_patch, layout_patch)\u001b[0m\n\u001b[0;32m   2099\u001b[0m trace_specs, grouped_mappings, sizeref, show_colorbar \u001b[38;5;241m=\u001b[39m infer_config(\n\u001b[0;32m   2100\u001b[0m     args, constructor, trace_patch, layout_patch\n\u001b[0;32m   2101\u001b[0m )\n\u001b[0;32m   2102\u001b[0m grouper \u001b[38;5;241m=\u001b[39m [x\u001b[38;5;241m.\u001b[39mgrouper \u001b[38;5;129;01mor\u001b[39;00m one_group \u001b[38;5;28;01mfor\u001b[39;00m x \u001b[38;5;129;01min\u001b[39;00m grouped_mappings] \u001b[38;5;129;01mor\u001b[39;00m [one_group]\n\u001b[1;32m-> 2103\u001b[0m groups, orders \u001b[38;5;241m=\u001b[39m \u001b[43mget_groups_and_orders\u001b[49m\u001b[43m(\u001b[49m\u001b[43margs\u001b[49m\u001b[43m,\u001b[49m\u001b[43m \u001b[49m\u001b[43mgrouper\u001b[49m\u001b[43m)\u001b[49m\n\u001b[0;32m   2105\u001b[0m col_labels \u001b[38;5;241m=\u001b[39m []\n\u001b[0;32m   2106\u001b[0m row_labels \u001b[38;5;241m=\u001b[39m []\n",
      "File \u001b[1;32mc:\\Users\\adrie\\AppData\\Local\\Programs\\Python\\Python39\\lib\\site-packages\\plotly\\express\\_core.py:2060\u001b[0m, in \u001b[0;36mget_groups_and_orders\u001b[1;34m(args, grouper)\u001b[0m\n\u001b[0;32m   2055\u001b[0m sorted_group_names \u001b[38;5;241m=\u001b[39m [\n\u001b[0;32m   2056\u001b[0m     g \u001b[38;5;28;01mif\u001b[39;00m \u001b[38;5;28mlen\u001b[39m(required_grouper) \u001b[38;5;241m!=\u001b[39m \u001b[38;5;241m1\u001b[39m \u001b[38;5;28;01melse\u001b[39;00m (g,) \u001b[38;5;28;01mfor\u001b[39;00m g \u001b[38;5;129;01min\u001b[39;00m group_indices\n\u001b[0;32m   2057\u001b[0m ]\n\u001b[0;32m   2059\u001b[0m \u001b[38;5;28;01mfor\u001b[39;00m i, col \u001b[38;5;129;01min\u001b[39;00m \u001b[38;5;28mreversed\u001b[39m(\u001b[38;5;28mlist\u001b[39m(\u001b[38;5;28menumerate\u001b[39m(required_grouper))):\n\u001b[1;32m-> 2060\u001b[0m     sorted_group_names \u001b[38;5;241m=\u001b[39m \u001b[38;5;28;43msorted\u001b[39;49m\u001b[43m(\u001b[49m\n\u001b[0;32m   2061\u001b[0m \u001b[43m        \u001b[49m\u001b[43msorted_group_names\u001b[49m\u001b[43m,\u001b[49m\n\u001b[0;32m   2062\u001b[0m \u001b[43m        \u001b[49m\u001b[43mkey\u001b[49m\u001b[38;5;241;43m=\u001b[39;49m\u001b[38;5;28;43;01mlambda\u001b[39;49;00m\u001b[43m \u001b[49m\u001b[43mg\u001b[49m\u001b[43m:\u001b[49m\u001b[43m \u001b[49m\u001b[43morders\u001b[49m\u001b[43m[\u001b[49m\u001b[43mcol\u001b[49m\u001b[43m]\u001b[49m\u001b[38;5;241;43m.\u001b[39;49m\u001b[43mindex\u001b[49m\u001b[43m(\u001b[49m\u001b[43mg\u001b[49m\u001b[43m[\u001b[49m\u001b[43mi\u001b[49m\u001b[43m]\u001b[49m\u001b[43m)\u001b[49m\u001b[43m \u001b[49m\u001b[38;5;28;43;01mif\u001b[39;49;00m\u001b[43m \u001b[49m\u001b[43mg\u001b[49m\u001b[43m[\u001b[49m\u001b[43mi\u001b[49m\u001b[43m]\u001b[49m\u001b[43m \u001b[49m\u001b[38;5;129;43;01min\u001b[39;49;00m\u001b[43m \u001b[49m\u001b[43morders\u001b[49m\u001b[43m[\u001b[49m\u001b[43mcol\u001b[49m\u001b[43m]\u001b[49m\u001b[43m \u001b[49m\u001b[38;5;28;43;01melse\u001b[39;49;00m\u001b[43m \u001b[49m\u001b[38;5;241;43m-\u001b[39;49m\u001b[38;5;241;43m1\u001b[39;49m\u001b[43m,\u001b[49m\n\u001b[0;32m   2063\u001b[0m \u001b[43m    \u001b[49m\u001b[43m)\u001b[49m\n\u001b[0;32m   2065\u001b[0m \u001b[38;5;66;03m# calculate the full group_names by inserting \"\" in the tuple index for one_group groups\u001b[39;00m\n\u001b[0;32m   2066\u001b[0m full_sorted_group_names \u001b[38;5;241m=\u001b[39m [\u001b[38;5;28mlist\u001b[39m(t) \u001b[38;5;28;01mfor\u001b[39;00m t \u001b[38;5;129;01min\u001b[39;00m sorted_group_names]\n",
      "File \u001b[1;32mc:\\Users\\adrie\\AppData\\Local\\Programs\\Python\\Python39\\lib\\site-packages\\plotly\\express\\_core.py:2062\u001b[0m, in \u001b[0;36mget_groups_and_orders.<locals>.<lambda>\u001b[1;34m(g)\u001b[0m\n\u001b[0;32m   2055\u001b[0m sorted_group_names \u001b[38;5;241m=\u001b[39m [\n\u001b[0;32m   2056\u001b[0m     g \u001b[38;5;28;01mif\u001b[39;00m \u001b[38;5;28mlen\u001b[39m(required_grouper) \u001b[38;5;241m!=\u001b[39m \u001b[38;5;241m1\u001b[39m \u001b[38;5;28;01melse\u001b[39;00m (g,) \u001b[38;5;28;01mfor\u001b[39;00m g \u001b[38;5;129;01min\u001b[39;00m group_indices\n\u001b[0;32m   2057\u001b[0m ]\n\u001b[0;32m   2059\u001b[0m \u001b[38;5;28;01mfor\u001b[39;00m i, col \u001b[38;5;129;01min\u001b[39;00m \u001b[38;5;28mreversed\u001b[39m(\u001b[38;5;28mlist\u001b[39m(\u001b[38;5;28menumerate\u001b[39m(required_grouper))):\n\u001b[0;32m   2060\u001b[0m     sorted_group_names \u001b[38;5;241m=\u001b[39m \u001b[38;5;28msorted\u001b[39m(\n\u001b[0;32m   2061\u001b[0m         sorted_group_names,\n\u001b[1;32m-> 2062\u001b[0m         key\u001b[38;5;241m=\u001b[39m\u001b[38;5;28;01mlambda\u001b[39;00m g: orders[col]\u001b[38;5;241m.\u001b[39mindex(g[i]) \u001b[38;5;28;01mif\u001b[39;00m g[i] \u001b[38;5;129;01min\u001b[39;00m orders[col] \u001b[38;5;28;01melse\u001b[39;00m \u001b[38;5;241m-\u001b[39m\u001b[38;5;241m1\u001b[39m,\n\u001b[0;32m   2063\u001b[0m     )\n\u001b[0;32m   2065\u001b[0m \u001b[38;5;66;03m# calculate the full group_names by inserting \"\" in the tuple index for one_group groups\u001b[39;00m\n\u001b[0;32m   2066\u001b[0m full_sorted_group_names \u001b[38;5;241m=\u001b[39m [\u001b[38;5;28mlist\u001b[39m(t) \u001b[38;5;28;01mfor\u001b[39;00m t \u001b[38;5;129;01min\u001b[39;00m sorted_group_names]\n",
      "\u001b[1;31mKeyboardInterrupt\u001b[0m: "
     ]
    }
   ],
   "source": [
    "color_scale = [(0, 'green'), (1,'red')]\n",
    "fig = px.scatter_mapbox(sampled_df, \n",
    "                        lat=\"rawlat\", \n",
    "                        lon=\"rawlng\",\n",
    "                        color=\"trj_id\",\n",
    "                        zoom=8, \n",
    "                        height=800,\n",
    "                        animation_frame=\"pingtimestamp\")\n",
    "\n",
    "fig.update_layout(mapbox_style=\"open-street-map\")\n",
    "fig.update_layout(margin={\"r\":0,\"t\":0,\"l\":0,\"b\":0})\n",
    "fig.show()"
   ]
  }
 ],
 "metadata": {
  "kernelspec": {
   "display_name": "Python 3",
   "language": "python",
   "name": "python3"
  },
  "language_info": {
   "codemirror_mode": {
    "name": "ipython",
    "version": 3
   },
   "file_extension": ".py",
   "mimetype": "text/x-python",
   "name": "python",
   "nbconvert_exporter": "python",
   "pygments_lexer": "ipython3",
   "version": "3.9.13"
  }
 },
 "nbformat": 4,
 "nbformat_minor": 2
}
