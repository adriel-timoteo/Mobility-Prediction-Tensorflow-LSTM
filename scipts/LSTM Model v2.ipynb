{
 "cells": [
  {
   "cell_type": "markdown",
   "metadata": {},
   "source": [
    "<h2>FINAL DATA PREPROCESSING & MODEL TRAINING</h2>\n",
    "\n",
    "Script ini digunakan untuk mempreprocess data menjadi data final yang dapat digunakan untuk training model, dan training model LSTM itu sendiri. Secara umum, script ini meliputi:\n",
    "<h4>Data Preprocessing</h4>\n",
    "- Padding & Truncating data, pada dasarnya memastikan seluruh trj_id memiliki jumlah data yang sama, yakni 20 data, dengan menambahkan data yang kurang dengan 0 dan memotong data yang kelebihan dan mengambil 20 data paling belakang.\n",
    "- Membagi data menjadi X (koordinat, keceptan, dll yang dimasukkan ke model untuk melatih model) dan y (koordinat yang benar untuk dibandingkan dengan koordinat hasil prediksi model). y akan diambil dari koordinat terakhir tiap trajectory.\n",
    "- Membagi data menjadi training data dan testing data, dengan pembagian 90%/10%.\n",
    "<br/>\n",
    "<h4>Model Training</h4>\n",
    "- Mendefinisikan dan melatih model LSTM berdasarkan data yang telah siap.\n",
    "- Arsitektur, epoch, loss, optimizer, dan dll dapat dengan bebas diubah-ubah untuk mencoba model lain.\n",
    "<br/>\n",
    "Jika ingin melihat performa model pertama yang telah saya latih, maka model itu sudah disave dalam folder models dengan nama model_v1.keras. Model dapat ditest menggunakan script Model Test.ipynb"
   ]
  },
  {
   "cell_type": "code",
   "execution_count": 1,
   "metadata": {},
   "outputs": [],
   "source": [
    "## Import libraries\n",
    "import pandas as pd\n",
    "import numpy as np\n",
    "import tensorflow as tf\n",
    "from sklearn.model_selection import train_test_split\n",
    "import datetime\n",
    "import math"
   ]
  },
  {
   "cell_type": "code",
   "execution_count": 2,
   "metadata": {},
   "outputs": [],
   "source": [
    "# Load Tensorboard\n",
    "%load_ext tensorboard"
   ]
  },
  {
   "cell_type": "code",
   "execution_count": 3,
   "metadata": {},
   "outputs": [
    {
     "name": "stdout",
     "output_type": "stream",
     "text": [
      "          rawlat      rawlng      speed     bearing  hour_of_day  day_of_week\n",
      "trj_id                                                                       \n",
      "1      -6.198042  106.769008   4.322800  179.920000           14            3\n",
      "1      -6.200972  106.769202   8.014167  173.233333           14            3\n",
      "1      -6.205394  106.769768  10.116136  171.477273           14            3\n",
      "1      -6.210496  106.771217   9.307667  156.683333           14            3\n",
      "1      -6.214969  106.773830  10.103333  139.777778           14            3\n",
      "...          ...         ...        ...         ...          ...          ...\n",
      "9999   -6.187751  106.845707  10.584667  329.600000            4            6\n",
      "9999   -6.184123  106.843546   4.508780  324.512195            4            6\n",
      "9999   -6.182706  106.842869   2.776724  287.137931            4            6\n",
      "9999   -6.180504  106.842337   5.244333  326.850000            4            6\n",
      "9999   -6.179029  106.841998   2.330952  231.095238            4            6\n",
      "\n",
      "[1221233 rows x 6 columns]\n"
     ]
    }
   ],
   "source": [
    "## Read data from csv\n",
    "resampled_data = pd.read_csv('../clean_data.csv', index_col='trj_id').drop('Unnamed: 1', axis=1)\n",
    "print(resampled_data)"
   ]
  },
  {
   "cell_type": "code",
   "execution_count": 4,
   "metadata": {},
   "outputs": [],
   "source": [
    "# Pad and truncate the timestamps in the dataframe\n",
    "# Ini buat kita samain input modelnya, gw potong timestampnya jadi pasti ada 20 timestamp per sample. Kalo lebih dipotong, kalo kurang ditambahin 0 di depannya\n",
    "# Pad value None --> pake koordinat pertama\n",
    "\n",
    "def pad_truncate_dataframe(df, max_len, padding='pre', truncating='post', pad_value=None):\n",
    "  # Split the dataframe by samples (first level of multi-index)\n",
    "  samples = df.groupby(level=0)\n",
    "\n",
    "  # Define a function to pad/truncate a single sample\n",
    "  def pad_truncate_sample(sample):\n",
    "    # Extract the values from a single sample\n",
    "    values = sample.values\n",
    "    first_element = values[0]\n",
    "    first_element[2] = 0\n",
    "    first_element[3] = 0\n",
    "\n",
    "    # Pad/truncate automatically using pad_sequences\n",
    "    if pad_value == None:\n",
    "      padded_truncated = tf.keras.preprocessing.sequence.pad_sequences(\n",
    "          [values], maxlen=max_len, padding=padding, truncating=truncating, value=first_element, dtype='float64'\n",
    "      )[0]\n",
    "    else:\n",
    "      padded_truncated = tf.keras.preprocessing.sequence.pad_sequences(\n",
    "          [values], maxlen=max_len, padding=padding, truncating=truncating, value=pad_value, dtype='float64'\n",
    "      )[0]\n",
    "\n",
    "    # Convert back to pandas dataframe\n",
    "    return pd.DataFrame(padded_truncated, columns=sample.columns)\n",
    "\n",
    "  # Apply the function to each sample and recreate the multi-index dataframe\n",
    "  padded_df = samples.apply(pad_truncate_sample)\n",
    "  return padded_df\n",
    "\n",
    "df_new = pad_truncate_dataframe(resampled_data, 21)"
   ]
  },
  {
   "cell_type": "code",
   "execution_count": 5,
   "metadata": {},
   "outputs": [
    {
     "data": {
      "text/plain": [
       "(55994, 21, 6)"
      ]
     },
     "execution_count": 5,
     "metadata": {},
     "output_type": "execute_result"
    }
   ],
   "source": [
    "## Convert the multi index dataframe to a numpy 3D array for better integration to TensorFlow (samples, timesteps, features)\n",
    "numpy_data = df_new.to_xarray().to_array().to_numpy()\n",
    "numpy_data = np.transpose(numpy_data, (1, 2, 0))\n",
    "numpy_data.shape # Should be (55994, 21, 6) for 55994 samples, 21 timesteps, and 6 features"
   ]
  },
  {
   "cell_type": "code",
   "execution_count": 6,
   "metadata": {},
   "outputs": [
    {
     "data": {
      "text/plain": [
       "array([[ -6.23979377, 106.80146247,   4.28211538,  71.57692308],\n",
       "       [ -6.14106118, 106.81269453,  12.37416661, 253.79166667],\n",
       "       [ -6.19673309, 106.84036612,   4.83801934, 154.61538462],\n",
       "       ...,\n",
       "       [ -6.1200961 , 106.68786577,   4.31941182, 287.23529412],\n",
       "       [ -6.13541954, 106.73027638,  16.60461538, 179.84615385],\n",
       "       [ -6.15251156, 106.79305789,  21.26433333, 171.8       ]])"
      ]
     },
     "execution_count": 6,
     "metadata": {},
     "output_type": "execute_result"
    }
   ],
   "source": [
    "## Split the data to x (feature values) and y (target values)\n",
    "x_data = numpy_data[:, :-1, :]\n",
    "y_data = numpy_data[:, -1, 0:4]\n",
    "\n",
    "y_data"
   ]
  },
  {
   "cell_type": "code",
   "execution_count": 7,
   "metadata": {},
   "outputs": [
    {
     "name": "stdout",
     "output_type": "stream",
     "text": [
      "(44795, 20, 6) (44795, 4)\n",
      "(5599, 20, 6) (5599, 4)\n",
      "(5600, 20, 6) (5600, 4)\n"
     ]
    }
   ],
   "source": [
    "# Split the data to train, val, test splits (train to train the model, val to validate the model on every epoch,\n",
    "# test to test the model on new data after trained)\n",
    "val_size = 0.1\n",
    "test_size = 0.1\n",
    "\n",
    "x_train, x_test_val, y_train, y_test_val = train_test_split(x_data, y_data, test_size=test_size + val_size)\n",
    "x_val, x_test, y_val, y_test = train_test_split(x_test_val, y_test_val, test_size=test_size / (test_size + val_size))\n",
    "\n",
    "print(x_train.shape, y_train.shape)\n",
    "print(x_val.shape, y_val.shape)\n",
    "print(x_test.shape, y_test.shape)"
   ]
  },
  {
   "cell_type": "code",
   "execution_count": 8,
   "metadata": {},
   "outputs": [
    {
     "name": "stderr",
     "output_type": "stream",
     "text": [
      "c:\\Users\\adrie\\AppData\\Local\\Programs\\Python\\Python39\\lib\\site-packages\\keras\\src\\layers\\preprocessing\\normalization.py:99: UserWarning: Do not pass an `input_shape`/`input_dim` argument to a layer. When using Sequential models, prefer using an `Input(shape)` object as the first layer in the model instead.\n",
      "  super().__init__(**kwargs)\n"
     ]
    }
   ],
   "source": [
    "## Define normalization layer\n",
    "normalize_layer = tf.keras.layers.Normalization(axis=-1, input_shape=(20, 6))\n",
    "normalize_layer.adapt(numpy_data)"
   ]
  },
  {
   "cell_type": "code",
   "execution_count": 9,
   "metadata": {},
   "outputs": [],
   "source": [
    "## Get Mean and Variance of Normalization layer to use for normalizing y and denormalizing later\n",
    "normalize_weights = normalize_layer.get_weights()\n",
    "\n",
    "mean_variance = np.array([normalize_weights[0][0:4], normalize_weights[1][0:4]])\n",
    "\n",
    "np.save('../mean_variance_B.npy', mean_variance)"
   ]
  },
  {
   "cell_type": "code",
   "execution_count": 10,
   "metadata": {},
   "outputs": [
    {
     "name": "stdout",
     "output_type": "stream",
     "text": [
      "tf.Tensor(\n",
      "[[ 0.56843513  0.01501251 -0.8677086   1.8946264 ]\n",
      " [ 0.85744566  0.1635797  -0.84255874 -1.2836212 ]\n",
      " [ 0.8653206  -0.568705   -0.44656032  0.30677935]\n",
      " ...\n",
      " [ 0.29181275 -2.357672    2.135319    1.2010729 ]\n",
      " [-0.11234879 -0.44860494  0.20636076  0.712597  ]\n",
      " [-0.6160363   1.6180936   0.5931214  -0.31702742]], shape=(44795, 4), dtype=float32)\n",
      "tf.Tensor(\n",
      "[[-0.21365969 -0.57932705  0.22869776 -0.27441472]\n",
      " [ 1.0563496  -0.23949201  0.9303407  -0.52612823]\n",
      " [ 0.6376404   0.2662596  -0.36287957 -0.5506116 ]\n",
      " ...\n",
      " [ 0.63714564 -0.050561    0.37255636 -0.00538872]\n",
      " [ 1.2297004   0.307544    1.0070118  -0.6547012 ]\n",
      " [-0.5163716   0.01140101 -0.1316887  -1.0105152 ]], shape=(5599, 4), dtype=float32)\n"
     ]
    }
   ],
   "source": [
    "## Normalize y\n",
    "normalize_y = tf.keras.layers.Normalization(mean=mean_variance[0], variance=mean_variance[1])\n",
    "\n",
    "y_train = normalize_y(y_train)\n",
    "y_val = normalize_y(y_val)\n",
    "y_test = normalize_y(y_test)\n",
    "print(y_train)\n",
    "print(y_val)"
   ]
  },
  {
   "cell_type": "code",
   "execution_count": 22,
   "metadata": {},
   "outputs": [],
   "source": [
    "## Save test data for model testing\n",
    "np.save('../x_test_B.npy', x_test)\n",
    "np.save('../y_test_B.npy', y_test)"
   ]
  },
  {
   "cell_type": "code",
   "execution_count": 18,
   "metadata": {},
   "outputs": [
    {
     "data": {
      "text/html": [
       "<pre style=\"white-space:pre;overflow-x:auto;line-height:normal;font-family:Menlo,'DejaVu Sans Mono',consolas,'Courier New',monospace\"><span style=\"font-weight: bold\">Model: \"sequential\"</span>\n",
       "</pre>\n"
      ],
      "text/plain": [
       "\u001b[1mModel: \"sequential\"\u001b[0m\n"
      ]
     },
     "metadata": {},
     "output_type": "display_data"
    },
    {
     "data": {
      "text/html": [
       "<pre style=\"white-space:pre;overflow-x:auto;line-height:normal;font-family:Menlo,'DejaVu Sans Mono',consolas,'Courier New',monospace\">┏━━━━━━━━━━━━━━━━━━━━━━━━━━━━━━━━━┳━━━━━━━━━━━━━━━━━━━━━━━━┳━━━━━━━━━━━━━━━┓\n",
       "┃<span style=\"font-weight: bold\"> Layer (type)                    </span>┃<span style=\"font-weight: bold\"> Output Shape           </span>┃<span style=\"font-weight: bold\">       Param # </span>┃\n",
       "┡━━━━━━━━━━━━━━━━━━━━━━━━━━━━━━━━━╇━━━━━━━━━━━━━━━━━━━━━━━━╇━━━━━━━━━━━━━━━┩\n",
       "│ normalization (<span style=\"color: #0087ff; text-decoration-color: #0087ff\">Normalization</span>)   │ (<span style=\"color: #00d7ff; text-decoration-color: #00d7ff\">None</span>, <span style=\"color: #00af00; text-decoration-color: #00af00\">20</span>, <span style=\"color: #00af00; text-decoration-color: #00af00\">6</span>)          │            <span style=\"color: #00af00; text-decoration-color: #00af00\">13</span> │\n",
       "├─────────────────────────────────┼────────────────────────┼───────────────┤\n",
       "│ lstm (<span style=\"color: #0087ff; text-decoration-color: #0087ff\">LSTM</span>)                     │ (<span style=\"color: #00d7ff; text-decoration-color: #00d7ff\">None</span>, <span style=\"color: #00af00; text-decoration-color: #00af00\">20</span>, <span style=\"color: #00af00; text-decoration-color: #00af00\">128</span>)        │        <span style=\"color: #00af00; text-decoration-color: #00af00\">69,120</span> │\n",
       "├─────────────────────────────────┼────────────────────────┼───────────────┤\n",
       "│ lstm_1 (<span style=\"color: #0087ff; text-decoration-color: #0087ff\">LSTM</span>)                   │ (<span style=\"color: #00d7ff; text-decoration-color: #00d7ff\">None</span>, <span style=\"color: #00af00; text-decoration-color: #00af00\">128</span>)            │       <span style=\"color: #00af00; text-decoration-color: #00af00\">131,584</span> │\n",
       "├─────────────────────────────────┼────────────────────────┼───────────────┤\n",
       "│ dense (<span style=\"color: #0087ff; text-decoration-color: #0087ff\">Dense</span>)                   │ (<span style=\"color: #00d7ff; text-decoration-color: #00d7ff\">None</span>, <span style=\"color: #00af00; text-decoration-color: #00af00\">4</span>)              │           <span style=\"color: #00af00; text-decoration-color: #00af00\">516</span> │\n",
       "└─────────────────────────────────┴────────────────────────┴───────────────┘\n",
       "</pre>\n"
      ],
      "text/plain": [
       "┏━━━━━━━━━━━━━━━━━━━━━━━━━━━━━━━━━┳━━━━━━━━━━━━━━━━━━━━━━━━┳━━━━━━━━━━━━━━━┓\n",
       "┃\u001b[1m \u001b[0m\u001b[1mLayer (type)                   \u001b[0m\u001b[1m \u001b[0m┃\u001b[1m \u001b[0m\u001b[1mOutput Shape          \u001b[0m\u001b[1m \u001b[0m┃\u001b[1m \u001b[0m\u001b[1m      Param #\u001b[0m\u001b[1m \u001b[0m┃\n",
       "┡━━━━━━━━━━━━━━━━━━━━━━━━━━━━━━━━━╇━━━━━━━━━━━━━━━━━━━━━━━━╇━━━━━━━━━━━━━━━┩\n",
       "│ normalization (\u001b[38;5;33mNormalization\u001b[0m)   │ (\u001b[38;5;45mNone\u001b[0m, \u001b[38;5;34m20\u001b[0m, \u001b[38;5;34m6\u001b[0m)          │            \u001b[38;5;34m13\u001b[0m │\n",
       "├─────────────────────────────────┼────────────────────────┼───────────────┤\n",
       "│ lstm (\u001b[38;5;33mLSTM\u001b[0m)                     │ (\u001b[38;5;45mNone\u001b[0m, \u001b[38;5;34m20\u001b[0m, \u001b[38;5;34m128\u001b[0m)        │        \u001b[38;5;34m69,120\u001b[0m │\n",
       "├─────────────────────────────────┼────────────────────────┼───────────────┤\n",
       "│ lstm_1 (\u001b[38;5;33mLSTM\u001b[0m)                   │ (\u001b[38;5;45mNone\u001b[0m, \u001b[38;5;34m128\u001b[0m)            │       \u001b[38;5;34m131,584\u001b[0m │\n",
       "├─────────────────────────────────┼────────────────────────┼───────────────┤\n",
       "│ dense (\u001b[38;5;33mDense\u001b[0m)                   │ (\u001b[38;5;45mNone\u001b[0m, \u001b[38;5;34m4\u001b[0m)              │           \u001b[38;5;34m516\u001b[0m │\n",
       "└─────────────────────────────────┴────────────────────────┴───────────────┘\n"
      ]
     },
     "metadata": {},
     "output_type": "display_data"
    },
    {
     "data": {
      "text/html": [
       "<pre style=\"white-space:pre;overflow-x:auto;line-height:normal;font-family:Menlo,'DejaVu Sans Mono',consolas,'Courier New',monospace\"><span style=\"font-weight: bold\"> Total params: </span><span style=\"color: #00af00; text-decoration-color: #00af00\">201,233</span> (786.07 KB)\n",
       "</pre>\n"
      ],
      "text/plain": [
       "\u001b[1m Total params: \u001b[0m\u001b[38;5;34m201,233\u001b[0m (786.07 KB)\n"
      ]
     },
     "metadata": {},
     "output_type": "display_data"
    },
    {
     "data": {
      "text/html": [
       "<pre style=\"white-space:pre;overflow-x:auto;line-height:normal;font-family:Menlo,'DejaVu Sans Mono',consolas,'Courier New',monospace\"><span style=\"font-weight: bold\"> Trainable params: </span><span style=\"color: #00af00; text-decoration-color: #00af00\">201,220</span> (786.02 KB)\n",
       "</pre>\n"
      ],
      "text/plain": [
       "\u001b[1m Trainable params: \u001b[0m\u001b[38;5;34m201,220\u001b[0m (786.02 KB)\n"
      ]
     },
     "metadata": {},
     "output_type": "display_data"
    },
    {
     "data": {
      "text/html": [
       "<pre style=\"white-space:pre;overflow-x:auto;line-height:normal;font-family:Menlo,'DejaVu Sans Mono',consolas,'Courier New',monospace\"><span style=\"font-weight: bold\"> Non-trainable params: </span><span style=\"color: #00af00; text-decoration-color: #00af00\">13</span> (56.00 B)\n",
       "</pre>\n"
      ],
      "text/plain": [
       "\u001b[1m Non-trainable params: \u001b[0m\u001b[38;5;34m13\u001b[0m (56.00 B)\n"
      ]
     },
     "metadata": {},
     "output_type": "display_data"
    }
   ],
   "source": [
    "# Clear any previous models\n",
    "tf.keras.backend.clear_session()\n",
    "\n",
    "# Name scope each layer\n",
    "def create_named_layer(layer_type, name, **kwargs):\n",
    "  with tf.name_scope(name):\n",
    "    return layer_type(**kwargs)\n",
    "\n",
    "# Define the model\n",
    "num_features = 6\n",
    "batch_size = 32\n",
    "\n",
    "model = tf.keras.Sequential()\n",
    "model.add(normalize_layer)\n",
    "model.add(create_named_layer(tf.keras.layers.LSTM, \"lstm_1\", units=128, recurrent_regularizer='l2', return_sequences=True))\n",
    "model.add(create_named_layer(tf.keras.layers.LSTM, \"lstm_2\", units=128, recurrent_regularizer='l2'))\n",
    "model.add(create_named_layer(tf.keras.layers.Dense, \"dense_output\", units=4))\n",
    "\n",
    "\n",
    "# Define optimizer\n",
    "lr = 1e-3\n",
    "opt = tf.keras.optimizers.Adam(learning_rate=lr)\n",
    "\n",
    "model.compile(loss='huber', optimizer=opt, metrics=['mae', 'mse', 'accuracy'])\n",
    "model.summary()"
   ]
  },
  {
   "cell_type": "code",
   "execution_count": 13,
   "metadata": {},
   "outputs": [],
   "source": [
    "## Define LR scheduling (optional if want to use or not)\n",
    "start_lr = 0.001\n",
    "rampup_epochs = 20\n",
    "exp_decay = 0.01\n",
    "\n",
    "# Define the scheduling function\n",
    "def schedule(epoch):\n",
    "  def lr(epoch, start_lr, rampup_epochs, exp_decay):\n",
    "    if epoch < rampup_epochs:\n",
    "      return start_lr\n",
    "    else:\n",
    "      return start_lr * math.exp(-exp_decay * epoch)\n",
    "  return lr(epoch, start_lr, rampup_epochs, exp_decay)"
   ]
  },
  {
   "cell_type": "code",
   "execution_count": 19,
   "metadata": {},
   "outputs": [
    {
     "name": "stdout",
     "output_type": "stream",
     "text": [
      "Epoch 1/200\n",
      "\u001b[1m1400/1400\u001b[0m \u001b[32m━━━━━━━━━━━━━━━━━━━━\u001b[0m\u001b[37m\u001b[0m \u001b[1m43s\u001b[0m 28ms/step - loss: 0.3525 - mae: 0.3134 - mse: 0.2589 - val_loss: 0.0816 - val_mae: 0.2360 - val_mse: 0.1747\n",
      "Epoch 2/200\n",
      "\u001b[1m1400/1400\u001b[0m \u001b[32m━━━━━━━━━━━━━━━━━━━━\u001b[0m\u001b[37m\u001b[0m \u001b[1m38s\u001b[0m 27ms/step - loss: 0.0797 - mae: 0.2328 - mse: 0.1706 - val_loss: 0.0770 - val_mae: 0.2262 - val_mse: 0.1656\n",
      "Epoch 3/200\n",
      "\u001b[1m1400/1400\u001b[0m \u001b[32m━━━━━━━━━━━━━━━━━━━━\u001b[0m\u001b[37m\u001b[0m \u001b[1m42s\u001b[0m 30ms/step - loss: 0.0760 - mae: 0.2228 - mse: 0.1648 - val_loss: 0.0746 - val_mae: 0.2194 - val_mse: 0.1614\n",
      "Epoch 4/200\n",
      "\u001b[1m1400/1400\u001b[0m \u001b[32m━━━━━━━━━━━━━━━━━━━━\u001b[0m\u001b[37m\u001b[0m \u001b[1m41s\u001b[0m 29ms/step - loss: 0.0739 - mae: 0.2175 - mse: 0.1606 - val_loss: 0.0739 - val_mae: 0.2144 - val_mse: 0.1618\n",
      "Epoch 5/200\n",
      "\u001b[1m1400/1400\u001b[0m \u001b[32m━━━━━━━━━━━━━━━━━━━━\u001b[0m\u001b[37m\u001b[0m \u001b[1m39s\u001b[0m 28ms/step - loss: 0.0726 - mae: 0.2142 - mse: 0.1577 - val_loss: 0.0736 - val_mae: 0.2164 - val_mse: 0.1604\n",
      "Epoch 6/200\n",
      "\u001b[1m1400/1400\u001b[0m \u001b[32m━━━━━━━━━━━━━━━━━━━━\u001b[0m\u001b[37m\u001b[0m \u001b[1m40s\u001b[0m 28ms/step - loss: 0.0732 - mae: 0.2137 - mse: 0.1592 - val_loss: 0.0729 - val_mae: 0.2132 - val_mse: 0.1587\n",
      "Epoch 7/200\n",
      "\u001b[1m1400/1400\u001b[0m \u001b[32m━━━━━━━━━━━━━━━━━━━━\u001b[0m\u001b[37m\u001b[0m \u001b[1m41s\u001b[0m 29ms/step - loss: 0.0725 - mae: 0.2111 - mse: 0.1578 - val_loss: 0.0743 - val_mae: 0.2127 - val_mse: 0.1629\n",
      "Epoch 8/200\n",
      "\u001b[1m1400/1400\u001b[0m \u001b[32m━━━━━━━━━━━━━━━━━━━━\u001b[0m\u001b[37m\u001b[0m \u001b[1m40s\u001b[0m 28ms/step - loss: 0.0732 - mae: 0.2123 - mse: 0.1594 - val_loss: 0.0728 - val_mae: 0.2087 - val_mse: 0.1587\n",
      "Epoch 9/200\n",
      "\u001b[1m1400/1400\u001b[0m \u001b[32m━━━━━━━━━━━━━━━━━━━━\u001b[0m\u001b[37m\u001b[0m \u001b[1m40s\u001b[0m 29ms/step - loss: 0.0722 - mae: 0.2094 - mse: 0.1575 - val_loss: 0.0728 - val_mae: 0.2093 - val_mse: 0.1589\n",
      "Epoch 10/200\n",
      "\u001b[1m1400/1400\u001b[0m \u001b[32m━━━━━━━━━━━━━━━━━━━━\u001b[0m\u001b[37m\u001b[0m \u001b[1m40s\u001b[0m 29ms/step - loss: 0.0727 - mae: 0.2095 - mse: 0.1585 - val_loss: 0.0732 - val_mae: 0.2104 - val_mse: 0.1600\n",
      "Epoch 11/200\n",
      "\u001b[1m1400/1400\u001b[0m \u001b[32m━━━━━━━━━━━━━━━━━━━━\u001b[0m\u001b[37m\u001b[0m \u001b[1m39s\u001b[0m 28ms/step - loss: 0.0720 - mae: 0.2084 - mse: 0.1567 - val_loss: 0.0727 - val_mae: 0.2079 - val_mse: 0.1592\n",
      "Epoch 12/200\n",
      "\u001b[1m1400/1400\u001b[0m \u001b[32m━━━━━━━━━━━━━━━━━━━━\u001b[0m\u001b[37m\u001b[0m \u001b[1m42s\u001b[0m 30ms/step - loss: 0.0723 - mae: 0.2086 - mse: 0.1573 - val_loss: 0.0737 - val_mae: 0.2124 - val_mse: 0.1598\n",
      "Epoch 13/200\n",
      "\u001b[1m1400/1400\u001b[0m \u001b[32m━━━━━━━━━━━━━━━━━━━━\u001b[0m\u001b[37m\u001b[0m \u001b[1m41s\u001b[0m 29ms/step - loss: 0.0723 - mae: 0.2082 - mse: 0.1574 - val_loss: 0.0724 - val_mae: 0.2051 - val_mse: 0.1580\n",
      "Epoch 14/200\n",
      "\u001b[1m1400/1400\u001b[0m \u001b[32m━━━━━━━━━━━━━━━━━━━━\u001b[0m\u001b[37m\u001b[0m \u001b[1m43s\u001b[0m 31ms/step - loss: 0.0717 - mae: 0.2071 - mse: 0.1559 - val_loss: 0.0722 - val_mae: 0.2082 - val_mse: 0.1579\n",
      "Epoch 15/200\n",
      "\u001b[1m1400/1400\u001b[0m \u001b[32m━━━━━━━━━━━━━━━━━━━━\u001b[0m\u001b[37m\u001b[0m \u001b[1m40s\u001b[0m 29ms/step - loss: 0.0712 - mae: 0.2060 - mse: 0.1551 - val_loss: 0.0722 - val_mae: 0.2086 - val_mse: 0.1582\n",
      "Epoch 16/200\n",
      "\u001b[1m1400/1400\u001b[0m \u001b[32m━━━━━━━━━━━━━━━━━━━━\u001b[0m\u001b[37m\u001b[0m \u001b[1m40s\u001b[0m 29ms/step - loss: 0.0708 - mae: 0.2057 - mse: 0.1536 - val_loss: 0.0728 - val_mae: 0.2098 - val_mse: 0.1584\n",
      "Epoch 17/200\n",
      "\u001b[1m1400/1400\u001b[0m \u001b[32m━━━━━━━━━━━━━━━━━━━━\u001b[0m\u001b[37m\u001b[0m \u001b[1m42s\u001b[0m 30ms/step - loss: 0.0704 - mae: 0.2040 - mse: 0.1526 - val_loss: 0.0723 - val_mae: 0.2052 - val_mse: 0.1586\n",
      "Epoch 18/200\n",
      "\u001b[1m1400/1400\u001b[0m \u001b[32m━━━━━━━━━━━━━━━━━━━━\u001b[0m\u001b[37m\u001b[0m \u001b[1m41s\u001b[0m 29ms/step - loss: 0.0714 - mae: 0.2055 - mse: 0.1551 - val_loss: 0.0729 - val_mae: 0.2088 - val_mse: 0.1586\n",
      "Epoch 19/200\n",
      "\u001b[1m1400/1400\u001b[0m \u001b[32m━━━━━━━━━━━━━━━━━━━━\u001b[0m\u001b[37m\u001b[0m \u001b[1m42s\u001b[0m 30ms/step - loss: 0.0705 - mae: 0.2040 - mse: 0.1530 - val_loss: 0.0726 - val_mae: 0.2079 - val_mse: 0.1580\n",
      "Epoch 20/200\n",
      "\u001b[1m1400/1400\u001b[0m \u001b[32m━━━━━━━━━━━━━━━━━━━━\u001b[0m\u001b[37m\u001b[0m \u001b[1m41s\u001b[0m 29ms/step - loss: 0.0709 - mae: 0.2040 - mse: 0.1543 - val_loss: 0.0731 - val_mae: 0.2082 - val_mse: 0.1590\n",
      "Epoch 21/200\n",
      "\u001b[1m1400/1400\u001b[0m \u001b[32m━━━━━━━━━━━━━━━━━━━━\u001b[0m\u001b[37m\u001b[0m \u001b[1m43s\u001b[0m 31ms/step - loss: 0.0710 - mae: 0.2049 - mse: 0.1540 - val_loss: 0.0721 - val_mae: 0.2043 - val_mse: 0.1578\n",
      "Epoch 22/200\n",
      "\u001b[1m1400/1400\u001b[0m \u001b[32m━━━━━━━━━━━━━━━━━━━━\u001b[0m\u001b[37m\u001b[0m \u001b[1m41s\u001b[0m 29ms/step - loss: 0.0705 - mae: 0.2033 - mse: 0.1531 - val_loss: 0.0721 - val_mae: 0.2047 - val_mse: 0.1578\n",
      "Epoch 23/200\n",
      "\u001b[1m1400/1400\u001b[0m \u001b[32m━━━━━━━━━━━━━━━━━━━━\u001b[0m\u001b[37m\u001b[0m \u001b[1m39s\u001b[0m 28ms/step - loss: 0.0703 - mae: 0.2032 - mse: 0.1527 - val_loss: 0.0728 - val_mae: 0.2065 - val_mse: 0.1590\n",
      "Epoch 24/200\n",
      "\u001b[1m1400/1400\u001b[0m \u001b[32m━━━━━━━━━━━━━━━━━━━━\u001b[0m\u001b[37m\u001b[0m \u001b[1m39s\u001b[0m 28ms/step - loss: 0.0711 - mae: 0.2042 - mse: 0.1541 - val_loss: 0.0722 - val_mae: 0.2039 - val_mse: 0.1574\n",
      "Epoch 25/200\n",
      "\u001b[1m1400/1400\u001b[0m \u001b[32m━━━━━━━━━━━━━━━━━━━━\u001b[0m\u001b[37m\u001b[0m \u001b[1m39s\u001b[0m 28ms/step - loss: 0.0694 - mae: 0.2014 - mse: 0.1509 - val_loss: 0.0727 - val_mae: 0.2088 - val_mse: 0.1581\n",
      "Epoch 26/200\n",
      "\u001b[1m1400/1400\u001b[0m \u001b[32m━━━━━━━━━━━━━━━━━━━━\u001b[0m\u001b[37m\u001b[0m \u001b[1m38s\u001b[0m 27ms/step - loss: 0.0704 - mae: 0.2032 - mse: 0.1524 - val_loss: 0.0722 - val_mae: 0.2060 - val_mse: 0.1572\n",
      "Epoch 27/200\n",
      "\u001b[1m1400/1400\u001b[0m \u001b[32m━━━━━━━━━━━━━━━━━━━━\u001b[0m\u001b[37m\u001b[0m \u001b[1m39s\u001b[0m 28ms/step - loss: 0.0701 - mae: 0.2026 - mse: 0.1518 - val_loss: 0.0724 - val_mae: 0.2059 - val_mse: 0.1577\n",
      "Epoch 28/200\n",
      "\u001b[1m1400/1400\u001b[0m \u001b[32m━━━━━━━━━━━━━━━━━━━━\u001b[0m\u001b[37m\u001b[0m \u001b[1m38s\u001b[0m 27ms/step - loss: 0.0702 - mae: 0.2024 - mse: 0.1525 - val_loss: 0.0728 - val_mae: 0.2047 - val_mse: 0.1595\n",
      "Epoch 29/200\n",
      "\u001b[1m1400/1400\u001b[0m \u001b[32m━━━━━━━━━━━━━━━━━━━━\u001b[0m\u001b[37m\u001b[0m \u001b[1m41s\u001b[0m 29ms/step - loss: 0.0708 - mae: 0.2036 - mse: 0.1539 - val_loss: 0.0728 - val_mae: 0.2053 - val_mse: 0.1593\n",
      "Epoch 30/200\n",
      "\u001b[1m1400/1400\u001b[0m \u001b[32m━━━━━━━━━━━━━━━━━━━━\u001b[0m\u001b[37m\u001b[0m \u001b[1m44s\u001b[0m 31ms/step - loss: 0.0696 - mae: 0.2018 - mse: 0.1502 - val_loss: 0.0724 - val_mae: 0.2065 - val_mse: 0.1576\n",
      "Epoch 31/200\n",
      "\u001b[1m1400/1400\u001b[0m \u001b[32m━━━━━━━━━━━━━━━━━━━━\u001b[0m\u001b[37m\u001b[0m \u001b[1m45s\u001b[0m 32ms/step - loss: 0.0693 - mae: 0.2012 - mse: 0.1499 - val_loss: 0.0727 - val_mae: 0.2057 - val_mse: 0.1586\n",
      "Epoch 32/200\n",
      "\u001b[1m1400/1400\u001b[0m \u001b[32m━━━━━━━━━━━━━━━━━━━━\u001b[0m\u001b[37m\u001b[0m \u001b[1m43s\u001b[0m 31ms/step - loss: 0.0701 - mae: 0.2022 - mse: 0.1516 - val_loss: 0.0727 - val_mae: 0.2064 - val_mse: 0.1580\n",
      "Epoch 33/200\n",
      "\u001b[1m1400/1400\u001b[0m \u001b[32m━━━━━━━━━━━━━━━━━━━━\u001b[0m\u001b[37m\u001b[0m \u001b[1m40s\u001b[0m 28ms/step - loss: 0.0710 - mae: 0.2034 - mse: 0.1537 - val_loss: 0.0726 - val_mae: 0.2049 - val_mse: 0.1580\n",
      "Epoch 34/200\n",
      "\u001b[1m1400/1400\u001b[0m \u001b[32m━━━━━━━━━━━━━━━━━━━━\u001b[0m\u001b[37m\u001b[0m \u001b[1m38s\u001b[0m 27ms/step - loss: 0.0688 - mae: 0.2002 - mse: 0.1488 - val_loss: 0.0729 - val_mae: 0.2048 - val_mse: 0.1591\n",
      "Epoch 35/200\n",
      "\u001b[1m1400/1400\u001b[0m \u001b[32m━━━━━━━━━━━━━━━━━━━━\u001b[0m\u001b[37m\u001b[0m \u001b[1m43s\u001b[0m 31ms/step - loss: 0.0690 - mae: 0.2005 - mse: 0.1490 - val_loss: 0.0727 - val_mae: 0.2064 - val_mse: 0.1584\n",
      "Epoch 36/200\n",
      "\u001b[1m1400/1400\u001b[0m \u001b[32m━━━━━━━━━━━━━━━━━━━━\u001b[0m\u001b[37m\u001b[0m \u001b[1m38s\u001b[0m 27ms/step - loss: 0.0716 - mae: 0.2043 - mse: 0.1551 - val_loss: 0.0728 - val_mae: 0.2043 - val_mse: 0.1592\n",
      "Epoch 37/200\n",
      "\u001b[1m1400/1400\u001b[0m \u001b[32m━━━━━━━━━━━━━━━━━━━━\u001b[0m\u001b[37m\u001b[0m \u001b[1m40s\u001b[0m 29ms/step - loss: 0.0700 - mae: 0.2016 - mse: 0.1520 - val_loss: 0.0730 - val_mae: 0.2061 - val_mse: 0.1588\n",
      "Epoch 38/200\n",
      "\u001b[1m1400/1400\u001b[0m \u001b[32m━━━━━━━━━━━━━━━━━━━━\u001b[0m\u001b[37m\u001b[0m \u001b[1m39s\u001b[0m 28ms/step - loss: 0.0695 - mae: 0.2012 - mse: 0.1499 - val_loss: 0.0735 - val_mae: 0.2076 - val_mse: 0.1600\n",
      "Epoch 39/200\n",
      "\u001b[1m1400/1400\u001b[0m \u001b[32m━━━━━━━━━━━━━━━━━━━━\u001b[0m\u001b[37m\u001b[0m \u001b[1m39s\u001b[0m 28ms/step - loss: 0.0699 - mae: 0.2017 - mse: 0.1511 - val_loss: 0.0730 - val_mae: 0.2085 - val_mse: 0.1584\n",
      "Epoch 40/200\n",
      "\u001b[1m1400/1400\u001b[0m \u001b[32m━━━━━━━━━━━━━━━━━━━━\u001b[0m\u001b[37m\u001b[0m \u001b[1m39s\u001b[0m 28ms/step - loss: 0.0698 - mae: 0.2016 - mse: 0.1512 - val_loss: 0.0732 - val_mae: 0.2057 - val_mse: 0.1601\n",
      "Epoch 41/200\n",
      "\u001b[1m1400/1400\u001b[0m \u001b[32m━━━━━━━━━━━━━━━━━━━━\u001b[0m\u001b[37m\u001b[0m \u001b[1m39s\u001b[0m 28ms/step - loss: 0.0693 - mae: 0.2004 - mse: 0.1492 - val_loss: 0.0738 - val_mae: 0.2098 - val_mse: 0.1594\n",
      "Epoch 42/200\n",
      "\u001b[1m1400/1400\u001b[0m \u001b[32m━━━━━━━━━━━━━━━━━━━━\u001b[0m\u001b[37m\u001b[0m \u001b[1m41s\u001b[0m 29ms/step - loss: 0.0690 - mae: 0.2004 - mse: 0.1486 - val_loss: 0.0729 - val_mae: 0.2054 - val_mse: 0.1589\n",
      "\u001b[1m175/175\u001b[0m \u001b[32m━━━━━━━━━━━━━━━━━━━━\u001b[0m\u001b[37m\u001b[0m \u001b[1m2s\u001b[0m 12ms/step - loss: 0.0703 - mae: 0.2035 - mse: 0.1513\n"
     ]
    },
    {
     "data": {
      "text/plain": [
       "[0.0709296315908432, 0.2034052610397339, 0.1534854620695114]"
      ]
     },
     "execution_count": 19,
     "metadata": {},
     "output_type": "execute_result"
    }
   ],
   "source": [
    "## Define callbacks and fit the model\n",
    "log_dir = \"../logs/fit/\" + datetime.datetime.now().strftime(\"%Y%m%d-%H%M%S\")\n",
    "tensorboard_callback = tf.keras.callbacks.TensorBoard(log_dir=log_dir, histogram_freq=1)\n",
    "\n",
    "early_stopping = tf.keras.callbacks.EarlyStopping(monitor='val_loss', mode='min', patience=20)\n",
    "\n",
    "lr_scheduler = tf.keras.callbacks.LearningRateScheduler(schedule)\n",
    "\n",
    "model.fit(\n",
    "  x=x_train, \n",
    "  y=y_train,\n",
    "  epochs=200,\n",
    "  batch_size=32,\n",
    "  validation_data=(x_val, y_val),\n",
    "  callbacks=[tensorboard_callback, early_stopping,])\n",
    "\n",
    "model.evaluate(x_test, y_test)"
   ]
  },
  {
   "cell_type": "code",
   "execution_count": 20,
   "metadata": {},
   "outputs": [],
   "source": [
    "## Save the model\n",
    "model.save('../models/model_v3.keras')"
   ]
  }
 ],
 "metadata": {
  "kernelspec": {
   "display_name": "Python 3",
   "language": "python",
   "name": "python3"
  },
  "language_info": {
   "codemirror_mode": {
    "name": "ipython",
    "version": 3
   },
   "file_extension": ".py",
   "mimetype": "text/x-python",
   "name": "python",
   "nbconvert_exporter": "python",
   "pygments_lexer": "ipython3",
   "version": "3.9.13"
  }
 },
 "nbformat": 4,
 "nbformat_minor": 2
}
