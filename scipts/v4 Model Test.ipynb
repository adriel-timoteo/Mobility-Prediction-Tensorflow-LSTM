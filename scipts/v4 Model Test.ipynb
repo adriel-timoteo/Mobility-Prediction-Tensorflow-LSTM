{
 "cells": [
  {
   "cell_type": "markdown",
   "metadata": {},
   "source": [
    "<h2>MODEL TESTING</h2>\n",
    "\n",
    "Script ini digunakan hanya untuk mengetes model-model yang telah dibuat. Tahapan dari mengetes suatu model adalah:\n",
    "1. Load model yang telah ada. (Saat ini, model yang diloat adalah model v1 yang sudah saya buat).\n",
    "2. Load x_test dan y_test, untuk menjadi data yang dapat dimasukkan ke model untuk melihat performa model. Bagian ini tidak perlu diubah jika model yang diload berubah.\n",
    "3. Jalankan block terakhir. Num dapat diubah-ubah untuk melihat trajectory yang berbeda-beda"
   ]
  },
  {
   "cell_type": "code",
   "execution_count": 2,
   "metadata": {},
   "outputs": [],
   "source": [
    "import tensorflow as tf\n",
    "import plotly.express as px\n",
    "import plotly.graph_objects as go\n",
    "import numpy as np\n",
    "import math"
   ]
  },
  {
   "cell_type": "code",
   "execution_count": 3,
   "metadata": {},
   "outputs": [
    {
     "data": {
      "text/html": [
       "<pre style=\"white-space:pre;overflow-x:auto;line-height:normal;font-family:Menlo,'DejaVu Sans Mono',consolas,'Courier New',monospace\"><span style=\"font-weight: bold\">Model: \"sequential\"</span>\n",
       "</pre>\n"
      ],
      "text/plain": [
       "\u001b[1mModel: \"sequential\"\u001b[0m\n"
      ]
     },
     "metadata": {},
     "output_type": "display_data"
    },
    {
     "data": {
      "text/html": [
       "<pre style=\"white-space:pre;overflow-x:auto;line-height:normal;font-family:Menlo,'DejaVu Sans Mono',consolas,'Courier New',monospace\">┏━━━━━━━━━━━━━━━━━━━━━━━━━━━━━━━━━┳━━━━━━━━━━━━━━━━━━━━━━━━┳━━━━━━━━━━━━━━━┓\n",
       "┃<span style=\"font-weight: bold\"> Layer (type)                    </span>┃<span style=\"font-weight: bold\"> Output Shape           </span>┃<span style=\"font-weight: bold\">       Param # </span>┃\n",
       "┡━━━━━━━━━━━━━━━━━━━━━━━━━━━━━━━━━╇━━━━━━━━━━━━━━━━━━━━━━━━╇━━━━━━━━━━━━━━━┩\n",
       "│ normalization_4 (<span style=\"color: #0087ff; text-decoration-color: #0087ff\">Normalization</span>) │ (<span style=\"color: #00d7ff; text-decoration-color: #00d7ff\">None</span>, <span style=\"color: #00af00; text-decoration-color: #00af00\">50</span>, <span style=\"color: #00af00; text-decoration-color: #00af00\">4</span>)          │             <span style=\"color: #00af00; text-decoration-color: #00af00\">9</span> │\n",
       "├─────────────────────────────────┼────────────────────────┼───────────────┤\n",
       "│ lstm (<span style=\"color: #0087ff; text-decoration-color: #0087ff\">LSTM</span>)                     │ (<span style=\"color: #00d7ff; text-decoration-color: #00d7ff\">None</span>, <span style=\"color: #00af00; text-decoration-color: #00af00\">50</span>, <span style=\"color: #00af00; text-decoration-color: #00af00\">128</span>)        │        <span style=\"color: #00af00; text-decoration-color: #00af00\">68,096</span> │\n",
       "├─────────────────────────────────┼────────────────────────┼───────────────┤\n",
       "│ lstm_1 (<span style=\"color: #0087ff; text-decoration-color: #0087ff\">LSTM</span>)                   │ (<span style=\"color: #00d7ff; text-decoration-color: #00d7ff\">None</span>, <span style=\"color: #00af00; text-decoration-color: #00af00\">128</span>)            │       <span style=\"color: #00af00; text-decoration-color: #00af00\">131,584</span> │\n",
       "├─────────────────────────────────┼────────────────────────┼───────────────┤\n",
       "│ dense (<span style=\"color: #0087ff; text-decoration-color: #0087ff\">Dense</span>)                   │ (<span style=\"color: #00d7ff; text-decoration-color: #00d7ff\">None</span>, <span style=\"color: #00af00; text-decoration-color: #00af00\">20</span>)             │         <span style=\"color: #00af00; text-decoration-color: #00af00\">2,580</span> │\n",
       "├─────────────────────────────────┼────────────────────────┼───────────────┤\n",
       "│ reshape (<span style=\"color: #0087ff; text-decoration-color: #0087ff\">Reshape</span>)               │ (<span style=\"color: #00d7ff; text-decoration-color: #00d7ff\">None</span>, <span style=\"color: #00af00; text-decoration-color: #00af00\">10</span>, <span style=\"color: #00af00; text-decoration-color: #00af00\">2</span>)          │             <span style=\"color: #00af00; text-decoration-color: #00af00\">0</span> │\n",
       "└─────────────────────────────────┴────────────────────────┴───────────────┘\n",
       "</pre>\n"
      ],
      "text/plain": [
       "┏━━━━━━━━━━━━━━━━━━━━━━━━━━━━━━━━━┳━━━━━━━━━━━━━━━━━━━━━━━━┳━━━━━━━━━━━━━━━┓\n",
       "┃\u001b[1m \u001b[0m\u001b[1mLayer (type)                   \u001b[0m\u001b[1m \u001b[0m┃\u001b[1m \u001b[0m\u001b[1mOutput Shape          \u001b[0m\u001b[1m \u001b[0m┃\u001b[1m \u001b[0m\u001b[1m      Param #\u001b[0m\u001b[1m \u001b[0m┃\n",
       "┡━━━━━━━━━━━━━━━━━━━━━━━━━━━━━━━━━╇━━━━━━━━━━━━━━━━━━━━━━━━╇━━━━━━━━━━━━━━━┩\n",
       "│ normalization_4 (\u001b[38;5;33mNormalization\u001b[0m) │ (\u001b[38;5;45mNone\u001b[0m, \u001b[38;5;34m50\u001b[0m, \u001b[38;5;34m4\u001b[0m)          │             \u001b[38;5;34m9\u001b[0m │\n",
       "├─────────────────────────────────┼────────────────────────┼───────────────┤\n",
       "│ lstm (\u001b[38;5;33mLSTM\u001b[0m)                     │ (\u001b[38;5;45mNone\u001b[0m, \u001b[38;5;34m50\u001b[0m, \u001b[38;5;34m128\u001b[0m)        │        \u001b[38;5;34m68,096\u001b[0m │\n",
       "├─────────────────────────────────┼────────────────────────┼───────────────┤\n",
       "│ lstm_1 (\u001b[38;5;33mLSTM\u001b[0m)                   │ (\u001b[38;5;45mNone\u001b[0m, \u001b[38;5;34m128\u001b[0m)            │       \u001b[38;5;34m131,584\u001b[0m │\n",
       "├─────────────────────────────────┼────────────────────────┼───────────────┤\n",
       "│ dense (\u001b[38;5;33mDense\u001b[0m)                   │ (\u001b[38;5;45mNone\u001b[0m, \u001b[38;5;34m20\u001b[0m)             │         \u001b[38;5;34m2,580\u001b[0m │\n",
       "├─────────────────────────────────┼────────────────────────┼───────────────┤\n",
       "│ reshape (\u001b[38;5;33mReshape\u001b[0m)               │ (\u001b[38;5;45mNone\u001b[0m, \u001b[38;5;34m10\u001b[0m, \u001b[38;5;34m2\u001b[0m)          │             \u001b[38;5;34m0\u001b[0m │\n",
       "└─────────────────────────────────┴────────────────────────┴───────────────┘\n"
      ]
     },
     "metadata": {},
     "output_type": "display_data"
    },
    {
     "data": {
      "text/html": [
       "<pre style=\"white-space:pre;overflow-x:auto;line-height:normal;font-family:Menlo,'DejaVu Sans Mono',consolas,'Courier New',monospace\"><span style=\"font-weight: bold\"> Total params: </span><span style=\"color: #00af00; text-decoration-color: #00af00\">606,791</span> (2.31 MB)\n",
       "</pre>\n"
      ],
      "text/plain": [
       "\u001b[1m Total params: \u001b[0m\u001b[38;5;34m606,791\u001b[0m (2.31 MB)\n"
      ]
     },
     "metadata": {},
     "output_type": "display_data"
    },
    {
     "data": {
      "text/html": [
       "<pre style=\"white-space:pre;overflow-x:auto;line-height:normal;font-family:Menlo,'DejaVu Sans Mono',consolas,'Courier New',monospace\"><span style=\"font-weight: bold\"> Trainable params: </span><span style=\"color: #00af00; text-decoration-color: #00af00\">202,260</span> (790.08 KB)\n",
       "</pre>\n"
      ],
      "text/plain": [
       "\u001b[1m Trainable params: \u001b[0m\u001b[38;5;34m202,260\u001b[0m (790.08 KB)\n"
      ]
     },
     "metadata": {},
     "output_type": "display_data"
    },
    {
     "data": {
      "text/html": [
       "<pre style=\"white-space:pre;overflow-x:auto;line-height:normal;font-family:Menlo,'DejaVu Sans Mono',consolas,'Courier New',monospace\"><span style=\"font-weight: bold\"> Non-trainable params: </span><span style=\"color: #00af00; text-decoration-color: #00af00\">9</span> (40.00 B)\n",
       "</pre>\n"
      ],
      "text/plain": [
       "\u001b[1m Non-trainable params: \u001b[0m\u001b[38;5;34m9\u001b[0m (40.00 B)\n"
      ]
     },
     "metadata": {},
     "output_type": "display_data"
    },
    {
     "data": {
      "text/html": [
       "<pre style=\"white-space:pre;overflow-x:auto;line-height:normal;font-family:Menlo,'DejaVu Sans Mono',consolas,'Courier New',monospace\"><span style=\"font-weight: bold\"> Optimizer params: </span><span style=\"color: #00af00; text-decoration-color: #00af00\">404,522</span> (1.54 MB)\n",
       "</pre>\n"
      ],
      "text/plain": [
       "\u001b[1m Optimizer params: \u001b[0m\u001b[38;5;34m404,522\u001b[0m (1.54 MB)\n"
      ]
     },
     "metadata": {},
     "output_type": "display_data"
    }
   ],
   "source": [
    "## Load the model\n",
    "model = tf.keras.models.load_model('../models/model_v4.keras')\n",
    "\n",
    "# Show the model architecture\n",
    "model.summary()"
   ]
  },
  {
   "cell_type": "code",
   "execution_count": 4,
   "metadata": {},
   "outputs": [],
   "source": [
    "## Load numpy test data\n",
    "x_test = np.load('../x_test_E.npy')\n",
    "y_test = np.load('../y_test_E.npy')\n",
    "mean_variance = np.load('../mean_variance_E.npy')"
   ]
  },
  {
   "cell_type": "code",
   "execution_count": 5,
   "metadata": {},
   "outputs": [],
   "source": [
    "## IMPORTANT: Set up denormalizer\n",
    "mean = mean_variance[0]\n",
    "variance = mean_variance[1]\n",
    "\n",
    "denormalizer = tf.keras.layers.Normalization(mean=mean, variance=variance, invert=True)"
   ]
  },
  {
   "cell_type": "code",
   "execution_count": 27,
   "metadata": {},
   "outputs": [
    {
     "name": "stdout",
     "output_type": "stream",
     "text": [
      "\u001b[1m1/1\u001b[0m \u001b[32m━━━━━━━━━━━━━━━━━━━━\u001b[0m\u001b[37m\u001b[0m \u001b[1m0s\u001b[0m 150ms/step\n",
      "Prediction:\n",
      "tf.Tensor(\n",
      "[[[ -6.2833347 106.79289  ]\n",
      "  [ -6.2781177 106.78692  ]\n",
      "  [ -6.272423  106.781235 ]\n",
      "  [ -6.2668734 106.773506 ]\n",
      "  [ -6.262746  106.776024 ]\n",
      "  [ -6.2602706 106.76285  ]\n",
      "  [ -6.2565527 106.764656 ]\n",
      "  [ -6.2566876 106.757805 ]\n",
      "  [ -6.255636  106.75954  ]\n",
      "  [ -6.252349  106.75406  ]]], shape=(1, 10, 2), dtype=float32)\n",
      "True Coordinate:\n",
      "tf.Tensor(\n",
      "[[[ -6.2920036 106.78682  ]\n",
      "  [ -6.2877307 106.77762  ]\n",
      "  [ -6.2791405 106.77023  ]\n",
      "  [ -6.270372  106.76794  ]\n",
      "  [ -6.263377  106.76727  ]\n",
      "  [ -6.258964  106.76551  ]\n",
      "  [ -6.256505  106.76207  ]\n",
      "  [ -6.2577834 106.75967  ]\n",
      "  [ -6.260703  106.75832  ]\n",
      "  [ -6.261966  106.75485  ]]], shape=(1, 10, 2), dtype=float32)\n"
     ]
    },
    {
     "data": {
      "application/vnd.plotly.v1+json": {
       "config": {
        "plotlyServerURL": "https://plot.ly"
       },
       "data": [
        {
         "lat": [
          -6.223070041366944,
          -6.223070041366944,
          -6.223070041366944,
          -6.223070041366944,
          -6.223070041366944,
          -6.223070041366944,
          -6.223070041366944,
          -6.223070041366944,
          -6.223070041366944,
          -6.223070041366944,
          -6.223070041366944,
          -6.223070041366944,
          -6.223070041366944,
          -6.223070041366944,
          -6.223070041366944,
          -6.223070041366944,
          -6.223070041366944,
          -6.223070041366944,
          -6.223070041366944,
          -6.223070041366944,
          -6.223070041366944,
          -6.223070041366944,
          -6.224804864507611,
          -6.224653410205665,
          -6.221727139214552,
          -6.221993952636538,
          -6.225285164588576,
          -6.231875302765422,
          -6.243029961985806,
          -6.254886106055108,
          -6.266247333083653,
          -6.277247001914816,
          -6.286660388871181,
          -6.294852052338241,
          -6.300878814277371,
          -6.304760418409967,
          -6.308811929445843,
          -6.310787193250201,
          -6.312105097348161,
          -6.311056664014311,
          -6.307282231930946,
          -6.306071779288603,
          -6.307772478570552,
          -6.307228616299765,
          -6.305146239421142,
          -6.304020664128359,
          -6.301476267172304,
          -6.296513476716787,
          -6.292575893023056,
          -6.292377706867495,
          -6.292335448908393
         ],
         "lon": [
          106.94212818486665,
          106.94212818486665,
          106.94212818486665,
          106.94212818486665,
          106.94212818486665,
          106.94212818486665,
          106.94212818486665,
          106.94212818486665,
          106.94212818486665,
          106.94212818486665,
          106.94212818486665,
          106.94212818486665,
          106.94212818486665,
          106.94212818486665,
          106.94212818486665,
          106.94212818486665,
          106.94212818486665,
          106.94212818486665,
          106.94212818486665,
          106.94212818486665,
          106.94212818486665,
          106.94212818486665,
          106.9439300875636,
          106.94709361573658,
          106.94911120681896,
          106.95029835292804,
          106.95271476170278,
          106.95161749263536,
          106.9540705732016,
          106.95764241269312,
          106.95844819288374,
          106.95930090293773,
          106.95899549221376,
          106.95633092176249,
          106.9497154055312,
          106.94209341963472,
          106.93324802169212,
          106.9240453234938,
          106.91330448594589,
          106.90305856594222,
          106.894627737156,
          106.88540757664498,
          106.87482265548556,
          106.8655676982844,
          106.8549242293718,
          106.8457266343422,
          106.83635743857066,
          106.82771835744752,
          106.81698005963398,
          106.8071412090678,
          106.79701612587512
         ],
         "marker": {
          "size": 10
         },
         "mode": "markers+lines",
         "name": "trip",
         "type": "scattermapbox"
        },
        {
         "lat": [
          -6.283334732055664,
          -6.278117656707764,
          -6.272422790527344,
          -6.266873359680176,
          -6.2627458572387695,
          -6.260270595550537,
          -6.256552696228027,
          -6.256687641143799,
          -6.255636215209961,
          -6.252348899841309
         ],
         "lon": [
          106.79289245605469,
          106.78691864013672,
          106.78123474121094,
          106.77350616455078,
          106.7760238647461,
          106.76284790039062,
          106.76465606689453,
          106.75780487060547,
          106.75953674316406,
          106.75405883789062
         ],
         "marker": {
          "color": "green",
          "size": 10
         },
         "mode": "markers+lines",
         "name": "Predicted Point",
         "type": "scattermapbox"
        },
        {
         "lat": [
          -6.292003631591797,
          -6.287730693817139,
          -6.279140472412109,
          -6.270371913909912,
          -6.2633771896362305,
          -6.2589640617370605,
          -6.256505012512207,
          -6.25778341293335,
          -6.260703086853027,
          -6.261966228485107
         ],
         "lon": [
          106.78681945800781,
          106.77761840820312,
          106.77023315429688,
          106.76793670654297,
          106.76727294921875,
          106.76551055908203,
          106.76206970214844,
          106.7596664428711,
          106.7583236694336,
          106.75485229492188
         ],
         "marker": {
          "color": "yellow",
          "size": 10
         },
         "mode": "markers",
         "name": "True Point",
         "type": "scattermapbox"
        }
       ],
       "layout": {
        "mapbox": {
         "center": {
          "lat": -6.2,
          "lon": 106.816
         },
         "style": "open-street-map",
         "zoom": 10
        },
        "margin": {
         "b": 0,
         "l": 0,
         "r": 0,
         "t": 0
        },
        "template": {
         "data": {
          "bar": [
           {
            "error_x": {
             "color": "#2a3f5f"
            },
            "error_y": {
             "color": "#2a3f5f"
            },
            "marker": {
             "line": {
              "color": "#E5ECF6",
              "width": 0.5
             },
             "pattern": {
              "fillmode": "overlay",
              "size": 10,
              "solidity": 0.2
             }
            },
            "type": "bar"
           }
          ],
          "barpolar": [
           {
            "marker": {
             "line": {
              "color": "#E5ECF6",
              "width": 0.5
             },
             "pattern": {
              "fillmode": "overlay",
              "size": 10,
              "solidity": 0.2
             }
            },
            "type": "barpolar"
           }
          ],
          "carpet": [
           {
            "aaxis": {
             "endlinecolor": "#2a3f5f",
             "gridcolor": "white",
             "linecolor": "white",
             "minorgridcolor": "white",
             "startlinecolor": "#2a3f5f"
            },
            "baxis": {
             "endlinecolor": "#2a3f5f",
             "gridcolor": "white",
             "linecolor": "white",
             "minorgridcolor": "white",
             "startlinecolor": "#2a3f5f"
            },
            "type": "carpet"
           }
          ],
          "choropleth": [
           {
            "colorbar": {
             "outlinewidth": 0,
             "ticks": ""
            },
            "type": "choropleth"
           }
          ],
          "contour": [
           {
            "colorbar": {
             "outlinewidth": 0,
             "ticks": ""
            },
            "colorscale": [
             [
              0,
              "#0d0887"
             ],
             [
              0.1111111111111111,
              "#46039f"
             ],
             [
              0.2222222222222222,
              "#7201a8"
             ],
             [
              0.3333333333333333,
              "#9c179e"
             ],
             [
              0.4444444444444444,
              "#bd3786"
             ],
             [
              0.5555555555555556,
              "#d8576b"
             ],
             [
              0.6666666666666666,
              "#ed7953"
             ],
             [
              0.7777777777777778,
              "#fb9f3a"
             ],
             [
              0.8888888888888888,
              "#fdca26"
             ],
             [
              1,
              "#f0f921"
             ]
            ],
            "type": "contour"
           }
          ],
          "contourcarpet": [
           {
            "colorbar": {
             "outlinewidth": 0,
             "ticks": ""
            },
            "type": "contourcarpet"
           }
          ],
          "heatmap": [
           {
            "colorbar": {
             "outlinewidth": 0,
             "ticks": ""
            },
            "colorscale": [
             [
              0,
              "#0d0887"
             ],
             [
              0.1111111111111111,
              "#46039f"
             ],
             [
              0.2222222222222222,
              "#7201a8"
             ],
             [
              0.3333333333333333,
              "#9c179e"
             ],
             [
              0.4444444444444444,
              "#bd3786"
             ],
             [
              0.5555555555555556,
              "#d8576b"
             ],
             [
              0.6666666666666666,
              "#ed7953"
             ],
             [
              0.7777777777777778,
              "#fb9f3a"
             ],
             [
              0.8888888888888888,
              "#fdca26"
             ],
             [
              1,
              "#f0f921"
             ]
            ],
            "type": "heatmap"
           }
          ],
          "heatmapgl": [
           {
            "colorbar": {
             "outlinewidth": 0,
             "ticks": ""
            },
            "colorscale": [
             [
              0,
              "#0d0887"
             ],
             [
              0.1111111111111111,
              "#46039f"
             ],
             [
              0.2222222222222222,
              "#7201a8"
             ],
             [
              0.3333333333333333,
              "#9c179e"
             ],
             [
              0.4444444444444444,
              "#bd3786"
             ],
             [
              0.5555555555555556,
              "#d8576b"
             ],
             [
              0.6666666666666666,
              "#ed7953"
             ],
             [
              0.7777777777777778,
              "#fb9f3a"
             ],
             [
              0.8888888888888888,
              "#fdca26"
             ],
             [
              1,
              "#f0f921"
             ]
            ],
            "type": "heatmapgl"
           }
          ],
          "histogram": [
           {
            "marker": {
             "pattern": {
              "fillmode": "overlay",
              "size": 10,
              "solidity": 0.2
             }
            },
            "type": "histogram"
           }
          ],
          "histogram2d": [
           {
            "colorbar": {
             "outlinewidth": 0,
             "ticks": ""
            },
            "colorscale": [
             [
              0,
              "#0d0887"
             ],
             [
              0.1111111111111111,
              "#46039f"
             ],
             [
              0.2222222222222222,
              "#7201a8"
             ],
             [
              0.3333333333333333,
              "#9c179e"
             ],
             [
              0.4444444444444444,
              "#bd3786"
             ],
             [
              0.5555555555555556,
              "#d8576b"
             ],
             [
              0.6666666666666666,
              "#ed7953"
             ],
             [
              0.7777777777777778,
              "#fb9f3a"
             ],
             [
              0.8888888888888888,
              "#fdca26"
             ],
             [
              1,
              "#f0f921"
             ]
            ],
            "type": "histogram2d"
           }
          ],
          "histogram2dcontour": [
           {
            "colorbar": {
             "outlinewidth": 0,
             "ticks": ""
            },
            "colorscale": [
             [
              0,
              "#0d0887"
             ],
             [
              0.1111111111111111,
              "#46039f"
             ],
             [
              0.2222222222222222,
              "#7201a8"
             ],
             [
              0.3333333333333333,
              "#9c179e"
             ],
             [
              0.4444444444444444,
              "#bd3786"
             ],
             [
              0.5555555555555556,
              "#d8576b"
             ],
             [
              0.6666666666666666,
              "#ed7953"
             ],
             [
              0.7777777777777778,
              "#fb9f3a"
             ],
             [
              0.8888888888888888,
              "#fdca26"
             ],
             [
              1,
              "#f0f921"
             ]
            ],
            "type": "histogram2dcontour"
           }
          ],
          "mesh3d": [
           {
            "colorbar": {
             "outlinewidth": 0,
             "ticks": ""
            },
            "type": "mesh3d"
           }
          ],
          "parcoords": [
           {
            "line": {
             "colorbar": {
              "outlinewidth": 0,
              "ticks": ""
             }
            },
            "type": "parcoords"
           }
          ],
          "pie": [
           {
            "automargin": true,
            "type": "pie"
           }
          ],
          "scatter": [
           {
            "fillpattern": {
             "fillmode": "overlay",
             "size": 10,
             "solidity": 0.2
            },
            "type": "scatter"
           }
          ],
          "scatter3d": [
           {
            "line": {
             "colorbar": {
              "outlinewidth": 0,
              "ticks": ""
             }
            },
            "marker": {
             "colorbar": {
              "outlinewidth": 0,
              "ticks": ""
             }
            },
            "type": "scatter3d"
           }
          ],
          "scattercarpet": [
           {
            "marker": {
             "colorbar": {
              "outlinewidth": 0,
              "ticks": ""
             }
            },
            "type": "scattercarpet"
           }
          ],
          "scattergeo": [
           {
            "marker": {
             "colorbar": {
              "outlinewidth": 0,
              "ticks": ""
             }
            },
            "type": "scattergeo"
           }
          ],
          "scattergl": [
           {
            "marker": {
             "colorbar": {
              "outlinewidth": 0,
              "ticks": ""
             }
            },
            "type": "scattergl"
           }
          ],
          "scattermapbox": [
           {
            "marker": {
             "colorbar": {
              "outlinewidth": 0,
              "ticks": ""
             }
            },
            "type": "scattermapbox"
           }
          ],
          "scatterpolar": [
           {
            "marker": {
             "colorbar": {
              "outlinewidth": 0,
              "ticks": ""
             }
            },
            "type": "scatterpolar"
           }
          ],
          "scatterpolargl": [
           {
            "marker": {
             "colorbar": {
              "outlinewidth": 0,
              "ticks": ""
             }
            },
            "type": "scatterpolargl"
           }
          ],
          "scatterternary": [
           {
            "marker": {
             "colorbar": {
              "outlinewidth": 0,
              "ticks": ""
             }
            },
            "type": "scatterternary"
           }
          ],
          "surface": [
           {
            "colorbar": {
             "outlinewidth": 0,
             "ticks": ""
            },
            "colorscale": [
             [
              0,
              "#0d0887"
             ],
             [
              0.1111111111111111,
              "#46039f"
             ],
             [
              0.2222222222222222,
              "#7201a8"
             ],
             [
              0.3333333333333333,
              "#9c179e"
             ],
             [
              0.4444444444444444,
              "#bd3786"
             ],
             [
              0.5555555555555556,
              "#d8576b"
             ],
             [
              0.6666666666666666,
              "#ed7953"
             ],
             [
              0.7777777777777778,
              "#fb9f3a"
             ],
             [
              0.8888888888888888,
              "#fdca26"
             ],
             [
              1,
              "#f0f921"
             ]
            ],
            "type": "surface"
           }
          ],
          "table": [
           {
            "cells": {
             "fill": {
              "color": "#EBF0F8"
             },
             "line": {
              "color": "white"
             }
            },
            "header": {
             "fill": {
              "color": "#C8D4E3"
             },
             "line": {
              "color": "white"
             }
            },
            "type": "table"
           }
          ]
         },
         "layout": {
          "annotationdefaults": {
           "arrowcolor": "#2a3f5f",
           "arrowhead": 0,
           "arrowwidth": 1
          },
          "autotypenumbers": "strict",
          "coloraxis": {
           "colorbar": {
            "outlinewidth": 0,
            "ticks": ""
           }
          },
          "colorscale": {
           "diverging": [
            [
             0,
             "#8e0152"
            ],
            [
             0.1,
             "#c51b7d"
            ],
            [
             0.2,
             "#de77ae"
            ],
            [
             0.3,
             "#f1b6da"
            ],
            [
             0.4,
             "#fde0ef"
            ],
            [
             0.5,
             "#f7f7f7"
            ],
            [
             0.6,
             "#e6f5d0"
            ],
            [
             0.7,
             "#b8e186"
            ],
            [
             0.8,
             "#7fbc41"
            ],
            [
             0.9,
             "#4d9221"
            ],
            [
             1,
             "#276419"
            ]
           ],
           "sequential": [
            [
             0,
             "#0d0887"
            ],
            [
             0.1111111111111111,
             "#46039f"
            ],
            [
             0.2222222222222222,
             "#7201a8"
            ],
            [
             0.3333333333333333,
             "#9c179e"
            ],
            [
             0.4444444444444444,
             "#bd3786"
            ],
            [
             0.5555555555555556,
             "#d8576b"
            ],
            [
             0.6666666666666666,
             "#ed7953"
            ],
            [
             0.7777777777777778,
             "#fb9f3a"
            ],
            [
             0.8888888888888888,
             "#fdca26"
            ],
            [
             1,
             "#f0f921"
            ]
           ],
           "sequentialminus": [
            [
             0,
             "#0d0887"
            ],
            [
             0.1111111111111111,
             "#46039f"
            ],
            [
             0.2222222222222222,
             "#7201a8"
            ],
            [
             0.3333333333333333,
             "#9c179e"
            ],
            [
             0.4444444444444444,
             "#bd3786"
            ],
            [
             0.5555555555555556,
             "#d8576b"
            ],
            [
             0.6666666666666666,
             "#ed7953"
            ],
            [
             0.7777777777777778,
             "#fb9f3a"
            ],
            [
             0.8888888888888888,
             "#fdca26"
            ],
            [
             1,
             "#f0f921"
            ]
           ]
          },
          "colorway": [
           "#636efa",
           "#EF553B",
           "#00cc96",
           "#ab63fa",
           "#FFA15A",
           "#19d3f3",
           "#FF6692",
           "#B6E880",
           "#FF97FF",
           "#FECB52"
          ],
          "font": {
           "color": "#2a3f5f"
          },
          "geo": {
           "bgcolor": "white",
           "lakecolor": "white",
           "landcolor": "#E5ECF6",
           "showlakes": true,
           "showland": true,
           "subunitcolor": "white"
          },
          "hoverlabel": {
           "align": "left"
          },
          "hovermode": "closest",
          "mapbox": {
           "style": "light"
          },
          "paper_bgcolor": "white",
          "plot_bgcolor": "#E5ECF6",
          "polar": {
           "angularaxis": {
            "gridcolor": "white",
            "linecolor": "white",
            "ticks": ""
           },
           "bgcolor": "#E5ECF6",
           "radialaxis": {
            "gridcolor": "white",
            "linecolor": "white",
            "ticks": ""
           }
          },
          "scene": {
           "xaxis": {
            "backgroundcolor": "#E5ECF6",
            "gridcolor": "white",
            "gridwidth": 2,
            "linecolor": "white",
            "showbackground": true,
            "ticks": "",
            "zerolinecolor": "white"
           },
           "yaxis": {
            "backgroundcolor": "#E5ECF6",
            "gridcolor": "white",
            "gridwidth": 2,
            "linecolor": "white",
            "showbackground": true,
            "ticks": "",
            "zerolinecolor": "white"
           },
           "zaxis": {
            "backgroundcolor": "#E5ECF6",
            "gridcolor": "white",
            "gridwidth": 2,
            "linecolor": "white",
            "showbackground": true,
            "ticks": "",
            "zerolinecolor": "white"
           }
          },
          "shapedefaults": {
           "line": {
            "color": "#2a3f5f"
           }
          },
          "ternary": {
           "aaxis": {
            "gridcolor": "white",
            "linecolor": "white",
            "ticks": ""
           },
           "baxis": {
            "gridcolor": "white",
            "linecolor": "white",
            "ticks": ""
           },
           "bgcolor": "#E5ECF6",
           "caxis": {
            "gridcolor": "white",
            "linecolor": "white",
            "ticks": ""
           }
          },
          "title": {
           "x": 0.05
          },
          "xaxis": {
           "automargin": true,
           "gridcolor": "white",
           "linecolor": "white",
           "ticks": "",
           "title": {
            "standoff": 15
           },
           "zerolinecolor": "white",
           "zerolinewidth": 2
          },
          "yaxis": {
           "automargin": true,
           "gridcolor": "white",
           "linecolor": "white",
           "ticks": "",
           "title": {
            "standoff": 15
           },
           "zerolinecolor": "white",
           "zerolinewidth": 2
          }
         }
        }
       }
      }
     },
     "metadata": {},
     "output_type": "display_data"
    }
   ],
   "source": [
    "## ONE STEP PREDICTION\n",
    "# Num dapat diubah-ubah untuk melihat trajectory yang berbeda-beda\n",
    "num = 77\n",
    "\n",
    "# Predict the next coords of entry \"num\" using the model\n",
    "num_of_timesteps = len(x_test[0])\n",
    "pred_coords = denormalizer(model.predict(x_test[num].reshape(1, num_of_timesteps, 4)))\n",
    "true_coords = denormalizer(y_test[num])\n",
    "\n",
    "# Print the true and predicted coordinates\n",
    "print(\"Prediction:\")\n",
    "print(pred_coords)\n",
    "\n",
    "print(\"True Coordinate:\")\n",
    "print(true_coords)\n",
    "\n",
    "\n",
    "## Map display of True Point vs Predicted Point\n",
    "# Get route coordinates\n",
    "past_lat = []\n",
    "past_lon = []\n",
    "\n",
    "for point in x_test[num]:\n",
    "  past_lat.append(point[0])\n",
    "  past_lon.append(point[1])\n",
    "\n",
    "# Get prediction coordinates\n",
    "pred_lat = []\n",
    "pred_lon = []\n",
    "\n",
    "for point in pred_coords[0]:\n",
    "  pred_lat.append(point[0])\n",
    "  pred_lon.append(point[1])\n",
    "\n",
    "# Get true coordinates from y\n",
    "true_lat = []\n",
    "true_lon = []\n",
    "\n",
    "for point in true_coords[0]:\n",
    "  true_lat.append(point[0])\n",
    "  true_lon.append(point[1])\n",
    "\n",
    "\n",
    "# Build the map\n",
    "fig = go.Figure()\n",
    "\n",
    "fig.add_trace(go.Scattermapbox(\n",
    "  mode=\"markers+lines\",\n",
    "  lat=past_lat,\n",
    "  lon=past_lon,\n",
    "  name=\"trip\",\n",
    "  marker={'size': 10}))\n",
    "\n",
    "fig.add_trace(go.Scattermapbox(\n",
    "  mode=\"markers+lines\",\n",
    "  lat=pred_lat,\n",
    "  lon=pred_lon,\n",
    "  name=\"Predicted Point\",\n",
    "  marker={'size': 10, 'color': 'green'}))\n",
    "\n",
    "fig.add_trace(go.Scattermapbox(\n",
    "  mode=\"markers\",\n",
    "  lat=true_lat,\n",
    "  lon=true_lon,\n",
    "  name=\"True Point\",\n",
    "  marker={'size': 10, 'color': 'yellow'}))\n",
    "\n",
    "fig.update_layout(mapbox_style=\"open-street-map\",)\n",
    "fig.update_layout(\n",
    "  margin={\"r\":0,\"t\":0,\"l\":0,\"b\":0},\n",
    "  mapbox=dict(\n",
    "    zoom=10,\n",
    "    center=go.layout.mapbox.Center(\n",
    "            lat=-6.2,\n",
    "            lon=106.816\n",
    "        ),\n",
    "  ))\n",
    "fig.show()"
   ]
  },
  {
   "cell_type": "code",
   "execution_count": 18,
   "metadata": {},
   "outputs": [
    {
     "name": "stdout",
     "output_type": "stream",
     "text": [
      "\u001b[1m1/1\u001b[0m \u001b[32m━━━━━━━━━━━━━━━━━━━━\u001b[0m\u001b[37m\u001b[0m \u001b[1m0s\u001b[0m 46ms/step\n",
      "\u001b[1m1/1\u001b[0m \u001b[32m━━━━━━━━━━━━━━━━━━━━\u001b[0m\u001b[37m\u001b[0m \u001b[1m0s\u001b[0m 39ms/step\n",
      "\u001b[1m1/1\u001b[0m \u001b[32m━━━━━━━━━━━━━━━━━━━━\u001b[0m\u001b[37m\u001b[0m \u001b[1m0s\u001b[0m 37ms/step\n",
      "\u001b[1m1/1\u001b[0m \u001b[32m━━━━━━━━━━━━━━━━━━━━\u001b[0m\u001b[37m\u001b[0m \u001b[1m0s\u001b[0m 34ms/step\n",
      "\u001b[1m1/1\u001b[0m \u001b[32m━━━━━━━━━━━━━━━━━━━━\u001b[0m\u001b[37m\u001b[0m \u001b[1m0s\u001b[0m 37ms/step\n",
      "\u001b[1m1/1\u001b[0m \u001b[32m━━━━━━━━━━━━━━━━━━━━\u001b[0m\u001b[37m\u001b[0m \u001b[1m0s\u001b[0m 35ms/step\n",
      "\u001b[1m1/1\u001b[0m \u001b[32m━━━━━━━━━━━━━━━━━━━━\u001b[0m\u001b[37m\u001b[0m \u001b[1m0s\u001b[0m 35ms/step\n",
      "\u001b[1m1/1\u001b[0m \u001b[32m━━━━━━━━━━━━━━━━━━━━\u001b[0m\u001b[37m\u001b[0m \u001b[1m0s\u001b[0m 41ms/step\n",
      "\u001b[1m1/1\u001b[0m \u001b[32m━━━━━━━━━━━━━━━━━━━━\u001b[0m\u001b[37m\u001b[0m \u001b[1m0s\u001b[0m 35ms/step\n",
      "\u001b[1m1/1\u001b[0m \u001b[32m━━━━━━━━━━━━━━━━━━━━\u001b[0m\u001b[37m\u001b[0m \u001b[1m0s\u001b[0m 37ms/step\n",
      "\u001b[1m1/1\u001b[0m \u001b[32m━━━━━━━━━━━━━━━━━━━━\u001b[0m\u001b[37m\u001b[0m \u001b[1m0s\u001b[0m 36ms/step\n",
      "\u001b[1m1/1\u001b[0m \u001b[32m━━━━━━━━━━━━━━━━━━━━\u001b[0m\u001b[37m\u001b[0m \u001b[1m0s\u001b[0m 33ms/step\n",
      "Prediction:\n",
      "[[[-6.396649360656738, 106.8921890258789], [-6.41413688659668, 106.89026641845703], [-6.424880027770996, 106.88859558105469], [-6.438603401184082, 106.88932800292969], [-6.448788166046143, 106.88468933105469], [-6.462026119232178, 106.88800811767578], [-6.473902702331543, 106.88545227050781], [-6.481040954589844, 106.88176727294922], [-6.48689603805542, 106.8775405883789], [-6.492232799530029, 106.87335968017578]], [[-6.500650405883789, 106.86968231201172], [-6.501364231109619, 106.87249755859375], [-6.503398895263672, 106.86463928222656], [-6.504194736480713, 106.86430358886719], [-6.502960205078125, 106.86457824707031], [-6.503671169281006, 106.86518859863281], [-6.500149250030518, 106.85920715332031], [-6.5049147605896, 106.85633850097656], [-6.50775671005249, 106.85872650146484], [-6.507472038269043, 106.8557357788086]], [[-6.50154447555542, 106.84883880615234], [-6.504114151000977, 106.8480453491211], [-6.507214069366455, 106.84532165527344], [-6.508132457733154, 106.84386444091797], [-6.5100178718566895, 106.8402099609375], [-6.5117573738098145, 106.83855438232422], [-6.513391971588135, 106.83771514892578], [-6.517196178436279, 106.83751678466797], [-6.515743732452393, 106.83517456054688], [-6.518275737762451, 106.83411407470703]], [[-6.518091201782227, 106.83350372314453], [-6.5182085037231445, 106.83214569091797], [-6.52050256729126, 106.83123779296875], [-6.520663738250732, 106.8297119140625], [-6.522530555725098, 106.82789611816406], [-6.522565841674805, 106.82657623291016], [-6.522737503051758, 106.82471466064453], [-6.524887561798096, 106.82522583007812], [-6.526111125946045, 106.82488250732422], [-6.526328086853027, 106.82323455810547]], [[-6.525803565979004, 106.82103729248047], [-6.525866508483887, 106.8197250366211], [-6.526241302490234, 106.81861877441406], [-6.525596618652344, 106.81697845458984], [-6.527326583862305, 106.81395721435547], [-6.527102947235107, 106.81221771240234], [-6.526823043823242, 106.80957794189453], [-6.528497219085693, 106.809814453125], [-6.529473781585693, 106.80846405029297], [-6.528395652770996, 106.80562591552734]], [[-6.525818347930908, 106.80203247070312], [-6.525631427764893, 106.80032348632812], [-6.525665283203125, 106.7986831665039], [-6.524364471435547, 106.79631042480469], [-6.526126384735107, 106.79318237304688], [-6.524990558624268, 106.7912826538086], [-6.524563789367676, 106.78784942626953], [-6.5256853103637695, 106.78804779052734], [-6.526310920715332, 106.78659057617188], [-6.524937629699707, 106.78319549560547]], [[-6.521717071533203, 106.7786865234375], [-6.521769046783447, 106.77679443359375], [-6.522283554077148, 106.77497100830078], [-6.521254539489746, 106.77227783203125], [-6.52352237701416, 106.76958465576172], [-6.52203369140625, 106.76775360107422], [-6.522006988525391, 106.763916015625], [-6.523019790649414, 106.76434326171875], [-6.523684501647949, 106.76293182373047], [-6.522769927978516, 106.75982666015625]], [[-6.5201921463012695, 106.75593566894531], [-6.521307468414307, 106.75426483154297], [-6.521922588348389, 106.752197265625], [-6.5215959548950195, 106.74942016601562], [-6.524170875549316, 106.74710083007812], [-6.5223774909973145, 106.74539947509766], [-6.522828578948975, 106.74130249023438], [-6.523745536804199, 106.7420654296875], [-6.524597644805908, 106.74044799804688], [-6.523698806762695, 106.73795318603516]], [[-6.521766185760498, 106.73516082763672], [-6.523975372314453, 106.73404693603516], [-6.5244832038879395, 106.73170471191406], [-6.5248212814331055, 106.72895050048828], [-6.527522563934326, 106.72733306884766], [-6.525514602661133, 106.72605895996094], [-6.526664733886719, 106.72161865234375], [-6.527634620666504, 106.72260284423828], [-6.528594017028809, 106.72081756591797], [-6.527965068817139, 106.7191162109375]], [[-6.527157783508301, 106.71796417236328], [-6.530467987060547, 106.71744537353516], [-6.530989170074463, 106.71476745605469], [-6.532038688659668, 106.71218872070312], [-6.534945487976074, 106.7112808227539], [-6.532950401306152, 106.71040344238281], [-6.534895896911621, 106.70567321777344], [-6.536041259765625, 106.7068099975586], [-6.537353038787842, 106.70491790771484], [-6.537210941314697, 106.70416259765625]], [[-6.537755966186523, 106.70488739013672], [-6.54205846786499, 106.705078125], [-6.542666912078857, 106.7022933959961], [-6.544344425201416, 106.70011901855469], [-6.547451972961426, 106.69998168945312], [-6.545783996582031, 106.69957733154297], [-6.548585414886475, 106.69473266601562], [-6.549814224243164, 106.69593811035156], [-6.5517473220825195, 106.69397735595703], [-6.552081108093262, 106.69449615478516]], [[-6.553765296936035, 106.69754028320312], [-6.5587239265441895, 106.69867706298828], [-6.55938720703125, 106.69636535644531], [-6.561367988586426, 106.69483184814453], [-6.564517974853516, 106.69556427001953], [-6.563490867614746, 106.69585418701172], [-6.567076206207275, 106.69123840332031], [-6.568075656890869, 106.69243621826172], [-6.570760250091553, 106.69048309326172], [-6.571308135986328, 106.692626953125]]]\n",
      "True Coordinate:\n",
      "tf.Tensor(\n",
      "[[[ -6.3974195 106.897026 ]\n",
      "  [ -6.4004006 106.897736 ]\n",
      "  [ -6.40774   106.89839  ]\n",
      "  [ -6.419532  106.89745  ]\n",
      "  [ -6.429878  106.895515 ]\n",
      "  [ -6.439303  106.89343  ]\n",
      "  [ -6.4499636 106.89053  ]\n",
      "  [ -6.460513  106.885315 ]\n",
      "  [ -6.470773  106.88012  ]\n",
      "  [ -6.479086  106.87606  ]]], shape=(1, 10, 2), dtype=float32)\n"
     ]
    },
    {
     "data": {
      "application/vnd.plotly.v1+json": {
       "config": {
        "plotlyServerURL": "https://plot.ly"
       },
       "data": [
        {
         "lat": [
          -6.155591197132327,
          -6.155593117178399,
          -6.155485515337712,
          -6.154173978466458,
          -6.152977265866257,
          -6.1538493608388185,
          -6.15475349626813,
          -6.1577687665784335,
          -6.165325055430031,
          -6.178054693251181,
          -6.190579097676411,
          -6.20174941211585,
          -6.212946148362208,
          -6.223315252695441,
          -6.233107473241382,
          -6.242973625665757,
          -6.249913575436207,
          -6.2527383215958645,
          -6.25590661824212,
          -6.26231434697548,
          -6.271129641222089,
          -6.279057240274684,
          -6.284625947910256,
          -6.28904917727423,
          -6.291898987332389,
          -6.292256267734071,
          -6.292343440302646,
          -6.292193342302854,
          -6.293191005154924,
          -6.29623522347524,
          -6.29987556454647,
          -6.302631007240339,
          -6.303889531079804,
          -6.304831299536914,
          -6.305586207951209,
          -6.308254488848591,
          -6.307911042795871,
          -6.306357407807711,
          -6.304770797951319,
          -6.3099432835415294,
          -6.316228488457356,
          -6.322178510826445,
          -6.329105456081447,
          -6.335452158009946,
          -6.343483242212184,
          -6.350962941773562,
          -6.357984518543503,
          -6.365323842276228,
          -6.374313343322253,
          -6.383557408355533,
          -6.392409004742645
         ],
         "lon": [
          106.71064628928848,
          106.71175159328854,
          106.7137280876494,
          106.71631258332016,
          106.72045953923048,
          106.72624401776667,
          106.7278355243717,
          106.72753796263147,
          106.72751422744258,
          106.72874767926623,
          106.73162216772558,
          106.73635529317588,
          106.74235286201046,
          106.74838003572704,
          106.75477833636734,
          106.75892585293089,
          106.7622128991866,
          106.7641289798062,
          106.76504375340583,
          106.76706502674874,
          106.76808159715196,
          106.77022119528311,
          106.77489165281018,
          106.77903341562772,
          106.7865772236946,
          106.79683806599614,
          106.80467290002989,
          106.8116543963976,
          106.82041051038055,
          106.82755762897922,
          106.83375426960548,
          106.8390320396596,
          106.8457506145004,
          106.85342529247126,
          106.86081038832292,
          106.86940269111156,
          106.87405943635358,
          106.87963900711009,
          106.88411933537976,
          106.8852678698655,
          106.8865215512327,
          106.88700855912252,
          106.88720770647949,
          106.88810831458018,
          106.88964861082556,
          106.89147303263368,
          106.8932439297865,
          106.89458649615467,
          106.8960583415878,
          106.89598728679762,
          106.8960039598
         ],
         "marker": {
          "size": 10
         },
         "mode": "markers+lines",
         "name": "trip",
         "type": "scattermapbox"
        },
        {
         "lat": [
          -6.396649360656738,
          -6.41413688659668,
          -6.424880027770996,
          -6.438603401184082,
          -6.448788166046143,
          -6.462026119232178,
          -6.473902702331543,
          -6.481040954589844,
          -6.48689603805542,
          -6.492232799530029,
          -6.500650405883789,
          -6.501364231109619,
          -6.503398895263672,
          -6.504194736480713,
          -6.502960205078125,
          -6.503671169281006,
          -6.500149250030518,
          -6.5049147605896,
          -6.50775671005249,
          -6.507472038269043,
          -6.50154447555542,
          -6.504114151000977,
          -6.507214069366455,
          -6.508132457733154,
          -6.5100178718566895,
          -6.5117573738098145,
          -6.513391971588135,
          -6.517196178436279,
          -6.515743732452393,
          -6.518275737762451,
          -6.518091201782227,
          -6.5182085037231445,
          -6.52050256729126,
          -6.520663738250732,
          -6.522530555725098,
          -6.522565841674805,
          -6.522737503051758,
          -6.524887561798096,
          -6.526111125946045,
          -6.526328086853027,
          -6.525803565979004,
          -6.525866508483887,
          -6.526241302490234,
          -6.525596618652344,
          -6.527326583862305,
          -6.527102947235107,
          -6.526823043823242,
          -6.528497219085693,
          -6.529473781585693,
          -6.528395652770996,
          -6.525818347930908,
          -6.525631427764893,
          -6.525665283203125,
          -6.524364471435547,
          -6.526126384735107,
          -6.524990558624268,
          -6.524563789367676,
          -6.5256853103637695,
          -6.526310920715332,
          -6.524937629699707,
          -6.521717071533203,
          -6.521769046783447,
          -6.522283554077148,
          -6.521254539489746,
          -6.52352237701416,
          -6.52203369140625,
          -6.522006988525391,
          -6.523019790649414,
          -6.523684501647949,
          -6.522769927978516,
          -6.5201921463012695,
          -6.521307468414307,
          -6.521922588348389,
          -6.5215959548950195,
          -6.524170875549316,
          -6.5223774909973145,
          -6.522828578948975,
          -6.523745536804199,
          -6.524597644805908,
          -6.523698806762695,
          -6.521766185760498,
          -6.523975372314453,
          -6.5244832038879395,
          -6.5248212814331055,
          -6.527522563934326,
          -6.525514602661133,
          -6.526664733886719,
          -6.527634620666504,
          -6.528594017028809,
          -6.527965068817139,
          -6.527157783508301,
          -6.530467987060547,
          -6.530989170074463,
          -6.532038688659668,
          -6.534945487976074,
          -6.532950401306152,
          -6.534895896911621,
          -6.536041259765625,
          -6.537353038787842,
          -6.537210941314697,
          -6.537755966186523,
          -6.54205846786499,
          -6.542666912078857,
          -6.544344425201416,
          -6.547451972961426,
          -6.545783996582031,
          -6.548585414886475,
          -6.549814224243164,
          -6.5517473220825195,
          -6.552081108093262,
          -6.553765296936035,
          -6.5587239265441895,
          -6.55938720703125,
          -6.561367988586426,
          -6.564517974853516,
          -6.563490867614746,
          -6.567076206207275,
          -6.568075656890869,
          -6.570760250091553,
          -6.571308135986328
         ],
         "lon": [
          106.8921890258789,
          106.89026641845703,
          106.88859558105469,
          106.88932800292969,
          106.88468933105469,
          106.88800811767578,
          106.88545227050781,
          106.88176727294922,
          106.8775405883789,
          106.87335968017578,
          106.86968231201172,
          106.87249755859375,
          106.86463928222656,
          106.86430358886719,
          106.86457824707031,
          106.86518859863281,
          106.85920715332031,
          106.85633850097656,
          106.85872650146484,
          106.8557357788086,
          106.84883880615234,
          106.8480453491211,
          106.84532165527344,
          106.84386444091797,
          106.8402099609375,
          106.83855438232422,
          106.83771514892578,
          106.83751678466797,
          106.83517456054688,
          106.83411407470703,
          106.83350372314453,
          106.83214569091797,
          106.83123779296875,
          106.8297119140625,
          106.82789611816406,
          106.82657623291016,
          106.82471466064453,
          106.82522583007812,
          106.82488250732422,
          106.82323455810547,
          106.82103729248047,
          106.8197250366211,
          106.81861877441406,
          106.81697845458984,
          106.81395721435547,
          106.81221771240234,
          106.80957794189453,
          106.809814453125,
          106.80846405029297,
          106.80562591552734,
          106.80203247070312,
          106.80032348632812,
          106.7986831665039,
          106.79631042480469,
          106.79318237304688,
          106.7912826538086,
          106.78784942626953,
          106.78804779052734,
          106.78659057617188,
          106.78319549560547,
          106.7786865234375,
          106.77679443359375,
          106.77497100830078,
          106.77227783203125,
          106.76958465576172,
          106.76775360107422,
          106.763916015625,
          106.76434326171875,
          106.76293182373047,
          106.75982666015625,
          106.75593566894531,
          106.75426483154297,
          106.752197265625,
          106.74942016601562,
          106.74710083007812,
          106.74539947509766,
          106.74130249023438,
          106.7420654296875,
          106.74044799804688,
          106.73795318603516,
          106.73516082763672,
          106.73404693603516,
          106.73170471191406,
          106.72895050048828,
          106.72733306884766,
          106.72605895996094,
          106.72161865234375,
          106.72260284423828,
          106.72081756591797,
          106.7191162109375,
          106.71796417236328,
          106.71744537353516,
          106.71476745605469,
          106.71218872070312,
          106.7112808227539,
          106.71040344238281,
          106.70567321777344,
          106.7068099975586,
          106.70491790771484,
          106.70416259765625,
          106.70488739013672,
          106.705078125,
          106.7022933959961,
          106.70011901855469,
          106.69998168945312,
          106.69957733154297,
          106.69473266601562,
          106.69593811035156,
          106.69397735595703,
          106.69449615478516,
          106.69754028320312,
          106.69867706298828,
          106.69636535644531,
          106.69483184814453,
          106.69556427001953,
          106.69585418701172,
          106.69123840332031,
          106.69243621826172,
          106.69048309326172,
          106.692626953125
         ],
         "marker": {
          "color": "green",
          "size": 10
         },
         "mode": "markers+lines",
         "name": "Predicted Point",
         "type": "scattermapbox"
        },
        {
         "lat": [
          -6.397419452667236,
          -6.400400638580322,
          -6.407740116119385,
          -6.41953182220459,
          -6.429878234863281,
          -6.439302921295166,
          -6.449963569641113,
          -6.460513114929199,
          -6.470773220062256,
          -6.479085922241211
         ],
         "lon": [
          106.89702606201172,
          106.89773559570312,
          106.89839172363281,
          106.89745330810547,
          106.89551544189453,
          106.8934326171875,
          106.89053344726562,
          106.88531494140625,
          106.88011932373047,
          106.87606048583984
         ],
         "marker": {
          "color": "yellow",
          "size": 10
         },
         "mode": "markers",
         "name": "True Point",
         "type": "scattermapbox"
        }
       ],
       "layout": {
        "mapbox": {
         "center": {
          "lat": -6.2,
          "lon": 106.816
         },
         "style": "open-street-map",
         "zoom": 10
        },
        "margin": {
         "b": 0,
         "l": 0,
         "r": 0,
         "t": 0
        },
        "template": {
         "data": {
          "bar": [
           {
            "error_x": {
             "color": "#2a3f5f"
            },
            "error_y": {
             "color": "#2a3f5f"
            },
            "marker": {
             "line": {
              "color": "#E5ECF6",
              "width": 0.5
             },
             "pattern": {
              "fillmode": "overlay",
              "size": 10,
              "solidity": 0.2
             }
            },
            "type": "bar"
           }
          ],
          "barpolar": [
           {
            "marker": {
             "line": {
              "color": "#E5ECF6",
              "width": 0.5
             },
             "pattern": {
              "fillmode": "overlay",
              "size": 10,
              "solidity": 0.2
             }
            },
            "type": "barpolar"
           }
          ],
          "carpet": [
           {
            "aaxis": {
             "endlinecolor": "#2a3f5f",
             "gridcolor": "white",
             "linecolor": "white",
             "minorgridcolor": "white",
             "startlinecolor": "#2a3f5f"
            },
            "baxis": {
             "endlinecolor": "#2a3f5f",
             "gridcolor": "white",
             "linecolor": "white",
             "minorgridcolor": "white",
             "startlinecolor": "#2a3f5f"
            },
            "type": "carpet"
           }
          ],
          "choropleth": [
           {
            "colorbar": {
             "outlinewidth": 0,
             "ticks": ""
            },
            "type": "choropleth"
           }
          ],
          "contour": [
           {
            "colorbar": {
             "outlinewidth": 0,
             "ticks": ""
            },
            "colorscale": [
             [
              0,
              "#0d0887"
             ],
             [
              0.1111111111111111,
              "#46039f"
             ],
             [
              0.2222222222222222,
              "#7201a8"
             ],
             [
              0.3333333333333333,
              "#9c179e"
             ],
             [
              0.4444444444444444,
              "#bd3786"
             ],
             [
              0.5555555555555556,
              "#d8576b"
             ],
             [
              0.6666666666666666,
              "#ed7953"
             ],
             [
              0.7777777777777778,
              "#fb9f3a"
             ],
             [
              0.8888888888888888,
              "#fdca26"
             ],
             [
              1,
              "#f0f921"
             ]
            ],
            "type": "contour"
           }
          ],
          "contourcarpet": [
           {
            "colorbar": {
             "outlinewidth": 0,
             "ticks": ""
            },
            "type": "contourcarpet"
           }
          ],
          "heatmap": [
           {
            "colorbar": {
             "outlinewidth": 0,
             "ticks": ""
            },
            "colorscale": [
             [
              0,
              "#0d0887"
             ],
             [
              0.1111111111111111,
              "#46039f"
             ],
             [
              0.2222222222222222,
              "#7201a8"
             ],
             [
              0.3333333333333333,
              "#9c179e"
             ],
             [
              0.4444444444444444,
              "#bd3786"
             ],
             [
              0.5555555555555556,
              "#d8576b"
             ],
             [
              0.6666666666666666,
              "#ed7953"
             ],
             [
              0.7777777777777778,
              "#fb9f3a"
             ],
             [
              0.8888888888888888,
              "#fdca26"
             ],
             [
              1,
              "#f0f921"
             ]
            ],
            "type": "heatmap"
           }
          ],
          "heatmapgl": [
           {
            "colorbar": {
             "outlinewidth": 0,
             "ticks": ""
            },
            "colorscale": [
             [
              0,
              "#0d0887"
             ],
             [
              0.1111111111111111,
              "#46039f"
             ],
             [
              0.2222222222222222,
              "#7201a8"
             ],
             [
              0.3333333333333333,
              "#9c179e"
             ],
             [
              0.4444444444444444,
              "#bd3786"
             ],
             [
              0.5555555555555556,
              "#d8576b"
             ],
             [
              0.6666666666666666,
              "#ed7953"
             ],
             [
              0.7777777777777778,
              "#fb9f3a"
             ],
             [
              0.8888888888888888,
              "#fdca26"
             ],
             [
              1,
              "#f0f921"
             ]
            ],
            "type": "heatmapgl"
           }
          ],
          "histogram": [
           {
            "marker": {
             "pattern": {
              "fillmode": "overlay",
              "size": 10,
              "solidity": 0.2
             }
            },
            "type": "histogram"
           }
          ],
          "histogram2d": [
           {
            "colorbar": {
             "outlinewidth": 0,
             "ticks": ""
            },
            "colorscale": [
             [
              0,
              "#0d0887"
             ],
             [
              0.1111111111111111,
              "#46039f"
             ],
             [
              0.2222222222222222,
              "#7201a8"
             ],
             [
              0.3333333333333333,
              "#9c179e"
             ],
             [
              0.4444444444444444,
              "#bd3786"
             ],
             [
              0.5555555555555556,
              "#d8576b"
             ],
             [
              0.6666666666666666,
              "#ed7953"
             ],
             [
              0.7777777777777778,
              "#fb9f3a"
             ],
             [
              0.8888888888888888,
              "#fdca26"
             ],
             [
              1,
              "#f0f921"
             ]
            ],
            "type": "histogram2d"
           }
          ],
          "histogram2dcontour": [
           {
            "colorbar": {
             "outlinewidth": 0,
             "ticks": ""
            },
            "colorscale": [
             [
              0,
              "#0d0887"
             ],
             [
              0.1111111111111111,
              "#46039f"
             ],
             [
              0.2222222222222222,
              "#7201a8"
             ],
             [
              0.3333333333333333,
              "#9c179e"
             ],
             [
              0.4444444444444444,
              "#bd3786"
             ],
             [
              0.5555555555555556,
              "#d8576b"
             ],
             [
              0.6666666666666666,
              "#ed7953"
             ],
             [
              0.7777777777777778,
              "#fb9f3a"
             ],
             [
              0.8888888888888888,
              "#fdca26"
             ],
             [
              1,
              "#f0f921"
             ]
            ],
            "type": "histogram2dcontour"
           }
          ],
          "mesh3d": [
           {
            "colorbar": {
             "outlinewidth": 0,
             "ticks": ""
            },
            "type": "mesh3d"
           }
          ],
          "parcoords": [
           {
            "line": {
             "colorbar": {
              "outlinewidth": 0,
              "ticks": ""
             }
            },
            "type": "parcoords"
           }
          ],
          "pie": [
           {
            "automargin": true,
            "type": "pie"
           }
          ],
          "scatter": [
           {
            "fillpattern": {
             "fillmode": "overlay",
             "size": 10,
             "solidity": 0.2
            },
            "type": "scatter"
           }
          ],
          "scatter3d": [
           {
            "line": {
             "colorbar": {
              "outlinewidth": 0,
              "ticks": ""
             }
            },
            "marker": {
             "colorbar": {
              "outlinewidth": 0,
              "ticks": ""
             }
            },
            "type": "scatter3d"
           }
          ],
          "scattercarpet": [
           {
            "marker": {
             "colorbar": {
              "outlinewidth": 0,
              "ticks": ""
             }
            },
            "type": "scattercarpet"
           }
          ],
          "scattergeo": [
           {
            "marker": {
             "colorbar": {
              "outlinewidth": 0,
              "ticks": ""
             }
            },
            "type": "scattergeo"
           }
          ],
          "scattergl": [
           {
            "marker": {
             "colorbar": {
              "outlinewidth": 0,
              "ticks": ""
             }
            },
            "type": "scattergl"
           }
          ],
          "scattermapbox": [
           {
            "marker": {
             "colorbar": {
              "outlinewidth": 0,
              "ticks": ""
             }
            },
            "type": "scattermapbox"
           }
          ],
          "scatterpolar": [
           {
            "marker": {
             "colorbar": {
              "outlinewidth": 0,
              "ticks": ""
             }
            },
            "type": "scatterpolar"
           }
          ],
          "scatterpolargl": [
           {
            "marker": {
             "colorbar": {
              "outlinewidth": 0,
              "ticks": ""
             }
            },
            "type": "scatterpolargl"
           }
          ],
          "scatterternary": [
           {
            "marker": {
             "colorbar": {
              "outlinewidth": 0,
              "ticks": ""
             }
            },
            "type": "scatterternary"
           }
          ],
          "surface": [
           {
            "colorbar": {
             "outlinewidth": 0,
             "ticks": ""
            },
            "colorscale": [
             [
              0,
              "#0d0887"
             ],
             [
              0.1111111111111111,
              "#46039f"
             ],
             [
              0.2222222222222222,
              "#7201a8"
             ],
             [
              0.3333333333333333,
              "#9c179e"
             ],
             [
              0.4444444444444444,
              "#bd3786"
             ],
             [
              0.5555555555555556,
              "#d8576b"
             ],
             [
              0.6666666666666666,
              "#ed7953"
             ],
             [
              0.7777777777777778,
              "#fb9f3a"
             ],
             [
              0.8888888888888888,
              "#fdca26"
             ],
             [
              1,
              "#f0f921"
             ]
            ],
            "type": "surface"
           }
          ],
          "table": [
           {
            "cells": {
             "fill": {
              "color": "#EBF0F8"
             },
             "line": {
              "color": "white"
             }
            },
            "header": {
             "fill": {
              "color": "#C8D4E3"
             },
             "line": {
              "color": "white"
             }
            },
            "type": "table"
           }
          ]
         },
         "layout": {
          "annotationdefaults": {
           "arrowcolor": "#2a3f5f",
           "arrowhead": 0,
           "arrowwidth": 1
          },
          "autotypenumbers": "strict",
          "coloraxis": {
           "colorbar": {
            "outlinewidth": 0,
            "ticks": ""
           }
          },
          "colorscale": {
           "diverging": [
            [
             0,
             "#8e0152"
            ],
            [
             0.1,
             "#c51b7d"
            ],
            [
             0.2,
             "#de77ae"
            ],
            [
             0.3,
             "#f1b6da"
            ],
            [
             0.4,
             "#fde0ef"
            ],
            [
             0.5,
             "#f7f7f7"
            ],
            [
             0.6,
             "#e6f5d0"
            ],
            [
             0.7,
             "#b8e186"
            ],
            [
             0.8,
             "#7fbc41"
            ],
            [
             0.9,
             "#4d9221"
            ],
            [
             1,
             "#276419"
            ]
           ],
           "sequential": [
            [
             0,
             "#0d0887"
            ],
            [
             0.1111111111111111,
             "#46039f"
            ],
            [
             0.2222222222222222,
             "#7201a8"
            ],
            [
             0.3333333333333333,
             "#9c179e"
            ],
            [
             0.4444444444444444,
             "#bd3786"
            ],
            [
             0.5555555555555556,
             "#d8576b"
            ],
            [
             0.6666666666666666,
             "#ed7953"
            ],
            [
             0.7777777777777778,
             "#fb9f3a"
            ],
            [
             0.8888888888888888,
             "#fdca26"
            ],
            [
             1,
             "#f0f921"
            ]
           ],
           "sequentialminus": [
            [
             0,
             "#0d0887"
            ],
            [
             0.1111111111111111,
             "#46039f"
            ],
            [
             0.2222222222222222,
             "#7201a8"
            ],
            [
             0.3333333333333333,
             "#9c179e"
            ],
            [
             0.4444444444444444,
             "#bd3786"
            ],
            [
             0.5555555555555556,
             "#d8576b"
            ],
            [
             0.6666666666666666,
             "#ed7953"
            ],
            [
             0.7777777777777778,
             "#fb9f3a"
            ],
            [
             0.8888888888888888,
             "#fdca26"
            ],
            [
             1,
             "#f0f921"
            ]
           ]
          },
          "colorway": [
           "#636efa",
           "#EF553B",
           "#00cc96",
           "#ab63fa",
           "#FFA15A",
           "#19d3f3",
           "#FF6692",
           "#B6E880",
           "#FF97FF",
           "#FECB52"
          ],
          "font": {
           "color": "#2a3f5f"
          },
          "geo": {
           "bgcolor": "white",
           "lakecolor": "white",
           "landcolor": "#E5ECF6",
           "showlakes": true,
           "showland": true,
           "subunitcolor": "white"
          },
          "hoverlabel": {
           "align": "left"
          },
          "hovermode": "closest",
          "mapbox": {
           "style": "light"
          },
          "paper_bgcolor": "white",
          "plot_bgcolor": "#E5ECF6",
          "polar": {
           "angularaxis": {
            "gridcolor": "white",
            "linecolor": "white",
            "ticks": ""
           },
           "bgcolor": "#E5ECF6",
           "radialaxis": {
            "gridcolor": "white",
            "linecolor": "white",
            "ticks": ""
           }
          },
          "scene": {
           "xaxis": {
            "backgroundcolor": "#E5ECF6",
            "gridcolor": "white",
            "gridwidth": 2,
            "linecolor": "white",
            "showbackground": true,
            "ticks": "",
            "zerolinecolor": "white"
           },
           "yaxis": {
            "backgroundcolor": "#E5ECF6",
            "gridcolor": "white",
            "gridwidth": 2,
            "linecolor": "white",
            "showbackground": true,
            "ticks": "",
            "zerolinecolor": "white"
           },
           "zaxis": {
            "backgroundcolor": "#E5ECF6",
            "gridcolor": "white",
            "gridwidth": 2,
            "linecolor": "white",
            "showbackground": true,
            "ticks": "",
            "zerolinecolor": "white"
           }
          },
          "shapedefaults": {
           "line": {
            "color": "#2a3f5f"
           }
          },
          "ternary": {
           "aaxis": {
            "gridcolor": "white",
            "linecolor": "white",
            "ticks": ""
           },
           "baxis": {
            "gridcolor": "white",
            "linecolor": "white",
            "ticks": ""
           },
           "bgcolor": "#E5ECF6",
           "caxis": {
            "gridcolor": "white",
            "linecolor": "white",
            "ticks": ""
           }
          },
          "title": {
           "x": 0.05
          },
          "xaxis": {
           "automargin": true,
           "gridcolor": "white",
           "linecolor": "white",
           "ticks": "",
           "title": {
            "standoff": 15
           },
           "zerolinecolor": "white",
           "zerolinewidth": 2
          },
          "yaxis": {
           "automargin": true,
           "gridcolor": "white",
           "linecolor": "white",
           "ticks": "",
           "title": {
            "standoff": 15
           },
           "zerolinecolor": "white",
           "zerolinewidth": 2
          }
         }
        }
       }
      }
     },
     "metadata": {},
     "output_type": "display_data"
    }
   ],
   "source": [
    "## MULTI STEP PREDICTION\n",
    "# Num dapat diubah-ubah untuk melihat trajectory yang berbeda-beda\n",
    "num = 9\n",
    "steps = 12\n",
    "\n",
    "# Predict the next \"step\" coords of entry \"num\" using the model\n",
    "num_of_timesteps = len(x_test[0])\n",
    "x_data = x_test[num] # Data that will be fed to the model\n",
    "\n",
    "pred_coords = []\n",
    "for i in range(steps):\n",
    "  current_pred = denormalizer(model.predict(x_data.reshape(1, num_of_timesteps, 4))).numpy().tolist()[0]\n",
    "\n",
    "  pred_coords.append(current_pred)\n",
    "\n",
    "  x_data = x_data[10:, :]\n",
    "\n",
    "  hour_offset = math.floor(i / 60)\n",
    "\n",
    "  hour_and_day = np.tile(np.array([x_data[-1][2] + hour_offset, x_data[-1][3]]), (10, 1))\n",
    "\n",
    "  current_pred = np.append(current_pred, hour_and_day, axis=1)\n",
    "  \n",
    "  x_data = np.append(x_data, current_pred, axis=0)\n",
    "\n",
    "true_coords = denormalizer(y_test[num])\n",
    "\n",
    "# Print the true and predicted coordinates\n",
    "print(\"Prediction:\")\n",
    "print(pred_coords)\n",
    "\n",
    "print(\"True Coordinate:\")\n",
    "print(true_coords)\n",
    "\n",
    "\n",
    "### Map display of True Point vs Predicted Point\n",
    "\n",
    "# Get route coordinates\n",
    "past_lat = []\n",
    "past_lon = []\n",
    "for point in x_test[num]:\n",
    "  past_lat.append(point[0])\n",
    "  past_lon.append(point[1])\n",
    "\n",
    "# Get prediction coordinates\n",
    "pred_lat = []\n",
    "pred_lon = []\n",
    "for step in pred_coords:\n",
    "  for point in step:\n",
    "    pred_lat.append(point[0])\n",
    "    pred_lon.append(point[1])\n",
    "\n",
    "# Get true coordinates from y\n",
    "true_lat = []\n",
    "true_lon = []\n",
    "\n",
    "for point in true_coords[0]:\n",
    "  true_lat.append(point[0])\n",
    "  true_lon.append(point[1])\n",
    "\n",
    "# Build the map\n",
    "fig = go.Figure()\n",
    "\n",
    "# Plot previous path\n",
    "fig.add_trace(go.Scattermapbox(\n",
    "  mode=\"markers+lines\",\n",
    "  lat=past_lat,\n",
    "  lon=past_lon,\n",
    "  name=\"trip\",\n",
    "  marker={'size': 10}))\n",
    "\n",
    "# Plot predicted path\n",
    "fig.add_trace(go.Scattermapbox(\n",
    "  mode=\"markers+lines\",\n",
    "  lat=pred_lat,\n",
    "  lon=pred_lon,\n",
    "  name=\"Predicted Point\",\n",
    "  marker={'size': 10, 'color': 'green'}))\n",
    "\n",
    "fig.add_trace(go.Scattermapbox(\n",
    "  mode=\"markers\",\n",
    "  lat=true_lat,\n",
    "  lon=true_lon,\n",
    "  name=\"True Point\",\n",
    "  marker={'size': 10, 'color': 'yellow'}))\n",
    "\n",
    "fig.update_layout(mapbox_style=\"open-street-map\",)\n",
    "fig.update_layout(\n",
    "  margin={\"r\":0,\"t\":0,\"l\":0,\"b\":0},\n",
    "  mapbox=dict(\n",
    "    zoom=10,\n",
    "    center=go.layout.mapbox.Center(\n",
    "            lat=-6.2,\n",
    "            lon=106.816\n",
    "        ),\n",
    "  ))\n",
    "fig.show()"
   ]
  }
 ],
 "metadata": {
  "kernelspec": {
   "display_name": "Python 3",
   "language": "python",
   "name": "python3"
  },
  "language_info": {
   "codemirror_mode": {
    "name": "ipython",
    "version": 3
   },
   "file_extension": ".py",
   "mimetype": "text/x-python",
   "name": "python",
   "nbconvert_exporter": "python",
   "pygments_lexer": "ipython3",
   "version": "3.9.13"
  }
 },
 "nbformat": 4,
 "nbformat_minor": 2
}
