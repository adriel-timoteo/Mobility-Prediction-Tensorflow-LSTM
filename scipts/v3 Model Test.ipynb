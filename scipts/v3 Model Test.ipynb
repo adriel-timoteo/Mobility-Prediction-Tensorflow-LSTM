{
 "cells": [
  {
   "cell_type": "markdown",
   "metadata": {},
   "source": [
    "<h2>MODEL TESTING</h2>\n",
    "\n",
    "Script ini digunakan hanya untuk mengetes model-model yang telah dibuat. Tahapan dari mengetes suatu model adalah:\n",
    "1. Load model yang telah ada. (Saat ini, model yang diloat adalah model v1 yang sudah saya buat).\n",
    "2. Load x_test dan y_test, untuk menjadi data yang dapat dimasukkan ke model untuk melihat performa model. Bagian ini tidak perlu diubah jika model yang diload berubah.\n",
    "3. Jalankan block terakhir. Num dapat diubah-ubah untuk melihat trajectory yang berbeda-beda"
   ]
  },
  {
   "cell_type": "code",
   "execution_count": 27,
   "metadata": {},
   "outputs": [],
   "source": [
    "import tensorflow as tf\n",
    "import plotly.express as px\n",
    "import plotly.graph_objects as go\n",
    "import numpy as np\n",
    "import math"
   ]
  },
  {
   "cell_type": "code",
   "execution_count": 28,
   "metadata": {},
   "outputs": [
    {
     "data": {
      "text/html": [
       "<pre style=\"white-space:pre;overflow-x:auto;line-height:normal;font-family:Menlo,'DejaVu Sans Mono',consolas,'Courier New',monospace\"><span style=\"font-weight: bold\">Model: \"sequential\"</span>\n",
       "</pre>\n"
      ],
      "text/plain": [
       "\u001b[1mModel: \"sequential\"\u001b[0m\n"
      ]
     },
     "metadata": {},
     "output_type": "display_data"
    },
    {
     "data": {
      "text/html": [
       "<pre style=\"white-space:pre;overflow-x:auto;line-height:normal;font-family:Menlo,'DejaVu Sans Mono',consolas,'Courier New',monospace\">┏━━━━━━━━━━━━━━━━━━━━━━━━━━━━━━━━━┳━━━━━━━━━━━━━━━━━━━━━━━━┳━━━━━━━━━━━━━━━┓\n",
       "┃<span style=\"font-weight: bold\"> Layer (type)                    </span>┃<span style=\"font-weight: bold\"> Output Shape           </span>┃<span style=\"font-weight: bold\">       Param # </span>┃\n",
       "┡━━━━━━━━━━━━━━━━━━━━━━━━━━━━━━━━━╇━━━━━━━━━━━━━━━━━━━━━━━━╇━━━━━━━━━━━━━━━┩\n",
       "│ normalization (<span style=\"color: #0087ff; text-decoration-color: #0087ff\">Normalization</span>)   │ (<span style=\"color: #00d7ff; text-decoration-color: #00d7ff\">None</span>, <span style=\"color: #00af00; text-decoration-color: #00af00\">50</span>, <span style=\"color: #00af00; text-decoration-color: #00af00\">2</span>)          │             <span style=\"color: #00af00; text-decoration-color: #00af00\">5</span> │\n",
       "├─────────────────────────────────┼────────────────────────┼───────────────┤\n",
       "│ lstm (<span style=\"color: #0087ff; text-decoration-color: #0087ff\">LSTM</span>)                     │ (<span style=\"color: #00d7ff; text-decoration-color: #00d7ff\">None</span>, <span style=\"color: #00af00; text-decoration-color: #00af00\">50</span>, <span style=\"color: #00af00; text-decoration-color: #00af00\">128</span>)        │        <span style=\"color: #00af00; text-decoration-color: #00af00\">67,072</span> │\n",
       "├─────────────────────────────────┼────────────────────────┼───────────────┤\n",
       "│ lstm_1 (<span style=\"color: #0087ff; text-decoration-color: #0087ff\">LSTM</span>)                   │ (<span style=\"color: #00d7ff; text-decoration-color: #00d7ff\">None</span>, <span style=\"color: #00af00; text-decoration-color: #00af00\">128</span>)            │       <span style=\"color: #00af00; text-decoration-color: #00af00\">131,584</span> │\n",
       "├─────────────────────────────────┼────────────────────────┼───────────────┤\n",
       "│ dense (<span style=\"color: #0087ff; text-decoration-color: #0087ff\">Dense</span>)                   │ (<span style=\"color: #00d7ff; text-decoration-color: #00d7ff\">None</span>, <span style=\"color: #00af00; text-decoration-color: #00af00\">20</span>)             │         <span style=\"color: #00af00; text-decoration-color: #00af00\">2,580</span> │\n",
       "├─────────────────────────────────┼────────────────────────┼───────────────┤\n",
       "│ reshape (<span style=\"color: #0087ff; text-decoration-color: #0087ff\">Reshape</span>)               │ (<span style=\"color: #00d7ff; text-decoration-color: #00d7ff\">None</span>, <span style=\"color: #00af00; text-decoration-color: #00af00\">10</span>, <span style=\"color: #00af00; text-decoration-color: #00af00\">2</span>)          │             <span style=\"color: #00af00; text-decoration-color: #00af00\">0</span> │\n",
       "└─────────────────────────────────┴────────────────────────┴───────────────┘\n",
       "</pre>\n"
      ],
      "text/plain": [
       "┏━━━━━━━━━━━━━━━━━━━━━━━━━━━━━━━━━┳━━━━━━━━━━━━━━━━━━━━━━━━┳━━━━━━━━━━━━━━━┓\n",
       "┃\u001b[1m \u001b[0m\u001b[1mLayer (type)                   \u001b[0m\u001b[1m \u001b[0m┃\u001b[1m \u001b[0m\u001b[1mOutput Shape          \u001b[0m\u001b[1m \u001b[0m┃\u001b[1m \u001b[0m\u001b[1m      Param #\u001b[0m\u001b[1m \u001b[0m┃\n",
       "┡━━━━━━━━━━━━━━━━━━━━━━━━━━━━━━━━━╇━━━━━━━━━━━━━━━━━━━━━━━━╇━━━━━━━━━━━━━━━┩\n",
       "│ normalization (\u001b[38;5;33mNormalization\u001b[0m)   │ (\u001b[38;5;45mNone\u001b[0m, \u001b[38;5;34m50\u001b[0m, \u001b[38;5;34m2\u001b[0m)          │             \u001b[38;5;34m5\u001b[0m │\n",
       "├─────────────────────────────────┼────────────────────────┼───────────────┤\n",
       "│ lstm (\u001b[38;5;33mLSTM\u001b[0m)                     │ (\u001b[38;5;45mNone\u001b[0m, \u001b[38;5;34m50\u001b[0m, \u001b[38;5;34m128\u001b[0m)        │        \u001b[38;5;34m67,072\u001b[0m │\n",
       "├─────────────────────────────────┼────────────────────────┼───────────────┤\n",
       "│ lstm_1 (\u001b[38;5;33mLSTM\u001b[0m)                   │ (\u001b[38;5;45mNone\u001b[0m, \u001b[38;5;34m128\u001b[0m)            │       \u001b[38;5;34m131,584\u001b[0m │\n",
       "├─────────────────────────────────┼────────────────────────┼───────────────┤\n",
       "│ dense (\u001b[38;5;33mDense\u001b[0m)                   │ (\u001b[38;5;45mNone\u001b[0m, \u001b[38;5;34m20\u001b[0m)             │         \u001b[38;5;34m2,580\u001b[0m │\n",
       "├─────────────────────────────────┼────────────────────────┼───────────────┤\n",
       "│ reshape (\u001b[38;5;33mReshape\u001b[0m)               │ (\u001b[38;5;45mNone\u001b[0m, \u001b[38;5;34m10\u001b[0m, \u001b[38;5;34m2\u001b[0m)          │             \u001b[38;5;34m0\u001b[0m │\n",
       "└─────────────────────────────────┴────────────────────────┴───────────────┘\n"
      ]
     },
     "metadata": {},
     "output_type": "display_data"
    },
    {
     "data": {
      "text/html": [
       "<pre style=\"white-space:pre;overflow-x:auto;line-height:normal;font-family:Menlo,'DejaVu Sans Mono',consolas,'Courier New',monospace\"><span style=\"font-weight: bold\"> Total params: </span><span style=\"color: #00af00; text-decoration-color: #00af00\">603,715</span> (2.30 MB)\n",
       "</pre>\n"
      ],
      "text/plain": [
       "\u001b[1m Total params: \u001b[0m\u001b[38;5;34m603,715\u001b[0m (2.30 MB)\n"
      ]
     },
     "metadata": {},
     "output_type": "display_data"
    },
    {
     "data": {
      "text/html": [
       "<pre style=\"white-space:pre;overflow-x:auto;line-height:normal;font-family:Menlo,'DejaVu Sans Mono',consolas,'Courier New',monospace\"><span style=\"font-weight: bold\"> Trainable params: </span><span style=\"color: #00af00; text-decoration-color: #00af00\">201,236</span> (786.08 KB)\n",
       "</pre>\n"
      ],
      "text/plain": [
       "\u001b[1m Trainable params: \u001b[0m\u001b[38;5;34m201,236\u001b[0m (786.08 KB)\n"
      ]
     },
     "metadata": {},
     "output_type": "display_data"
    },
    {
     "data": {
      "text/html": [
       "<pre style=\"white-space:pre;overflow-x:auto;line-height:normal;font-family:Menlo,'DejaVu Sans Mono',consolas,'Courier New',monospace\"><span style=\"font-weight: bold\"> Non-trainable params: </span><span style=\"color: #00af00; text-decoration-color: #00af00\">5</span> (24.00 B)\n",
       "</pre>\n"
      ],
      "text/plain": [
       "\u001b[1m Non-trainable params: \u001b[0m\u001b[38;5;34m5\u001b[0m (24.00 B)\n"
      ]
     },
     "metadata": {},
     "output_type": "display_data"
    },
    {
     "data": {
      "text/html": [
       "<pre style=\"white-space:pre;overflow-x:auto;line-height:normal;font-family:Menlo,'DejaVu Sans Mono',consolas,'Courier New',monospace\"><span style=\"font-weight: bold\"> Optimizer params: </span><span style=\"color: #00af00; text-decoration-color: #00af00\">402,474</span> (1.54 MB)\n",
       "</pre>\n"
      ],
      "text/plain": [
       "\u001b[1m Optimizer params: \u001b[0m\u001b[38;5;34m402,474\u001b[0m (1.54 MB)\n"
      ]
     },
     "metadata": {},
     "output_type": "display_data"
    }
   ],
   "source": [
    "## Load the model\n",
    "model = tf.keras.models.load_model('../models/model_v3.keras')\n",
    "\n",
    "# Show the model architecture\n",
    "model.summary()"
   ]
  },
  {
   "cell_type": "code",
   "execution_count": 29,
   "metadata": {},
   "outputs": [],
   "source": [
    "## Load numpy test data\n",
    "x_test = np.load('../x_test_D.npy')\n",
    "y_test = np.load('../y_test_D.npy')\n",
    "mean_variance = np.load('../mean_variance_D.npy')"
   ]
  },
  {
   "cell_type": "code",
   "execution_count": 30,
   "metadata": {},
   "outputs": [],
   "source": [
    "## IMPORTANT: Set up denormalizer\n",
    "mean = mean_variance[0]\n",
    "variance = mean_variance[1]\n",
    "\n",
    "denormalizer = tf.keras.layers.Normalization(mean=mean, variance=variance, invert=True)"
   ]
  },
  {
   "cell_type": "code",
   "execution_count": 45,
   "metadata": {},
   "outputs": [
    {
     "name": "stdout",
     "output_type": "stream",
     "text": [
      "\u001b[1m1/1\u001b[0m \u001b[32m━━━━━━━━━━━━━━━━━━━━\u001b[0m\u001b[37m\u001b[0m \u001b[1m0s\u001b[0m 67ms/step\n",
      "Prediction:\n",
      "tf.Tensor(\n",
      "[[[ -6.177553  106.79457  ]\n",
      "  [ -6.1706095 106.79337  ]\n",
      "  [ -6.1644783 106.79198  ]\n",
      "  [ -6.1596932 106.790436 ]\n",
      "  [ -6.1553407 106.78817  ]\n",
      "  [ -6.151672  106.78598  ]\n",
      "  [ -6.148948  106.78429  ]\n",
      "  [ -6.1457644 106.781845 ]\n",
      "  [ -6.144277  106.77906  ]\n",
      "  [ -6.1422405 106.777306 ]]], shape=(1, 10, 2), dtype=float32)\n",
      "True Coordinate:\n",
      "tf.Tensor(\n",
      "[[[ -6.181751  106.79412  ]\n",
      "  [ -6.185277  106.785416 ]\n",
      "  [ -6.1883273 106.77442  ]\n",
      "  [ -6.190142  106.76499  ]\n",
      "  [ -6.1909766 106.75338  ]\n",
      "  [ -6.1915593 106.74538  ]\n",
      "  [ -6.191703  106.74232  ]\n",
      "  [ -6.189238  106.74148  ]\n",
      "  [ -6.1909666 106.73954  ]\n",
      "  [ -6.190286  106.734436 ]]], shape=(1, 10, 2), dtype=float32)\n"
     ]
    },
    {
     "data": {
      "application/vnd.plotly.v1+json": {
       "config": {
        "plotlyServerURL": "https://plot.ly"
       },
       "data": [
        {
         "lat": [
          -6.21661539352479,
          -6.21661539352479,
          -6.21661539352479,
          -6.21661539352479,
          -6.21661539352479,
          -6.21661539352479,
          -6.21661539352479,
          -6.21661539352479,
          -6.21661539352479,
          -6.21661539352479,
          -6.21661539352479,
          -6.21661539352479,
          -6.21661539352479,
          -6.21661539352479,
          -6.21661539352479,
          -6.21661539352479,
          -6.21661539352479,
          -6.21661539352479,
          -6.21661539352479,
          -6.21661539352479,
          -6.21661539352479,
          -6.21661539352479,
          -6.21661539352479,
          -6.21661539352479,
          -6.21661539352479,
          -6.21661539352479,
          -6.21661539352479,
          -6.21661539352479,
          -6.21661539352479,
          -6.21661539352479,
          -6.21661539352479,
          -6.21661539352479,
          -6.21661539352479,
          -6.21661539352479,
          -6.21661539352479,
          -6.21661539352479,
          -6.21661539352479,
          -6.21661539352479,
          -6.21661539352479,
          -6.21661539352479,
          -6.21661539352479,
          -6.21661539352479,
          -6.21661539352479,
          -6.21661539352479,
          -6.21661539352479,
          -6.21661539352479,
          -6.21661539352479,
          -6.2126892578979005,
          -6.205316433802857,
          -6.195221858654349,
          -6.185393410581756
         ],
         "lon": [
          106.81024706003814,
          106.81024706003814,
          106.81024706003814,
          106.81024706003814,
          106.81024706003814,
          106.81024706003814,
          106.81024706003814,
          106.81024706003814,
          106.81024706003814,
          106.81024706003814,
          106.81024706003814,
          106.81024706003814,
          106.81024706003814,
          106.81024706003814,
          106.81024706003814,
          106.81024706003814,
          106.81024706003814,
          106.81024706003814,
          106.81024706003814,
          106.81024706003814,
          106.81024706003814,
          106.81024706003814,
          106.81024706003814,
          106.81024706003814,
          106.81024706003814,
          106.81024706003814,
          106.81024706003814,
          106.81024706003814,
          106.81024706003814,
          106.81024706003814,
          106.81024706003814,
          106.81024706003814,
          106.81024706003814,
          106.81024706003814,
          106.81024706003814,
          106.81024706003814,
          106.81024706003814,
          106.81024706003814,
          106.81024706003814,
          106.81024706003814,
          106.81024706003814,
          106.81024706003814,
          106.81024706003814,
          106.81024706003814,
          106.81024706003814,
          106.81024706003814,
          106.81024706003814,
          106.80737732986088,
          106.80172354144923,
          106.79758681720712,
          106.79681953108889
         ],
         "marker": {
          "size": 10
         },
         "mode": "markers+lines",
         "name": "trip",
         "type": "scattermapbox"
        },
        {
         "lat": [
          -6.177553176879883,
          -6.170609474182129,
          -6.164478302001953,
          -6.159693241119385,
          -6.155340671539307,
          -6.151671886444092,
          -6.1489481925964355,
          -6.145764350891113,
          -6.144277095794678,
          -6.142240524291992
         ],
         "lon": [
          106.79457092285156,
          106.79337310791016,
          106.79197692871094,
          106.79043579101562,
          106.78816986083984,
          106.78598022460938,
          106.78428649902344,
          106.78184509277344,
          106.77906036376953,
          106.77730560302734
         ],
         "marker": {
          "color": "green",
          "size": 10
         },
         "mode": "markers",
         "name": "Predicted Point",
         "type": "scattermapbox"
        },
        {
         "lat": [
          -6.181750774383545,
          -6.185276985168457,
          -6.188327312469482,
          -6.1901421546936035,
          -6.190976619720459,
          -6.191559314727783,
          -6.191702842712402,
          -6.18923807144165,
          -6.190966606140137,
          -6.190286159515381
         ],
         "lon": [
          106.79412078857422,
          106.78541564941406,
          106.77442169189453,
          106.7649917602539,
          106.75337982177734,
          106.74537658691406,
          106.74231719970703,
          106.7414779663086,
          106.73954010009766,
          106.73443603515625
         ],
         "marker": {
          "color": "yellow",
          "size": 10
         },
         "mode": "markers",
         "name": "True Point",
         "type": "scattermapbox"
        }
       ],
       "layout": {
        "mapbox": {
         "center": {
          "lat": -6.2,
          "lon": 106.816
         },
         "style": "open-street-map",
         "zoom": 10
        },
        "margin": {
         "b": 0,
         "l": 0,
         "r": 0,
         "t": 0
        },
        "template": {
         "data": {
          "bar": [
           {
            "error_x": {
             "color": "#2a3f5f"
            },
            "error_y": {
             "color": "#2a3f5f"
            },
            "marker": {
             "line": {
              "color": "#E5ECF6",
              "width": 0.5
             },
             "pattern": {
              "fillmode": "overlay",
              "size": 10,
              "solidity": 0.2
             }
            },
            "type": "bar"
           }
          ],
          "barpolar": [
           {
            "marker": {
             "line": {
              "color": "#E5ECF6",
              "width": 0.5
             },
             "pattern": {
              "fillmode": "overlay",
              "size": 10,
              "solidity": 0.2
             }
            },
            "type": "barpolar"
           }
          ],
          "carpet": [
           {
            "aaxis": {
             "endlinecolor": "#2a3f5f",
             "gridcolor": "white",
             "linecolor": "white",
             "minorgridcolor": "white",
             "startlinecolor": "#2a3f5f"
            },
            "baxis": {
             "endlinecolor": "#2a3f5f",
             "gridcolor": "white",
             "linecolor": "white",
             "minorgridcolor": "white",
             "startlinecolor": "#2a3f5f"
            },
            "type": "carpet"
           }
          ],
          "choropleth": [
           {
            "colorbar": {
             "outlinewidth": 0,
             "ticks": ""
            },
            "type": "choropleth"
           }
          ],
          "contour": [
           {
            "colorbar": {
             "outlinewidth": 0,
             "ticks": ""
            },
            "colorscale": [
             [
              0,
              "#0d0887"
             ],
             [
              0.1111111111111111,
              "#46039f"
             ],
             [
              0.2222222222222222,
              "#7201a8"
             ],
             [
              0.3333333333333333,
              "#9c179e"
             ],
             [
              0.4444444444444444,
              "#bd3786"
             ],
             [
              0.5555555555555556,
              "#d8576b"
             ],
             [
              0.6666666666666666,
              "#ed7953"
             ],
             [
              0.7777777777777778,
              "#fb9f3a"
             ],
             [
              0.8888888888888888,
              "#fdca26"
             ],
             [
              1,
              "#f0f921"
             ]
            ],
            "type": "contour"
           }
          ],
          "contourcarpet": [
           {
            "colorbar": {
             "outlinewidth": 0,
             "ticks": ""
            },
            "type": "contourcarpet"
           }
          ],
          "heatmap": [
           {
            "colorbar": {
             "outlinewidth": 0,
             "ticks": ""
            },
            "colorscale": [
             [
              0,
              "#0d0887"
             ],
             [
              0.1111111111111111,
              "#46039f"
             ],
             [
              0.2222222222222222,
              "#7201a8"
             ],
             [
              0.3333333333333333,
              "#9c179e"
             ],
             [
              0.4444444444444444,
              "#bd3786"
             ],
             [
              0.5555555555555556,
              "#d8576b"
             ],
             [
              0.6666666666666666,
              "#ed7953"
             ],
             [
              0.7777777777777778,
              "#fb9f3a"
             ],
             [
              0.8888888888888888,
              "#fdca26"
             ],
             [
              1,
              "#f0f921"
             ]
            ],
            "type": "heatmap"
           }
          ],
          "heatmapgl": [
           {
            "colorbar": {
             "outlinewidth": 0,
             "ticks": ""
            },
            "colorscale": [
             [
              0,
              "#0d0887"
             ],
             [
              0.1111111111111111,
              "#46039f"
             ],
             [
              0.2222222222222222,
              "#7201a8"
             ],
             [
              0.3333333333333333,
              "#9c179e"
             ],
             [
              0.4444444444444444,
              "#bd3786"
             ],
             [
              0.5555555555555556,
              "#d8576b"
             ],
             [
              0.6666666666666666,
              "#ed7953"
             ],
             [
              0.7777777777777778,
              "#fb9f3a"
             ],
             [
              0.8888888888888888,
              "#fdca26"
             ],
             [
              1,
              "#f0f921"
             ]
            ],
            "type": "heatmapgl"
           }
          ],
          "histogram": [
           {
            "marker": {
             "pattern": {
              "fillmode": "overlay",
              "size": 10,
              "solidity": 0.2
             }
            },
            "type": "histogram"
           }
          ],
          "histogram2d": [
           {
            "colorbar": {
             "outlinewidth": 0,
             "ticks": ""
            },
            "colorscale": [
             [
              0,
              "#0d0887"
             ],
             [
              0.1111111111111111,
              "#46039f"
             ],
             [
              0.2222222222222222,
              "#7201a8"
             ],
             [
              0.3333333333333333,
              "#9c179e"
             ],
             [
              0.4444444444444444,
              "#bd3786"
             ],
             [
              0.5555555555555556,
              "#d8576b"
             ],
             [
              0.6666666666666666,
              "#ed7953"
             ],
             [
              0.7777777777777778,
              "#fb9f3a"
             ],
             [
              0.8888888888888888,
              "#fdca26"
             ],
             [
              1,
              "#f0f921"
             ]
            ],
            "type": "histogram2d"
           }
          ],
          "histogram2dcontour": [
           {
            "colorbar": {
             "outlinewidth": 0,
             "ticks": ""
            },
            "colorscale": [
             [
              0,
              "#0d0887"
             ],
             [
              0.1111111111111111,
              "#46039f"
             ],
             [
              0.2222222222222222,
              "#7201a8"
             ],
             [
              0.3333333333333333,
              "#9c179e"
             ],
             [
              0.4444444444444444,
              "#bd3786"
             ],
             [
              0.5555555555555556,
              "#d8576b"
             ],
             [
              0.6666666666666666,
              "#ed7953"
             ],
             [
              0.7777777777777778,
              "#fb9f3a"
             ],
             [
              0.8888888888888888,
              "#fdca26"
             ],
             [
              1,
              "#f0f921"
             ]
            ],
            "type": "histogram2dcontour"
           }
          ],
          "mesh3d": [
           {
            "colorbar": {
             "outlinewidth": 0,
             "ticks": ""
            },
            "type": "mesh3d"
           }
          ],
          "parcoords": [
           {
            "line": {
             "colorbar": {
              "outlinewidth": 0,
              "ticks": ""
             }
            },
            "type": "parcoords"
           }
          ],
          "pie": [
           {
            "automargin": true,
            "type": "pie"
           }
          ],
          "scatter": [
           {
            "fillpattern": {
             "fillmode": "overlay",
             "size": 10,
             "solidity": 0.2
            },
            "type": "scatter"
           }
          ],
          "scatter3d": [
           {
            "line": {
             "colorbar": {
              "outlinewidth": 0,
              "ticks": ""
             }
            },
            "marker": {
             "colorbar": {
              "outlinewidth": 0,
              "ticks": ""
             }
            },
            "type": "scatter3d"
           }
          ],
          "scattercarpet": [
           {
            "marker": {
             "colorbar": {
              "outlinewidth": 0,
              "ticks": ""
             }
            },
            "type": "scattercarpet"
           }
          ],
          "scattergeo": [
           {
            "marker": {
             "colorbar": {
              "outlinewidth": 0,
              "ticks": ""
             }
            },
            "type": "scattergeo"
           }
          ],
          "scattergl": [
           {
            "marker": {
             "colorbar": {
              "outlinewidth": 0,
              "ticks": ""
             }
            },
            "type": "scattergl"
           }
          ],
          "scattermapbox": [
           {
            "marker": {
             "colorbar": {
              "outlinewidth": 0,
              "ticks": ""
             }
            },
            "type": "scattermapbox"
           }
          ],
          "scatterpolar": [
           {
            "marker": {
             "colorbar": {
              "outlinewidth": 0,
              "ticks": ""
             }
            },
            "type": "scatterpolar"
           }
          ],
          "scatterpolargl": [
           {
            "marker": {
             "colorbar": {
              "outlinewidth": 0,
              "ticks": ""
             }
            },
            "type": "scatterpolargl"
           }
          ],
          "scatterternary": [
           {
            "marker": {
             "colorbar": {
              "outlinewidth": 0,
              "ticks": ""
             }
            },
            "type": "scatterternary"
           }
          ],
          "surface": [
           {
            "colorbar": {
             "outlinewidth": 0,
             "ticks": ""
            },
            "colorscale": [
             [
              0,
              "#0d0887"
             ],
             [
              0.1111111111111111,
              "#46039f"
             ],
             [
              0.2222222222222222,
              "#7201a8"
             ],
             [
              0.3333333333333333,
              "#9c179e"
             ],
             [
              0.4444444444444444,
              "#bd3786"
             ],
             [
              0.5555555555555556,
              "#d8576b"
             ],
             [
              0.6666666666666666,
              "#ed7953"
             ],
             [
              0.7777777777777778,
              "#fb9f3a"
             ],
             [
              0.8888888888888888,
              "#fdca26"
             ],
             [
              1,
              "#f0f921"
             ]
            ],
            "type": "surface"
           }
          ],
          "table": [
           {
            "cells": {
             "fill": {
              "color": "#EBF0F8"
             },
             "line": {
              "color": "white"
             }
            },
            "header": {
             "fill": {
              "color": "#C8D4E3"
             },
             "line": {
              "color": "white"
             }
            },
            "type": "table"
           }
          ]
         },
         "layout": {
          "annotationdefaults": {
           "arrowcolor": "#2a3f5f",
           "arrowhead": 0,
           "arrowwidth": 1
          },
          "autotypenumbers": "strict",
          "coloraxis": {
           "colorbar": {
            "outlinewidth": 0,
            "ticks": ""
           }
          },
          "colorscale": {
           "diverging": [
            [
             0,
             "#8e0152"
            ],
            [
             0.1,
             "#c51b7d"
            ],
            [
             0.2,
             "#de77ae"
            ],
            [
             0.3,
             "#f1b6da"
            ],
            [
             0.4,
             "#fde0ef"
            ],
            [
             0.5,
             "#f7f7f7"
            ],
            [
             0.6,
             "#e6f5d0"
            ],
            [
             0.7,
             "#b8e186"
            ],
            [
             0.8,
             "#7fbc41"
            ],
            [
             0.9,
             "#4d9221"
            ],
            [
             1,
             "#276419"
            ]
           ],
           "sequential": [
            [
             0,
             "#0d0887"
            ],
            [
             0.1111111111111111,
             "#46039f"
            ],
            [
             0.2222222222222222,
             "#7201a8"
            ],
            [
             0.3333333333333333,
             "#9c179e"
            ],
            [
             0.4444444444444444,
             "#bd3786"
            ],
            [
             0.5555555555555556,
             "#d8576b"
            ],
            [
             0.6666666666666666,
             "#ed7953"
            ],
            [
             0.7777777777777778,
             "#fb9f3a"
            ],
            [
             0.8888888888888888,
             "#fdca26"
            ],
            [
             1,
             "#f0f921"
            ]
           ],
           "sequentialminus": [
            [
             0,
             "#0d0887"
            ],
            [
             0.1111111111111111,
             "#46039f"
            ],
            [
             0.2222222222222222,
             "#7201a8"
            ],
            [
             0.3333333333333333,
             "#9c179e"
            ],
            [
             0.4444444444444444,
             "#bd3786"
            ],
            [
             0.5555555555555556,
             "#d8576b"
            ],
            [
             0.6666666666666666,
             "#ed7953"
            ],
            [
             0.7777777777777778,
             "#fb9f3a"
            ],
            [
             0.8888888888888888,
             "#fdca26"
            ],
            [
             1,
             "#f0f921"
            ]
           ]
          },
          "colorway": [
           "#636efa",
           "#EF553B",
           "#00cc96",
           "#ab63fa",
           "#FFA15A",
           "#19d3f3",
           "#FF6692",
           "#B6E880",
           "#FF97FF",
           "#FECB52"
          ],
          "font": {
           "color": "#2a3f5f"
          },
          "geo": {
           "bgcolor": "white",
           "lakecolor": "white",
           "landcolor": "#E5ECF6",
           "showlakes": true,
           "showland": true,
           "subunitcolor": "white"
          },
          "hoverlabel": {
           "align": "left"
          },
          "hovermode": "closest",
          "mapbox": {
           "style": "light"
          },
          "paper_bgcolor": "white",
          "plot_bgcolor": "#E5ECF6",
          "polar": {
           "angularaxis": {
            "gridcolor": "white",
            "linecolor": "white",
            "ticks": ""
           },
           "bgcolor": "#E5ECF6",
           "radialaxis": {
            "gridcolor": "white",
            "linecolor": "white",
            "ticks": ""
           }
          },
          "scene": {
           "xaxis": {
            "backgroundcolor": "#E5ECF6",
            "gridcolor": "white",
            "gridwidth": 2,
            "linecolor": "white",
            "showbackground": true,
            "ticks": "",
            "zerolinecolor": "white"
           },
           "yaxis": {
            "backgroundcolor": "#E5ECF6",
            "gridcolor": "white",
            "gridwidth": 2,
            "linecolor": "white",
            "showbackground": true,
            "ticks": "",
            "zerolinecolor": "white"
           },
           "zaxis": {
            "backgroundcolor": "#E5ECF6",
            "gridcolor": "white",
            "gridwidth": 2,
            "linecolor": "white",
            "showbackground": true,
            "ticks": "",
            "zerolinecolor": "white"
           }
          },
          "shapedefaults": {
           "line": {
            "color": "#2a3f5f"
           }
          },
          "ternary": {
           "aaxis": {
            "gridcolor": "white",
            "linecolor": "white",
            "ticks": ""
           },
           "baxis": {
            "gridcolor": "white",
            "linecolor": "white",
            "ticks": ""
           },
           "bgcolor": "#E5ECF6",
           "caxis": {
            "gridcolor": "white",
            "linecolor": "white",
            "ticks": ""
           }
          },
          "title": {
           "x": 0.05
          },
          "xaxis": {
           "automargin": true,
           "gridcolor": "white",
           "linecolor": "white",
           "ticks": "",
           "title": {
            "standoff": 15
           },
           "zerolinecolor": "white",
           "zerolinewidth": 2
          },
          "yaxis": {
           "automargin": true,
           "gridcolor": "white",
           "linecolor": "white",
           "ticks": "",
           "title": {
            "standoff": 15
           },
           "zerolinecolor": "white",
           "zerolinewidth": 2
          }
         }
        }
       }
      }
     },
     "metadata": {},
     "output_type": "display_data"
    }
   ],
   "source": [
    "## ONE STEP PREDICTION\n",
    "# Num dapat diubah-ubah untuk melihat trajectory yang berbeda-beda\n",
    "num = 20\n",
    "\n",
    "# Predict the next coords of entry \"num\" using the model\n",
    "num_of_timesteps = len(x_test[0])\n",
    "pred_coords = denormalizer(model.predict(x_test[num].reshape(1, num_of_timesteps, 2)))\n",
    "true_coords = denormalizer(y_test[num])\n",
    "\n",
    "# Print the true and predicted coordinates\n",
    "print(\"Prediction:\")\n",
    "print(pred_coords)\n",
    "\n",
    "print(\"True Coordinate:\")\n",
    "print(true_coords)\n",
    "\n",
    "\n",
    "## Map display of True Point vs Predicted Point\n",
    "# Get route coordinates\n",
    "past_lat = []\n",
    "past_lon = []\n",
    "\n",
    "for point in x_test[num]:\n",
    "  past_lat.append(point[0])\n",
    "  past_lon.append(point[1])\n",
    "\n",
    "# Get prediction coordinates\n",
    "pred_lat = []\n",
    "pred_lon = []\n",
    "\n",
    "for point in pred_coords[0]:\n",
    "  pred_lat.append(point[0])\n",
    "  pred_lon.append(point[1])\n",
    "\n",
    "# Get true coordinates from y\n",
    "true_lat = []\n",
    "true_lon = []\n",
    "\n",
    "for point in true_coords[0]:\n",
    "  true_lat.append(point[0])\n",
    "  true_lon.append(point[1])\n",
    "\n",
    "\n",
    "# Build the map\n",
    "fig = go.Figure()\n",
    "\n",
    "fig.add_trace(go.Scattermapbox(\n",
    "  mode=\"markers+lines\",\n",
    "  lat=past_lat,\n",
    "  lon=past_lon,\n",
    "  name=\"trip\",\n",
    "  marker={'size': 10}))\n",
    "\n",
    "fig.add_trace(go.Scattermapbox(\n",
    "  mode=\"markers\",\n",
    "  lat=pred_lat,\n",
    "  lon=pred_lon,\n",
    "  name=\"Predicted Point\",\n",
    "  marker={'size': 10, 'color': 'green'}))\n",
    "\n",
    "fig.add_trace(go.Scattermapbox(\n",
    "  mode=\"markers\",\n",
    "  lat=true_lat,\n",
    "  lon=true_lon,\n",
    "  name=\"True Point\",\n",
    "  marker={'size': 10, 'color': 'yellow'}))\n",
    "\n",
    "fig.update_layout(mapbox_style=\"open-street-map\",)\n",
    "fig.update_layout(\n",
    "  margin={\"r\":0,\"t\":0,\"l\":0,\"b\":0},\n",
    "  mapbox=dict(\n",
    "    zoom=10,\n",
    "    center=go.layout.mapbox.Center(\n",
    "            lat=-6.2,\n",
    "            lon=106.816\n",
    "        ),\n",
    "  ))\n",
    "fig.show()"
   ]
  },
  {
   "cell_type": "code",
   "execution_count": 74,
   "metadata": {},
   "outputs": [
    {
     "name": "stdout",
     "output_type": "stream",
     "text": [
      "\u001b[1m1/1\u001b[0m \u001b[32m━━━━━━━━━━━━━━━━━━━━\u001b[0m\u001b[37m\u001b[0m \u001b[1m0s\u001b[0m 32ms/step\n",
      "\u001b[1m1/1\u001b[0m \u001b[32m━━━━━━━━━━━━━━━━━━━━\u001b[0m\u001b[37m\u001b[0m \u001b[1m0s\u001b[0m 34ms/step\n",
      "\u001b[1m1/1\u001b[0m \u001b[32m━━━━━━━━━━━━━━━━━━━━\u001b[0m\u001b[37m\u001b[0m \u001b[1m0s\u001b[0m 28ms/step\n",
      "\u001b[1m1/1\u001b[0m \u001b[32m━━━━━━━━━━━━━━━━━━━━\u001b[0m\u001b[37m\u001b[0m \u001b[1m0s\u001b[0m 21ms/step\n",
      "\u001b[1m1/1\u001b[0m \u001b[32m━━━━━━━━━━━━━━━━━━━━\u001b[0m\u001b[37m\u001b[0m \u001b[1m0s\u001b[0m 24ms/step\n",
      "\u001b[1m1/1\u001b[0m \u001b[32m━━━━━━━━━━━━━━━━━━━━\u001b[0m\u001b[37m\u001b[0m \u001b[1m0s\u001b[0m 28ms/step\n",
      "\u001b[1m1/1\u001b[0m \u001b[32m━━━━━━━━━━━━━━━━━━━━\u001b[0m\u001b[37m\u001b[0m \u001b[1m0s\u001b[0m 27ms/step\n",
      "\u001b[1m1/1\u001b[0m \u001b[32m━━━━━━━━━━━━━━━━━━━━\u001b[0m\u001b[37m\u001b[0m \u001b[1m0s\u001b[0m 30ms/step\n",
      "\u001b[1m1/1\u001b[0m \u001b[32m━━━━━━━━━━━━━━━━━━━━\u001b[0m\u001b[37m\u001b[0m \u001b[1m0s\u001b[0m 28ms/step\n",
      "\u001b[1m1/1\u001b[0m \u001b[32m━━━━━━━━━━━━━━━━━━━━\u001b[0m\u001b[37m\u001b[0m \u001b[1m0s\u001b[0m 28ms/step\n",
      "\u001b[1m1/1\u001b[0m \u001b[32m━━━━━━━━━━━━━━━━━━━━\u001b[0m\u001b[37m\u001b[0m \u001b[1m0s\u001b[0m 31ms/step\n",
      "\u001b[1m1/1\u001b[0m \u001b[32m━━━━━━━━━━━━━━━━━━━━\u001b[0m\u001b[37m\u001b[0m \u001b[1m0s\u001b[0m 32ms/step\n",
      "Prediction:\n",
      "[[[-6.153151035308838, 106.79208374023438], [-6.1475653648376465, 106.790283203125], [-6.141993522644043, 106.78782653808594], [-6.137670516967773, 106.78465270996094], [-6.134208679199219, 106.78089141845703], [-6.1314826011657715, 106.7774887084961], [-6.129842281341553, 106.7747573852539], [-6.127762317657471, 106.77189636230469], [-6.127416610717773, 106.76825714111328], [-6.126842975616455, 106.76565551757812]], [[-6.122034072875977, 106.76487731933594], [-6.119673252105713, 106.76136779785156], [-6.117011070251465, 106.75826263427734], [-6.1165666580200195, 106.75519561767578], [-6.116995334625244, 106.75215148925781], [-6.11863374710083, 106.74854278564453], [-6.120555877685547, 106.7452392578125], [-6.121354579925537, 106.7408218383789], [-6.124591827392578, 106.7360610961914], [-6.124515533447266, 106.73332214355469]], [[-6.124044895172119, 106.73368072509766], [-6.12453556060791, 106.73313903808594], [-6.124617576599121, 106.73355865478516], [-6.125446796417236, 106.73453521728516], [-6.125664234161377, 106.7352294921875], [-6.126802921295166, 106.73580932617188], [-6.128608703613281, 106.73603820800781], [-6.128250598907471, 106.7356185913086], [-6.131677150726318, 106.7344970703125], [-6.131204605102539, 106.73463439941406]], [[-6.130196571350098, 106.73567962646484], [-6.129770755767822, 106.73516845703125], [-6.1294379234313965, 106.73481750488281], [-6.129434108734131, 106.73445129394531], [-6.129377841949463, 106.73413848876953], [-6.129805564880371, 106.7337417602539], [-6.13042688369751, 106.73341369628906], [-6.131032943725586, 106.73275756835938], [-6.132350921630859, 106.7320327758789], [-6.132721900939941, 106.73153686523438]], [[-6.135022163391113, 106.7329330444336], [-6.135311603546143, 106.73336029052734], [-6.13552713394165, 106.73363494873047], [-6.136197566986084, 106.73377990722656], [-6.136665344238281, 106.73399353027344], [-6.137545108795166, 106.73399353027344], [-6.1384100914001465, 106.73417663574219], [-6.138836860656738, 106.73379516601562], [-6.140161037445068, 106.7335433959961], [-6.140222072601318, 106.733642578125]], [[-6.142314910888672, 106.73564147949219], [-6.142728328704834, 106.73652648925781], [-6.143205642700195, 106.73787689208984], [-6.143679141998291, 106.73930358886719], [-6.14420747756958, 106.74081420898438], [-6.145220756530762, 106.7419204711914], [-6.14622688293457, 106.74291229248047], [-6.147320747375488, 106.7439956665039], [-6.14849853515625, 106.74491882324219], [-6.148935794830322, 106.7454833984375]], [[-6.151060581207275, 106.74798583984375], [-6.151691436767578, 106.7491683959961], [-6.152401447296143, 106.75086212158203], [-6.15293025970459, 106.7526626586914], [-6.153414249420166, 106.754638671875], [-6.1543426513671875, 106.75614929199219], [-6.155272483825684, 106.75750732421875], [-6.1563496589660645, 106.75894165039062], [-6.157493591308594, 106.76031494140625], [-6.157875061035156, 106.76106262207031]], [[-6.1594672203063965, 106.76347351074219], [-6.160062789916992, 106.76470184326172], [-6.160822868347168, 106.7664566040039], [-6.1613335609436035, 106.76832580566406], [-6.161722183227539, 106.77037048339844], [-6.162575721740723, 106.77205657958984], [-6.163540840148926, 106.77352905273438], [-6.164501667022705, 106.77499389648438], [-6.1655354499816895, 106.77662658691406], [-6.165927886962891, 106.77735900878906]], [[-6.167277812957764, 106.77977752685547], [-6.167872428894043, 106.781005859375], [-6.168671607971191, 106.78270721435547], [-6.169143199920654, 106.78453063964844], [-6.169488430023193, 106.78657531738281], [-6.170217037200928, 106.78831481933594], [-6.171091079711914, 106.78976440429688], [-6.172019004821777, 106.79120635986328], [-6.172794342041016, 106.79288482666016], [-6.173191547393799, 106.79353332519531]], [[-6.174466609954834, 106.79576110839844], [-6.175074577331543, 106.7967758178711], [-6.175915241241455, 106.7983169555664], [-6.1764397621154785, 106.80001068115234], [-6.176807403564453, 106.80196380615234], [-6.1774821281433105, 106.80366516113281], [-6.178357124328613, 106.80508422851562], [-6.179234504699707, 106.80647277832031], [-6.1799092292785645, 106.80815124511719], [-6.180328845977783, 106.8087158203125]], [[-6.181602954864502, 106.81063842773438], [-6.182115077972412, 106.81147003173828], [-6.182884693145752, 106.8128890991211], [-6.1834282875061035, 106.81453704833984], [-6.1837944984436035, 106.81640625], [-6.184422492980957, 106.81812286376953], [-6.185290336608887, 106.81954956054688], [-6.186067581176758, 106.8209228515625], [-6.186764240264893, 106.82256317138672], [-6.187124252319336, 106.82318878173828]], [[-6.1883320808410645, 106.82489013671875], [-6.188619613647461, 106.8256607055664], [-6.189197063446045, 106.8270492553711], [-6.189672946929932, 106.8287353515625], [-6.189945697784424, 106.83053588867188], [-6.190458297729492, 106.83231353759766], [-6.1912384033203125, 106.833740234375], [-6.19186544418335, 106.83509826660156], [-6.192579746246338, 106.8366928100586], [-6.192811489105225, 106.83741760253906]]]\n",
      "True Coordinate:\n",
      "tf.Tensor(\n",
      "[[[ -6.1493716 106.79205  ]\n",
      "  [ -6.1407957 106.78761  ]\n",
      "  [ -6.136551  106.785934 ]\n",
      "  [ -6.1326094 106.78447  ]\n",
      "  [ -6.1285906 106.77981  ]\n",
      "  [ -6.1233883 106.77552  ]\n",
      "  [ -6.1216407 106.771736 ]\n",
      "  [ -6.121873  106.769775 ]\n",
      "  [ -6.1225424 106.76411  ]\n",
      "  [ -6.1230063 106.758514 ]]], shape=(1, 10, 2), dtype=float32)\n"
     ]
    },
    {
     "data": {
      "application/vnd.plotly.v1+json": {
       "config": {
        "plotlyServerURL": "https://plot.ly"
       },
       "data": [
        {
         "lat": [
          -6.218959013370188,
          -6.218959013370188,
          -6.218959013370188,
          -6.218959013370188,
          -6.218959013370188,
          -6.218959013370188,
          -6.218959013370188,
          -6.218959013370188,
          -6.218959013370188,
          -6.218959013370188,
          -6.218959013370188,
          -6.218959013370188,
          -6.218959013370188,
          -6.218959013370188,
          -6.218959013370188,
          -6.218959013370188,
          -6.218959013370188,
          -6.218959013370188,
          -6.218959013370188,
          -6.218959013370188,
          -6.218959013370188,
          -6.218959013370188,
          -6.218959013370188,
          -6.218959013370188,
          -6.218959013370188,
          -6.218959013370188,
          -6.218959013370188,
          -6.218959013370188,
          -6.218959013370188,
          -6.218959013370188,
          -6.218959013370188,
          -6.218959013370188,
          -6.218959013370188,
          -6.218959013370188,
          -6.218959013370188,
          -6.218959013370188,
          -6.218959013370188,
          -6.218959013370188,
          -6.218959013370188,
          -6.218959013370188,
          -6.218959013370188,
          -6.21686910444835,
          -6.216463518251387,
          -6.215824512032103,
          -6.214713795946783,
          -6.210930972181272,
          -6.203999253045987,
          -6.192020067238593,
          -6.179652015913016,
          -6.17005176947194,
          -6.160705896848896
         ],
         "lon": [
          106.811820603624,
          106.811820603624,
          106.811820603624,
          106.811820603624,
          106.811820603624,
          106.811820603624,
          106.811820603624,
          106.811820603624,
          106.811820603624,
          106.811820603624,
          106.811820603624,
          106.811820603624,
          106.811820603624,
          106.811820603624,
          106.811820603624,
          106.811820603624,
          106.811820603624,
          106.811820603624,
          106.811820603624,
          106.811820603624,
          106.811820603624,
          106.811820603624,
          106.811820603624,
          106.811820603624,
          106.811820603624,
          106.811820603624,
          106.811820603624,
          106.811820603624,
          106.811820603624,
          106.811820603624,
          106.811820603624,
          106.811820603624,
          106.811820603624,
          106.811820603624,
          106.811820603624,
          106.811820603624,
          106.811820603624,
          106.811820603624,
          106.811820603624,
          106.811820603624,
          106.811820603624,
          106.81041520685662,
          106.81013009290692,
          106.809757062087,
          106.80905919398188,
          106.80597413433622,
          106.80083854081067,
          106.797152663846,
          106.79525089991628,
          106.78959388330972,
          106.79091745368432
         ],
         "marker": {
          "size": 10
         },
         "mode": "markers+lines",
         "name": "trip",
         "type": "scattermapbox"
        },
        {
         "lat": [
          -6.153151035308838,
          -6.1475653648376465,
          -6.141993522644043,
          -6.137670516967773,
          -6.134208679199219,
          -6.1314826011657715,
          -6.129842281341553,
          -6.127762317657471,
          -6.127416610717773,
          -6.126842975616455,
          -6.122034072875977,
          -6.119673252105713,
          -6.117011070251465,
          -6.1165666580200195,
          -6.116995334625244,
          -6.11863374710083,
          -6.120555877685547,
          -6.121354579925537,
          -6.124591827392578,
          -6.124515533447266,
          -6.124044895172119,
          -6.12453556060791,
          -6.124617576599121,
          -6.125446796417236,
          -6.125664234161377,
          -6.126802921295166,
          -6.128608703613281,
          -6.128250598907471,
          -6.131677150726318,
          -6.131204605102539,
          -6.130196571350098,
          -6.129770755767822,
          -6.1294379234313965,
          -6.129434108734131,
          -6.129377841949463,
          -6.129805564880371,
          -6.13042688369751,
          -6.131032943725586,
          -6.132350921630859,
          -6.132721900939941,
          -6.135022163391113,
          -6.135311603546143,
          -6.13552713394165,
          -6.136197566986084,
          -6.136665344238281,
          -6.137545108795166,
          -6.1384100914001465,
          -6.138836860656738,
          -6.140161037445068,
          -6.140222072601318,
          -6.142314910888672,
          -6.142728328704834,
          -6.143205642700195,
          -6.143679141998291,
          -6.14420747756958,
          -6.145220756530762,
          -6.14622688293457,
          -6.147320747375488,
          -6.14849853515625,
          -6.148935794830322,
          -6.151060581207275,
          -6.151691436767578,
          -6.152401447296143,
          -6.15293025970459,
          -6.153414249420166,
          -6.1543426513671875,
          -6.155272483825684,
          -6.1563496589660645,
          -6.157493591308594,
          -6.157875061035156,
          -6.1594672203063965,
          -6.160062789916992,
          -6.160822868347168,
          -6.1613335609436035,
          -6.161722183227539,
          -6.162575721740723,
          -6.163540840148926,
          -6.164501667022705,
          -6.1655354499816895,
          -6.165927886962891,
          -6.167277812957764,
          -6.167872428894043,
          -6.168671607971191,
          -6.169143199920654,
          -6.169488430023193,
          -6.170217037200928,
          -6.171091079711914,
          -6.172019004821777,
          -6.172794342041016,
          -6.173191547393799,
          -6.174466609954834,
          -6.175074577331543,
          -6.175915241241455,
          -6.1764397621154785,
          -6.176807403564453,
          -6.1774821281433105,
          -6.178357124328613,
          -6.179234504699707,
          -6.1799092292785645,
          -6.180328845977783,
          -6.181602954864502,
          -6.182115077972412,
          -6.182884693145752,
          -6.1834282875061035,
          -6.1837944984436035,
          -6.184422492980957,
          -6.185290336608887,
          -6.186067581176758,
          -6.186764240264893,
          -6.187124252319336,
          -6.1883320808410645,
          -6.188619613647461,
          -6.189197063446045,
          -6.189672946929932,
          -6.189945697784424,
          -6.190458297729492,
          -6.1912384033203125,
          -6.19186544418335,
          -6.192579746246338,
          -6.192811489105225
         ],
         "lon": [
          106.79208374023438,
          106.790283203125,
          106.78782653808594,
          106.78465270996094,
          106.78089141845703,
          106.7774887084961,
          106.7747573852539,
          106.77189636230469,
          106.76825714111328,
          106.76565551757812,
          106.76487731933594,
          106.76136779785156,
          106.75826263427734,
          106.75519561767578,
          106.75215148925781,
          106.74854278564453,
          106.7452392578125,
          106.7408218383789,
          106.7360610961914,
          106.73332214355469,
          106.73368072509766,
          106.73313903808594,
          106.73355865478516,
          106.73453521728516,
          106.7352294921875,
          106.73580932617188,
          106.73603820800781,
          106.7356185913086,
          106.7344970703125,
          106.73463439941406,
          106.73567962646484,
          106.73516845703125,
          106.73481750488281,
          106.73445129394531,
          106.73413848876953,
          106.7337417602539,
          106.73341369628906,
          106.73275756835938,
          106.7320327758789,
          106.73153686523438,
          106.7329330444336,
          106.73336029052734,
          106.73363494873047,
          106.73377990722656,
          106.73399353027344,
          106.73399353027344,
          106.73417663574219,
          106.73379516601562,
          106.7335433959961,
          106.733642578125,
          106.73564147949219,
          106.73652648925781,
          106.73787689208984,
          106.73930358886719,
          106.74081420898438,
          106.7419204711914,
          106.74291229248047,
          106.7439956665039,
          106.74491882324219,
          106.7454833984375,
          106.74798583984375,
          106.7491683959961,
          106.75086212158203,
          106.7526626586914,
          106.754638671875,
          106.75614929199219,
          106.75750732421875,
          106.75894165039062,
          106.76031494140625,
          106.76106262207031,
          106.76347351074219,
          106.76470184326172,
          106.7664566040039,
          106.76832580566406,
          106.77037048339844,
          106.77205657958984,
          106.77352905273438,
          106.77499389648438,
          106.77662658691406,
          106.77735900878906,
          106.77977752685547,
          106.781005859375,
          106.78270721435547,
          106.78453063964844,
          106.78657531738281,
          106.78831481933594,
          106.78976440429688,
          106.79120635986328,
          106.79288482666016,
          106.79353332519531,
          106.79576110839844,
          106.7967758178711,
          106.7983169555664,
          106.80001068115234,
          106.80196380615234,
          106.80366516113281,
          106.80508422851562,
          106.80647277832031,
          106.80815124511719,
          106.8087158203125,
          106.81063842773438,
          106.81147003173828,
          106.8128890991211,
          106.81453704833984,
          106.81640625,
          106.81812286376953,
          106.81954956054688,
          106.8209228515625,
          106.82256317138672,
          106.82318878173828,
          106.82489013671875,
          106.8256607055664,
          106.8270492553711,
          106.8287353515625,
          106.83053588867188,
          106.83231353759766,
          106.833740234375,
          106.83509826660156,
          106.8366928100586,
          106.83741760253906
         ],
         "marker": {
          "color": "green",
          "size": 10
         },
         "mode": "markers+lines",
         "name": "Predicted Point",
         "type": "scattermapbox"
        },
        {
         "lat": [
          -6.14937162399292,
          -6.140795707702637,
          -6.1365509033203125,
          -6.1326093673706055,
          -6.1285905838012695,
          -6.123388290405273,
          -6.121640682220459,
          -6.121872901916504,
          -6.122542381286621,
          -6.123006343841553
         ],
         "lon": [
          106.79205322265625,
          106.78761291503906,
          106.78593444824219,
          106.78446960449219,
          106.7798080444336,
          106.77552032470703,
          106.77173614501953,
          106.769775390625,
          106.76410675048828,
          106.75851440429688
         ],
         "marker": {
          "color": "yellow",
          "size": 10
         },
         "mode": "markers",
         "name": "True Point",
         "type": "scattermapbox"
        }
       ],
       "layout": {
        "mapbox": {
         "center": {
          "lat": -6.2,
          "lon": 106.816
         },
         "style": "open-street-map",
         "zoom": 10
        },
        "margin": {
         "b": 0,
         "l": 0,
         "r": 0,
         "t": 0
        },
        "template": {
         "data": {
          "bar": [
           {
            "error_x": {
             "color": "#2a3f5f"
            },
            "error_y": {
             "color": "#2a3f5f"
            },
            "marker": {
             "line": {
              "color": "#E5ECF6",
              "width": 0.5
             },
             "pattern": {
              "fillmode": "overlay",
              "size": 10,
              "solidity": 0.2
             }
            },
            "type": "bar"
           }
          ],
          "barpolar": [
           {
            "marker": {
             "line": {
              "color": "#E5ECF6",
              "width": 0.5
             },
             "pattern": {
              "fillmode": "overlay",
              "size": 10,
              "solidity": 0.2
             }
            },
            "type": "barpolar"
           }
          ],
          "carpet": [
           {
            "aaxis": {
             "endlinecolor": "#2a3f5f",
             "gridcolor": "white",
             "linecolor": "white",
             "minorgridcolor": "white",
             "startlinecolor": "#2a3f5f"
            },
            "baxis": {
             "endlinecolor": "#2a3f5f",
             "gridcolor": "white",
             "linecolor": "white",
             "minorgridcolor": "white",
             "startlinecolor": "#2a3f5f"
            },
            "type": "carpet"
           }
          ],
          "choropleth": [
           {
            "colorbar": {
             "outlinewidth": 0,
             "ticks": ""
            },
            "type": "choropleth"
           }
          ],
          "contour": [
           {
            "colorbar": {
             "outlinewidth": 0,
             "ticks": ""
            },
            "colorscale": [
             [
              0,
              "#0d0887"
             ],
             [
              0.1111111111111111,
              "#46039f"
             ],
             [
              0.2222222222222222,
              "#7201a8"
             ],
             [
              0.3333333333333333,
              "#9c179e"
             ],
             [
              0.4444444444444444,
              "#bd3786"
             ],
             [
              0.5555555555555556,
              "#d8576b"
             ],
             [
              0.6666666666666666,
              "#ed7953"
             ],
             [
              0.7777777777777778,
              "#fb9f3a"
             ],
             [
              0.8888888888888888,
              "#fdca26"
             ],
             [
              1,
              "#f0f921"
             ]
            ],
            "type": "contour"
           }
          ],
          "contourcarpet": [
           {
            "colorbar": {
             "outlinewidth": 0,
             "ticks": ""
            },
            "type": "contourcarpet"
           }
          ],
          "heatmap": [
           {
            "colorbar": {
             "outlinewidth": 0,
             "ticks": ""
            },
            "colorscale": [
             [
              0,
              "#0d0887"
             ],
             [
              0.1111111111111111,
              "#46039f"
             ],
             [
              0.2222222222222222,
              "#7201a8"
             ],
             [
              0.3333333333333333,
              "#9c179e"
             ],
             [
              0.4444444444444444,
              "#bd3786"
             ],
             [
              0.5555555555555556,
              "#d8576b"
             ],
             [
              0.6666666666666666,
              "#ed7953"
             ],
             [
              0.7777777777777778,
              "#fb9f3a"
             ],
             [
              0.8888888888888888,
              "#fdca26"
             ],
             [
              1,
              "#f0f921"
             ]
            ],
            "type": "heatmap"
           }
          ],
          "heatmapgl": [
           {
            "colorbar": {
             "outlinewidth": 0,
             "ticks": ""
            },
            "colorscale": [
             [
              0,
              "#0d0887"
             ],
             [
              0.1111111111111111,
              "#46039f"
             ],
             [
              0.2222222222222222,
              "#7201a8"
             ],
             [
              0.3333333333333333,
              "#9c179e"
             ],
             [
              0.4444444444444444,
              "#bd3786"
             ],
             [
              0.5555555555555556,
              "#d8576b"
             ],
             [
              0.6666666666666666,
              "#ed7953"
             ],
             [
              0.7777777777777778,
              "#fb9f3a"
             ],
             [
              0.8888888888888888,
              "#fdca26"
             ],
             [
              1,
              "#f0f921"
             ]
            ],
            "type": "heatmapgl"
           }
          ],
          "histogram": [
           {
            "marker": {
             "pattern": {
              "fillmode": "overlay",
              "size": 10,
              "solidity": 0.2
             }
            },
            "type": "histogram"
           }
          ],
          "histogram2d": [
           {
            "colorbar": {
             "outlinewidth": 0,
             "ticks": ""
            },
            "colorscale": [
             [
              0,
              "#0d0887"
             ],
             [
              0.1111111111111111,
              "#46039f"
             ],
             [
              0.2222222222222222,
              "#7201a8"
             ],
             [
              0.3333333333333333,
              "#9c179e"
             ],
             [
              0.4444444444444444,
              "#bd3786"
             ],
             [
              0.5555555555555556,
              "#d8576b"
             ],
             [
              0.6666666666666666,
              "#ed7953"
             ],
             [
              0.7777777777777778,
              "#fb9f3a"
             ],
             [
              0.8888888888888888,
              "#fdca26"
             ],
             [
              1,
              "#f0f921"
             ]
            ],
            "type": "histogram2d"
           }
          ],
          "histogram2dcontour": [
           {
            "colorbar": {
             "outlinewidth": 0,
             "ticks": ""
            },
            "colorscale": [
             [
              0,
              "#0d0887"
             ],
             [
              0.1111111111111111,
              "#46039f"
             ],
             [
              0.2222222222222222,
              "#7201a8"
             ],
             [
              0.3333333333333333,
              "#9c179e"
             ],
             [
              0.4444444444444444,
              "#bd3786"
             ],
             [
              0.5555555555555556,
              "#d8576b"
             ],
             [
              0.6666666666666666,
              "#ed7953"
             ],
             [
              0.7777777777777778,
              "#fb9f3a"
             ],
             [
              0.8888888888888888,
              "#fdca26"
             ],
             [
              1,
              "#f0f921"
             ]
            ],
            "type": "histogram2dcontour"
           }
          ],
          "mesh3d": [
           {
            "colorbar": {
             "outlinewidth": 0,
             "ticks": ""
            },
            "type": "mesh3d"
           }
          ],
          "parcoords": [
           {
            "line": {
             "colorbar": {
              "outlinewidth": 0,
              "ticks": ""
             }
            },
            "type": "parcoords"
           }
          ],
          "pie": [
           {
            "automargin": true,
            "type": "pie"
           }
          ],
          "scatter": [
           {
            "fillpattern": {
             "fillmode": "overlay",
             "size": 10,
             "solidity": 0.2
            },
            "type": "scatter"
           }
          ],
          "scatter3d": [
           {
            "line": {
             "colorbar": {
              "outlinewidth": 0,
              "ticks": ""
             }
            },
            "marker": {
             "colorbar": {
              "outlinewidth": 0,
              "ticks": ""
             }
            },
            "type": "scatter3d"
           }
          ],
          "scattercarpet": [
           {
            "marker": {
             "colorbar": {
              "outlinewidth": 0,
              "ticks": ""
             }
            },
            "type": "scattercarpet"
           }
          ],
          "scattergeo": [
           {
            "marker": {
             "colorbar": {
              "outlinewidth": 0,
              "ticks": ""
             }
            },
            "type": "scattergeo"
           }
          ],
          "scattergl": [
           {
            "marker": {
             "colorbar": {
              "outlinewidth": 0,
              "ticks": ""
             }
            },
            "type": "scattergl"
           }
          ],
          "scattermapbox": [
           {
            "marker": {
             "colorbar": {
              "outlinewidth": 0,
              "ticks": ""
             }
            },
            "type": "scattermapbox"
           }
          ],
          "scatterpolar": [
           {
            "marker": {
             "colorbar": {
              "outlinewidth": 0,
              "ticks": ""
             }
            },
            "type": "scatterpolar"
           }
          ],
          "scatterpolargl": [
           {
            "marker": {
             "colorbar": {
              "outlinewidth": 0,
              "ticks": ""
             }
            },
            "type": "scatterpolargl"
           }
          ],
          "scatterternary": [
           {
            "marker": {
             "colorbar": {
              "outlinewidth": 0,
              "ticks": ""
             }
            },
            "type": "scatterternary"
           }
          ],
          "surface": [
           {
            "colorbar": {
             "outlinewidth": 0,
             "ticks": ""
            },
            "colorscale": [
             [
              0,
              "#0d0887"
             ],
             [
              0.1111111111111111,
              "#46039f"
             ],
             [
              0.2222222222222222,
              "#7201a8"
             ],
             [
              0.3333333333333333,
              "#9c179e"
             ],
             [
              0.4444444444444444,
              "#bd3786"
             ],
             [
              0.5555555555555556,
              "#d8576b"
             ],
             [
              0.6666666666666666,
              "#ed7953"
             ],
             [
              0.7777777777777778,
              "#fb9f3a"
             ],
             [
              0.8888888888888888,
              "#fdca26"
             ],
             [
              1,
              "#f0f921"
             ]
            ],
            "type": "surface"
           }
          ],
          "table": [
           {
            "cells": {
             "fill": {
              "color": "#EBF0F8"
             },
             "line": {
              "color": "white"
             }
            },
            "header": {
             "fill": {
              "color": "#C8D4E3"
             },
             "line": {
              "color": "white"
             }
            },
            "type": "table"
           }
          ]
         },
         "layout": {
          "annotationdefaults": {
           "arrowcolor": "#2a3f5f",
           "arrowhead": 0,
           "arrowwidth": 1
          },
          "autotypenumbers": "strict",
          "coloraxis": {
           "colorbar": {
            "outlinewidth": 0,
            "ticks": ""
           }
          },
          "colorscale": {
           "diverging": [
            [
             0,
             "#8e0152"
            ],
            [
             0.1,
             "#c51b7d"
            ],
            [
             0.2,
             "#de77ae"
            ],
            [
             0.3,
             "#f1b6da"
            ],
            [
             0.4,
             "#fde0ef"
            ],
            [
             0.5,
             "#f7f7f7"
            ],
            [
             0.6,
             "#e6f5d0"
            ],
            [
             0.7,
             "#b8e186"
            ],
            [
             0.8,
             "#7fbc41"
            ],
            [
             0.9,
             "#4d9221"
            ],
            [
             1,
             "#276419"
            ]
           ],
           "sequential": [
            [
             0,
             "#0d0887"
            ],
            [
             0.1111111111111111,
             "#46039f"
            ],
            [
             0.2222222222222222,
             "#7201a8"
            ],
            [
             0.3333333333333333,
             "#9c179e"
            ],
            [
             0.4444444444444444,
             "#bd3786"
            ],
            [
             0.5555555555555556,
             "#d8576b"
            ],
            [
             0.6666666666666666,
             "#ed7953"
            ],
            [
             0.7777777777777778,
             "#fb9f3a"
            ],
            [
             0.8888888888888888,
             "#fdca26"
            ],
            [
             1,
             "#f0f921"
            ]
           ],
           "sequentialminus": [
            [
             0,
             "#0d0887"
            ],
            [
             0.1111111111111111,
             "#46039f"
            ],
            [
             0.2222222222222222,
             "#7201a8"
            ],
            [
             0.3333333333333333,
             "#9c179e"
            ],
            [
             0.4444444444444444,
             "#bd3786"
            ],
            [
             0.5555555555555556,
             "#d8576b"
            ],
            [
             0.6666666666666666,
             "#ed7953"
            ],
            [
             0.7777777777777778,
             "#fb9f3a"
            ],
            [
             0.8888888888888888,
             "#fdca26"
            ],
            [
             1,
             "#f0f921"
            ]
           ]
          },
          "colorway": [
           "#636efa",
           "#EF553B",
           "#00cc96",
           "#ab63fa",
           "#FFA15A",
           "#19d3f3",
           "#FF6692",
           "#B6E880",
           "#FF97FF",
           "#FECB52"
          ],
          "font": {
           "color": "#2a3f5f"
          },
          "geo": {
           "bgcolor": "white",
           "lakecolor": "white",
           "landcolor": "#E5ECF6",
           "showlakes": true,
           "showland": true,
           "subunitcolor": "white"
          },
          "hoverlabel": {
           "align": "left"
          },
          "hovermode": "closest",
          "mapbox": {
           "style": "light"
          },
          "paper_bgcolor": "white",
          "plot_bgcolor": "#E5ECF6",
          "polar": {
           "angularaxis": {
            "gridcolor": "white",
            "linecolor": "white",
            "ticks": ""
           },
           "bgcolor": "#E5ECF6",
           "radialaxis": {
            "gridcolor": "white",
            "linecolor": "white",
            "ticks": ""
           }
          },
          "scene": {
           "xaxis": {
            "backgroundcolor": "#E5ECF6",
            "gridcolor": "white",
            "gridwidth": 2,
            "linecolor": "white",
            "showbackground": true,
            "ticks": "",
            "zerolinecolor": "white"
           },
           "yaxis": {
            "backgroundcolor": "#E5ECF6",
            "gridcolor": "white",
            "gridwidth": 2,
            "linecolor": "white",
            "showbackground": true,
            "ticks": "",
            "zerolinecolor": "white"
           },
           "zaxis": {
            "backgroundcolor": "#E5ECF6",
            "gridcolor": "white",
            "gridwidth": 2,
            "linecolor": "white",
            "showbackground": true,
            "ticks": "",
            "zerolinecolor": "white"
           }
          },
          "shapedefaults": {
           "line": {
            "color": "#2a3f5f"
           }
          },
          "ternary": {
           "aaxis": {
            "gridcolor": "white",
            "linecolor": "white",
            "ticks": ""
           },
           "baxis": {
            "gridcolor": "white",
            "linecolor": "white",
            "ticks": ""
           },
           "bgcolor": "#E5ECF6",
           "caxis": {
            "gridcolor": "white",
            "linecolor": "white",
            "ticks": ""
           }
          },
          "title": {
           "x": 0.05
          },
          "xaxis": {
           "automargin": true,
           "gridcolor": "white",
           "linecolor": "white",
           "ticks": "",
           "title": {
            "standoff": 15
           },
           "zerolinecolor": "white",
           "zerolinewidth": 2
          },
          "yaxis": {
           "automargin": true,
           "gridcolor": "white",
           "linecolor": "white",
           "ticks": "",
           "title": {
            "standoff": 15
           },
           "zerolinecolor": "white",
           "zerolinewidth": 2
          }
         }
        }
       }
      }
     },
     "metadata": {},
     "output_type": "display_data"
    }
   ],
   "source": [
    "## MULTI STEP PREDICTION\n",
    "# Num dapat diubah-ubah untuk melihat trajectory yang berbeda-beda\n",
    "num = 1\n",
    "steps = 12\n",
    "\n",
    "# Good num = 1\n",
    "\n",
    "# Predict the next \"step\" coords of entry \"num\" using the model\n",
    "num_of_timesteps = len(x_test[0])\n",
    "x_data = x_test[num] # Data that will be fed to the model\n",
    "\n",
    "pred_coords = []\n",
    "for i in range(steps):\n",
    "  current_pred = denormalizer(model.predict(x_data.reshape(1, num_of_timesteps, 2))).numpy().tolist()[0]\n",
    "\n",
    "  pred_coords.append(current_pred)\n",
    "\n",
    "  x_data = x_data[10:, :]\n",
    "  \n",
    "  x_data = np.append(x_data, current_pred, axis=0)\n",
    "\n",
    "true_coords = denormalizer(y_test[num])\n",
    "\n",
    "# Print the true and predicted coordinates\n",
    "print(\"Prediction:\")\n",
    "print(pred_coords)\n",
    "\n",
    "print(\"True Coordinate:\")\n",
    "print(true_coords)\n",
    "\n",
    "\n",
    "### Map display of True Point vs Predicted Point\n",
    "\n",
    "# Get route coordinates\n",
    "past_lat = []\n",
    "past_lon = []\n",
    "for point in x_test[num]:\n",
    "  past_lat.append(point[0])\n",
    "  past_lon.append(point[1])\n",
    "\n",
    "# Get prediction coordinates\n",
    "pred_lat = []\n",
    "pred_lon = []\n",
    "for step in pred_coords:\n",
    "  for point in step:\n",
    "    pred_lat.append(point[0])\n",
    "    pred_lon.append(point[1])\n",
    "\n",
    "# Get true coordinates from y\n",
    "true_lat = []\n",
    "true_lon = []\n",
    "\n",
    "for point in true_coords[0]:\n",
    "  true_lat.append(point[0])\n",
    "  true_lon.append(point[1])\n",
    "\n",
    "# Build the map\n",
    "fig = go.Figure()\n",
    "\n",
    "# Plot previous path\n",
    "fig.add_trace(go.Scattermapbox(\n",
    "  mode=\"markers+lines\",\n",
    "  lat=past_lat,\n",
    "  lon=past_lon,\n",
    "  name=\"trip\",\n",
    "  marker={'size': 10}))\n",
    "\n",
    "# Plot predicted path\n",
    "fig.add_trace(go.Scattermapbox(\n",
    "  mode=\"markers+lines\",\n",
    "  lat=pred_lat,\n",
    "  lon=pred_lon,\n",
    "  name=\"Predicted Point\",\n",
    "  marker={'size': 10, 'color': 'green'}))\n",
    "\n",
    "fig.add_trace(go.Scattermapbox(\n",
    "  mode=\"markers\",\n",
    "  lat=true_lat,\n",
    "  lon=true_lon,\n",
    "  name=\"True Point\",\n",
    "  marker={'size': 10, 'color': 'yellow'}))\n",
    "\n",
    "fig.update_layout(mapbox_style=\"open-street-map\",)\n",
    "fig.update_layout(\n",
    "  margin={\"r\":0,\"t\":0,\"l\":0,\"b\":0},\n",
    "  mapbox=dict(\n",
    "    zoom=10,\n",
    "    center=go.layout.mapbox.Center(\n",
    "            lat=-6.2,\n",
    "            lon=106.816\n",
    "        ),\n",
    "  ))\n",
    "fig.show()"
   ]
  }
 ],
 "metadata": {
  "kernelspec": {
   "display_name": "Python 3",
   "language": "python",
   "name": "python3"
  },
  "language_info": {
   "codemirror_mode": {
    "name": "ipython",
    "version": 3
   },
   "file_extension": ".py",
   "mimetype": "text/x-python",
   "name": "python",
   "nbconvert_exporter": "python",
   "pygments_lexer": "ipython3",
   "version": "3.9.13"
  }
 },
 "nbformat": 4,
 "nbformat_minor": 2
}
