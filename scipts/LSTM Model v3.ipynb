{
 "cells": [
  {
   "cell_type": "markdown",
   "metadata": {},
   "source": [
    "<h2>FINAL DATA PREPROCESSING & MODEL TRAINING</h2>\n",
    "\n",
    "Script ini digunakan untuk mempreprocess data menjadi data final yang dapat digunakan untuk training model, dan training model LSTM itu sendiri. Secara umum, script ini meliputi:\n",
    "<h4>Data Preprocessing</h4>\n",
    "- Padding & Truncating data, pada dasarnya memastikan seluruh trj_id memiliki jumlah data yang sama, yakni 20 data, dengan menambahkan data yang kurang dengan 0 dan memotong data yang kelebihan dan mengambil 20 data paling belakang.\n",
    "- Membagi data menjadi X (koordinat, keceptan, dll yang dimasukkan ke model untuk melatih model) dan y (koordinat yang benar untuk dibandingkan dengan koordinat hasil prediksi model). y akan diambil dari koordinat terakhir tiap trajectory.\n",
    "- Membagi data menjadi training data dan testing data, dengan pembagian 90%/10%.\n",
    "<br/>\n",
    "<h4>Model Training</h4>\n",
    "- Mendefinisikan dan melatih model LSTM berdasarkan data yang telah siap.\n",
    "- Arsitektur, epoch, loss, optimizer, dan dll dapat dengan bebas diubah-ubah untuk mencoba model lain.\n",
    "<br/>\n",
    "Jika ingin melihat performa model pertama yang telah saya latih, maka model itu sudah disave dalam folder models dengan nama model_v1.keras. Model dapat ditest menggunakan script Model Test.ipynb"
   ]
  },
  {
   "cell_type": "code",
   "execution_count": 48,
   "metadata": {},
   "outputs": [],
   "source": [
    "## Import libraries\n",
    "import pandas as pd\n",
    "import numpy as np\n",
    "import tensorflow as tf\n",
    "from sklearn.model_selection import train_test_split\n",
    "import datetime"
   ]
  },
  {
   "cell_type": "code",
   "execution_count": 49,
   "metadata": {},
   "outputs": [
    {
     "name": "stdout",
     "output_type": "stream",
     "text": [
      "The tensorboard extension is already loaded. To reload it, use:\n",
      "  %reload_ext tensorboard\n"
     ]
    }
   ],
   "source": [
    "# Load Tensorboard\n",
    "%load_ext tensorboard"
   ]
  },
  {
   "cell_type": "code",
   "execution_count": 50,
   "metadata": {},
   "outputs": [
    {
     "name": "stdout",
     "output_type": "stream",
     "text": [
      "          rawlat      rawlng      speed     bearing  hour_of_day  day_of_week\n",
      "trj_id                                                                       \n",
      "1      -6.198042  106.769008   4.322800  179.920000           14            3\n",
      "1      -6.200972  106.769202   8.014167  173.233333           14            3\n",
      "1      -6.205394  106.769768  10.116136  171.477273           14            3\n",
      "1      -6.210496  106.771217   9.307667  156.683333           14            3\n",
      "1      -6.214969  106.773830  10.103333  139.777778           14            3\n",
      "...          ...         ...        ...         ...          ...          ...\n",
      "9999   -6.187751  106.845707  10.584667  329.600000            4            6\n",
      "9999   -6.184123  106.843546   4.508780  324.512195            4            6\n",
      "9999   -6.182706  106.842869   2.776724  287.137931            4            6\n",
      "9999   -6.180504  106.842337   5.244333  326.850000            4            6\n",
      "9999   -6.179029  106.841998   2.330952  231.095238            4            6\n",
      "\n",
      "[1221233 rows x 6 columns]\n"
     ]
    }
   ],
   "source": [
    "## Read data from csv\n",
    "resampled_data = pd.read_csv('../clean_data.csv', index_col='trj_id').drop('Unnamed: 1', axis=1)\n",
    "print(resampled_data)"
   ]
  },
  {
   "cell_type": "code",
   "execution_count": 51,
   "metadata": {},
   "outputs": [],
   "source": [
    "# Pad and truncate the timestamps in the dataframe\n",
    "# Ini buat kita samain input modelnya, gw potong timestampnya jadi pasti ada 20 timestamp per sample. Kalo lebih dipotong, kalo kurang ditambahin 0 di depannya\n",
    "# Pad value None --> pake koordinat pertama\n",
    "\n",
    "def pad_truncate_dataframe(df, max_len, padding='pre', truncating='post', pad_value=None):\n",
    "  # Split the dataframe by samples (first level of multi-index)\n",
    "  samples = df.groupby(level=0)\n",
    "\n",
    "  # Define a function to pad/truncate a single sample\n",
    "  def pad_truncate_sample(sample):\n",
    "    # Extract the values from a single sample\n",
    "    values = sample.values\n",
    "    first_element = values[0]\n",
    "    first_element[2] = 0\n",
    "    first_element[3] = 0\n",
    "\n",
    "    # Pad/truncate automatically using pad_sequences\n",
    "    if pad_value == None:\n",
    "      padded_truncated = tf.keras.preprocessing.sequence.pad_sequences(\n",
    "          [values], maxlen=max_len, padding=padding, truncating=truncating, value=first_element, dtype='float64'\n",
    "      )[0]\n",
    "    else:\n",
    "      padded_truncated = tf.keras.preprocessing.sequence.pad_sequences(\n",
    "          [values], maxlen=max_len, padding=padding, truncating=truncating, value=pad_value, dtype='float64'\n",
    "      )[0]\n",
    "\n",
    "    # Convert back to pandas dataframe\n",
    "    return pd.DataFrame(padded_truncated, columns=sample.columns)\n",
    "\n",
    "  # Apply the function to each sample and recreate the multi-index dataframe\n",
    "  padded_df = samples.apply(pad_truncate_sample)\n",
    "  return padded_df\n",
    "\n",
    "df_new = pad_truncate_dataframe(resampled_data, 61)"
   ]
  },
  {
   "cell_type": "code",
   "execution_count": 52,
   "metadata": {},
   "outputs": [
    {
     "data": {
      "text/plain": [
       "(55994, 61, 6)"
      ]
     },
     "execution_count": 52,
     "metadata": {},
     "output_type": "execute_result"
    }
   ],
   "source": [
    "## Convert the multi index dataframe to a numpy 3D array for better integration to TensorFlow (samples, timesteps, features)\n",
    "numpy_data = df_new.to_xarray().to_array().to_numpy()\n",
    "numpy_data = np.transpose(numpy_data, (1, 2, 0))\n",
    "numpy_data.shape # Should be (55994, 21, 6) if 55994 samples, 21 timesteps, and 6 features"
   ]
  },
  {
   "cell_type": "code",
   "execution_count": 53,
   "metadata": {},
   "outputs": [],
   "source": [
    "output_steps = 10\n",
    "\n",
    "## Split the data to x (feature values) and y (target values)\n",
    "simple_data = numpy_data[:, :, 0:2]\n",
    "x_data = simple_data[:, :-output_steps, :]\n",
    "y_data = simple_data[:, -10:, :]"
   ]
  },
  {
   "cell_type": "code",
   "execution_count": 54,
   "metadata": {},
   "outputs": [],
   "source": [
    "# Split the data to train and test splits (train to train the model, test to test the model on new data after trained)\n",
    "test_size = 0.1\n",
    "\n",
    "x_train, x_test, y_train, y_test = train_test_split(x_data, y_data, test_size=test_size)"
   ]
  },
  {
   "cell_type": "code",
   "execution_count": 55,
   "metadata": {},
   "outputs": [
    {
     "name": "stderr",
     "output_type": "stream",
     "text": [
      "c:\\Users\\adrie\\AppData\\Local\\Programs\\Python\\Python39\\lib\\site-packages\\keras\\src\\layers\\preprocessing\\normalization.py:99: UserWarning: Do not pass an `input_shape`/`input_dim` argument to a layer. When using Sequential models, prefer using an `Input(shape)` object as the first layer in the model instead.\n",
      "  super().__init__(**kwargs)\n"
     ]
    }
   ],
   "source": [
    "## Define normalization layer\n",
    "normalize_layer = tf.keras.layers.Normalization(axis=-1, input_shape=(50, 2))\n",
    "normalize_layer.adapt(simple_data)"
   ]
  },
  {
   "cell_type": "code",
   "execution_count": 56,
   "metadata": {},
   "outputs": [],
   "source": [
    "## Get Mean and Variance of Normalization layer to use for normalizing y and denormalizing later\n",
    "normalize_weights = normalize_layer.get_weights()\n",
    "\n",
    "mean_variance = np.array([normalize_weights[0][0:2], normalize_weights[1][0:2]])\n",
    "\n",
    "np.save('../mean_variance_D.npy', mean_variance)"
   ]
  },
  {
   "cell_type": "code",
   "execution_count": 57,
   "metadata": {},
   "outputs": [
    {
     "name": "stdout",
     "output_type": "stream",
     "text": [
      "tf.Tensor(\n",
      "[[[ 0.13437289 -1.1068265 ]\n",
      "  [ 0.09475513 -1.1150434 ]\n",
      "  [ 0.06204621 -1.1287383 ]\n",
      "  ...\n",
      "  [-0.09997586 -1.0946767 ]\n",
      "  [-0.12975013 -1.0851254 ]\n",
      "  [-0.1497591  -1.0729756 ]]\n",
      "\n",
      " [[-0.10605215  1.7926235 ]\n",
      "  [-0.08135602  1.7751362 ]\n",
      "  [-0.06568922  1.734754  ]\n",
      "  ...\n",
      "  [ 0.03453042  1.5796858 ]\n",
      "  [ 0.06551903  1.5593894 ]\n",
      "  [ 0.13284577  1.5634627 ]]\n",
      "\n",
      " [[ 0.68540156  0.14123274]\n",
      "  [ 0.67989105  0.14179459]\n",
      "  [ 0.67186904  0.12304315]\n",
      "  ...\n",
      "  [ 0.6236773   0.11433461]\n",
      "  [ 0.6242523   0.11307047]\n",
      "  [ 0.6247905   0.11770567]]\n",
      "\n",
      " ...\n",
      "\n",
      " [[ 0.86214286  0.13420974]\n",
      "  [ 0.8880763   0.12971501]\n",
      "  [ 0.89409745  0.14270759]\n",
      "  ...\n",
      "  [ 0.9959684   0.34806043]\n",
      "  [ 1.008006    0.41161868]\n",
      "  [ 1.0150344   0.44884062]]\n",
      "\n",
      " [[-1.1760768   0.66978455]\n",
      "  [-1.2858547   0.66936314]\n",
      "  [-1.3997954   0.67729914]\n",
      "  ...\n",
      "  [-1.9528801   0.6015911 ]\n",
      "  [-2.0544384   0.55250025]\n",
      "  [-2.1276343   0.517315  ]]\n",
      "\n",
      " [[ 0.35759482 -0.04487704]\n",
      "  [ 0.32176265 -0.08469751]\n",
      "  [ 0.29584298 -0.11594991]\n",
      "  ...\n",
      "  [ 0.22810687 -0.20956664]\n",
      "  [ 0.2550155  -0.17754172]\n",
      "  [ 0.27096745 -0.18133414]]], shape=(50394, 10, 2), dtype=float32)\n"
     ]
    }
   ],
   "source": [
    "## Normalize y\n",
    "normalize_y = tf.keras.layers.Normalization(mean=mean_variance[0], variance=mean_variance[1])\n",
    "\n",
    "y_train = normalize_y(y_train)\n",
    "y_test = normalize_y(y_test)\n",
    "print(y_train)"
   ]
  },
  {
   "cell_type": "code",
   "execution_count": 58,
   "metadata": {},
   "outputs": [],
   "source": [
    "## Save test data for model testing\n",
    "np.save('../x_test_D.npy', x_test)\n",
    "np.save('../y_test_D.npy', y_test)"
   ]
  },
  {
   "cell_type": "code",
   "execution_count": 59,
   "metadata": {},
   "outputs": [
    {
     "name": "stdout",
     "output_type": "stream",
     "text": [
      "WARNING:tensorflow:From c:\\Users\\adrie\\AppData\\Local\\Programs\\Python\\Python39\\lib\\site-packages\\keras\\src\\backend\\common\\global_state.py:74: The name tf.reset_default_graph is deprecated. Please use tf.compat.v1.reset_default_graph instead.\n",
      "\n"
     ]
    },
    {
     "data": {
      "text/html": [
       "<pre style=\"white-space:pre;overflow-x:auto;line-height:normal;font-family:Menlo,'DejaVu Sans Mono',consolas,'Courier New',monospace\"><span style=\"font-weight: bold\">Model: \"sequential\"</span>\n",
       "</pre>\n"
      ],
      "text/plain": [
       "\u001b[1mModel: \"sequential\"\u001b[0m\n"
      ]
     },
     "metadata": {},
     "output_type": "display_data"
    },
    {
     "data": {
      "text/html": [
       "<pre style=\"white-space:pre;overflow-x:auto;line-height:normal;font-family:Menlo,'DejaVu Sans Mono',consolas,'Courier New',monospace\">┏━━━━━━━━━━━━━━━━━━━━━━━━━━━━━━━━━┳━━━━━━━━━━━━━━━━━━━━━━━━┳━━━━━━━━━━━━━━━┓\n",
       "┃<span style=\"font-weight: bold\"> Layer (type)                    </span>┃<span style=\"font-weight: bold\"> Output Shape           </span>┃<span style=\"font-weight: bold\">       Param # </span>┃\n",
       "┡━━━━━━━━━━━━━━━━━━━━━━━━━━━━━━━━━╇━━━━━━━━━━━━━━━━━━━━━━━━╇━━━━━━━━━━━━━━━┩\n",
       "│ normalization (<span style=\"color: #0087ff; text-decoration-color: #0087ff\">Normalization</span>)   │ (<span style=\"color: #00d7ff; text-decoration-color: #00d7ff\">None</span>, <span style=\"color: #00af00; text-decoration-color: #00af00\">50</span>, <span style=\"color: #00af00; text-decoration-color: #00af00\">2</span>)          │             <span style=\"color: #00af00; text-decoration-color: #00af00\">5</span> │\n",
       "├─────────────────────────────────┼────────────────────────┼───────────────┤\n",
       "│ lstm (<span style=\"color: #0087ff; text-decoration-color: #0087ff\">LSTM</span>)                     │ (<span style=\"color: #00d7ff; text-decoration-color: #00d7ff\">None</span>, <span style=\"color: #00af00; text-decoration-color: #00af00\">50</span>, <span style=\"color: #00af00; text-decoration-color: #00af00\">128</span>)        │        <span style=\"color: #00af00; text-decoration-color: #00af00\">67,072</span> │\n",
       "├─────────────────────────────────┼────────────────────────┼───────────────┤\n",
       "│ lstm_1 (<span style=\"color: #0087ff; text-decoration-color: #0087ff\">LSTM</span>)                   │ (<span style=\"color: #00d7ff; text-decoration-color: #00d7ff\">None</span>, <span style=\"color: #00af00; text-decoration-color: #00af00\">128</span>)            │       <span style=\"color: #00af00; text-decoration-color: #00af00\">131,584</span> │\n",
       "├─────────────────────────────────┼────────────────────────┼───────────────┤\n",
       "│ dense (<span style=\"color: #0087ff; text-decoration-color: #0087ff\">Dense</span>)                   │ (<span style=\"color: #00d7ff; text-decoration-color: #00d7ff\">None</span>, <span style=\"color: #00af00; text-decoration-color: #00af00\">20</span>)             │         <span style=\"color: #00af00; text-decoration-color: #00af00\">2,580</span> │\n",
       "├─────────────────────────────────┼────────────────────────┼───────────────┤\n",
       "│ reshape (<span style=\"color: #0087ff; text-decoration-color: #0087ff\">Reshape</span>)               │ (<span style=\"color: #00d7ff; text-decoration-color: #00d7ff\">None</span>, <span style=\"color: #00af00; text-decoration-color: #00af00\">10</span>, <span style=\"color: #00af00; text-decoration-color: #00af00\">2</span>)          │             <span style=\"color: #00af00; text-decoration-color: #00af00\">0</span> │\n",
       "└─────────────────────────────────┴────────────────────────┴───────────────┘\n",
       "</pre>\n"
      ],
      "text/plain": [
       "┏━━━━━━━━━━━━━━━━━━━━━━━━━━━━━━━━━┳━━━━━━━━━━━━━━━━━━━━━━━━┳━━━━━━━━━━━━━━━┓\n",
       "┃\u001b[1m \u001b[0m\u001b[1mLayer (type)                   \u001b[0m\u001b[1m \u001b[0m┃\u001b[1m \u001b[0m\u001b[1mOutput Shape          \u001b[0m\u001b[1m \u001b[0m┃\u001b[1m \u001b[0m\u001b[1m      Param #\u001b[0m\u001b[1m \u001b[0m┃\n",
       "┡━━━━━━━━━━━━━━━━━━━━━━━━━━━━━━━━━╇━━━━━━━━━━━━━━━━━━━━━━━━╇━━━━━━━━━━━━━━━┩\n",
       "│ normalization (\u001b[38;5;33mNormalization\u001b[0m)   │ (\u001b[38;5;45mNone\u001b[0m, \u001b[38;5;34m50\u001b[0m, \u001b[38;5;34m2\u001b[0m)          │             \u001b[38;5;34m5\u001b[0m │\n",
       "├─────────────────────────────────┼────────────────────────┼───────────────┤\n",
       "│ lstm (\u001b[38;5;33mLSTM\u001b[0m)                     │ (\u001b[38;5;45mNone\u001b[0m, \u001b[38;5;34m50\u001b[0m, \u001b[38;5;34m128\u001b[0m)        │        \u001b[38;5;34m67,072\u001b[0m │\n",
       "├─────────────────────────────────┼────────────────────────┼───────────────┤\n",
       "│ lstm_1 (\u001b[38;5;33mLSTM\u001b[0m)                   │ (\u001b[38;5;45mNone\u001b[0m, \u001b[38;5;34m128\u001b[0m)            │       \u001b[38;5;34m131,584\u001b[0m │\n",
       "├─────────────────────────────────┼────────────────────────┼───────────────┤\n",
       "│ dense (\u001b[38;5;33mDense\u001b[0m)                   │ (\u001b[38;5;45mNone\u001b[0m, \u001b[38;5;34m20\u001b[0m)             │         \u001b[38;5;34m2,580\u001b[0m │\n",
       "├─────────────────────────────────┼────────────────────────┼───────────────┤\n",
       "│ reshape (\u001b[38;5;33mReshape\u001b[0m)               │ (\u001b[38;5;45mNone\u001b[0m, \u001b[38;5;34m10\u001b[0m, \u001b[38;5;34m2\u001b[0m)          │             \u001b[38;5;34m0\u001b[0m │\n",
       "└─────────────────────────────────┴────────────────────────┴───────────────┘\n"
      ]
     },
     "metadata": {},
     "output_type": "display_data"
    },
    {
     "data": {
      "text/html": [
       "<pre style=\"white-space:pre;overflow-x:auto;line-height:normal;font-family:Menlo,'DejaVu Sans Mono',consolas,'Courier New',monospace\"><span style=\"font-weight: bold\"> Total params: </span><span style=\"color: #00af00; text-decoration-color: #00af00\">201,241</span> (786.10 KB)\n",
       "</pre>\n"
      ],
      "text/plain": [
       "\u001b[1m Total params: \u001b[0m\u001b[38;5;34m201,241\u001b[0m (786.10 KB)\n"
      ]
     },
     "metadata": {},
     "output_type": "display_data"
    },
    {
     "data": {
      "text/html": [
       "<pre style=\"white-space:pre;overflow-x:auto;line-height:normal;font-family:Menlo,'DejaVu Sans Mono',consolas,'Courier New',monospace\"><span style=\"font-weight: bold\"> Trainable params: </span><span style=\"color: #00af00; text-decoration-color: #00af00\">201,236</span> (786.08 KB)\n",
       "</pre>\n"
      ],
      "text/plain": [
       "\u001b[1m Trainable params: \u001b[0m\u001b[38;5;34m201,236\u001b[0m (786.08 KB)\n"
      ]
     },
     "metadata": {},
     "output_type": "display_data"
    },
    {
     "data": {
      "text/html": [
       "<pre style=\"white-space:pre;overflow-x:auto;line-height:normal;font-family:Menlo,'DejaVu Sans Mono',consolas,'Courier New',monospace\"><span style=\"font-weight: bold\"> Non-trainable params: </span><span style=\"color: #00af00; text-decoration-color: #00af00\">5</span> (24.00 B)\n",
       "</pre>\n"
      ],
      "text/plain": [
       "\u001b[1m Non-trainable params: \u001b[0m\u001b[38;5;34m5\u001b[0m (24.00 B)\n"
      ]
     },
     "metadata": {},
     "output_type": "display_data"
    }
   ],
   "source": [
    "num_features = 2\n",
    "\n",
    "# Clear any previous models\n",
    "tf.keras.backend.clear_session()\n",
    "\n",
    "# Define the model\n",
    "model = tf.keras.Sequential()\n",
    "model.add(normalize_layer)\n",
    "model.add(tf.keras.layers.LSTM(128, return_sequences=True))\n",
    "model.add(tf.keras.layers.LSTM(128))\n",
    "model.add(tf.keras.layers.Dense(num_features * output_steps))\n",
    "model.add(tf.keras.layers.Reshape([output_steps, num_features]))\n",
    "\n",
    "\n",
    "# Define optimizer\n",
    "lr = 1e-3\n",
    "opt = tf.keras.optimizers.Adam(learning_rate=lr)\n",
    "\n",
    "model.compile(loss='huber', optimizer=opt, metrics=['mae', 'mse'])\n",
    "model.summary()"
   ]
  },
  {
   "cell_type": "code",
   "execution_count": 60,
   "metadata": {},
   "outputs": [],
   "source": [
    "## Define LR scheduling (optional if want to use or not)\n",
    "start_lr = lr\n",
    "min_lr = 0.00001\n",
    "max_lr = 0.001\n",
    "rampup_epochs = 0\n",
    "sustain_epochs = 0\n",
    "exp_decay = 0.0\n",
    "\n",
    "# Define the scheduling function\n",
    "def schedule(epoch):\n",
    "  def lr(epoch, start_lr, min_lr, max_lr, rampup_epochs, sustain_epochs, exp_decay):\n",
    "    if epoch < rampup_epochs:\n",
    "      lr = (max_lr - start_lr)/rampup_epochs * epoch + start_lr\n",
    "    elif epoch < rampup_epochs + sustain_epochs:\n",
    "      lr = max_lr\n",
    "    else:\n",
    "      lr = (max_lr - min_lr) * exp_decay**(epoch-rampup_epochs-sustain_epochs) + min_lr\n",
    "    return lr\n",
    "  return lr(epoch, start_lr, min_lr, max_lr, rampup_epochs, sustain_epochs, exp_decay)"
   ]
  },
  {
   "cell_type": "code",
   "execution_count": 61,
   "metadata": {},
   "outputs": [
    {
     "name": "stdout",
     "output_type": "stream",
     "text": [
      "Epoch 1/200\n",
      "\u001b[1m1575/1575\u001b[0m \u001b[32m━━━━━━━━━━━━━━━━━━━━\u001b[0m\u001b[37m\u001b[0m \u001b[1m116s\u001b[0m 72ms/step - loss: 0.0310 - mae: 0.1540 - mse: 0.0698 - val_loss: 0.0075 - val_mae: 0.0861 - val_mse: 0.0151\n",
      "Epoch 2/200\n",
      "\u001b[1m1575/1575\u001b[0m \u001b[32m━━━━━━━━━━━━━━━━━━━━\u001b[0m\u001b[37m\u001b[0m \u001b[1m112s\u001b[0m 71ms/step - loss: 0.0073 - mae: 0.0834 - mse: 0.0146 - val_loss: 0.0066 - val_mae: 0.0771 - val_mse: 0.0132\n",
      "Epoch 3/200\n",
      "\u001b[1m1575/1575\u001b[0m \u001b[32m━━━━━━━━━━━━━━━━━━━━\u001b[0m\u001b[37m\u001b[0m \u001b[1m96s\u001b[0m 61ms/step - loss: 0.0063 - mae: 0.0760 - mse: 0.0126 - val_loss: 0.0057 - val_mae: 0.0718 - val_mse: 0.0115\n",
      "Epoch 4/200\n",
      "\u001b[1m1575/1575\u001b[0m \u001b[32m━━━━━━━━━━━━━━━━━━━━\u001b[0m\u001b[37m\u001b[0m \u001b[1m99s\u001b[0m 63ms/step - loss: 0.0058 - mae: 0.0728 - mse: 0.0117 - val_loss: 0.0056 - val_mae: 0.0705 - val_mse: 0.0112\n",
      "Epoch 5/200\n",
      "\u001b[1m1575/1575\u001b[0m \u001b[32m━━━━━━━━━━━━━━━━━━━━\u001b[0m\u001b[37m\u001b[0m \u001b[1m117s\u001b[0m 74ms/step - loss: 0.0058 - mae: 0.0730 - mse: 0.0117 - val_loss: 0.0058 - val_mae: 0.0727 - val_mse: 0.0115\n",
      "Epoch 6/200\n",
      "\u001b[1m1575/1575\u001b[0m \u001b[32m━━━━━━━━━━━━━━━━━━━━\u001b[0m\u001b[37m\u001b[0m \u001b[1m103s\u001b[0m 65ms/step - loss: 0.0058 - mae: 0.0721 - mse: 0.0115 - val_loss: 0.0055 - val_mae: 0.0710 - val_mse: 0.0111\n",
      "Epoch 7/200\n",
      "\u001b[1m1575/1575\u001b[0m \u001b[32m━━━━━━━━━━━━━━━━━━━━\u001b[0m\u001b[37m\u001b[0m \u001b[1m110s\u001b[0m 70ms/step - loss: 0.0056 - mae: 0.0713 - mse: 0.0113 - val_loss: 0.0057 - val_mae: 0.0708 - val_mse: 0.0114\n",
      "Epoch 8/200\n",
      "\u001b[1m1575/1575\u001b[0m \u001b[32m━━━━━━━━━━━━━━━━━━━━\u001b[0m\u001b[37m\u001b[0m \u001b[1m119s\u001b[0m 76ms/step - loss: 0.0055 - mae: 0.0704 - mse: 0.0110 - val_loss: 0.0057 - val_mae: 0.0727 - val_mse: 0.0115\n",
      "Epoch 9/200\n",
      "\u001b[1m1575/1575\u001b[0m \u001b[32m━━━━━━━━━━━━━━━━━━━━\u001b[0m\u001b[37m\u001b[0m \u001b[1m110s\u001b[0m 70ms/step - loss: 0.0057 - mae: 0.0709 - mse: 0.0118 - val_loss: 0.0054 - val_mae: 0.0688 - val_mse: 0.0107\n",
      "Epoch 10/200\n",
      "\u001b[1m1575/1575\u001b[0m \u001b[32m━━━━━━━━━━━━━━━━━━━━\u001b[0m\u001b[37m\u001b[0m \u001b[1m114s\u001b[0m 72ms/step - loss: 0.0054 - mae: 0.0693 - mse: 0.0109 - val_loss: 0.0054 - val_mae: 0.0696 - val_mse: 0.0108\n",
      "Epoch 11/200\n",
      "\u001b[1m1575/1575\u001b[0m \u001b[32m━━━━━━━━━━━━━━━━━━━━\u001b[0m\u001b[37m\u001b[0m \u001b[1m111s\u001b[0m 70ms/step - loss: 0.0055 - mae: 0.0698 - mse: 0.0109 - val_loss: 0.0053 - val_mae: 0.0685 - val_mse: 0.0107\n",
      "Epoch 12/200\n",
      "\u001b[1m1575/1575\u001b[0m \u001b[32m━━━━━━━━━━━━━━━━━━━━\u001b[0m\u001b[37m\u001b[0m \u001b[1m110s\u001b[0m 70ms/step - loss: 0.0055 - mae: 0.0696 - mse: 0.0109 - val_loss: 0.0054 - val_mae: 0.0695 - val_mse: 0.0108\n",
      "Epoch 13/200\n",
      "\u001b[1m1575/1575\u001b[0m \u001b[32m━━━━━━━━━━━━━━━━━━━━\u001b[0m\u001b[37m\u001b[0m \u001b[1m115s\u001b[0m 73ms/step - loss: 0.0054 - mae: 0.0690 - mse: 0.0107 - val_loss: 0.0054 - val_mae: 0.0707 - val_mse: 0.0109\n",
      "Epoch 14/200\n",
      "\u001b[1m1575/1575\u001b[0m \u001b[32m━━━━━━━━━━━━━━━━━━━━\u001b[0m\u001b[37m\u001b[0m \u001b[1m111s\u001b[0m 71ms/step - loss: 0.0054 - mae: 0.0694 - mse: 0.0108 - val_loss: 0.0055 - val_mae: 0.0712 - val_mse: 0.0110\n",
      "Epoch 15/200\n",
      "\u001b[1m1575/1575\u001b[0m \u001b[32m━━━━━━━━━━━━━━━━━━━━\u001b[0m\u001b[37m\u001b[0m \u001b[1m111s\u001b[0m 70ms/step - loss: 0.0054 - mae: 0.0692 - mse: 0.0108 - val_loss: 0.0054 - val_mae: 0.0704 - val_mse: 0.0108\n",
      "Epoch 16/200\n",
      "\u001b[1m1575/1575\u001b[0m \u001b[32m━━━━━━━━━━━━━━━━━━━━\u001b[0m\u001b[37m\u001b[0m \u001b[1m112s\u001b[0m 71ms/step - loss: 0.0053 - mae: 0.0687 - mse: 0.0105 - val_loss: 0.0053 - val_mae: 0.0691 - val_mse: 0.0107\n",
      "Epoch 17/200\n",
      "\u001b[1m1575/1575\u001b[0m \u001b[32m━━━━━━━━━━━━━━━━━━━━\u001b[0m\u001b[37m\u001b[0m \u001b[1m111s\u001b[0m 71ms/step - loss: 0.0053 - mae: 0.0687 - mse: 0.0106 - val_loss: 0.0052 - val_mae: 0.0683 - val_mse: 0.0104\n",
      "Epoch 18/200\n",
      "\u001b[1m1575/1575\u001b[0m \u001b[32m━━━━━━━━━━━━━━━━━━━━\u001b[0m\u001b[37m\u001b[0m \u001b[1m113s\u001b[0m 71ms/step - loss: 0.0052 - mae: 0.0681 - mse: 0.0105 - val_loss: 0.0053 - val_mae: 0.0703 - val_mse: 0.0107\n",
      "Epoch 19/200\n",
      "\u001b[1m1575/1575\u001b[0m \u001b[32m━━━━━━━━━━━━━━━━━━━━\u001b[0m\u001b[37m\u001b[0m \u001b[1m113s\u001b[0m 72ms/step - loss: 0.0052 - mae: 0.0681 - mse: 0.0105 - val_loss: 0.0052 - val_mae: 0.0673 - val_mse: 0.0103\n",
      "Epoch 20/200\n",
      "\u001b[1m1575/1575\u001b[0m \u001b[32m━━━━━━━━━━━━━━━━━━━━\u001b[0m\u001b[37m\u001b[0m \u001b[1m108s\u001b[0m 68ms/step - loss: 0.0052 - mae: 0.0681 - mse: 0.0104 - val_loss: 0.0052 - val_mae: 0.0678 - val_mse: 0.0104\n",
      "Epoch 21/200\n",
      "\u001b[1m1575/1575\u001b[0m \u001b[32m━━━━━━━━━━━━━━━━━━━━\u001b[0m\u001b[37m\u001b[0m \u001b[1m116s\u001b[0m 74ms/step - loss: 0.0052 - mae: 0.0680 - mse: 0.0105 - val_loss: 0.0052 - val_mae: 0.0677 - val_mse: 0.0103\n",
      "Epoch 22/200\n",
      "\u001b[1m1575/1575\u001b[0m \u001b[32m━━━━━━━━━━━━━━━━━━━━\u001b[0m\u001b[37m\u001b[0m \u001b[1m122s\u001b[0m 77ms/step - loss: 0.0052 - mae: 0.0676 - mse: 0.0103 - val_loss: 0.0051 - val_mae: 0.0661 - val_mse: 0.0101\n",
      "Epoch 23/200\n",
      "\u001b[1m1575/1575\u001b[0m \u001b[32m━━━━━━━━━━━━━━━━━━━━\u001b[0m\u001b[37m\u001b[0m \u001b[1m113s\u001b[0m 72ms/step - loss: 0.0051 - mae: 0.0672 - mse: 0.0102 - val_loss: 0.0051 - val_mae: 0.0669 - val_mse: 0.0101\n",
      "Epoch 24/200\n",
      "\u001b[1m1575/1575\u001b[0m \u001b[32m━━━━━━━━━━━━━━━━━━━━\u001b[0m\u001b[37m\u001b[0m \u001b[1m123s\u001b[0m 78ms/step - loss: 0.0052 - mae: 0.0677 - mse: 0.0104 - val_loss: 0.0051 - val_mae: 0.0669 - val_mse: 0.0102\n",
      "Epoch 25/200\n",
      "\u001b[1m1575/1575\u001b[0m \u001b[32m━━━━━━━━━━━━━━━━━━━━\u001b[0m\u001b[37m\u001b[0m \u001b[1m94s\u001b[0m 60ms/step - loss: 0.0051 - mae: 0.0674 - mse: 0.0102 - val_loss: 0.0053 - val_mae: 0.0699 - val_mse: 0.0106\n",
      "Epoch 26/200\n",
      "\u001b[1m1575/1575\u001b[0m \u001b[32m━━━━━━━━━━━━━━━━━━━━\u001b[0m\u001b[37m\u001b[0m \u001b[1m90s\u001b[0m 57ms/step - loss: 0.0050 - mae: 0.0666 - mse: 0.0101 - val_loss: 0.0051 - val_mae: 0.0661 - val_mse: 0.0101\n",
      "Epoch 27/200\n",
      "\u001b[1m1575/1575\u001b[0m \u001b[32m━━━━━━━━━━━━━━━━━━━━\u001b[0m\u001b[37m\u001b[0m \u001b[1m102s\u001b[0m 65ms/step - loss: 0.0050 - mae: 0.0667 - mse: 0.0101 - val_loss: 0.0051 - val_mae: 0.0675 - val_mse: 0.0102\n",
      "Epoch 28/200\n",
      "\u001b[1m1575/1575\u001b[0m \u001b[32m━━━━━━━━━━━━━━━━━━━━\u001b[0m\u001b[37m\u001b[0m \u001b[1m86s\u001b[0m 54ms/step - loss: 0.0050 - mae: 0.0668 - mse: 0.0101 - val_loss: 0.0051 - val_mae: 0.0674 - val_mse: 0.0102\n",
      "Epoch 29/200\n",
      "\u001b[1m1575/1575\u001b[0m \u001b[32m━━━━━━━━━━━━━━━━━━━━\u001b[0m\u001b[37m\u001b[0m \u001b[1m93s\u001b[0m 59ms/step - loss: 0.0051 - mae: 0.0672 - mse: 0.0102 - val_loss: 0.0053 - val_mae: 0.0698 - val_mse: 0.0106\n",
      "Epoch 30/200\n",
      "\u001b[1m1575/1575\u001b[0m \u001b[32m━━━━━━━━━━━━━━━━━━━━\u001b[0m\u001b[37m\u001b[0m \u001b[1m101s\u001b[0m 64ms/step - loss: 0.0050 - mae: 0.0669 - mse: 0.0100 - val_loss: 0.0051 - val_mae: 0.0668 - val_mse: 0.0103\n",
      "Epoch 31/200\n",
      "\u001b[1m1575/1575\u001b[0m \u001b[32m━━━━━━━━━━━━━━━━━━━━\u001b[0m\u001b[37m\u001b[0m \u001b[1m93s\u001b[0m 59ms/step - loss: 0.0051 - mae: 0.0672 - mse: 0.0102 - val_loss: 0.0053 - val_mae: 0.0686 - val_mse: 0.0105\n",
      "Epoch 32/200\n",
      "\u001b[1m1575/1575\u001b[0m \u001b[32m━━━━━━━━━━━━━━━━━━━━\u001b[0m\u001b[37m\u001b[0m \u001b[1m91s\u001b[0m 58ms/step - loss: 0.0051 - mae: 0.0669 - mse: 0.0101 - val_loss: 0.0051 - val_mae: 0.0665 - val_mse: 0.0102\n",
      "Epoch 33/200\n",
      "\u001b[1m1575/1575\u001b[0m \u001b[32m━━━━━━━━━━━━━━━━━━━━\u001b[0m\u001b[37m\u001b[0m \u001b[1m94s\u001b[0m 60ms/step - loss: 0.0051 - mae: 0.0671 - mse: 0.0101 - val_loss: 0.0050 - val_mae: 0.0664 - val_mse: 0.0100\n",
      "Epoch 34/200\n",
      "\u001b[1m1575/1575\u001b[0m \u001b[32m━━━━━━━━━━━━━━━━━━━━\u001b[0m\u001b[37m\u001b[0m \u001b[1m106s\u001b[0m 67ms/step - loss: 0.0050 - mae: 0.0666 - mse: 0.0100 - val_loss: 0.0051 - val_mae: 0.0667 - val_mse: 0.0103\n",
      "Epoch 35/200\n",
      "\u001b[1m1575/1575\u001b[0m \u001b[32m━━━━━━━━━━━━━━━━━━━━\u001b[0m\u001b[37m\u001b[0m \u001b[1m92s\u001b[0m 59ms/step - loss: 0.0049 - mae: 0.0662 - mse: 0.0099 - val_loss: 0.0051 - val_mae: 0.0669 - val_mse: 0.0102\n",
      "Epoch 36/200\n",
      "\u001b[1m1575/1575\u001b[0m \u001b[32m━━━━━━━━━━━━━━━━━━━━\u001b[0m\u001b[37m\u001b[0m \u001b[1m91s\u001b[0m 58ms/step - loss: 0.0050 - mae: 0.0664 - mse: 0.0099 - val_loss: 0.0051 - val_mae: 0.0669 - val_mse: 0.0101\n",
      "Epoch 37/200\n",
      "\u001b[1m1575/1575\u001b[0m \u001b[32m━━━━━━━━━━━━━━━━━━━━\u001b[0m\u001b[37m\u001b[0m \u001b[1m92s\u001b[0m 58ms/step - loss: 0.0049 - mae: 0.0658 - mse: 0.0098 - val_loss: 0.0051 - val_mae: 0.0663 - val_mse: 0.0101\n",
      "Epoch 38/200\n",
      "\u001b[1m1575/1575\u001b[0m \u001b[32m━━━━━━━━━━━━━━━━━━━━\u001b[0m\u001b[37m\u001b[0m \u001b[1m90s\u001b[0m 57ms/step - loss: 0.0049 - mae: 0.0658 - mse: 0.0097 - val_loss: 0.0051 - val_mae: 0.0670 - val_mse: 0.0101\n",
      "Epoch 39/200\n",
      "\u001b[1m1575/1575\u001b[0m \u001b[32m━━━━━━━━━━━━━━━━━━━━\u001b[0m\u001b[37m\u001b[0m \u001b[1m92s\u001b[0m 58ms/step - loss: 0.0049 - mae: 0.0660 - mse: 0.0098 - val_loss: 0.0053 - val_mae: 0.0690 - val_mse: 0.0106\n",
      "Epoch 40/200\n",
      "\u001b[1m1575/1575\u001b[0m \u001b[32m━━━━━━━━━━━━━━━━━━━━\u001b[0m\u001b[37m\u001b[0m \u001b[1m91s\u001b[0m 58ms/step - loss: 0.0048 - mae: 0.0655 - mse: 0.0096 - val_loss: 0.0051 - val_mae: 0.0664 - val_mse: 0.0101\n",
      "Epoch 41/200\n",
      "\u001b[1m1575/1575\u001b[0m \u001b[32m━━━━━━━━━━━━━━━━━━━━\u001b[0m\u001b[37m\u001b[0m \u001b[1m91s\u001b[0m 58ms/step - loss: 0.0048 - mae: 0.0656 - mse: 0.0097 - val_loss: 0.0051 - val_mae: 0.0679 - val_mse: 0.0103\n",
      "Epoch 42/200\n",
      "\u001b[1m1575/1575\u001b[0m \u001b[32m━━━━━━━━━━━━━━━━━━━━\u001b[0m\u001b[37m\u001b[0m \u001b[1m90s\u001b[0m 57ms/step - loss: 0.0049 - mae: 0.0656 - mse: 0.0097 - val_loss: 0.0051 - val_mae: 0.0678 - val_mse: 0.0103\n",
      "Epoch 43/200\n",
      "\u001b[1m1575/1575\u001b[0m \u001b[32m━━━━━━━━━━━━━━━━━━━━\u001b[0m\u001b[37m\u001b[0m \u001b[1m90s\u001b[0m 57ms/step - loss: 0.0048 - mae: 0.0654 - mse: 0.0096 - val_loss: 0.0053 - val_mae: 0.0689 - val_mse: 0.0105\n",
      "Epoch 44/200\n",
      "\u001b[1m1575/1575\u001b[0m \u001b[32m━━━━━━━━━━━━━━━━━━━━\u001b[0m\u001b[37m\u001b[0m \u001b[1m92s\u001b[0m 58ms/step - loss: 0.0048 - mae: 0.0653 - mse: 0.0095 - val_loss: 0.0052 - val_mae: 0.0683 - val_mse: 0.0105\n",
      "Epoch 45/200\n",
      "\u001b[1m1575/1575\u001b[0m \u001b[32m━━━━━━━━━━━━━━━━━━━━\u001b[0m\u001b[37m\u001b[0m \u001b[1m92s\u001b[0m 59ms/step - loss: 0.0048 - mae: 0.0653 - mse: 0.0096 - val_loss: 0.0051 - val_mae: 0.0670 - val_mse: 0.0102\n",
      "Epoch 46/200\n",
      "\u001b[1m1575/1575\u001b[0m \u001b[32m━━━━━━━━━━━━━━━━━━━━\u001b[0m\u001b[37m\u001b[0m \u001b[1m92s\u001b[0m 59ms/step - loss: 0.0047 - mae: 0.0651 - mse: 0.0095 - val_loss: 0.0050 - val_mae: 0.0667 - val_mse: 0.0101\n",
      "Epoch 47/200\n",
      "\u001b[1m1575/1575\u001b[0m \u001b[32m━━━━━━━━━━━━━━━━━━━━\u001b[0m\u001b[37m\u001b[0m \u001b[1m88s\u001b[0m 56ms/step - loss: 0.0047 - mae: 0.0650 - mse: 0.0094 - val_loss: 0.0051 - val_mae: 0.0665 - val_mse: 0.0102\n",
      "Epoch 48/200\n",
      "\u001b[1m1575/1575\u001b[0m \u001b[32m━━━━━━━━━━━━━━━━━━━━\u001b[0m\u001b[37m\u001b[0m \u001b[1m87s\u001b[0m 55ms/step - loss: 0.0048 - mae: 0.0651 - mse: 0.0095 - val_loss: 0.0051 - val_mae: 0.0670 - val_mse: 0.0102\n",
      "Epoch 49/200\n",
      "\u001b[1m1575/1575\u001b[0m \u001b[32m━━━━━━━━━━━━━━━━━━━━\u001b[0m\u001b[37m\u001b[0m \u001b[1m88s\u001b[0m 56ms/step - loss: 0.0047 - mae: 0.0647 - mse: 0.0094 - val_loss: 0.0051 - val_mae: 0.0663 - val_mse: 0.0102\n",
      "Epoch 50/200\n",
      "\u001b[1m1575/1575\u001b[0m \u001b[32m━━━━━━━━━━━━━━━━━━━━\u001b[0m\u001b[37m\u001b[0m \u001b[1m89s\u001b[0m 56ms/step - loss: 0.0047 - mae: 0.0649 - mse: 0.0094 - val_loss: 0.0051 - val_mae: 0.0663 - val_mse: 0.0102\n",
      "Epoch 51/200\n",
      "\u001b[1m1575/1575\u001b[0m \u001b[32m━━━━━━━━━━━━━━━━━━━━\u001b[0m\u001b[37m\u001b[0m \u001b[1m88s\u001b[0m 56ms/step - loss: 0.0046 - mae: 0.0642 - mse: 0.0092 - val_loss: 0.0050 - val_mae: 0.0660 - val_mse: 0.0101\n",
      "Epoch 52/200\n",
      "\u001b[1m1575/1575\u001b[0m \u001b[32m━━━━━━━━━━━━━━━━━━━━\u001b[0m\u001b[37m\u001b[0m \u001b[1m88s\u001b[0m 56ms/step - loss: 0.0047 - mae: 0.0645 - mse: 0.0093 - val_loss: 0.0051 - val_mae: 0.0665 - val_mse: 0.0103\n",
      "Epoch 53/200\n",
      "\u001b[1m1575/1575\u001b[0m \u001b[32m━━━━━━━━━━━━━━━━━━━━\u001b[0m\u001b[37m\u001b[0m \u001b[1m89s\u001b[0m 57ms/step - loss: 0.0046 - mae: 0.0642 - mse: 0.0092 - val_loss: 0.0051 - val_mae: 0.0662 - val_mse: 0.0101\n",
      "\u001b[1m175/175\u001b[0m \u001b[32m━━━━━━━━━━━━━━━━━━━━\u001b[0m\u001b[37m\u001b[0m \u001b[1m5s\u001b[0m 26ms/step - loss: 0.0050 - mae: 0.0657 - mse: 0.0100\n"
     ]
    },
    {
     "data": {
      "text/plain": [
       "[0.0050555807538330555, 0.06622148305177689, 0.010111422277987003]"
      ]
     },
     "execution_count": 61,
     "metadata": {},
     "output_type": "execute_result"
    }
   ],
   "source": [
    "## Define callbacks and fit the model\n",
    "log_dir = \"../logs/fit/\" + datetime.datetime.now().strftime(\"%Y%m%d-%H%M%S\")\n",
    "tensorboard_callback = tf.keras.callbacks.TensorBoard(log_dir=log_dir, histogram_freq=1)\n",
    "\n",
    "early_stopping = tf.keras.callbacks.EarlyStopping(monitor='val_loss', mode='min', patience=20)\n",
    "\n",
    "lr_scheduler = tf.keras.callbacks.LearningRateScheduler(schedule)\n",
    "\n",
    "model.fit(\n",
    "  x=x_train, \n",
    "  y=y_train,\n",
    "  epochs=200,\n",
    "  validation_data=(x_test, y_test),\n",
    "  callbacks=[tensorboard_callback, early_stopping,]) #Can add lr_scheduler\n",
    "\n",
    "model.evaluate(x_test, y_test)"
   ]
  },
  {
   "cell_type": "code",
   "execution_count": 62,
   "metadata": {},
   "outputs": [],
   "source": [
    "## Save the model\n",
    "model.save('../models/model_v3.keras')"
   ]
  }
 ],
 "metadata": {
  "kernelspec": {
   "display_name": "Python 3",
   "language": "python",
   "name": "python3"
  },
  "language_info": {
   "codemirror_mode": {
    "name": "ipython",
    "version": 3
   },
   "file_extension": ".py",
   "mimetype": "text/x-python",
   "name": "python",
   "nbconvert_exporter": "python",
   "pygments_lexer": "ipython3",
   "version": "3.9.13"
  }
 },
 "nbformat": 4,
 "nbformat_minor": 2
}
