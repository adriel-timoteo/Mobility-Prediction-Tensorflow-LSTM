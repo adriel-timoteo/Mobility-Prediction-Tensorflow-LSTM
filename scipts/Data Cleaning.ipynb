{
 "cells": [
  {
   "cell_type": "markdown",
   "metadata": {},
   "source": [
    "<h2>DATA CLEANING</h2>\n",
    "\n",
    "Script ini digunakan untuk membersihkan data dari GrabPosisi jadi data yang lebih mudah untuk dimengerti dan dipelajari oleh model LSTMnya nanti. Proses Cleaning Data ini meliputi:\n",
    "- Mengurutkan Data berdasarkan trj_id lalu pingtimestamp agar data terurut dengan baik\n",
    "- Mengelompokkan data dan menjadikannya Pandas Multi Index Dataframe dengan trj_id sebagai index, untuk mempermudah pemisahan trajectories nantinya\n",
    "- Me-resample data (Data awal memiliki sampling rate 1 kali per **detik**, namun beberapa kali jarak antar ping bisa lebih dari 1 detik). Setelah resampling, data memiliki sampling rate 1 kali per **menit** dan konstan (Tidak ada jarak antar ping yang berbeda)\n",
    "<br/>\n",
    "Hasil dari data cleaning ini sudah diexport menjadi clean_data.csv, sehingga script ini tidak perlu dijalankan kecuali ingin mengubah proses data cleaning di atas."
   ]
  },
  {
   "cell_type": "code",
   "execution_count": 1,
   "metadata": {},
   "outputs": [],
   "source": [
    "## Import libraries\n",
    "import pandas as pd\n",
    "from pathlib import Path"
   ]
  },
  {
   "cell_type": "code",
   "execution_count": 2,
   "metadata": {},
   "outputs": [
    {
     "name": "stdout",
     "output_type": "stream",
     "text": [
      "Adding file: ..\\GrabPosisi\\part-00000-8bbff892-97d2-4011-9961-703e38972569.c000.snappy.parquet\n",
      "Adding file: ..\\GrabPosisi\\part-00001-8bbff892-97d2-4011-9961-703e38972569.c000.snappy.parquet\n",
      "Adding file: ..\\GrabPosisi\\part-00002-8bbff892-97d2-4011-9961-703e38972569.c000.snappy.parquet\n",
      "Adding file: ..\\GrabPosisi\\part-00003-8bbff892-97d2-4011-9961-703e38972569.c000.snappy.parquet\n",
      "Adding file: ..\\GrabPosisi\\part-00004-8bbff892-97d2-4011-9961-703e38972569.c000.snappy.parquet\n",
      "Adding file: ..\\GrabPosisi\\part-00005-8bbff892-97d2-4011-9961-703e38972569.c000.snappy.parquet\n",
      "Adding file: ..\\GrabPosisi\\part-00006-8bbff892-97d2-4011-9961-703e38972569.c000.snappy.parquet\n",
      "Adding file: ..\\GrabPosisi\\part-00007-8bbff892-97d2-4011-9961-703e38972569.c000.snappy.parquet\n",
      "Adding file: ..\\GrabPosisi\\part-00008-8bbff892-97d2-4011-9961-703e38972569.c000.snappy.parquet\n",
      "Adding file: ..\\GrabPosisi\\part-00009-8bbff892-97d2-4011-9961-703e38972569.c000.snappy.parquet\n"
     ]
    }
   ],
   "source": [
    "# Read Data\n",
    "data_dir = Path('../GrabPosisi')\n",
    "full_df = pd.DataFrame()\n",
    "for parquet_file in data_dir.glob(\"*.parquet\"):\n",
    "    print(f\"Adding file: {parquet_file}\")\n",
    "    full_df = pd.concat([full_df, pd.read_parquet(parquet_file)], ignore_index=True)"
   ]
  },
  {
   "cell_type": "code",
   "execution_count": 3,
   "metadata": {},
   "outputs": [
    {
     "name": "stdout",
     "output_type": "stream",
     "text": [
      "         trj_id  pingtimestamp    rawlat      rawlng  speed  bearing\n",
      "29091989      1     1554992255 -6.197622  106.769017   5.58      180\n",
      "29074360      1     1554992256 -6.197667  106.769007   5.33      177\n",
      "10694992      1     1554992257 -6.197713  106.769012   5.43      177\n",
      "10676471      1     1554992258 -6.197764  106.769020   5.84      178\n",
      "22141074      1     1554992259 -6.197809  106.769018   5.28      179\n",
      "...         ...            ...       ...         ...    ...      ...\n",
      "19921434   9999     1555822630 -6.178844  106.841960   0.00        0\n",
      "7604364    9999     1555822631 -6.178844  106.841960   0.00        0\n",
      "25980783   9999     1555822632 -6.178844  106.841961   0.00        0\n",
      "14850195   9999     1555822634 -6.178845  106.841963   0.00        0\n",
      "19919728   9999     1555822635 -6.178845  106.841964   0.00        0\n",
      "\n",
      "[55988420 rows x 6 columns]\n"
     ]
    }
   ],
   "source": [
    "# Remove unnecessary columns (driving_mode, osname, accuracy)\n",
    "train_df = full_df[['trj_id', 'pingtimestamp', 'rawlat', 'rawlng', 'speed', 'bearing']]\n",
    "\n",
    "# Sort by trj_id and then pingtimestamp\n",
    "train_df = train_df.sort_values(by=[\"trj_id\", \"pingtimestamp\"])\n",
    "\n",
    "print(train_df)"
   ]
  },
  {
   "cell_type": "code",
   "execution_count": 4,
   "metadata": {},
   "outputs": [
    {
     "name": "stdout",
     "output_type": "stream",
     "text": [
      "         trj_id  pingtimestamp    rawlat      rawlng  speed  bearing\n",
      "29091989      1     1554992255 -6.197622  106.769017   5.58      180\n",
      "29074360      1     1554992256 -6.197667  106.769007   5.33      177\n",
      "10694992      1     1554992257 -6.197713  106.769012   5.43      177\n",
      "10676471      1     1554992258 -6.197764  106.769020   5.84      178\n",
      "22141074      1     1554992259 -6.197809  106.769018   5.28      179\n",
      "...         ...            ...       ...         ...    ...      ...\n",
      "19921434   9999     1555822630 -6.178844  106.841960   0.00        0\n",
      "7604364    9999     1555822631 -6.178844  106.841960   0.00        0\n",
      "25980783   9999     1555822632 -6.178844  106.841961   0.00        0\n",
      "14850195   9999     1555822634 -6.178845  106.841963   0.00        0\n",
      "19919728   9999     1555822635 -6.178845  106.841964   0.00        0\n",
      "\n",
      "[55988420 rows x 6 columns]\n"
     ]
    }
   ],
   "source": [
    "# Remove data with 0 values\n",
    "cleaned_df = train_df.dropna(subset=[\"speed\", \"pingtimestamp\", \"rawlat\", \"rawlng\"]).query(\"pingtimestamp != 0 and rawlat != 0 and rawlng != 0\")\n",
    "\n",
    "print(cleaned_df)"
   ]
  },
  {
   "cell_type": "code",
   "execution_count": 5,
   "metadata": {},
   "outputs": [
    {
     "name": "stdout",
     "output_type": "stream",
     "text": [
      "                pingtimestamp    rawlat      rawlng      speed     bearing\n",
      "trj_id                                                                    \n",
      "1      0  2019-04-11 14:17:00 -6.198042  106.769008   4.322800  179.920000\n",
      "       1  2019-04-11 14:18:00 -6.200972  106.769202   8.014167  173.233333\n",
      "       2  2019-04-11 14:19:00 -6.205394  106.769768  10.116136  171.477273\n",
      "       3  2019-04-11 14:20:00 -6.210496  106.771217   9.307667  156.683333\n",
      "       4  2019-04-11 14:21:00 -6.214969  106.773830  10.103333  139.777778\n",
      "...                       ...       ...         ...        ...         ...\n",
      "9999   33 2019-04-21 04:53:00 -6.184174  106.843572   3.187241  229.396552\n",
      "       34 2019-04-21 04:54:00 -6.182703  106.842868   2.684167  277.566667\n",
      "       35 2019-04-21 04:55:00 -6.180504  106.842337   5.244333  326.850000\n",
      "       36 2019-04-21 04:56:00 -6.178920  106.841976   0.843966   83.672414\n",
      "       37 2019-04-21 04:57:00 -6.178846  106.841960   0.000000    0.000000\n",
      "\n",
      "[1223918 rows x 5 columns]\n"
     ]
    }
   ],
   "source": [
    "# Group data by trj_id\n",
    "cleaned_df['pingtimestamp'] = pd.to_datetime(cleaned_df['pingtimestamp'], unit='s') # Convert unix timestamp to Pandas DateTime\n",
    "grouped_data = cleaned_df.groupby('trj_id') # Group the dataframe by trj_id\n",
    "\n",
    "# Resample by minute\n",
    "def resample_trajectory(data):\n",
    "  \"\"\"\n",
    "  First resample the data to every one minute (1T) by making the pingtimestamp an index (turning it to a pandas multi index dataframe),\n",
    "  then linear interpolate tha data (if a data is null, take average of the previous and next data),\n",
    "  then convert the pingtimestamp from index back to column.\n",
    "\n",
    "  The result is a pandas multi index dataframe with the trj_id as index, and pingtimestamp, rawlat, rawlng, speed, bearing as columns.\n",
    "  \"\"\"\n",
    "  resampled_data = data.resample('1T', on='pingtimestamp')['rawlat', 'rawlng', 'speed', 'bearing'].mean().interpolate('linear').reset_index()\n",
    "  return resampled_data\n",
    "\n",
    "resampled_data = grouped_data.apply(resample_trajectory)\n",
    "\n",
    "print(resampled_data)"
   ]
  },
  {
   "cell_type": "code",
   "execution_count": 6,
   "metadata": {},
   "outputs": [
    {
     "name": "stdout",
     "output_type": "stream",
     "text": [
      "             rawlat      rawlng      speed     bearing  minute_of_hour  \\\n",
      "trj_id                                                                   \n",
      "1      0  -6.198042  106.769008   4.322800  179.920000              17   \n",
      "       1  -6.200972  106.769202   8.014167  173.233333              18   \n",
      "       2  -6.205394  106.769768  10.116136  171.477273              19   \n",
      "       3  -6.210496  106.771217   9.307667  156.683333              20   \n",
      "       4  -6.214969  106.773830  10.103333  139.777778              21   \n",
      "...             ...         ...        ...         ...             ...   \n",
      "9999   33 -6.184174  106.843572   3.187241  229.396552              53   \n",
      "       34 -6.182703  106.842868   2.684167  277.566667              54   \n",
      "       35 -6.180504  106.842337   5.244333  326.850000              55   \n",
      "       36 -6.178920  106.841976   0.843966   83.672414              56   \n",
      "       37 -6.178846  106.841960   0.000000    0.000000              57   \n",
      "\n",
      "           hour_of_day  day_of_week  \n",
      "trj_id                               \n",
      "1      0            14            3  \n",
      "       1            14            3  \n",
      "       2            14            3  \n",
      "       3            14            3  \n",
      "       4            14            3  \n",
      "...                ...          ...  \n",
      "9999   33            4            6  \n",
      "       34            4            6  \n",
      "       35            4            6  \n",
      "       36            4            6  \n",
      "       37            4            6  \n",
      "\n",
      "[1223918 rows x 7 columns]\n"
     ]
    }
   ],
   "source": [
    "# Make hour_of_day and day_of_week from pingtimestamp (Used so the model can better predict user movement from time of day and day of week)\n",
    "resampled_data['minute_of_hour'] = resampled_data['pingtimestamp'].dt.minute\n",
    "resampled_data['hour_of_day'] = resampled_data['pingtimestamp'].dt.hour\n",
    "resampled_data['day_of_week'] = resampled_data['pingtimestamp'].dt.dayofweek\n",
    "resampled_data = resampled_data.drop('pingtimestamp', axis=1) # Drop pingtimestamp as it is no longer needed\n",
    "print(resampled_data)"
   ]
  },
  {
   "cell_type": "code",
   "execution_count": 29,
   "metadata": {},
   "outputs": [
    {
     "ename": "KeyError",
     "evalue": "'1001'",
     "output_type": "error",
     "traceback": [
      "\u001b[1;31m---------------------------------------------------------------------------\u001b[0m",
      "\u001b[1;31mKeyError\u001b[0m                                  Traceback (most recent call last)",
      "File \u001b[1;32mc:\\Users\\adrie\\AppData\\Local\\Programs\\Python\\Python39\\lib\\site-packages\\pandas\\core\\indexes\\base.py:3790\u001b[0m, in \u001b[0;36mIndex.get_loc\u001b[1;34m(self, key)\u001b[0m\n\u001b[0;32m   3789\u001b[0m \u001b[38;5;28;01mtry\u001b[39;00m:\n\u001b[1;32m-> 3790\u001b[0m     \u001b[38;5;28;01mreturn\u001b[39;00m \u001b[38;5;28;43mself\u001b[39;49m\u001b[38;5;241;43m.\u001b[39;49m\u001b[43m_engine\u001b[49m\u001b[38;5;241;43m.\u001b[39;49m\u001b[43mget_loc\u001b[49m\u001b[43m(\u001b[49m\u001b[43mcasted_key\u001b[49m\u001b[43m)\u001b[49m\n\u001b[0;32m   3791\u001b[0m \u001b[38;5;28;01mexcept\u001b[39;00m \u001b[38;5;167;01mKeyError\u001b[39;00m \u001b[38;5;28;01mas\u001b[39;00m err:\n",
      "File \u001b[1;32mindex.pyx:152\u001b[0m, in \u001b[0;36mpandas._libs.index.IndexEngine.get_loc\u001b[1;34m()\u001b[0m\n",
      "File \u001b[1;32mindex.pyx:181\u001b[0m, in \u001b[0;36mpandas._libs.index.IndexEngine.get_loc\u001b[1;34m()\u001b[0m\n",
      "File \u001b[1;32mpandas\\_libs\\hashtable_class_helper.pxi:7080\u001b[0m, in \u001b[0;36mpandas._libs.hashtable.PyObjectHashTable.get_item\u001b[1;34m()\u001b[0m\n",
      "File \u001b[1;32mpandas\\_libs\\hashtable_class_helper.pxi:7088\u001b[0m, in \u001b[0;36mpandas._libs.hashtable.PyObjectHashTable.get_item\u001b[1;34m()\u001b[0m\n",
      "\u001b[1;31mKeyError\u001b[0m: '1001'",
      "\nThe above exception was the direct cause of the following exception:\n",
      "\u001b[1;31mKeyError\u001b[0m                                  Traceback (most recent call last)",
      "Cell \u001b[1;32mIn[29], line 1\u001b[0m\n\u001b[1;32m----> 1\u001b[0m \u001b[43mresampled_data\u001b[49m\u001b[38;5;241;43m.\u001b[39;49m\u001b[43mloc\u001b[49m\u001b[43m[\u001b[49m\u001b[38;5;124;43m'\u001b[39;49m\u001b[38;5;124;43m1001\u001b[39;49m\u001b[38;5;124;43m'\u001b[39;49m\u001b[43m]\u001b[49m\n",
      "File \u001b[1;32mc:\\Users\\adrie\\AppData\\Local\\Programs\\Python\\Python39\\lib\\site-packages\\pandas\\core\\indexing.py:1153\u001b[0m, in \u001b[0;36m_LocationIndexer.__getitem__\u001b[1;34m(self, key)\u001b[0m\n\u001b[0;32m   1150\u001b[0m axis \u001b[38;5;241m=\u001b[39m \u001b[38;5;28mself\u001b[39m\u001b[38;5;241m.\u001b[39maxis \u001b[38;5;129;01mor\u001b[39;00m \u001b[38;5;241m0\u001b[39m\n\u001b[0;32m   1152\u001b[0m maybe_callable \u001b[38;5;241m=\u001b[39m com\u001b[38;5;241m.\u001b[39mapply_if_callable(key, \u001b[38;5;28mself\u001b[39m\u001b[38;5;241m.\u001b[39mobj)\n\u001b[1;32m-> 1153\u001b[0m \u001b[38;5;28;01mreturn\u001b[39;00m \u001b[38;5;28;43mself\u001b[39;49m\u001b[38;5;241;43m.\u001b[39;49m\u001b[43m_getitem_axis\u001b[49m\u001b[43m(\u001b[49m\u001b[43mmaybe_callable\u001b[49m\u001b[43m,\u001b[49m\u001b[43m \u001b[49m\u001b[43maxis\u001b[49m\u001b[38;5;241;43m=\u001b[39;49m\u001b[43maxis\u001b[49m\u001b[43m)\u001b[49m\n",
      "File \u001b[1;32mc:\\Users\\adrie\\AppData\\Local\\Programs\\Python\\Python39\\lib\\site-packages\\pandas\\core\\indexing.py:1393\u001b[0m, in \u001b[0;36m_LocIndexer._getitem_axis\u001b[1;34m(self, key, axis)\u001b[0m\n\u001b[0;32m   1391\u001b[0m \u001b[38;5;66;03m# fall thru to straight lookup\u001b[39;00m\n\u001b[0;32m   1392\u001b[0m \u001b[38;5;28mself\u001b[39m\u001b[38;5;241m.\u001b[39m_validate_key(key, axis)\n\u001b[1;32m-> 1393\u001b[0m \u001b[38;5;28;01mreturn\u001b[39;00m \u001b[38;5;28;43mself\u001b[39;49m\u001b[38;5;241;43m.\u001b[39;49m\u001b[43m_get_label\u001b[49m\u001b[43m(\u001b[49m\u001b[43mkey\u001b[49m\u001b[43m,\u001b[49m\u001b[43m \u001b[49m\u001b[43maxis\u001b[49m\u001b[38;5;241;43m=\u001b[39;49m\u001b[43maxis\u001b[49m\u001b[43m)\u001b[49m\n",
      "File \u001b[1;32mc:\\Users\\adrie\\AppData\\Local\\Programs\\Python\\Python39\\lib\\site-packages\\pandas\\core\\indexing.py:1343\u001b[0m, in \u001b[0;36m_LocIndexer._get_label\u001b[1;34m(self, label, axis)\u001b[0m\n\u001b[0;32m   1341\u001b[0m \u001b[38;5;28;01mdef\u001b[39;00m \u001b[38;5;21m_get_label\u001b[39m(\u001b[38;5;28mself\u001b[39m, label, axis: AxisInt):\n\u001b[0;32m   1342\u001b[0m     \u001b[38;5;66;03m# GH#5567 this will fail if the label is not present in the axis.\u001b[39;00m\n\u001b[1;32m-> 1343\u001b[0m     \u001b[38;5;28;01mreturn\u001b[39;00m \u001b[38;5;28;43mself\u001b[39;49m\u001b[38;5;241;43m.\u001b[39;49m\u001b[43mobj\u001b[49m\u001b[38;5;241;43m.\u001b[39;49m\u001b[43mxs\u001b[49m\u001b[43m(\u001b[49m\u001b[43mlabel\u001b[49m\u001b[43m,\u001b[49m\u001b[43m \u001b[49m\u001b[43maxis\u001b[49m\u001b[38;5;241;43m=\u001b[39;49m\u001b[43maxis\u001b[49m\u001b[43m)\u001b[49m\n",
      "File \u001b[1;32mc:\\Users\\adrie\\AppData\\Local\\Programs\\Python\\Python39\\lib\\site-packages\\pandas\\core\\generic.py:4228\u001b[0m, in \u001b[0;36mNDFrame.xs\u001b[1;34m(self, key, axis, level, drop_level)\u001b[0m\n\u001b[0;32m   4225\u001b[0m     index \u001b[38;5;241m=\u001b[39m \u001b[38;5;28mself\u001b[39m\u001b[38;5;241m.\u001b[39mindex\n\u001b[0;32m   4227\u001b[0m \u001b[38;5;28;01mif\u001b[39;00m \u001b[38;5;28misinstance\u001b[39m(index, MultiIndex):\n\u001b[1;32m-> 4228\u001b[0m     loc, new_index \u001b[38;5;241m=\u001b[39m \u001b[43mindex\u001b[49m\u001b[38;5;241;43m.\u001b[39;49m\u001b[43m_get_loc_level\u001b[49m\u001b[43m(\u001b[49m\u001b[43mkey\u001b[49m\u001b[43m,\u001b[49m\u001b[43m \u001b[49m\u001b[43mlevel\u001b[49m\u001b[38;5;241;43m=\u001b[39;49m\u001b[38;5;241;43m0\u001b[39;49m\u001b[43m)\u001b[49m\n\u001b[0;32m   4229\u001b[0m     \u001b[38;5;28;01mif\u001b[39;00m \u001b[38;5;129;01mnot\u001b[39;00m drop_level:\n\u001b[0;32m   4230\u001b[0m         \u001b[38;5;28;01mif\u001b[39;00m lib\u001b[38;5;241m.\u001b[39mis_integer(loc):\n\u001b[0;32m   4231\u001b[0m             \u001b[38;5;66;03m# Slice index must be an integer or None\u001b[39;00m\n",
      "File \u001b[1;32mc:\\Users\\adrie\\AppData\\Local\\Programs\\Python\\Python39\\lib\\site-packages\\pandas\\core\\indexes\\multi.py:3175\u001b[0m, in \u001b[0;36mMultiIndex._get_loc_level\u001b[1;34m(self, key, level)\u001b[0m\n\u001b[0;32m   3173\u001b[0m         \u001b[38;5;28;01mreturn\u001b[39;00m indexer, maybe_mi_droplevels(indexer, ilevels)\n\u001b[0;32m   3174\u001b[0m \u001b[38;5;28;01melse\u001b[39;00m:\n\u001b[1;32m-> 3175\u001b[0m     indexer \u001b[38;5;241m=\u001b[39m \u001b[38;5;28;43mself\u001b[39;49m\u001b[38;5;241;43m.\u001b[39;49m\u001b[43m_get_level_indexer\u001b[49m\u001b[43m(\u001b[49m\u001b[43mkey\u001b[49m\u001b[43m,\u001b[49m\u001b[43m \u001b[49m\u001b[43mlevel\u001b[49m\u001b[38;5;241;43m=\u001b[39;49m\u001b[43mlevel\u001b[49m\u001b[43m)\u001b[49m\n\u001b[0;32m   3176\u001b[0m     \u001b[38;5;28;01mif\u001b[39;00m (\n\u001b[0;32m   3177\u001b[0m         \u001b[38;5;28misinstance\u001b[39m(key, \u001b[38;5;28mstr\u001b[39m)\n\u001b[0;32m   3178\u001b[0m         \u001b[38;5;129;01mand\u001b[39;00m \u001b[38;5;28mself\u001b[39m\u001b[38;5;241m.\u001b[39mlevels[level]\u001b[38;5;241m.\u001b[39m_supports_partial_string_indexing\n\u001b[0;32m   3179\u001b[0m     ):\n\u001b[0;32m   3180\u001b[0m         \u001b[38;5;66;03m# check to see if we did an exact lookup vs sliced\u001b[39;00m\n\u001b[0;32m   3181\u001b[0m         check \u001b[38;5;241m=\u001b[39m \u001b[38;5;28mself\u001b[39m\u001b[38;5;241m.\u001b[39mlevels[level]\u001b[38;5;241m.\u001b[39mget_loc(key)\n",
      "File \u001b[1;32mc:\\Users\\adrie\\AppData\\Local\\Programs\\Python\\Python39\\lib\\site-packages\\pandas\\core\\indexes\\multi.py:3276\u001b[0m, in \u001b[0;36mMultiIndex._get_level_indexer\u001b[1;34m(self, key, level, indexer)\u001b[0m\n\u001b[0;32m   3273\u001b[0m         \u001b[38;5;28;01mreturn\u001b[39;00m \u001b[38;5;28mslice\u001b[39m(i, j, step)\n\u001b[0;32m   3275\u001b[0m \u001b[38;5;28;01melse\u001b[39;00m:\n\u001b[1;32m-> 3276\u001b[0m     idx \u001b[38;5;241m=\u001b[39m \u001b[38;5;28;43mself\u001b[39;49m\u001b[38;5;241;43m.\u001b[39;49m\u001b[43m_get_loc_single_level_index\u001b[49m\u001b[43m(\u001b[49m\u001b[43mlevel_index\u001b[49m\u001b[43m,\u001b[49m\u001b[43m \u001b[49m\u001b[43mkey\u001b[49m\u001b[43m)\u001b[49m\n\u001b[0;32m   3278\u001b[0m     \u001b[38;5;28;01mif\u001b[39;00m level \u001b[38;5;241m>\u001b[39m \u001b[38;5;241m0\u001b[39m \u001b[38;5;129;01mor\u001b[39;00m \u001b[38;5;28mself\u001b[39m\u001b[38;5;241m.\u001b[39m_lexsort_depth \u001b[38;5;241m==\u001b[39m \u001b[38;5;241m0\u001b[39m:\n\u001b[0;32m   3279\u001b[0m         \u001b[38;5;66;03m# Desired level is not sorted\u001b[39;00m\n\u001b[0;32m   3280\u001b[0m         \u001b[38;5;28;01mif\u001b[39;00m \u001b[38;5;28misinstance\u001b[39m(idx, \u001b[38;5;28mslice\u001b[39m):\n\u001b[0;32m   3281\u001b[0m             \u001b[38;5;66;03m# test_get_loc_partial_timestamp_multiindex\u001b[39;00m\n",
      "File \u001b[1;32mc:\\Users\\adrie\\AppData\\Local\\Programs\\Python\\Python39\\lib\\site-packages\\pandas\\core\\indexes\\multi.py:2865\u001b[0m, in \u001b[0;36mMultiIndex._get_loc_single_level_index\u001b[1;34m(self, level_index, key)\u001b[0m\n\u001b[0;32m   2863\u001b[0m     \u001b[38;5;28;01mreturn\u001b[39;00m \u001b[38;5;241m-\u001b[39m\u001b[38;5;241m1\u001b[39m\n\u001b[0;32m   2864\u001b[0m \u001b[38;5;28;01melse\u001b[39;00m:\n\u001b[1;32m-> 2865\u001b[0m     \u001b[38;5;28;01mreturn\u001b[39;00m \u001b[43mlevel_index\u001b[49m\u001b[38;5;241;43m.\u001b[39;49m\u001b[43mget_loc\u001b[49m\u001b[43m(\u001b[49m\u001b[43mkey\u001b[49m\u001b[43m)\u001b[49m\n",
      "File \u001b[1;32mc:\\Users\\adrie\\AppData\\Local\\Programs\\Python\\Python39\\lib\\site-packages\\pandas\\core\\indexes\\base.py:3797\u001b[0m, in \u001b[0;36mIndex.get_loc\u001b[1;34m(self, key)\u001b[0m\n\u001b[0;32m   3792\u001b[0m     \u001b[38;5;28;01mif\u001b[39;00m \u001b[38;5;28misinstance\u001b[39m(casted_key, \u001b[38;5;28mslice\u001b[39m) \u001b[38;5;129;01mor\u001b[39;00m (\n\u001b[0;32m   3793\u001b[0m         \u001b[38;5;28misinstance\u001b[39m(casted_key, abc\u001b[38;5;241m.\u001b[39mIterable)\n\u001b[0;32m   3794\u001b[0m         \u001b[38;5;129;01mand\u001b[39;00m \u001b[38;5;28many\u001b[39m(\u001b[38;5;28misinstance\u001b[39m(x, \u001b[38;5;28mslice\u001b[39m) \u001b[38;5;28;01mfor\u001b[39;00m x \u001b[38;5;129;01min\u001b[39;00m casted_key)\n\u001b[0;32m   3795\u001b[0m     ):\n\u001b[0;32m   3796\u001b[0m         \u001b[38;5;28;01mraise\u001b[39;00m InvalidIndexError(key)\n\u001b[1;32m-> 3797\u001b[0m     \u001b[38;5;28;01mraise\u001b[39;00m \u001b[38;5;167;01mKeyError\u001b[39;00m(key) \u001b[38;5;28;01mfrom\u001b[39;00m \u001b[38;5;21;01merr\u001b[39;00m\n\u001b[0;32m   3798\u001b[0m \u001b[38;5;28;01mexcept\u001b[39;00m \u001b[38;5;167;01mTypeError\u001b[39;00m:\n\u001b[0;32m   3799\u001b[0m     \u001b[38;5;66;03m# If we have a listlike key, _check_indexing_error will raise\u001b[39;00m\n\u001b[0;32m   3800\u001b[0m     \u001b[38;5;66;03m#  InvalidIndexError. Otherwise we fall through and re-raise\u001b[39;00m\n\u001b[0;32m   3801\u001b[0m     \u001b[38;5;66;03m#  the TypeError.\u001b[39;00m\n\u001b[0;32m   3802\u001b[0m     \u001b[38;5;28mself\u001b[39m\u001b[38;5;241m.\u001b[39m_check_indexing_error(key)\n",
      "\u001b[1;31mKeyError\u001b[0m: '1001'"
     ]
    }
   ],
   "source": [
    "resampled_data.loc['1001']"
   ]
  },
  {
   "cell_type": "code",
   "execution_count": 15,
   "metadata": {},
   "outputs": [],
   "source": [
    "# Export data to CSV\n",
    "resampled_data.to_csv('clean_data.csv')"
   ]
  }
 ],
 "metadata": {
  "kernelspec": {
   "display_name": "Python 3",
   "language": "python",
   "name": "python3"
  },
  "language_info": {
   "codemirror_mode": {
    "name": "ipython",
    "version": 3
   },
   "file_extension": ".py",
   "mimetype": "text/x-python",
   "name": "python",
   "nbconvert_exporter": "python",
   "pygments_lexer": "ipython3",
   "version": "3.9.13"
  }
 },
 "nbformat": 4,
 "nbformat_minor": 2
}
