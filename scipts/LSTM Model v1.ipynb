{
 "cells": [
  {
   "cell_type": "markdown",
   "metadata": {},
   "source": [
    "<h2>FINAL DATA PREPROCESSING & MODEL TRAINING</h2>\n",
    "\n",
    "Script ini digunakan untuk mempreprocess data menjadi data final yang dapat digunakan untuk training model, dan training model LSTM itu sendiri. Secara umum, script ini meliputi:\n",
    "<h4>Data Preprocessing</h4>\n",
    "- Padding & Truncating data, pada dasarnya memastikan seluruh trj_id memiliki jumlah data yang sama, yakni 20 data, dengan menambahkan data yang kurang dengan 0 dan memotong data yang kelebihan dan mengambil 20 data paling belakang.\n",
    "- Membagi data menjadi X (koordinat, keceptan, dll yang dimasukkan ke model untuk melatih model) dan y (koordinat yang benar untuk dibandingkan dengan koordinat hasil prediksi model). y akan diambil dari koordinat terakhir tiap trajectory.\n",
    "- Membagi data menjadi training data dan testing data, dengan pembagian 90%/10%.\n",
    "<br/>\n",
    "<h4>Model Training</h4>\n",
    "- Mendefinisikan dan melatih model LSTM berdasarkan data yang telah siap.\n",
    "- Arsitektur, epoch, loss, optimizer, dan dll dapat dengan bebas diubah-ubah untuk mencoba model lain.\n",
    "<br/>\n",
    "Jika ingin melihat performa model pertama yang telah saya latih, maka model itu sudah disave dalam folder models dengan nama model_v1.keras. Model dapat ditest menggunakan script Model Test.ipynb"
   ]
  },
  {
   "cell_type": "code",
   "execution_count": 1,
   "metadata": {},
   "outputs": [],
   "source": [
    "## Import libraries\n",
    "import pandas as pd\n",
    "import numpy as np\n",
    "import tensorflow as tf\n",
    "from sklearn.model_selection import train_test_split\n",
    "import datetime"
   ]
  },
  {
   "cell_type": "code",
   "execution_count": 2,
   "metadata": {},
   "outputs": [],
   "source": [
    "# Load Tensorboard\n",
    "%load_ext tensorboard"
   ]
  },
  {
   "cell_type": "code",
   "execution_count": 3,
   "metadata": {},
   "outputs": [
    {
     "name": "stdout",
     "output_type": "stream",
     "text": [
      "          rawlat      rawlng      speed     bearing  hour_of_day  day_of_week\n",
      "trj_id                                                                       \n",
      "1      -6.198042  106.769008   4.322800  179.920000           14            3\n",
      "1      -6.200972  106.769202   8.014167  173.233333           14            3\n",
      "1      -6.205394  106.769768  10.116136  171.477273           14            3\n",
      "1      -6.210496  106.771217   9.307667  156.683333           14            3\n",
      "1      -6.214969  106.773830  10.103333  139.777778           14            3\n",
      "...          ...         ...        ...         ...          ...          ...\n",
      "9999   -6.187751  106.845707  10.584667  329.600000            4            6\n",
      "9999   -6.184123  106.843546   4.508780  324.512195            4            6\n",
      "9999   -6.182706  106.842869   2.776724  287.137931            4            6\n",
      "9999   -6.180504  106.842337   5.244333  326.850000            4            6\n",
      "9999   -6.179029  106.841998   2.330952  231.095238            4            6\n",
      "\n",
      "[1221233 rows x 6 columns]\n"
     ]
    }
   ],
   "source": [
    "## Read data from csv\n",
    "resampled_data = pd.read_csv('../clean_data.csv', index_col='trj_id').drop('Unnamed: 1', axis=1)\n",
    "print(resampled_data)"
   ]
  },
  {
   "cell_type": "code",
   "execution_count": 4,
   "metadata": {},
   "outputs": [],
   "source": [
    "# Pad and truncate the timestamps in the dataframe\n",
    "# Ini buat kita samain input modelnya, gw potong timestampnya jadi pasti ada 20 timestamp per sample. Kalo lebih dipotong, kalo kurang ditambahin 0 di depannya\n",
    "# Pad value None --> pake koordinat pertama\n",
    "\n",
    "def pad_truncate_dataframe(df, max_len, padding='pre', truncating='post', pad_value=None):\n",
    "  # Split the dataframe by samples (first level of multi-index)\n",
    "  samples = df.groupby(level=0)\n",
    "\n",
    "  # Define a function to pad/truncate a single sample\n",
    "  def pad_truncate_sample(sample):\n",
    "    # Extract the values from a single sample\n",
    "    values = sample.values\n",
    "    first_element = values[0]\n",
    "    first_element[2] = 0\n",
    "    first_element[3] = 0\n",
    "\n",
    "    # Pad/truncate automatically using pad_sequences\n",
    "    if pad_value == None:\n",
    "      padded_truncated = tf.keras.preprocessing.sequence.pad_sequences(\n",
    "          [values], maxlen=max_len, padding=padding, truncating=truncating, value=first_element, dtype='float64'\n",
    "      )[0]\n",
    "    else:\n",
    "      padded_truncated = tf.keras.preprocessing.sequence.pad_sequences(\n",
    "          [values], maxlen=max_len, padding=padding, truncating=truncating, value=pad_value, dtype='float64'\n",
    "      )[0]\n",
    "\n",
    "    # Convert back to pandas dataframe\n",
    "    return pd.DataFrame(padded_truncated, columns=sample.columns)\n",
    "\n",
    "  # Apply the function to each sample and recreate the multi-index dataframe\n",
    "  padded_df = samples.apply(pad_truncate_sample)\n",
    "  return padded_df\n",
    "\n",
    "df_new = pad_truncate_dataframe(resampled_data, 21)"
   ]
  },
  {
   "cell_type": "code",
   "execution_count": 5,
   "metadata": {},
   "outputs": [
    {
     "data": {
      "text/plain": [
       "(55994, 21, 6)"
      ]
     },
     "execution_count": 5,
     "metadata": {},
     "output_type": "execute_result"
    }
   ],
   "source": [
    "## Convert the multi index dataframe to a numpy 3D array for better integration to TensorFlow (samples, timesteps, features)\n",
    "numpy_data = df_new.to_xarray().to_array().to_numpy()\n",
    "numpy_data = np.transpose(numpy_data, (1, 2, 0))\n",
    "numpy_data.shape # Should be (55994, 21, 6) for 55994 samples, 21 timesteps, and 6 features"
   ]
  },
  {
   "cell_type": "code",
   "execution_count": 6,
   "metadata": {},
   "outputs": [],
   "source": [
    "## Split the data to x (feature values) and y (target values)\n",
    "x_data = numpy_data[:, :-1, :]\n",
    "y_data = numpy_data[:, -1, 0:2]"
   ]
  },
  {
   "cell_type": "code",
   "execution_count": 7,
   "metadata": {},
   "outputs": [],
   "source": [
    "# Split the data to train and test splits (train to train the model, test to test the model on new data after trained)\n",
    "test_size = 0.1\n",
    "\n",
    "x_train, x_test, y_train, y_test = train_test_split(x_data, y_data, test_size=test_size)"
   ]
  },
  {
   "cell_type": "code",
   "execution_count": 8,
   "metadata": {},
   "outputs": [
    {
     "name": "stderr",
     "output_type": "stream",
     "text": [
      "c:\\Users\\adrie\\AppData\\Local\\Programs\\Python\\Python39\\lib\\site-packages\\keras\\src\\layers\\preprocessing\\normalization.py:99: UserWarning: Do not pass an `input_shape`/`input_dim` argument to a layer. When using Sequential models, prefer using an `Input(shape)` object as the first layer in the model instead.\n",
      "  super().__init__(**kwargs)\n"
     ]
    }
   ],
   "source": [
    "## Define normalization layer\n",
    "normalize_layer = tf.keras.layers.Normalization(axis=-1, input_shape=(20, 6))\n",
    "normalize_layer.adapt(numpy_data)"
   ]
  },
  {
   "cell_type": "code",
   "execution_count": 9,
   "metadata": {},
   "outputs": [],
   "source": [
    "## Get Mean and Variance of Normalization layer to use for normalizing y and denormalizing later\n",
    "normalize_weights = normalize_layer.get_weights()\n",
    "\n",
    "mean_variance = np.array([normalize_weights[0][0:2], normalize_weights[1][0:2]])\n",
    "\n",
    "np.save('../mean_variance.npy', mean_variance)"
   ]
  },
  {
   "cell_type": "code",
   "execution_count": 10,
   "metadata": {},
   "outputs": [
    {
     "name": "stdout",
     "output_type": "stream",
     "text": [
      "tf.Tensor(\n",
      "[[ 0.00345425  1.6360095 ]\n",
      " [-0.6484471   0.9248272 ]\n",
      " [ 0.1113361  -0.25776196]\n",
      " ...\n",
      " [-3.3107564  -0.22143452]\n",
      " [ 1.4733664  -0.9769461 ]\n",
      " [-0.36497173  0.49173048]], shape=(50394, 2), dtype=float32)\n"
     ]
    }
   ],
   "source": [
    "## Normalize y\n",
    "normalize_y = tf.keras.layers.Normalization(mean=mean_variance[0], variance=mean_variance[1])\n",
    "\n",
    "y_train = normalize_y(y_train)\n",
    "y_test = normalize_y(y_test)\n",
    "print(y_train)"
   ]
  },
  {
   "cell_type": "code",
   "execution_count": 11,
   "metadata": {},
   "outputs": [],
   "source": [
    "## Save test data for model testing\n",
    "np.save('../x_test.npy', x_test)\n",
    "np.save('../y_test.npy', y_test)"
   ]
  },
  {
   "cell_type": "code",
   "execution_count": 12,
   "metadata": {},
   "outputs": [
    {
     "name": "stdout",
     "output_type": "stream",
     "text": [
      "WARNING:tensorflow:From c:\\Users\\adrie\\AppData\\Local\\Programs\\Python\\Python39\\lib\\site-packages\\keras\\src\\backend\\common\\global_state.py:74: The name tf.reset_default_graph is deprecated. Please use tf.compat.v1.reset_default_graph instead.\n",
      "\n"
     ]
    },
    {
     "data": {
      "text/html": [
       "<pre style=\"white-space:pre;overflow-x:auto;line-height:normal;font-family:Menlo,'DejaVu Sans Mono',consolas,'Courier New',monospace\"><span style=\"font-weight: bold\">Model: \"sequential\"</span>\n",
       "</pre>\n"
      ],
      "text/plain": [
       "\u001b[1mModel: \"sequential\"\u001b[0m\n"
      ]
     },
     "metadata": {},
     "output_type": "display_data"
    },
    {
     "data": {
      "text/html": [
       "<pre style=\"white-space:pre;overflow-x:auto;line-height:normal;font-family:Menlo,'DejaVu Sans Mono',consolas,'Courier New',monospace\">┏━━━━━━━━━━━━━━━━━━━━━━━━━━━━━━━━━┳━━━━━━━━━━━━━━━━━━━━━━━━┳━━━━━━━━━━━━━━━┓\n",
       "┃<span style=\"font-weight: bold\"> Layer (type)                    </span>┃<span style=\"font-weight: bold\"> Output Shape           </span>┃<span style=\"font-weight: bold\">       Param # </span>┃\n",
       "┡━━━━━━━━━━━━━━━━━━━━━━━━━━━━━━━━━╇━━━━━━━━━━━━━━━━━━━━━━━━╇━━━━━━━━━━━━━━━┩\n",
       "│ normalization (<span style=\"color: #0087ff; text-decoration-color: #0087ff\">Normalization</span>)   │ (<span style=\"color: #00d7ff; text-decoration-color: #00d7ff\">None</span>, <span style=\"color: #00af00; text-decoration-color: #00af00\">20</span>, <span style=\"color: #00af00; text-decoration-color: #00af00\">6</span>)          │            <span style=\"color: #00af00; text-decoration-color: #00af00\">13</span> │\n",
       "├─────────────────────────────────┼────────────────────────┼───────────────┤\n",
       "│ lstm (<span style=\"color: #0087ff; text-decoration-color: #0087ff\">LSTM</span>)                     │ (<span style=\"color: #00d7ff; text-decoration-color: #00d7ff\">None</span>, <span style=\"color: #00af00; text-decoration-color: #00af00\">20</span>, <span style=\"color: #00af00; text-decoration-color: #00af00\">256</span>)        │       <span style=\"color: #00af00; text-decoration-color: #00af00\">269,312</span> │\n",
       "├─────────────────────────────────┼────────────────────────┼───────────────┤\n",
       "│ lstm_1 (<span style=\"color: #0087ff; text-decoration-color: #0087ff\">LSTM</span>)                   │ (<span style=\"color: #00d7ff; text-decoration-color: #00d7ff\">None</span>, <span style=\"color: #00af00; text-decoration-color: #00af00\">20</span>, <span style=\"color: #00af00; text-decoration-color: #00af00\">256</span>)        │       <span style=\"color: #00af00; text-decoration-color: #00af00\">525,312</span> │\n",
       "├─────────────────────────────────┼────────────────────────┼───────────────┤\n",
       "│ lstm_2 (<span style=\"color: #0087ff; text-decoration-color: #0087ff\">LSTM</span>)                   │ (<span style=\"color: #00d7ff; text-decoration-color: #00d7ff\">None</span>, <span style=\"color: #00af00; text-decoration-color: #00af00\">128</span>)            │       <span style=\"color: #00af00; text-decoration-color: #00af00\">197,120</span> │\n",
       "├─────────────────────────────────┼────────────────────────┼───────────────┤\n",
       "│ dense (<span style=\"color: #0087ff; text-decoration-color: #0087ff\">Dense</span>)                   │ (<span style=\"color: #00d7ff; text-decoration-color: #00d7ff\">None</span>, <span style=\"color: #00af00; text-decoration-color: #00af00\">2</span>)              │           <span style=\"color: #00af00; text-decoration-color: #00af00\">258</span> │\n",
       "└─────────────────────────────────┴────────────────────────┴───────────────┘\n",
       "</pre>\n"
      ],
      "text/plain": [
       "┏━━━━━━━━━━━━━━━━━━━━━━━━━━━━━━━━━┳━━━━━━━━━━━━━━━━━━━━━━━━┳━━━━━━━━━━━━━━━┓\n",
       "┃\u001b[1m \u001b[0m\u001b[1mLayer (type)                   \u001b[0m\u001b[1m \u001b[0m┃\u001b[1m \u001b[0m\u001b[1mOutput Shape          \u001b[0m\u001b[1m \u001b[0m┃\u001b[1m \u001b[0m\u001b[1m      Param #\u001b[0m\u001b[1m \u001b[0m┃\n",
       "┡━━━━━━━━━━━━━━━━━━━━━━━━━━━━━━━━━╇━━━━━━━━━━━━━━━━━━━━━━━━╇━━━━━━━━━━━━━━━┩\n",
       "│ normalization (\u001b[38;5;33mNormalization\u001b[0m)   │ (\u001b[38;5;45mNone\u001b[0m, \u001b[38;5;34m20\u001b[0m, \u001b[38;5;34m6\u001b[0m)          │            \u001b[38;5;34m13\u001b[0m │\n",
       "├─────────────────────────────────┼────────────────────────┼───────────────┤\n",
       "│ lstm (\u001b[38;5;33mLSTM\u001b[0m)                     │ (\u001b[38;5;45mNone\u001b[0m, \u001b[38;5;34m20\u001b[0m, \u001b[38;5;34m256\u001b[0m)        │       \u001b[38;5;34m269,312\u001b[0m │\n",
       "├─────────────────────────────────┼────────────────────────┼───────────────┤\n",
       "│ lstm_1 (\u001b[38;5;33mLSTM\u001b[0m)                   │ (\u001b[38;5;45mNone\u001b[0m, \u001b[38;5;34m20\u001b[0m, \u001b[38;5;34m256\u001b[0m)        │       \u001b[38;5;34m525,312\u001b[0m │\n",
       "├─────────────────────────────────┼────────────────────────┼───────────────┤\n",
       "│ lstm_2 (\u001b[38;5;33mLSTM\u001b[0m)                   │ (\u001b[38;5;45mNone\u001b[0m, \u001b[38;5;34m128\u001b[0m)            │       \u001b[38;5;34m197,120\u001b[0m │\n",
       "├─────────────────────────────────┼────────────────────────┼───────────────┤\n",
       "│ dense (\u001b[38;5;33mDense\u001b[0m)                   │ (\u001b[38;5;45mNone\u001b[0m, \u001b[38;5;34m2\u001b[0m)              │           \u001b[38;5;34m258\u001b[0m │\n",
       "└─────────────────────────────────┴────────────────────────┴───────────────┘\n"
      ]
     },
     "metadata": {},
     "output_type": "display_data"
    },
    {
     "data": {
      "text/html": [
       "<pre style=\"white-space:pre;overflow-x:auto;line-height:normal;font-family:Menlo,'DejaVu Sans Mono',consolas,'Courier New',monospace\"><span style=\"font-weight: bold\"> Total params: </span><span style=\"color: #00af00; text-decoration-color: #00af00\">992,015</span> (3.78 MB)\n",
       "</pre>\n"
      ],
      "text/plain": [
       "\u001b[1m Total params: \u001b[0m\u001b[38;5;34m992,015\u001b[0m (3.78 MB)\n"
      ]
     },
     "metadata": {},
     "output_type": "display_data"
    },
    {
     "data": {
      "text/html": [
       "<pre style=\"white-space:pre;overflow-x:auto;line-height:normal;font-family:Menlo,'DejaVu Sans Mono',consolas,'Courier New',monospace\"><span style=\"font-weight: bold\"> Trainable params: </span><span style=\"color: #00af00; text-decoration-color: #00af00\">992,002</span> (3.78 MB)\n",
       "</pre>\n"
      ],
      "text/plain": [
       "\u001b[1m Trainable params: \u001b[0m\u001b[38;5;34m992,002\u001b[0m (3.78 MB)\n"
      ]
     },
     "metadata": {},
     "output_type": "display_data"
    },
    {
     "data": {
      "text/html": [
       "<pre style=\"white-space:pre;overflow-x:auto;line-height:normal;font-family:Menlo,'DejaVu Sans Mono',consolas,'Courier New',monospace\"><span style=\"font-weight: bold\"> Non-trainable params: </span><span style=\"color: #00af00; text-decoration-color: #00af00\">13</span> (56.00 B)\n",
       "</pre>\n"
      ],
      "text/plain": [
       "\u001b[1m Non-trainable params: \u001b[0m\u001b[38;5;34m13\u001b[0m (56.00 B)\n"
      ]
     },
     "metadata": {},
     "output_type": "display_data"
    }
   ],
   "source": [
    "# Clear any previous models\n",
    "tf.keras.backend.clear_session()\n",
    "\n",
    "# Name scope each layer\n",
    "\n",
    "# Define the model\n",
    "num_features = 6\n",
    "batch_size = 32\n",
    "\n",
    "model = tf.keras.Sequential()\n",
    "model.add(normalize_layer)\n",
    "model.add(tf.keras.layers.LSTM(256, return_sequences=True))\n",
    "model.add(tf.keras.layers.LSTM(256, return_sequences=True))\n",
    "model.add(tf.keras.layers.LSTM(128))\n",
    "model.add(tf.keras.layers.Dense(2))\n",
    "\n",
    "\n",
    "# Define optimizer\n",
    "lr = 1e-3\n",
    "opt = tf.keras.optimizers.Adam(learning_rate=lr)\n",
    "\n",
    "model.compile(loss='huber', optimizer=opt, metrics=['mae', 'mse'])\n",
    "model.summary()"
   ]
  },
  {
   "cell_type": "code",
   "execution_count": 13,
   "metadata": {},
   "outputs": [],
   "source": [
    "## Define LR scheduling (optional if want to use or not)\n",
    "start_lr = lr\n",
    "min_lr = 0.00001\n",
    "max_lr = 0.001\n",
    "rampup_epochs = 0\n",
    "sustain_epochs = 0\n",
    "exp_decay = 0.0\n",
    "\n",
    "# Define the scheduling function\n",
    "def schedule(epoch):\n",
    "  def lr(epoch, start_lr, min_lr, max_lr, rampup_epochs, sustain_epochs, exp_decay):\n",
    "    if epoch < rampup_epochs:\n",
    "      lr = (max_lr - start_lr)/rampup_epochs * epoch + start_lr\n",
    "    elif epoch < rampup_epochs + sustain_epochs:\n",
    "      lr = max_lr\n",
    "    else:\n",
    "      lr = (max_lr - min_lr) * exp_decay**(epoch-rampup_epochs-sustain_epochs) + min_lr\n",
    "    return lr\n",
    "  return lr(epoch, start_lr, min_lr, max_lr, rampup_epochs, sustain_epochs, exp_decay)"
   ]
  },
  {
   "cell_type": "code",
   "execution_count": 14,
   "metadata": {},
   "outputs": [
    {
     "name": "stdout",
     "output_type": "stream",
     "text": [
      "Epoch 1/200\n",
      "\u001b[1m788/788\u001b[0m \u001b[32m━━━━━━━━━━━━━━━━━━━━\u001b[0m\u001b[37m\u001b[0m \u001b[1m98s\u001b[0m 120ms/step - loss: 0.0175 - mae: 0.1074 - mse: 0.0392 - val_loss: 0.0012 - val_mae: 0.0344 - val_mse: 0.0023\n",
      "Epoch 2/200\n",
      "\u001b[1m788/788\u001b[0m \u001b[32m━━━━━━━━━━━━━━━━━━━━\u001b[0m\u001b[37m\u001b[0m \u001b[1m106s\u001b[0m 134ms/step - loss: 9.1164e-04 - mae: 0.0309 - mse: 0.0018 - val_loss: 4.9746e-04 - val_mae: 0.0227 - val_mse: 9.9491e-04\n",
      "Epoch 3/200\n",
      "\u001b[1m788/788\u001b[0m \u001b[32m━━━━━━━━━━━━━━━━━━━━\u001b[0m\u001b[37m\u001b[0m \u001b[1m101s\u001b[0m 128ms/step - loss: 4.4718e-04 - mae: 0.0216 - mse: 8.9436e-04 - val_loss: 2.4823e-04 - val_mae: 0.0160 - val_mse: 4.9646e-04\n",
      "Epoch 4/200\n",
      "\u001b[1m788/788\u001b[0m \u001b[32m━━━━━━━━━━━━━━━━━━━━\u001b[0m\u001b[37m\u001b[0m \u001b[1m101s\u001b[0m 128ms/step - loss: 2.3486e-04 - mae: 0.0159 - mse: 4.6972e-04 - val_loss: 1.3688e-04 - val_mae: 0.0120 - val_mse: 2.7376e-04\n",
      "Epoch 5/200\n",
      "\u001b[1m788/788\u001b[0m \u001b[32m━━━━━━━━━━━━━━━━━━━━\u001b[0m\u001b[37m\u001b[0m \u001b[1m95s\u001b[0m 121ms/step - loss: 2.3777e-04 - mae: 0.0156 - mse: 4.7553e-04 - val_loss: 1.8595e-04 - val_mae: 0.0137 - val_mse: 3.7190e-04\n",
      "Epoch 6/200\n",
      "\u001b[1m788/788\u001b[0m \u001b[32m━━━━━━━━━━━━━━━━━━━━\u001b[0m\u001b[37m\u001b[0m \u001b[1m90s\u001b[0m 114ms/step - loss: 3.6022e-04 - mae: 0.0178 - mse: 7.2044e-04 - val_loss: 1.2937e-04 - val_mae: 0.0118 - val_mse: 2.5874e-04\n",
      "Epoch 7/200\n",
      "\u001b[1m788/788\u001b[0m \u001b[32m━━━━━━━━━━━━━━━━━━━━\u001b[0m\u001b[37m\u001b[0m \u001b[1m88s\u001b[0m 112ms/step - loss: 2.1316e-04 - mae: 0.0143 - mse: 4.2631e-04 - val_loss: 1.6494e-04 - val_mae: 0.0138 - val_mse: 3.2988e-04\n",
      "Epoch 8/200\n",
      "\u001b[1m788/788\u001b[0m \u001b[32m━━━━━━━━━━━━━━━━━━━━\u001b[0m\u001b[37m\u001b[0m \u001b[1m89s\u001b[0m 113ms/step - loss: 1.7651e-04 - mae: 0.0135 - mse: 3.5303e-04 - val_loss: 2.0632e-04 - val_mae: 0.0150 - val_mse: 4.1264e-04\n",
      "Epoch 9/200\n",
      "\u001b[1m788/788\u001b[0m \u001b[32m━━━━━━━━━━━━━━━━━━━━\u001b[0m\u001b[37m\u001b[0m \u001b[1m92s\u001b[0m 117ms/step - loss: 5.2277e-04 - mae: 0.0197 - mse: 0.0010 - val_loss: 1.0210e-04 - val_mae: 0.0104 - val_mse: 2.0420e-04\n",
      "Epoch 10/200\n",
      "\u001b[1m788/788\u001b[0m \u001b[32m━━━━━━━━━━━━━━━━━━━━\u001b[0m\u001b[37m\u001b[0m \u001b[1m94s\u001b[0m 119ms/step - loss: 1.4494e-04 - mae: 0.0121 - mse: 2.8988e-04 - val_loss: 1.5024e-04 - val_mae: 0.0128 - val_mse: 3.0047e-04\n",
      "Epoch 11/200\n",
      "\u001b[1m788/788\u001b[0m \u001b[32m━━━━━━━━━━━━━━━━━━━━\u001b[0m\u001b[37m\u001b[0m \u001b[1m85s\u001b[0m 108ms/step - loss: 1.5516e-04 - mae: 0.0126 - mse: 3.1032e-04 - val_loss: 5.9958e-04 - val_mae: 0.0238 - val_mse: 0.0012\n",
      "Epoch 12/200\n",
      "\u001b[1m788/788\u001b[0m \u001b[32m━━━━━━━━━━━━━━━━━━━━\u001b[0m\u001b[37m\u001b[0m \u001b[1m84s\u001b[0m 107ms/step - loss: 2.5863e-04 - mae: 0.0157 - mse: 5.1726e-04 - val_loss: 1.2927e-04 - val_mae: 0.0115 - val_mse: 2.5854e-04\n",
      "Epoch 13/200\n",
      "\u001b[1m788/788\u001b[0m \u001b[32m━━━━━━━━━━━━━━━━━━━━\u001b[0m\u001b[37m\u001b[0m \u001b[1m87s\u001b[0m 110ms/step - loss: 1.5896e-04 - mae: 0.0129 - mse: 3.1791e-04 - val_loss: 1.7676e-04 - val_mae: 0.0143 - val_mse: 3.5352e-04\n",
      "Epoch 14/200\n",
      "\u001b[1m788/788\u001b[0m \u001b[32m━━━━━━━━━━━━━━━━━━━━\u001b[0m\u001b[37m\u001b[0m \u001b[1m84s\u001b[0m 107ms/step - loss: 2.6479e-04 - mae: 0.0155 - mse: 5.2958e-04 - val_loss: 1.1920e-04 - val_mae: 0.0114 - val_mse: 2.3840e-04\n",
      "Epoch 15/200\n",
      "\u001b[1m788/788\u001b[0m \u001b[32m━━━━━━━━━━━━━━━━━━━━\u001b[0m\u001b[37m\u001b[0m \u001b[1m85s\u001b[0m 108ms/step - loss: 1.9289e-04 - mae: 0.0137 - mse: 3.8578e-04 - val_loss: 2.5571e-04 - val_mae: 0.0159 - val_mse: 5.1141e-04\n",
      "Epoch 16/200\n",
      "\u001b[1m788/788\u001b[0m \u001b[32m━━━━━━━━━━━━━━━━━━━━\u001b[0m\u001b[37m\u001b[0m \u001b[1m87s\u001b[0m 110ms/step - loss: 1.8590e-04 - mae: 0.0133 - mse: 3.7180e-04 - val_loss: 2.9182e-04 - val_mae: 0.0181 - val_mse: 5.8365e-04\n",
      "Epoch 17/200\n",
      "\u001b[1m788/788\u001b[0m \u001b[32m━━━━━━━━━━━━━━━━━━━━\u001b[0m\u001b[37m\u001b[0m \u001b[1m87s\u001b[0m 110ms/step - loss: 1.4059e-04 - mae: 0.0122 - mse: 2.8117e-04 - val_loss: 1.1787e-04 - val_mae: 0.0113 - val_mse: 2.3574e-04\n",
      "Epoch 18/200\n",
      "\u001b[1m788/788\u001b[0m \u001b[32m━━━━━━━━━━━━━━━━━━━━\u001b[0m\u001b[37m\u001b[0m \u001b[1m87s\u001b[0m 111ms/step - loss: 1.7325e-04 - mae: 0.0132 - mse: 3.4649e-04 - val_loss: 1.5262e-04 - val_mae: 0.0133 - val_mse: 3.0525e-04\n",
      "Epoch 19/200\n",
      "\u001b[1m788/788\u001b[0m \u001b[32m━━━━━━━━━━━━━━━━━━━━\u001b[0m\u001b[37m\u001b[0m \u001b[1m87s\u001b[0m 111ms/step - loss: 1.6756e-04 - mae: 0.0132 - mse: 3.3512e-04 - val_loss: 1.3730e-04 - val_mae: 0.0121 - val_mse: 2.7461e-04\n",
      "Epoch 20/200\n",
      "\u001b[1m788/788\u001b[0m \u001b[32m━━━━━━━━━━━━━━━━━━━━\u001b[0m\u001b[37m\u001b[0m \u001b[1m88s\u001b[0m 112ms/step - loss: 1.3551e-04 - mae: 0.0119 - mse: 2.7101e-04 - val_loss: 9.8678e-05 - val_mae: 0.0101 - val_mse: 1.9736e-04\n",
      "Epoch 21/200\n",
      "\u001b[1m788/788\u001b[0m \u001b[32m━━━━━━━━━━━━━━━━━━━━\u001b[0m\u001b[37m\u001b[0m \u001b[1m88s\u001b[0m 111ms/step - loss: 1.2429e-04 - mae: 0.0114 - mse: 2.4859e-04 - val_loss: 1.0665e-04 - val_mae: 0.0107 - val_mse: 2.1330e-04\n",
      "Epoch 22/200\n",
      "\u001b[1m788/788\u001b[0m \u001b[32m━━━━━━━━━━━━━━━━━━━━\u001b[0m\u001b[37m\u001b[0m \u001b[1m86s\u001b[0m 109ms/step - loss: 1.4335e-04 - mae: 0.0122 - mse: 2.8670e-04 - val_loss: 1.7338e-04 - val_mae: 0.0135 - val_mse: 3.4677e-04\n",
      "Epoch 23/200\n",
      "\u001b[1m788/788\u001b[0m \u001b[32m━━━━━━━━━━━━━━━━━━━━\u001b[0m\u001b[37m\u001b[0m \u001b[1m89s\u001b[0m 113ms/step - loss: 1.4959e-04 - mae: 0.0125 - mse: 2.9919e-04 - val_loss: 1.8497e-04 - val_mae: 0.0141 - val_mse: 3.6995e-04\n",
      "Epoch 24/200\n",
      "\u001b[1m788/788\u001b[0m \u001b[32m━━━━━━━━━━━━━━━━━━━━\u001b[0m\u001b[37m\u001b[0m \u001b[1m87s\u001b[0m 111ms/step - loss: 1.3525e-04 - mae: 0.0119 - mse: 2.7050e-04 - val_loss: 2.4837e-04 - val_mae: 0.0165 - val_mse: 4.9675e-04\n",
      "Epoch 25/200\n",
      "\u001b[1m788/788\u001b[0m \u001b[32m━━━━━━━━━━━━━━━━━━━━\u001b[0m\u001b[37m\u001b[0m \u001b[1m90s\u001b[0m 114ms/step - loss: 1.3063e-04 - mae: 0.0116 - mse: 2.6127e-04 - val_loss: 8.7737e-05 - val_mae: 0.0096 - val_mse: 1.7547e-04\n",
      "Epoch 26/200\n",
      "\u001b[1m788/788\u001b[0m \u001b[32m━━━━━━━━━━━━━━━━━━━━\u001b[0m\u001b[37m\u001b[0m \u001b[1m86s\u001b[0m 109ms/step - loss: 1.2756e-04 - mae: 0.0116 - mse: 2.5513e-04 - val_loss: 1.3028e-04 - val_mae: 0.0121 - val_mse: 2.6056e-04\n",
      "Epoch 27/200\n",
      "\u001b[1m788/788\u001b[0m \u001b[32m━━━━━━━━━━━━━━━━━━━━\u001b[0m\u001b[37m\u001b[0m \u001b[1m77s\u001b[0m 98ms/step - loss: 1.1797e-04 - mae: 0.0112 - mse: 2.3595e-04 - val_loss: 1.2187e-04 - val_mae: 0.0117 - val_mse: 2.4374e-04\n",
      "Epoch 28/200\n",
      "\u001b[1m788/788\u001b[0m \u001b[32m━━━━━━━━━━━━━━━━━━━━\u001b[0m\u001b[37m\u001b[0m \u001b[1m76s\u001b[0m 96ms/step - loss: 1.4947e-04 - mae: 0.0122 - mse: 2.9894e-04 - val_loss: 1.1532e-04 - val_mae: 0.0106 - val_mse: 2.3064e-04\n",
      "Epoch 29/200\n",
      "\u001b[1m788/788\u001b[0m \u001b[32m━━━━━━━━━━━━━━━━━━━━\u001b[0m\u001b[37m\u001b[0m \u001b[1m77s\u001b[0m 97ms/step - loss: 1.4104e-04 - mae: 0.0121 - mse: 2.8209e-04 - val_loss: 9.4710e-05 - val_mae: 0.0100 - val_mse: 1.8942e-04\n",
      "Epoch 30/200\n",
      "\u001b[1m788/788\u001b[0m \u001b[32m━━━━━━━━━━━━━━━━━━━━\u001b[0m\u001b[37m\u001b[0m \u001b[1m76s\u001b[0m 96ms/step - loss: 1.2123e-04 - mae: 0.0113 - mse: 2.4247e-04 - val_loss: 1.0443e-04 - val_mae: 0.0105 - val_mse: 2.0886e-04\n",
      "Epoch 31/200\n",
      "\u001b[1m788/788\u001b[0m \u001b[32m━━━━━━━━━━━━━━━━━━━━\u001b[0m\u001b[37m\u001b[0m \u001b[1m77s\u001b[0m 98ms/step - loss: 1.2481e-04 - mae: 0.0114 - mse: 2.4961e-04 - val_loss: 1.0008e-04 - val_mae: 0.0105 - val_mse: 2.0015e-04\n",
      "Epoch 32/200\n",
      "\u001b[1m788/788\u001b[0m \u001b[32m━━━━━━━━━━━━━━━━━━━━\u001b[0m\u001b[37m\u001b[0m \u001b[1m78s\u001b[0m 99ms/step - loss: 1.2008e-04 - mae: 0.0113 - mse: 2.4015e-04 - val_loss: 1.1021e-04 - val_mae: 0.0109 - val_mse: 2.2043e-04\n",
      "Epoch 33/200\n",
      "\u001b[1m788/788\u001b[0m \u001b[32m━━━━━━━━━━━━━━━━━━━━\u001b[0m\u001b[37m\u001b[0m \u001b[1m79s\u001b[0m 100ms/step - loss: 1.4900e-04 - mae: 0.0120 - mse: 2.9800e-04 - val_loss: 1.1880e-04 - val_mae: 0.0113 - val_mse: 2.3760e-04\n",
      "Epoch 34/200\n",
      "\u001b[1m788/788\u001b[0m \u001b[32m━━━━━━━━━━━━━━━━━━━━\u001b[0m\u001b[37m\u001b[0m \u001b[1m78s\u001b[0m 99ms/step - loss: 1.0153e-04 - mae: 0.0104 - mse: 2.0307e-04 - val_loss: 9.7662e-05 - val_mae: 0.0104 - val_mse: 1.9532e-04\n",
      "Epoch 35/200\n",
      "\u001b[1m788/788\u001b[0m \u001b[32m━━━━━━━━━━━━━━━━━━━━\u001b[0m\u001b[37m\u001b[0m \u001b[1m78s\u001b[0m 98ms/step - loss: 1.3829e-04 - mae: 0.0117 - mse: 2.7659e-04 - val_loss: 1.2673e-04 - val_mae: 0.0118 - val_mse: 2.5346e-04\n",
      "Epoch 36/200\n",
      "\u001b[1m788/788\u001b[0m \u001b[32m━━━━━━━━━━━━━━━━━━━━\u001b[0m\u001b[37m\u001b[0m \u001b[1m78s\u001b[0m 99ms/step - loss: 1.0956e-04 - mae: 0.0108 - mse: 2.1913e-04 - val_loss: 1.0064e-04 - val_mae: 0.0104 - val_mse: 2.0127e-04\n",
      "Epoch 37/200\n",
      "\u001b[1m788/788\u001b[0m \u001b[32m━━━━━━━━━━━━━━━━━━━━\u001b[0m\u001b[37m\u001b[0m \u001b[1m77s\u001b[0m 98ms/step - loss: 1.1193e-04 - mae: 0.0108 - mse: 2.2387e-04 - val_loss: 1.0925e-04 - val_mae: 0.0110 - val_mse: 2.1849e-04\n",
      "Epoch 38/200\n",
      "\u001b[1m788/788\u001b[0m \u001b[32m━━━━━━━━━━━━━━━━━━━━\u001b[0m\u001b[37m\u001b[0m \u001b[1m78s\u001b[0m 99ms/step - loss: 1.0611e-04 - mae: 0.0106 - mse: 2.1222e-04 - val_loss: 1.2556e-04 - val_mae: 0.0115 - val_mse: 2.5111e-04\n",
      "Epoch 39/200\n",
      "\u001b[1m788/788\u001b[0m \u001b[32m━━━━━━━━━━━━━━━━━━━━\u001b[0m\u001b[37m\u001b[0m \u001b[1m77s\u001b[0m 98ms/step - loss: 1.2521e-04 - mae: 0.0113 - mse: 2.5041e-04 - val_loss: 1.0643e-04 - val_mae: 0.0107 - val_mse: 2.1286e-04\n",
      "Epoch 40/200\n",
      "\u001b[1m788/788\u001b[0m \u001b[32m━━━━━━━━━━━━━━━━━━━━\u001b[0m\u001b[37m\u001b[0m \u001b[1m78s\u001b[0m 99ms/step - loss: 1.0970e-04 - mae: 0.0108 - mse: 2.1940e-04 - val_loss: 1.0354e-04 - val_mae: 0.0106 - val_mse: 2.0707e-04\n",
      "Epoch 41/200\n",
      "\u001b[1m788/788\u001b[0m \u001b[32m━━━━━━━━━━━━━━━━━━━━\u001b[0m\u001b[37m\u001b[0m \u001b[1m79s\u001b[0m 100ms/step - loss: 1.0571e-04 - mae: 0.0106 - mse: 2.1141e-04 - val_loss: 1.3932e-04 - val_mae: 0.0122 - val_mse: 2.7864e-04\n",
      "Epoch 42/200\n",
      "\u001b[1m788/788\u001b[0m \u001b[32m━━━━━━━━━━━━━━━━━━━━\u001b[0m\u001b[37m\u001b[0m \u001b[1m78s\u001b[0m 99ms/step - loss: 9.9112e-05 - mae: 0.0103 - mse: 1.9822e-04 - val_loss: 9.0383e-05 - val_mae: 0.0096 - val_mse: 1.8077e-04\n",
      "Epoch 43/200\n",
      "\u001b[1m788/788\u001b[0m \u001b[32m━━━━━━━━━━━━━━━━━━━━\u001b[0m\u001b[37m\u001b[0m \u001b[1m78s\u001b[0m 99ms/step - loss: 1.0669e-04 - mae: 0.0107 - mse: 2.1339e-04 - val_loss: 2.2365e-04 - val_mae: 0.0147 - val_mse: 4.4730e-04\n",
      "Epoch 44/200\n",
      "\u001b[1m788/788\u001b[0m \u001b[32m━━━━━━━━━━━━━━━━━━━━\u001b[0m\u001b[37m\u001b[0m \u001b[1m80s\u001b[0m 101ms/step - loss: 1.2598e-04 - mae: 0.0115 - mse: 2.5196e-04 - val_loss: 9.9939e-05 - val_mae: 0.0103 - val_mse: 1.9988e-04\n",
      "Epoch 45/200\n",
      "\u001b[1m788/788\u001b[0m \u001b[32m━━━━━━━━━━━━━━━━━━━━\u001b[0m\u001b[37m\u001b[0m \u001b[1m79s\u001b[0m 101ms/step - loss: 1.0294e-04 - mae: 0.0104 - mse: 2.0588e-04 - val_loss: 2.9725e-04 - val_mae: 0.0181 - val_mse: 5.9450e-04\n",
      "Epoch 46/200\n",
      "\u001b[1m788/788\u001b[0m \u001b[32m━━━━━━━━━━━━━━━━━━━━\u001b[0m\u001b[37m\u001b[0m \u001b[1m78s\u001b[0m 99ms/step - loss: 2.2633e-04 - mae: 0.0144 - mse: 4.5265e-04 - val_loss: 9.0679e-05 - val_mae: 0.0097 - val_mse: 1.8136e-04\n",
      "Epoch 47/200\n",
      "\u001b[1m788/788\u001b[0m \u001b[32m━━━━━━━━━━━━━━━━━━━━\u001b[0m\u001b[37m\u001b[0m \u001b[1m79s\u001b[0m 100ms/step - loss: 1.0351e-04 - mae: 0.0104 - mse: 2.0703e-04 - val_loss: 9.8476e-05 - val_mae: 0.0103 - val_mse: 1.9695e-04\n",
      "Epoch 48/200\n",
      "\u001b[1m788/788\u001b[0m \u001b[32m━━━━━━━━━━━━━━━━━━━━\u001b[0m\u001b[37m\u001b[0m \u001b[1m78s\u001b[0m 99ms/step - loss: 1.1721e-04 - mae: 0.0110 - mse: 2.3441e-04 - val_loss: 8.9776e-05 - val_mae: 0.0098 - val_mse: 1.7955e-04\n",
      "Epoch 49/200\n",
      "\u001b[1m788/788\u001b[0m \u001b[32m━━━━━━━━━━━━━━━━━━━━\u001b[0m\u001b[37m\u001b[0m \u001b[1m78s\u001b[0m 99ms/step - loss: 9.5293e-05 - mae: 0.0101 - mse: 1.9059e-04 - val_loss: 8.5007e-05 - val_mae: 0.0095 - val_mse: 1.7001e-04\n",
      "Epoch 50/200\n",
      "\u001b[1m788/788\u001b[0m \u001b[32m━━━━━━━━━━━━━━━━━━━━\u001b[0m\u001b[37m\u001b[0m \u001b[1m78s\u001b[0m 99ms/step - loss: 1.0074e-04 - mae: 0.0104 - mse: 2.0147e-04 - val_loss: 9.0778e-05 - val_mae: 0.0098 - val_mse: 1.8156e-04\n",
      "Epoch 51/200\n",
      "\u001b[1m788/788\u001b[0m \u001b[32m━━━━━━━━━━━━━━━━━━━━\u001b[0m\u001b[37m\u001b[0m \u001b[1m79s\u001b[0m 101ms/step - loss: 1.0268e-04 - mae: 0.0105 - mse: 2.0536e-04 - val_loss: 8.8042e-05 - val_mae: 0.0096 - val_mse: 1.7608e-04\n",
      "Epoch 52/200\n",
      "\u001b[1m788/788\u001b[0m \u001b[32m━━━━━━━━━━━━━━━━━━━━\u001b[0m\u001b[37m\u001b[0m \u001b[1m78s\u001b[0m 100ms/step - loss: 1.1648e-04 - mae: 0.0109 - mse: 2.3296e-04 - val_loss: 1.0638e-04 - val_mae: 0.0104 - val_mse: 2.1276e-04\n",
      "Epoch 53/200\n",
      "\u001b[1m788/788\u001b[0m \u001b[32m━━━━━━━━━━━━━━━━━━━━\u001b[0m\u001b[37m\u001b[0m \u001b[1m78s\u001b[0m 99ms/step - loss: 1.0937e-04 - mae: 0.0107 - mse: 2.1874e-04 - val_loss: 1.4373e-04 - val_mae: 0.0125 - val_mse: 2.8746e-04\n",
      "Epoch 54/200\n",
      "\u001b[1m788/788\u001b[0m \u001b[32m━━━━━━━━━━━━━━━━━━━━\u001b[0m\u001b[37m\u001b[0m \u001b[1m78s\u001b[0m 99ms/step - loss: 1.0406e-04 - mae: 0.0106 - mse: 2.0813e-04 - val_loss: 1.4034e-04 - val_mae: 0.0124 - val_mse: 2.8068e-04\n",
      "Epoch 55/200\n",
      "\u001b[1m788/788\u001b[0m \u001b[32m━━━━━━━━━━━━━━━━━━━━\u001b[0m\u001b[37m\u001b[0m \u001b[1m78s\u001b[0m 99ms/step - loss: 1.0247e-04 - mae: 0.0104 - mse: 2.0494e-04 - val_loss: 1.4516e-04 - val_mae: 0.0124 - val_mse: 2.9031e-04\n",
      "Epoch 56/200\n",
      "\u001b[1m788/788\u001b[0m \u001b[32m━━━━━━━━━━━━━━━━━━━━\u001b[0m\u001b[37m\u001b[0m \u001b[1m78s\u001b[0m 99ms/step - loss: 1.1043e-04 - mae: 0.0106 - mse: 2.2085e-04 - val_loss: 1.0455e-04 - val_mae: 0.0104 - val_mse: 2.0910e-04\n",
      "Epoch 57/200\n",
      "\u001b[1m788/788\u001b[0m \u001b[32m━━━━━━━━━━━━━━━━━━━━\u001b[0m\u001b[37m\u001b[0m \u001b[1m78s\u001b[0m 99ms/step - loss: 1.0885e-04 - mae: 0.0108 - mse: 2.1769e-04 - val_loss: 1.9342e-04 - val_mae: 0.0148 - val_mse: 3.8684e-04\n",
      "Epoch 58/200\n",
      "\u001b[1m788/788\u001b[0m \u001b[32m━━━━━━━━━━━━━━━━━━━━\u001b[0m\u001b[37m\u001b[0m \u001b[1m78s\u001b[0m 99ms/step - loss: 1.1812e-04 - mae: 0.0111 - mse: 2.3624e-04 - val_loss: 9.7273e-05 - val_mae: 0.0102 - val_mse: 1.9455e-04\n",
      "Epoch 59/200\n",
      "\u001b[1m788/788\u001b[0m \u001b[32m━━━━━━━━━━━━━━━━━━━━\u001b[0m\u001b[37m\u001b[0m \u001b[1m78s\u001b[0m 99ms/step - loss: 1.0125e-04 - mae: 0.0104 - mse: 2.0250e-04 - val_loss: 8.9322e-05 - val_mae: 0.0097 - val_mse: 1.7864e-04\n",
      "Epoch 60/200\n",
      "\u001b[1m788/788\u001b[0m \u001b[32m━━━━━━━━━━━━━━━━━━━━\u001b[0m\u001b[37m\u001b[0m \u001b[1m78s\u001b[0m 99ms/step - loss: 1.0236e-04 - mae: 0.0104 - mse: 2.0472e-04 - val_loss: 1.0556e-04 - val_mae: 0.0105 - val_mse: 2.1111e-04\n",
      "Epoch 61/200\n",
      "\u001b[1m788/788\u001b[0m \u001b[32m━━━━━━━━━━━━━━━━━━━━\u001b[0m\u001b[37m\u001b[0m \u001b[1m79s\u001b[0m 100ms/step - loss: 9.7483e-05 - mae: 0.0102 - mse: 1.9497e-04 - val_loss: 1.1858e-04 - val_mae: 0.0108 - val_mse: 2.3715e-04\n",
      "Epoch 62/200\n",
      "\u001b[1m788/788\u001b[0m \u001b[32m━━━━━━━━━━━━━━━━━━━━\u001b[0m\u001b[37m\u001b[0m \u001b[1m78s\u001b[0m 99ms/step - loss: 1.2333e-04 - mae: 0.0111 - mse: 2.4666e-04 - val_loss: 1.1677e-04 - val_mae: 0.0114 - val_mse: 2.3354e-04\n",
      "Epoch 63/200\n",
      "\u001b[1m788/788\u001b[0m \u001b[32m━━━━━━━━━━━━━━━━━━━━\u001b[0m\u001b[37m\u001b[0m \u001b[1m78s\u001b[0m 99ms/step - loss: 1.0385e-04 - mae: 0.0105 - mse: 2.0770e-04 - val_loss: 8.6686e-05 - val_mae: 0.0095 - val_mse: 1.7337e-04\n",
      "Epoch 64/200\n",
      "\u001b[1m788/788\u001b[0m \u001b[32m━━━━━━━━━━━━━━━━━━━━\u001b[0m\u001b[37m\u001b[0m \u001b[1m81s\u001b[0m 103ms/step - loss: 9.2734e-05 - mae: 0.0099 - mse: 1.8547e-04 - val_loss: 9.0840e-05 - val_mae: 0.0099 - val_mse: 1.8168e-04\n",
      "Epoch 65/200\n",
      "\u001b[1m788/788\u001b[0m \u001b[32m━━━━━━━━━━━━━━━━━━━━\u001b[0m\u001b[37m\u001b[0m \u001b[1m80s\u001b[0m 101ms/step - loss: 1.1979e-04 - mae: 0.0110 - mse: 2.3958e-04 - val_loss: 8.5865e-05 - val_mae: 0.0096 - val_mse: 1.7173e-04\n",
      "Epoch 66/200\n",
      "\u001b[1m788/788\u001b[0m \u001b[32m━━━━━━━━━━━━━━━━━━━━\u001b[0m\u001b[37m\u001b[0m \u001b[1m79s\u001b[0m 100ms/step - loss: 9.8992e-05 - mae: 0.0102 - mse: 1.9798e-04 - val_loss: 9.0993e-05 - val_mae: 0.0099 - val_mse: 1.8199e-04\n",
      "Epoch 67/200\n",
      "\u001b[1m788/788\u001b[0m \u001b[32m━━━━━━━━━━━━━━━━━━━━\u001b[0m\u001b[37m\u001b[0m \u001b[1m79s\u001b[0m 101ms/step - loss: 9.5209e-05 - mae: 0.0100 - mse: 1.9042e-04 - val_loss: 1.0315e-04 - val_mae: 0.0106 - val_mse: 2.0630e-04\n",
      "Epoch 68/200\n",
      "\u001b[1m788/788\u001b[0m \u001b[32m━━━━━━━━━━━━━━━━━━━━\u001b[0m\u001b[37m\u001b[0m \u001b[1m78s\u001b[0m 99ms/step - loss: 9.6252e-05 - mae: 0.0101 - mse: 1.9250e-04 - val_loss: 1.1010e-04 - val_mae: 0.0111 - val_mse: 2.2021e-04\n",
      "Epoch 69/200\n",
      "\u001b[1m788/788\u001b[0m \u001b[32m━━━━━━━━━━━━━━━━━━━━\u001b[0m\u001b[37m\u001b[0m \u001b[1m82s\u001b[0m 104ms/step - loss: 1.0704e-04 - mae: 0.0105 - mse: 2.1409e-04 - val_loss: 3.1625e-04 - val_mae: 0.0171 - val_mse: 6.3250e-04\n",
      "Epoch 70/200\n",
      "\u001b[1m788/788\u001b[0m \u001b[32m━━━━━━━━━━━━━━━━━━━━\u001b[0m\u001b[37m\u001b[0m \u001b[1m83s\u001b[0m 105ms/step - loss: 1.1082e-04 - mae: 0.0106 - mse: 2.2165e-04 - val_loss: 1.0195e-04 - val_mae: 0.0102 - val_mse: 2.0390e-04\n",
      "Epoch 71/200\n",
      "\u001b[1m788/788\u001b[0m \u001b[32m━━━━━━━━━━━━━━━━━━━━\u001b[0m\u001b[37m\u001b[0m \u001b[1m82s\u001b[0m 104ms/step - loss: 9.4371e-05 - mae: 0.0100 - mse: 1.8874e-04 - val_loss: 1.0321e-04 - val_mae: 0.0103 - val_mse: 2.0643e-04\n",
      "Epoch 72/200\n",
      "\u001b[1m788/788\u001b[0m \u001b[32m━━━━━━━━━━━━━━━━━━━━\u001b[0m\u001b[37m\u001b[0m \u001b[1m82s\u001b[0m 104ms/step - loss: 1.1041e-04 - mae: 0.0108 - mse: 2.2081e-04 - val_loss: 9.6405e-05 - val_mae: 0.0101 - val_mse: 1.9281e-04\n",
      "Epoch 73/200\n",
      "\u001b[1m788/788\u001b[0m \u001b[32m━━━━━━━━━━━━━━━━━━━━\u001b[0m\u001b[37m\u001b[0m \u001b[1m82s\u001b[0m 104ms/step - loss: 9.5290e-05 - mae: 0.0101 - mse: 1.9058e-04 - val_loss: 1.0816e-04 - val_mae: 0.0110 - val_mse: 2.1632e-04\n",
      "Epoch 74/200\n",
      "\u001b[1m788/788\u001b[0m \u001b[32m━━━━━━━━━━━━━━━━━━━━\u001b[0m\u001b[37m\u001b[0m \u001b[1m82s\u001b[0m 104ms/step - loss: 1.0031e-04 - mae: 0.0103 - mse: 2.0062e-04 - val_loss: 9.9221e-05 - val_mae: 0.0103 - val_mse: 1.9844e-04\n",
      "Epoch 75/200\n",
      "\u001b[1m788/788\u001b[0m \u001b[32m━━━━━━━━━━━━━━━━━━━━\u001b[0m\u001b[37m\u001b[0m \u001b[1m83s\u001b[0m 106ms/step - loss: 1.0004e-04 - mae: 0.0103 - mse: 2.0007e-04 - val_loss: 1.3548e-04 - val_mae: 0.0106 - val_mse: 2.7097e-04\n",
      "Epoch 76/200\n",
      "\u001b[1m788/788\u001b[0m \u001b[32m━━━━━━━━━━━━━━━━━━━━\u001b[0m\u001b[37m\u001b[0m \u001b[1m82s\u001b[0m 104ms/step - loss: 1.0628e-04 - mae: 0.0106 - mse: 2.1256e-04 - val_loss: 4.9497e-04 - val_mae: 0.0193 - val_mse: 9.8995e-04\n",
      "Epoch 77/200\n",
      "\u001b[1m788/788\u001b[0m \u001b[32m━━━━━━━━━━━━━━━━━━━━\u001b[0m\u001b[37m\u001b[0m \u001b[1m82s\u001b[0m 105ms/step - loss: 1.0898e-04 - mae: 0.0105 - mse: 2.1795e-04 - val_loss: 1.0839e-04 - val_mae: 0.0111 - val_mse: 2.1678e-04\n",
      "Epoch 78/200\n",
      "\u001b[1m788/788\u001b[0m \u001b[32m━━━━━━━━━━━━━━━━━━━━\u001b[0m\u001b[37m\u001b[0m \u001b[1m82s\u001b[0m 105ms/step - loss: 9.9106e-05 - mae: 0.0102 - mse: 1.9821e-04 - val_loss: 1.1077e-04 - val_mae: 0.0107 - val_mse: 2.2153e-04\n",
      "Epoch 79/200\n",
      "\u001b[1m788/788\u001b[0m \u001b[32m━━━━━━━━━━━━━━━━━━━━\u001b[0m\u001b[37m\u001b[0m \u001b[1m81s\u001b[0m 103ms/step - loss: 9.4434e-05 - mae: 0.0100 - mse: 1.8887e-04 - val_loss: 7.8192e-05 - val_mae: 0.0089 - val_mse: 1.5638e-04\n",
      "Epoch 80/200\n",
      "\u001b[1m788/788\u001b[0m \u001b[32m━━━━━━━━━━━━━━━━━━━━\u001b[0m\u001b[37m\u001b[0m \u001b[1m83s\u001b[0m 105ms/step - loss: 9.6255e-05 - mae: 0.0101 - mse: 1.9251e-04 - val_loss: 8.3960e-05 - val_mae: 0.0094 - val_mse: 1.6792e-04\n",
      "Epoch 81/200\n",
      "\u001b[1m788/788\u001b[0m \u001b[32m━━━━━━━━━━━━━━━━━━━━\u001b[0m\u001b[37m\u001b[0m \u001b[1m83s\u001b[0m 105ms/step - loss: 8.6121e-05 - mae: 0.0095 - mse: 1.7224e-04 - val_loss: 9.7813e-05 - val_mae: 0.0104 - val_mse: 1.9563e-04\n",
      "Epoch 82/200\n",
      "\u001b[1m788/788\u001b[0m \u001b[32m━━━━━━━━━━━━━━━━━━━━\u001b[0m\u001b[37m\u001b[0m \u001b[1m83s\u001b[0m 105ms/step - loss: 1.0760e-04 - mae: 0.0105 - mse: 2.1520e-04 - val_loss: 9.1634e-05 - val_mae: 0.0097 - val_mse: 1.8327e-04\n",
      "Epoch 83/200\n",
      "\u001b[1m788/788\u001b[0m \u001b[32m━━━━━━━━━━━━━━━━━━━━\u001b[0m\u001b[37m\u001b[0m \u001b[1m83s\u001b[0m 105ms/step - loss: 9.7106e-05 - mae: 0.0101 - mse: 1.9421e-04 - val_loss: 1.0209e-04 - val_mae: 0.0106 - val_mse: 2.0418e-04\n",
      "Epoch 84/200\n",
      "\u001b[1m788/788\u001b[0m \u001b[32m━━━━━━━━━━━━━━━━━━━━\u001b[0m\u001b[37m\u001b[0m \u001b[1m83s\u001b[0m 106ms/step - loss: 8.8544e-05 - mae: 0.0097 - mse: 1.7709e-04 - val_loss: 7.8503e-05 - val_mae: 0.0089 - val_mse: 1.5701e-04\n",
      "Epoch 85/200\n",
      "\u001b[1m788/788\u001b[0m \u001b[32m━━━━━━━━━━━━━━━━━━━━\u001b[0m\u001b[37m\u001b[0m \u001b[1m83s\u001b[0m 105ms/step - loss: 9.3234e-05 - mae: 0.0099 - mse: 1.8647e-04 - val_loss: 9.6846e-05 - val_mae: 0.0102 - val_mse: 1.9369e-04\n",
      "Epoch 86/200\n",
      "\u001b[1m788/788\u001b[0m \u001b[32m━━━━━━━━━━━━━━━━━━━━\u001b[0m\u001b[37m\u001b[0m \u001b[1m84s\u001b[0m 106ms/step - loss: 9.3896e-05 - mae: 0.0100 - mse: 1.8779e-04 - val_loss: 9.6137e-05 - val_mae: 0.0102 - val_mse: 1.9227e-04\n",
      "Epoch 87/200\n",
      "\u001b[1m788/788\u001b[0m \u001b[32m━━━━━━━━━━━━━━━━━━━━\u001b[0m\u001b[37m\u001b[0m \u001b[1m83s\u001b[0m 105ms/step - loss: 9.2716e-05 - mae: 0.0099 - mse: 1.8543e-04 - val_loss: 1.2377e-04 - val_mae: 0.0112 - val_mse: 2.4754e-04\n",
      "Epoch 88/200\n",
      "\u001b[1m788/788\u001b[0m \u001b[32m━━━━━━━━━━━━━━━━━━━━\u001b[0m\u001b[37m\u001b[0m \u001b[1m82s\u001b[0m 104ms/step - loss: 8.7889e-05 - mae: 0.0097 - mse: 1.7578e-04 - val_loss: 8.8135e-05 - val_mae: 0.0095 - val_mse: 1.7627e-04\n",
      "Epoch 89/200\n",
      "\u001b[1m788/788\u001b[0m \u001b[32m━━━━━━━━━━━━━━━━━━━━\u001b[0m\u001b[37m\u001b[0m \u001b[1m85s\u001b[0m 108ms/step - loss: 8.8603e-05 - mae: 0.0098 - mse: 1.7721e-04 - val_loss: 9.5084e-05 - val_mae: 0.0101 - val_mse: 1.9017e-04\n",
      "Epoch 90/200\n",
      "\u001b[1m788/788\u001b[0m \u001b[32m━━━━━━━━━━━━━━━━━━━━\u001b[0m\u001b[37m\u001b[0m \u001b[1m82s\u001b[0m 104ms/step - loss: 8.8180e-05 - mae: 0.0097 - mse: 1.7636e-04 - val_loss: 9.6320e-05 - val_mae: 0.0101 - val_mse: 1.9264e-04\n",
      "Epoch 91/200\n",
      "\u001b[1m788/788\u001b[0m \u001b[32m━━━━━━━━━━━━━━━━━━━━\u001b[0m\u001b[37m\u001b[0m \u001b[1m83s\u001b[0m 105ms/step - loss: 9.1836e-05 - mae: 0.0099 - mse: 1.8367e-04 - val_loss: 1.2029e-04 - val_mae: 0.0112 - val_mse: 2.4059e-04\n",
      "Epoch 92/200\n",
      "\u001b[1m788/788\u001b[0m \u001b[32m━━━━━━━━━━━━━━━━━━━━\u001b[0m\u001b[37m\u001b[0m \u001b[1m83s\u001b[0m 105ms/step - loss: 9.1627e-05 - mae: 0.0099 - mse: 1.8325e-04 - val_loss: 1.0193e-04 - val_mae: 0.0102 - val_mse: 2.0385e-04\n",
      "Epoch 93/200\n",
      "\u001b[1m788/788\u001b[0m \u001b[32m━━━━━━━━━━━━━━━━━━━━\u001b[0m\u001b[37m\u001b[0m \u001b[1m85s\u001b[0m 107ms/step - loss: 1.1155e-04 - mae: 0.0106 - mse: 2.2310e-04 - val_loss: 1.0773e-04 - val_mae: 0.0108 - val_mse: 2.1546e-04\n",
      "Epoch 94/200\n",
      "\u001b[1m788/788\u001b[0m \u001b[32m━━━━━━━━━━━━━━━━━━━━\u001b[0m\u001b[37m\u001b[0m \u001b[1m83s\u001b[0m 105ms/step - loss: 9.0897e-05 - mae: 0.0098 - mse: 1.8179e-04 - val_loss: 8.5612e-05 - val_mae: 0.0092 - val_mse: 1.7122e-04\n",
      "Epoch 95/200\n",
      "\u001b[1m788/788\u001b[0m \u001b[32m━━━━━━━━━━━━━━━━━━━━\u001b[0m\u001b[37m\u001b[0m \u001b[1m83s\u001b[0m 105ms/step - loss: 9.8458e-05 - mae: 0.0101 - mse: 1.9692e-04 - val_loss: 7.9426e-05 - val_mae: 0.0091 - val_mse: 1.5885e-04\n",
      "Epoch 96/200\n",
      "\u001b[1m788/788\u001b[0m \u001b[32m━━━━━━━━━━━━━━━━━━━━\u001b[0m\u001b[37m\u001b[0m \u001b[1m83s\u001b[0m 106ms/step - loss: 8.4393e-05 - mae: 0.0094 - mse: 1.6879e-04 - val_loss: 9.2995e-05 - val_mae: 0.0100 - val_mse: 1.8599e-04\n",
      "Epoch 97/200\n",
      "\u001b[1m788/788\u001b[0m \u001b[32m━━━━━━━━━━━━━━━━━━━━\u001b[0m\u001b[37m\u001b[0m \u001b[1m82s\u001b[0m 104ms/step - loss: 9.2906e-05 - mae: 0.0100 - mse: 1.8581e-04 - val_loss: 9.6288e-05 - val_mae: 0.0103 - val_mse: 1.9258e-04\n",
      "Epoch 98/200\n",
      "\u001b[1m788/788\u001b[0m \u001b[32m━━━━━━━━━━━━━━━━━━━━\u001b[0m\u001b[37m\u001b[0m \u001b[1m83s\u001b[0m 105ms/step - loss: 8.3792e-05 - mae: 0.0094 - mse: 1.6758e-04 - val_loss: 8.4837e-05 - val_mae: 0.0093 - val_mse: 1.6967e-04\n",
      "Epoch 99/200\n",
      "\u001b[1m788/788\u001b[0m \u001b[32m━━━━━━━━━━━━━━━━━━━━\u001b[0m\u001b[37m\u001b[0m \u001b[1m83s\u001b[0m 105ms/step - loss: 8.8222e-05 - mae: 0.0097 - mse: 1.7644e-04 - val_loss: 9.2163e-05 - val_mae: 0.0100 - val_mse: 1.8433e-04\n",
      "Epoch 100/200\n",
      "\u001b[1m788/788\u001b[0m \u001b[32m━━━━━━━━━━━━━━━━━━━━\u001b[0m\u001b[37m\u001b[0m \u001b[1m83s\u001b[0m 105ms/step - loss: 9.0642e-05 - mae: 0.0098 - mse: 1.8128e-04 - val_loss: 8.2308e-05 - val_mae: 0.0092 - val_mse: 1.6462e-04\n",
      "Epoch 101/200\n",
      "\u001b[1m788/788\u001b[0m \u001b[32m━━━━━━━━━━━━━━━━━━━━\u001b[0m\u001b[37m\u001b[0m \u001b[1m82s\u001b[0m 104ms/step - loss: 8.4147e-05 - mae: 0.0095 - mse: 1.6829e-04 - val_loss: 1.1497e-04 - val_mae: 0.0112 - val_mse: 2.2993e-04\n",
      "Epoch 102/200\n",
      "\u001b[1m788/788\u001b[0m \u001b[32m━━━━━━━━━━━━━━━━━━━━\u001b[0m\u001b[37m\u001b[0m \u001b[1m83s\u001b[0m 105ms/step - loss: 8.6276e-05 - mae: 0.0096 - mse: 1.7255e-04 - val_loss: 9.2575e-05 - val_mae: 0.0099 - val_mse: 1.8515e-04\n",
      "Epoch 103/200\n",
      "\u001b[1m788/788\u001b[0m \u001b[32m━━━━━━━━━━━━━━━━━━━━\u001b[0m\u001b[37m\u001b[0m \u001b[1m82s\u001b[0m 104ms/step - loss: 8.9408e-05 - mae: 0.0098 - mse: 1.7882e-04 - val_loss: 1.0205e-04 - val_mae: 0.0103 - val_mse: 2.0410e-04\n",
      "Epoch 104/200\n",
      "\u001b[1m788/788\u001b[0m \u001b[32m━━━━━━━━━━━━━━━━━━━━\u001b[0m\u001b[37m\u001b[0m \u001b[1m83s\u001b[0m 105ms/step - loss: 9.3664e-05 - mae: 0.0099 - mse: 1.8733e-04 - val_loss: 9.6598e-05 - val_mae: 0.0103 - val_mse: 1.9320e-04\n",
      "Epoch 105/200\n",
      "\u001b[1m788/788\u001b[0m \u001b[32m━━━━━━━━━━━━━━━━━━━━\u001b[0m\u001b[37m\u001b[0m \u001b[1m83s\u001b[0m 105ms/step - loss: 9.0986e-05 - mae: 0.0097 - mse: 1.8197e-04 - val_loss: 8.4118e-05 - val_mae: 0.0093 - val_mse: 1.6824e-04\n",
      "Epoch 106/200\n",
      "\u001b[1m788/788\u001b[0m \u001b[32m━━━━━━━━━━━━━━━━━━━━\u001b[0m\u001b[37m\u001b[0m \u001b[1m83s\u001b[0m 105ms/step - loss: 8.4966e-05 - mae: 0.0096 - mse: 1.6993e-04 - val_loss: 8.9012e-05 - val_mae: 0.0098 - val_mse: 1.7802e-04\n",
      "Epoch 107/200\n",
      "\u001b[1m788/788\u001b[0m \u001b[32m━━━━━━━━━━━━━━━━━━━━\u001b[0m\u001b[37m\u001b[0m \u001b[1m83s\u001b[0m 106ms/step - loss: 8.9544e-05 - mae: 0.0097 - mse: 1.7909e-04 - val_loss: 1.0204e-04 - val_mae: 0.0104 - val_mse: 2.0407e-04\n",
      "Epoch 108/200\n",
      "\u001b[1m788/788\u001b[0m \u001b[32m━━━━━━━━━━━━━━━━━━━━\u001b[0m\u001b[37m\u001b[0m \u001b[1m84s\u001b[0m 106ms/step - loss: 9.0092e-05 - mae: 0.0098 - mse: 1.8018e-04 - val_loss: 1.0918e-04 - val_mae: 0.0104 - val_mse: 2.1836e-04\n",
      "Epoch 109/200\n",
      "\u001b[1m788/788\u001b[0m \u001b[32m━━━━━━━━━━━━━━━━━━━━\u001b[0m\u001b[37m\u001b[0m \u001b[1m83s\u001b[0m 106ms/step - loss: 8.6053e-05 - mae: 0.0096 - mse: 1.7211e-04 - val_loss: 1.0886e-04 - val_mae: 0.0107 - val_mse: 2.1773e-04\n",
      "Epoch 110/200\n",
      "\u001b[1m788/788\u001b[0m \u001b[32m━━━━━━━━━━━━━━━━━━━━\u001b[0m\u001b[37m\u001b[0m \u001b[1m83s\u001b[0m 105ms/step - loss: 8.8193e-05 - mae: 0.0097 - mse: 1.7639e-04 - val_loss: 8.5301e-05 - val_mae: 0.0096 - val_mse: 1.7060e-04\n",
      "Epoch 111/200\n",
      "\u001b[1m788/788\u001b[0m \u001b[32m━━━━━━━━━━━━━━━━━━━━\u001b[0m\u001b[37m\u001b[0m \u001b[1m84s\u001b[0m 106ms/step - loss: 8.4014e-05 - mae: 0.0095 - mse: 1.6803e-04 - val_loss: 8.2912e-05 - val_mae: 0.0094 - val_mse: 1.6582e-04\n",
      "Epoch 112/200\n",
      "\u001b[1m788/788\u001b[0m \u001b[32m━━━━━━━━━━━━━━━━━━━━\u001b[0m\u001b[37m\u001b[0m \u001b[1m86s\u001b[0m 109ms/step - loss: 8.3355e-05 - mae: 0.0095 - mse: 1.6671e-04 - val_loss: 1.0045e-04 - val_mae: 0.0106 - val_mse: 2.0091e-04\n",
      "Epoch 113/200\n",
      "\u001b[1m788/788\u001b[0m \u001b[32m━━━━━━━━━━━━━━━━━━━━\u001b[0m\u001b[37m\u001b[0m \u001b[1m87s\u001b[0m 110ms/step - loss: 8.5767e-05 - mae: 0.0096 - mse: 1.7153e-04 - val_loss: 8.0497e-05 - val_mae: 0.0090 - val_mse: 1.6099e-04\n",
      "Epoch 114/200\n",
      "\u001b[1m788/788\u001b[0m \u001b[32m━━━━━━━━━━━━━━━━━━━━\u001b[0m\u001b[37m\u001b[0m \u001b[1m83s\u001b[0m 105ms/step - loss: 8.6441e-05 - mae: 0.0096 - mse: 1.7288e-04 - val_loss: 9.1565e-05 - val_mae: 0.0097 - val_mse: 1.8313e-04\n",
      "Epoch 115/200\n",
      "\u001b[1m788/788\u001b[0m \u001b[32m━━━━━━━━━━━━━━━━━━━━\u001b[0m\u001b[37m\u001b[0m \u001b[1m83s\u001b[0m 105ms/step - loss: 8.8157e-05 - mae: 0.0096 - mse: 1.7631e-04 - val_loss: 1.0516e-04 - val_mae: 0.0102 - val_mse: 2.1032e-04\n",
      "Epoch 116/200\n",
      "\u001b[1m788/788\u001b[0m \u001b[32m━━━━━━━━━━━━━━━━━━━━\u001b[0m\u001b[37m\u001b[0m \u001b[1m83s\u001b[0m 105ms/step - loss: 8.5054e-05 - mae: 0.0096 - mse: 1.7011e-04 - val_loss: 7.6524e-05 - val_mae: 0.0089 - val_mse: 1.5305e-04\n",
      "Epoch 117/200\n",
      "\u001b[1m788/788\u001b[0m \u001b[32m━━━━━━━━━━━━━━━━━━━━\u001b[0m\u001b[37m\u001b[0m \u001b[1m83s\u001b[0m 105ms/step - loss: 8.1006e-05 - mae: 0.0093 - mse: 1.6201e-04 - val_loss: 9.2030e-05 - val_mae: 0.0097 - val_mse: 1.8406e-04\n",
      "Epoch 118/200\n",
      "\u001b[1m788/788\u001b[0m \u001b[32m━━━━━━━━━━━━━━━━━━━━\u001b[0m\u001b[37m\u001b[0m \u001b[1m83s\u001b[0m 105ms/step - loss: 8.6816e-05 - mae: 0.0096 - mse: 1.7363e-04 - val_loss: 1.3452e-04 - val_mae: 0.0110 - val_mse: 2.6905e-04\n",
      "Epoch 119/200\n",
      "\u001b[1m788/788\u001b[0m \u001b[32m━━━━━━━━━━━━━━━━━━━━\u001b[0m\u001b[37m\u001b[0m \u001b[1m82s\u001b[0m 104ms/step - loss: 9.2128e-05 - mae: 0.0098 - mse: 1.8426e-04 - val_loss: 9.7368e-05 - val_mae: 0.0101 - val_mse: 1.9474e-04\n",
      "Epoch 120/200\n",
      "\u001b[1m788/788\u001b[0m \u001b[32m━━━━━━━━━━━━━━━━━━━━\u001b[0m\u001b[37m\u001b[0m \u001b[1m83s\u001b[0m 105ms/step - loss: 8.5237e-05 - mae: 0.0096 - mse: 1.7047e-04 - val_loss: 7.7241e-05 - val_mae: 0.0089 - val_mse: 1.5448e-04\n",
      "Epoch 121/200\n",
      "\u001b[1m788/788\u001b[0m \u001b[32m━━━━━━━━━━━━━━━━━━━━\u001b[0m\u001b[37m\u001b[0m \u001b[1m83s\u001b[0m 105ms/step - loss: 8.4179e-05 - mae: 0.0095 - mse: 1.6836e-04 - val_loss: 8.6146e-05 - val_mae: 0.0093 - val_mse: 1.7229e-04\n",
      "Epoch 122/200\n",
      "\u001b[1m788/788\u001b[0m \u001b[32m━━━━━━━━━━━━━━━━━━━━\u001b[0m\u001b[37m\u001b[0m \u001b[1m83s\u001b[0m 105ms/step - loss: 8.3530e-05 - mae: 0.0095 - mse: 1.6706e-04 - val_loss: 8.3362e-05 - val_mae: 0.0092 - val_mse: 1.6672e-04\n",
      "Epoch 123/200\n",
      "\u001b[1m788/788\u001b[0m \u001b[32m━━━━━━━━━━━━━━━━━━━━\u001b[0m\u001b[37m\u001b[0m \u001b[1m82s\u001b[0m 104ms/step - loss: 8.2793e-05 - mae: 0.0094 - mse: 1.6559e-04 - val_loss: 9.9477e-05 - val_mae: 0.0099 - val_mse: 1.9895e-04\n",
      "Epoch 124/200\n",
      "\u001b[1m788/788\u001b[0m \u001b[32m━━━━━━━━━━━━━━━━━━━━\u001b[0m\u001b[37m\u001b[0m \u001b[1m82s\u001b[0m 104ms/step - loss: 8.2097e-05 - mae: 0.0094 - mse: 1.6419e-04 - val_loss: 8.1086e-05 - val_mae: 0.0093 - val_mse: 1.6217e-04\n",
      "Epoch 125/200\n",
      "\u001b[1m788/788\u001b[0m \u001b[32m━━━━━━━━━━━━━━━━━━━━\u001b[0m\u001b[37m\u001b[0m \u001b[1m83s\u001b[0m 105ms/step - loss: 8.3655e-05 - mae: 0.0095 - mse: 1.6731e-04 - val_loss: 9.1878e-05 - val_mae: 0.0099 - val_mse: 1.8376e-04\n",
      "Epoch 126/200\n",
      "\u001b[1m788/788\u001b[0m \u001b[32m━━━━━━━━━━━━━━━━━━━━\u001b[0m\u001b[37m\u001b[0m \u001b[1m83s\u001b[0m 105ms/step - loss: 8.4815e-05 - mae: 0.0095 - mse: 1.6963e-04 - val_loss: 1.0577e-04 - val_mae: 0.0108 - val_mse: 2.1154e-04\n",
      "Epoch 127/200\n",
      "\u001b[1m788/788\u001b[0m \u001b[32m━━━━━━━━━━━━━━━━━━━━\u001b[0m\u001b[37m\u001b[0m \u001b[1m82s\u001b[0m 105ms/step - loss: 8.7523e-05 - mae: 0.0096 - mse: 1.7505e-04 - val_loss: 8.1035e-05 - val_mae: 0.0091 - val_mse: 1.6207e-04\n",
      "Epoch 128/200\n",
      "\u001b[1m788/788\u001b[0m \u001b[32m━━━━━━━━━━━━━━━━━━━━\u001b[0m\u001b[37m\u001b[0m \u001b[1m83s\u001b[0m 105ms/step - loss: 8.5193e-05 - mae: 0.0095 - mse: 1.7039e-04 - val_loss: 7.7577e-05 - val_mae: 0.0087 - val_mse: 1.5515e-04\n",
      "Epoch 129/200\n",
      "\u001b[1m788/788\u001b[0m \u001b[32m━━━━━━━━━━━━━━━━━━━━\u001b[0m\u001b[37m\u001b[0m \u001b[1m83s\u001b[0m 106ms/step - loss: 8.0454e-05 - mae: 0.0092 - mse: 1.6091e-04 - val_loss: 9.2498e-05 - val_mae: 0.0098 - val_mse: 1.8500e-04\n",
      "Epoch 130/200\n",
      "\u001b[1m788/788\u001b[0m \u001b[32m━━━━━━━━━━━━━━━━━━━━\u001b[0m\u001b[37m\u001b[0m \u001b[1m83s\u001b[0m 106ms/step - loss: 8.6902e-05 - mae: 0.0096 - mse: 1.7380e-04 - val_loss: 9.6370e-05 - val_mae: 0.0102 - val_mse: 1.9274e-04\n",
      "Epoch 131/200\n",
      "\u001b[1m788/788\u001b[0m \u001b[32m━━━━━━━━━━━━━━━━━━━━\u001b[0m\u001b[37m\u001b[0m \u001b[1m83s\u001b[0m 106ms/step - loss: 7.9225e-05 - mae: 0.0092 - mse: 1.5845e-04 - val_loss: 7.6854e-05 - val_mae: 0.0089 - val_mse: 1.5371e-04\n",
      "Epoch 132/200\n",
      "\u001b[1m788/788\u001b[0m \u001b[32m━━━━━━━━━━━━━━━━━━━━\u001b[0m\u001b[37m\u001b[0m \u001b[1m85s\u001b[0m 108ms/step - loss: 8.0726e-05 - mae: 0.0093 - mse: 1.6145e-04 - val_loss: 9.1941e-05 - val_mae: 0.0098 - val_mse: 1.8388e-04\n",
      "Epoch 133/200\n",
      "\u001b[1m788/788\u001b[0m \u001b[32m━━━━━━━━━━━━━━━━━━━━\u001b[0m\u001b[37m\u001b[0m \u001b[1m83s\u001b[0m 106ms/step - loss: 8.0774e-05 - mae: 0.0093 - mse: 1.6155e-04 - val_loss: 1.0386e-04 - val_mae: 0.0103 - val_mse: 2.0772e-04\n",
      "Epoch 134/200\n",
      "\u001b[1m788/788\u001b[0m \u001b[32m━━━━━━━━━━━━━━━━━━━━\u001b[0m\u001b[37m\u001b[0m \u001b[1m84s\u001b[0m 106ms/step - loss: 8.3859e-05 - mae: 0.0095 - mse: 1.6772e-04 - val_loss: 9.7333e-05 - val_mae: 0.0103 - val_mse: 1.9467e-04\n",
      "Epoch 135/200\n",
      "\u001b[1m788/788\u001b[0m \u001b[32m━━━━━━━━━━━━━━━━━━━━\u001b[0m\u001b[37m\u001b[0m \u001b[1m83s\u001b[0m 105ms/step - loss: 8.0583e-05 - mae: 0.0093 - mse: 1.6117e-04 - val_loss: 8.1914e-05 - val_mae: 0.0092 - val_mse: 1.6383e-04\n",
      "Epoch 136/200\n",
      "\u001b[1m788/788\u001b[0m \u001b[32m━━━━━━━━━━━━━━━━━━━━\u001b[0m\u001b[37m\u001b[0m \u001b[1m83s\u001b[0m 105ms/step - loss: 8.3567e-05 - mae: 0.0095 - mse: 1.6713e-04 - val_loss: 1.3737e-04 - val_mae: 0.0120 - val_mse: 2.7473e-04\n",
      "Epoch 137/200\n",
      "\u001b[1m788/788\u001b[0m \u001b[32m━━━━━━━━━━━━━━━━━━━━\u001b[0m\u001b[37m\u001b[0m \u001b[1m83s\u001b[0m 105ms/step - loss: 8.2553e-05 - mae: 0.0094 - mse: 1.6511e-04 - val_loss: 9.1895e-05 - val_mae: 0.0100 - val_mse: 1.8379e-04\n",
      "Epoch 138/200\n",
      "\u001b[1m788/788\u001b[0m \u001b[32m━━━━━━━━━━━━━━━━━━━━\u001b[0m\u001b[37m\u001b[0m \u001b[1m83s\u001b[0m 106ms/step - loss: 7.9672e-05 - mae: 0.0092 - mse: 1.5934e-04 - val_loss: 1.2169e-04 - val_mae: 0.0108 - val_mse: 2.4339e-04\n",
      "Epoch 139/200\n",
      "\u001b[1m788/788\u001b[0m \u001b[32m━━━━━━━━━━━━━━━━━━━━\u001b[0m\u001b[37m\u001b[0m \u001b[1m83s\u001b[0m 105ms/step - loss: 9.9437e-05 - mae: 0.0101 - mse: 1.9887e-04 - val_loss: 8.5696e-05 - val_mae: 0.0092 - val_mse: 1.7139e-04\n",
      "Epoch 140/200\n",
      "\u001b[1m788/788\u001b[0m \u001b[32m━━━━━━━━━━━━━━━━━━━━\u001b[0m\u001b[37m\u001b[0m \u001b[1m83s\u001b[0m 105ms/step - loss: 8.7963e-05 - mae: 0.0096 - mse: 1.7593e-04 - val_loss: 8.8648e-05 - val_mae: 0.0096 - val_mse: 1.7730e-04\n",
      "Epoch 141/200\n",
      "\u001b[1m788/788\u001b[0m \u001b[32m━━━━━━━━━━━━━━━━━━━━\u001b[0m\u001b[37m\u001b[0m \u001b[1m83s\u001b[0m 106ms/step - loss: 7.8397e-05 - mae: 0.0092 - mse: 1.5679e-04 - val_loss: 7.7120e-05 - val_mae: 0.0090 - val_mse: 1.5424e-04\n",
      "Epoch 142/200\n",
      "\u001b[1m788/788\u001b[0m \u001b[32m━━━━━━━━━━━━━━━━━━━━\u001b[0m\u001b[37m\u001b[0m \u001b[1m83s\u001b[0m 105ms/step - loss: 7.7258e-05 - mae: 0.0091 - mse: 1.5452e-04 - val_loss: 7.9379e-05 - val_mae: 0.0089 - val_mse: 1.5876e-04\n",
      "Epoch 143/200\n",
      "\u001b[1m788/788\u001b[0m \u001b[32m━━━━━━━━━━━━━━━━━━━━\u001b[0m\u001b[37m\u001b[0m \u001b[1m84s\u001b[0m 106ms/step - loss: 8.0281e-05 - mae: 0.0093 - mse: 1.6056e-04 - val_loss: 8.3179e-05 - val_mae: 0.0092 - val_mse: 1.6636e-04\n",
      "Epoch 144/200\n",
      "\u001b[1m788/788\u001b[0m \u001b[32m━━━━━━━━━━━━━━━━━━━━\u001b[0m\u001b[37m\u001b[0m \u001b[1m83s\u001b[0m 106ms/step - loss: 8.2558e-05 - mae: 0.0094 - mse: 1.6512e-04 - val_loss: 8.0307e-05 - val_mae: 0.0091 - val_mse: 1.6061e-04\n",
      "Epoch 145/200\n",
      "\u001b[1m788/788\u001b[0m \u001b[32m━━━━━━━━━━━━━━━━━━━━\u001b[0m\u001b[37m\u001b[0m \u001b[1m83s\u001b[0m 105ms/step - loss: 8.5694e-05 - mae: 0.0095 - mse: 1.7139e-04 - val_loss: 1.0911e-04 - val_mae: 0.0107 - val_mse: 2.1821e-04\n",
      "Epoch 146/200\n",
      "\u001b[1m788/788\u001b[0m \u001b[32m━━━━━━━━━━━━━━━━━━━━\u001b[0m\u001b[37m\u001b[0m \u001b[1m83s\u001b[0m 106ms/step - loss: 8.2168e-05 - mae: 0.0094 - mse: 1.6434e-04 - val_loss: 1.1558e-04 - val_mae: 0.0113 - val_mse: 2.3115e-04\n",
      "Epoch 147/200\n",
      "\u001b[1m788/788\u001b[0m \u001b[32m━━━━━━━━━━━━━━━━━━━━\u001b[0m\u001b[37m\u001b[0m \u001b[1m83s\u001b[0m 106ms/step - loss: 8.0270e-05 - mae: 0.0093 - mse: 1.6054e-04 - val_loss: 8.5098e-05 - val_mae: 0.0094 - val_mse: 1.7020e-04\n",
      "Epoch 148/200\n",
      "\u001b[1m788/788\u001b[0m \u001b[32m━━━━━━━━━━━━━━━━━━━━\u001b[0m\u001b[37m\u001b[0m \u001b[1m84s\u001b[0m 106ms/step - loss: 8.0578e-05 - mae: 0.0092 - mse: 1.6116e-04 - val_loss: 8.8013e-05 - val_mae: 0.0094 - val_mse: 1.7603e-04\n",
      "Epoch 149/200\n",
      "\u001b[1m788/788\u001b[0m \u001b[32m━━━━━━━━━━━━━━━━━━━━\u001b[0m\u001b[37m\u001b[0m \u001b[1m83s\u001b[0m 106ms/step - loss: 8.0614e-05 - mae: 0.0093 - mse: 1.6123e-04 - val_loss: 8.3288e-05 - val_mae: 0.0093 - val_mse: 1.6658e-04\n",
      "Epoch 150/200\n",
      "\u001b[1m788/788\u001b[0m \u001b[32m━━━━━━━━━━━━━━━━━━━━\u001b[0m\u001b[37m\u001b[0m \u001b[1m84s\u001b[0m 107ms/step - loss: 7.5837e-05 - mae: 0.0090 - mse: 1.5167e-04 - val_loss: 1.0068e-04 - val_mae: 0.0101 - val_mse: 2.0135e-04\n",
      "Epoch 151/200\n",
      "\u001b[1m788/788\u001b[0m \u001b[32m━━━━━━━━━━━━━━━━━━━━\u001b[0m\u001b[37m\u001b[0m \u001b[1m84s\u001b[0m 107ms/step - loss: 8.1830e-05 - mae: 0.0094 - mse: 1.6366e-04 - val_loss: 8.4785e-05 - val_mae: 0.0095 - val_mse: 1.6957e-04\n",
      "\u001b[1m175/175\u001b[0m \u001b[32m━━━━━━━━━━━━━━━━━━━━\u001b[0m\u001b[37m\u001b[0m \u001b[1m5s\u001b[0m 27ms/step - loss: 8.1610e-05 - mae: 0.0093 - mse: 1.6322e-04\n"
     ]
    },
    {
     "data": {
      "text/plain": [
       "[8.478472591377795e-05, 0.009464312344789505, 0.0001695694518275559]"
      ]
     },
     "execution_count": 14,
     "metadata": {},
     "output_type": "execute_result"
    }
   ],
   "source": [
    "## Define callbacks and fit the model\n",
    "log_dir = \"../logs/fit/\" + datetime.datetime.now().strftime(\"%Y%m%d-%H%M%S\")\n",
    "tensorboard_callback = tf.keras.callbacks.TensorBoard(log_dir=log_dir, histogram_freq=1)\n",
    "\n",
    "early_stopping = tf.keras.callbacks.EarlyStopping(monitor='loss', mode='min', patience=20)\n",
    "\n",
    "lr_scheduler = tf.keras.callbacks.LearningRateScheduler(schedule)\n",
    "\n",
    "model.fit(\n",
    "  x=x_train, \n",
    "  y=y_train,\n",
    "  epochs=200,\n",
    "  batch_size=64,\n",
    "  validation_data=(x_test, y_test),\n",
    "  callbacks=[tensorboard_callback, early_stopping,]) #Can add lr_scheduler\n",
    "\n",
    "model.evaluate(x_test, y_test)"
   ]
  },
  {
   "cell_type": "code",
   "execution_count": 15,
   "metadata": {},
   "outputs": [],
   "source": [
    "## Save the model\n",
    "model.save('../models/model_v2.keras')"
   ]
  }
 ],
 "metadata": {
  "kernelspec": {
   "display_name": "Python 3",
   "language": "python",
   "name": "python3"
  },
  "language_info": {
   "codemirror_mode": {
    "name": "ipython",
    "version": 3
   },
   "file_extension": ".py",
   "mimetype": "text/x-python",
   "name": "python",
   "nbconvert_exporter": "python",
   "pygments_lexer": "ipython3",
   "version": "3.9.13"
  }
 },
 "nbformat": 4,
 "nbformat_minor": 2
}
